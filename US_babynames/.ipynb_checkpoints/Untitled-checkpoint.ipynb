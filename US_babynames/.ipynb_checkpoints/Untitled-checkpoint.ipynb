{
 "cells": [
  {
   "cell_type": "code",
   "execution_count": 2,
   "metadata": {
    "collapsed": false
   },
   "outputs": [
    {
     "name": "stdout",
     "output_type": "stream",
     "text": [
      "Untitled.ipynb  \u001b[34mdata\u001b[m\u001b[m/\r\n"
     ]
    }
   ],
   "source": [
    "ls"
   ]
  },
  {
   "cell_type": "code",
   "execution_count": 3,
   "metadata": {
    "collapsed": true
   },
   "outputs": [],
   "source": [
    "import numpy as np\n",
    "import pandas as pd\n",
    "import matplotlib.pyplot as plt\n",
    "import seaborn as sns"
   ]
  },
  {
   "cell_type": "markdown",
   "metadata": {},
   "source": [
    "## 0 import and concatenate data"
   ]
  },
  {
   "cell_type": "code",
   "execution_count": 4,
   "metadata": {
    "collapsed": false
   },
   "outputs": [
    {
     "name": "stdout",
     "output_type": "stream",
     "text": [
      "data/yob1880.txt\n",
      "data/yob1881.txt\n",
      "data/yob1882.txt\n",
      "data/yob1883.txt\n",
      "data/yob1884.txt\n",
      "data/yob1885.txt\n",
      "data/yob1886.txt\n",
      "data/yob1887.txt\n",
      "data/yob1888.txt\n"
     ]
    }
   ],
   "source": [
    "for i in range(1880, 1889):\n",
    "    print('data/yob'+str(i)+'.txt')"
   ]
  },
  {
   "cell_type": "code",
   "execution_count": 5,
   "metadata": {
    "collapsed": false
   },
   "outputs": [
    {
     "data": {
      "text/html": [
       "<div>\n",
       "<table border=\"1\" class=\"dataframe\">\n",
       "  <thead>\n",
       "    <tr style=\"text-align: right;\">\n",
       "      <th></th>\n",
       "      <th>0</th>\n",
       "      <th>1</th>\n",
       "      <th>2</th>\n",
       "      <th>Year</th>\n",
       "    </tr>\n",
       "  </thead>\n",
       "  <tbody>\n",
       "    <tr>\n",
       "      <th>0</th>\n",
       "      <td>Mary</td>\n",
       "      <td>F</td>\n",
       "      <td>7065</td>\n",
       "      <td>1880</td>\n",
       "    </tr>\n",
       "    <tr>\n",
       "      <th>1</th>\n",
       "      <td>Anna</td>\n",
       "      <td>F</td>\n",
       "      <td>2604</td>\n",
       "      <td>1880</td>\n",
       "    </tr>\n",
       "    <tr>\n",
       "      <th>2</th>\n",
       "      <td>Emma</td>\n",
       "      <td>F</td>\n",
       "      <td>2003</td>\n",
       "      <td>1880</td>\n",
       "    </tr>\n",
       "    <tr>\n",
       "      <th>3</th>\n",
       "      <td>Elizabeth</td>\n",
       "      <td>F</td>\n",
       "      <td>1939</td>\n",
       "      <td>1880</td>\n",
       "    </tr>\n",
       "    <tr>\n",
       "      <th>4</th>\n",
       "      <td>Minnie</td>\n",
       "      <td>F</td>\n",
       "      <td>1746</td>\n",
       "      <td>1880</td>\n",
       "    </tr>\n",
       "  </tbody>\n",
       "</table>\n",
       "</div>"
      ],
      "text/plain": [
       "           0  1     2  Year\n",
       "0       Mary  F  7065  1880\n",
       "1       Anna  F  2604  1880\n",
       "2       Emma  F  2003  1880\n",
       "3  Elizabeth  F  1939  1880\n",
       "4     Minnie  F  1746  1880"
      ]
     },
     "execution_count": 5,
     "metadata": {},
     "output_type": "execute_result"
    }
   ],
   "source": [
    "df = pd.read_csv('data/yob1880.txt',header=None)\n",
    "df['Year'] = '1880'\n",
    "df.head()"
   ]
  },
  {
   "cell_type": "code",
   "execution_count": 6,
   "metadata": {
    "collapsed": false
   },
   "outputs": [
    {
     "data": {
      "text/plain": [
       "dict_keys(['1898', '1924', '1881', '1967', '1939', '1948', '1901', '1895', '1897', '1912', '1979', '2003', '1925', '1966', '1952', '1891', '1951', '1993', '1923', '1894', '1883', '1984', '1934', '2006', '1974', '1937', '2010', '1998', '1954', '1899', '1889', '2013', '1989', '1961', '1893', '1922', '1972', '1999', '1938', '1886', '1935', '1968', '1955', '1971', '1909', '1973', '1980', '1885', '2000', '1906', '1916', '1956', '1985', '1960', '1990', '1941', '1911', '2011', '1927', '2009', '1986', '1888', '2002', '2014', '1978', '2007', '1890', '1976', '1930', '1996', '1987', '1903', '1917', '1931', '1907', '1945', '1936', '1970', '1919', '1908', '2015', '1982', '1943', '1926', '1977', '1963', '1947', '1958', '1887', '1994', '1933', '1913', '1975', '1896', '1928', '1902', '1892', '1932', '1988', '2005', '1965', '2008', '1946', '1995', '1905', '2012', '1940', '1914', '2001', '1921', '1942', '1900', '1904', '1882', '1880', '1950', '1884', '1915', '1944', '1962', '1992', '1949', '1920', '1929', '1964', '1969', '1957', '2004', '1918', '1953', '1981', '1910', '1991', '1997', '1983', '1959'])"
      ]
     },
     "execution_count": 6,
     "metadata": {},
     "output_type": "execute_result"
    }
   ],
   "source": [
    "data = {}\n",
    "\n",
    "for i in range(1880, 2016):\n",
    "    df = pd.read_csv('data/yob'+str(i)+'.txt', header=None)\n",
    "    df['Year'] = str(i)\n",
    "    data[str(i)] = df\n",
    "    \n",
    "data.keys()"
   ]
  },
  {
   "cell_type": "code",
   "execution_count": 7,
   "metadata": {
    "collapsed": false
   },
   "outputs": [
    {
     "data": {
      "text/html": [
       "<div>\n",
       "<table border=\"1\" class=\"dataframe\">\n",
       "  <thead>\n",
       "    <tr style=\"text-align: right;\">\n",
       "      <th></th>\n",
       "      <th>0</th>\n",
       "      <th>1</th>\n",
       "      <th>2</th>\n",
       "      <th>Year</th>\n",
       "    </tr>\n",
       "  </thead>\n",
       "  <tbody>\n",
       "    <tr>\n",
       "      <th>0</th>\n",
       "      <td>Mary</td>\n",
       "      <td>F</td>\n",
       "      <td>7065</td>\n",
       "      <td>1880</td>\n",
       "    </tr>\n",
       "    <tr>\n",
       "      <th>1</th>\n",
       "      <td>Anna</td>\n",
       "      <td>F</td>\n",
       "      <td>2604</td>\n",
       "      <td>1880</td>\n",
       "    </tr>\n",
       "    <tr>\n",
       "      <th>2</th>\n",
       "      <td>Emma</td>\n",
       "      <td>F</td>\n",
       "      <td>2003</td>\n",
       "      <td>1880</td>\n",
       "    </tr>\n",
       "    <tr>\n",
       "      <th>3</th>\n",
       "      <td>Elizabeth</td>\n",
       "      <td>F</td>\n",
       "      <td>1939</td>\n",
       "      <td>1880</td>\n",
       "    </tr>\n",
       "    <tr>\n",
       "      <th>4</th>\n",
       "      <td>Minnie</td>\n",
       "      <td>F</td>\n",
       "      <td>1746</td>\n",
       "      <td>1880</td>\n",
       "    </tr>\n",
       "  </tbody>\n",
       "</table>\n",
       "</div>"
      ],
      "text/plain": [
       "           0  1     2  Year\n",
       "0       Mary  F  7065  1880\n",
       "1       Anna  F  2604  1880\n",
       "2       Emma  F  2003  1880\n",
       "3  Elizabeth  F  1939  1880\n",
       "4     Minnie  F  1746  1880"
      ]
     },
     "execution_count": 7,
     "metadata": {},
     "output_type": "execute_result"
    }
   ],
   "source": [
    "data['1880'].head()"
   ]
  },
  {
   "cell_type": "code",
   "execution_count": 8,
   "metadata": {
    "collapsed": false
   },
   "outputs": [
    {
     "data": {
      "text/html": [
       "<div>\n",
       "<table border=\"1\" class=\"dataframe\">\n",
       "  <thead>\n",
       "    <tr style=\"text-align: right;\">\n",
       "      <th></th>\n",
       "      <th>0</th>\n",
       "      <th>1</th>\n",
       "      <th>2</th>\n",
       "      <th>Year</th>\n",
       "    </tr>\n",
       "  </thead>\n",
       "  <tbody>\n",
       "    <tr>\n",
       "      <th>0</th>\n",
       "      <td>Jessica</td>\n",
       "      <td>F</td>\n",
       "      <td>46470</td>\n",
       "      <td>1990</td>\n",
       "    </tr>\n",
       "    <tr>\n",
       "      <th>1</th>\n",
       "      <td>Ashley</td>\n",
       "      <td>F</td>\n",
       "      <td>45553</td>\n",
       "      <td>1990</td>\n",
       "    </tr>\n",
       "    <tr>\n",
       "      <th>2</th>\n",
       "      <td>Brittany</td>\n",
       "      <td>F</td>\n",
       "      <td>36534</td>\n",
       "      <td>1990</td>\n",
       "    </tr>\n",
       "    <tr>\n",
       "      <th>3</th>\n",
       "      <td>Amanda</td>\n",
       "      <td>F</td>\n",
       "      <td>34405</td>\n",
       "      <td>1990</td>\n",
       "    </tr>\n",
       "    <tr>\n",
       "      <th>4</th>\n",
       "      <td>Samantha</td>\n",
       "      <td>F</td>\n",
       "      <td>25865</td>\n",
       "      <td>1990</td>\n",
       "    </tr>\n",
       "  </tbody>\n",
       "</table>\n",
       "</div>"
      ],
      "text/plain": [
       "          0  1      2  Year\n",
       "0   Jessica  F  46470  1990\n",
       "1    Ashley  F  45553  1990\n",
       "2  Brittany  F  36534  1990\n",
       "3    Amanda  F  34405  1990\n",
       "4  Samantha  F  25865  1990"
      ]
     },
     "execution_count": 8,
     "metadata": {},
     "output_type": "execute_result"
    }
   ],
   "source": [
    "data['1990'].head()"
   ]
  },
  {
   "cell_type": "code",
   "execution_count": 9,
   "metadata": {
    "collapsed": false
   },
   "outputs": [
    {
     "data": {
      "text/plain": [
       "True"
      ]
     },
     "execution_count": 9,
     "metadata": {},
     "output_type": "execute_result"
    }
   ],
   "source": [
    "data['1990'].notnull().all().all()"
   ]
  },
  {
   "cell_type": "code",
   "execution_count": 10,
   "metadata": {
    "collapsed": false
   },
   "outputs": [
    {
     "data": {
      "text/plain": [
       "<bound method Series.all of 0       True\n",
       "1       True\n",
       "2       True\n",
       "Year    True\n",
       "dtype: bool>"
      ]
     },
     "execution_count": 10,
     "metadata": {},
     "output_type": "execute_result"
    }
   ],
   "source": [
    "all_notnull = np.array([data[key].notnull().all().all \n",
    "                        for key in data.keys()]\n",
    "                      )\n",
    "all_notnull.all()"
   ]
  },
  {
   "cell_type": "code",
   "execution_count": 11,
   "metadata": {
    "collapsed": false
   },
   "outputs": [
    {
     "data": {
      "text/html": [
       "<div>\n",
       "<table border=\"1\" class=\"dataframe\">\n",
       "  <thead>\n",
       "    <tr style=\"text-align: right;\">\n",
       "      <th></th>\n",
       "      <th></th>\n",
       "      <th>0</th>\n",
       "      <th>1</th>\n",
       "      <th>2</th>\n",
       "      <th>Year</th>\n",
       "    </tr>\n",
       "  </thead>\n",
       "  <tbody>\n",
       "    <tr>\n",
       "      <th rowspan=\"5\" valign=\"top\">1880</th>\n",
       "      <th>0</th>\n",
       "      <td>Mary</td>\n",
       "      <td>F</td>\n",
       "      <td>7065</td>\n",
       "      <td>1880</td>\n",
       "    </tr>\n",
       "    <tr>\n",
       "      <th>1</th>\n",
       "      <td>Anna</td>\n",
       "      <td>F</td>\n",
       "      <td>2604</td>\n",
       "      <td>1880</td>\n",
       "    </tr>\n",
       "    <tr>\n",
       "      <th>2</th>\n",
       "      <td>Emma</td>\n",
       "      <td>F</td>\n",
       "      <td>2003</td>\n",
       "      <td>1880</td>\n",
       "    </tr>\n",
       "    <tr>\n",
       "      <th>3</th>\n",
       "      <td>Elizabeth</td>\n",
       "      <td>F</td>\n",
       "      <td>1939</td>\n",
       "      <td>1880</td>\n",
       "    </tr>\n",
       "    <tr>\n",
       "      <th>4</th>\n",
       "      <td>Minnie</td>\n",
       "      <td>F</td>\n",
       "      <td>1746</td>\n",
       "      <td>1880</td>\n",
       "    </tr>\n",
       "  </tbody>\n",
       "</table>\n",
       "</div>"
      ],
      "text/plain": [
       "                0  1     2  Year\n",
       "1880 0       Mary  F  7065  1880\n",
       "     1       Anna  F  2604  1880\n",
       "     2       Emma  F  2003  1880\n",
       "     3  Elizabeth  F  1939  1880\n",
       "     4     Minnie  F  1746  1880"
      ]
     },
     "execution_count": 11,
     "metadata": {},
     "output_type": "execute_result"
    }
   ],
   "source": [
    "# clean enough, no missing value, same col name.\n",
    "names = pd.concat(data)\n",
    "names.head()"
   ]
  },
  {
   "cell_type": "code",
   "execution_count": 12,
   "metadata": {
    "collapsed": false
   },
   "outputs": [
    {
     "data": {
      "text/html": [
       "<div>\n",
       "<table border=\"1\" class=\"dataframe\">\n",
       "  <thead>\n",
       "    <tr style=\"text-align: right;\">\n",
       "      <th></th>\n",
       "      <th>0</th>\n",
       "      <th>1</th>\n",
       "      <th>2</th>\n",
       "      <th>Year</th>\n",
       "    </tr>\n",
       "  </thead>\n",
       "  <tbody>\n",
       "    <tr>\n",
       "      <th>0</th>\n",
       "      <td>Mary</td>\n",
       "      <td>F</td>\n",
       "      <td>7065</td>\n",
       "      <td>1880</td>\n",
       "    </tr>\n",
       "    <tr>\n",
       "      <th>1</th>\n",
       "      <td>Anna</td>\n",
       "      <td>F</td>\n",
       "      <td>2604</td>\n",
       "      <td>1880</td>\n",
       "    </tr>\n",
       "    <tr>\n",
       "      <th>2</th>\n",
       "      <td>Emma</td>\n",
       "      <td>F</td>\n",
       "      <td>2003</td>\n",
       "      <td>1880</td>\n",
       "    </tr>\n",
       "    <tr>\n",
       "      <th>3</th>\n",
       "      <td>Elizabeth</td>\n",
       "      <td>F</td>\n",
       "      <td>1939</td>\n",
       "      <td>1880</td>\n",
       "    </tr>\n",
       "    <tr>\n",
       "      <th>4</th>\n",
       "      <td>Minnie</td>\n",
       "      <td>F</td>\n",
       "      <td>1746</td>\n",
       "      <td>1880</td>\n",
       "    </tr>\n",
       "  </tbody>\n",
       "</table>\n",
       "</div>"
      ],
      "text/plain": [
       "           0  1     2  Year\n",
       "0       Mary  F  7065  1880\n",
       "1       Anna  F  2604  1880\n",
       "2       Emma  F  2003  1880\n",
       "3  Elizabeth  F  1939  1880\n",
       "4     Minnie  F  1746  1880"
      ]
     },
     "execution_count": 12,
     "metadata": {},
     "output_type": "execute_result"
    }
   ],
   "source": [
    "names = names.reset_index().drop(['level_0','level_1'], axis=1)\n",
    "names.head()"
   ]
  },
  {
   "cell_type": "code",
   "execution_count": 13,
   "metadata": {
    "collapsed": false
   },
   "outputs": [],
   "source": [
    "names.columns = ['name', 'gender', 'count', 'year']"
   ]
  },
  {
   "cell_type": "code",
   "execution_count": 14,
   "metadata": {
    "collapsed": false
   },
   "outputs": [
    {
     "data": {
      "text/html": [
       "<div>\n",
       "<table border=\"1\" class=\"dataframe\">\n",
       "  <thead>\n",
       "    <tr style=\"text-align: right;\">\n",
       "      <th></th>\n",
       "      <th>name</th>\n",
       "      <th>gender</th>\n",
       "      <th>count</th>\n",
       "      <th>year</th>\n",
       "    </tr>\n",
       "  </thead>\n",
       "  <tbody>\n",
       "    <tr>\n",
       "      <th>1858684</th>\n",
       "      <td>Zykell</td>\n",
       "      <td>M</td>\n",
       "      <td>5</td>\n",
       "      <td>2015</td>\n",
       "    </tr>\n",
       "    <tr>\n",
       "      <th>1858685</th>\n",
       "      <td>Zyking</td>\n",
       "      <td>M</td>\n",
       "      <td>5</td>\n",
       "      <td>2015</td>\n",
       "    </tr>\n",
       "    <tr>\n",
       "      <th>1858686</th>\n",
       "      <td>Zykir</td>\n",
       "      <td>M</td>\n",
       "      <td>5</td>\n",
       "      <td>2015</td>\n",
       "    </tr>\n",
       "    <tr>\n",
       "      <th>1858687</th>\n",
       "      <td>Zyrus</td>\n",
       "      <td>M</td>\n",
       "      <td>5</td>\n",
       "      <td>2015</td>\n",
       "    </tr>\n",
       "    <tr>\n",
       "      <th>1858688</th>\n",
       "      <td>Zyus</td>\n",
       "      <td>M</td>\n",
       "      <td>5</td>\n",
       "      <td>2015</td>\n",
       "    </tr>\n",
       "  </tbody>\n",
       "</table>\n",
       "</div>"
      ],
      "text/plain": [
       "           name gender  count  year\n",
       "1858684  Zykell      M      5  2015\n",
       "1858685  Zyking      M      5  2015\n",
       "1858686   Zykir      M      5  2015\n",
       "1858687   Zyrus      M      5  2015\n",
       "1858688    Zyus      M      5  2015"
      ]
     },
     "execution_count": 14,
     "metadata": {},
     "output_type": "execute_result"
    }
   ],
   "source": [
    "names.tail()"
   ]
  },
  {
   "cell_type": "markdown",
   "metadata": {},
   "source": [
    "来来来，想想对这样一个dataset可以发现些什么问题:\n",
    "* 各年出生人数，各年个性别出生人数的趋势\n",
    "* most popular M/F name of all time; most unpolular M/F name of all time\n",
    "* 中性名字有哪些？中性名字的数量和起中性名字的人数的变化趋势是怎样的？哪些名字性别特征嘴不明显？各年的中性名字大评比？\n",
    "* 看看我自己的艺名排名如何\n",
    "* name diversity by gender\n",
    "* 哪些是经久不衰的名字？哪些名字迅速崛起然后又被人们遗忘了？"
   ]
  },
  {
   "cell_type": "markdown",
   "metadata": {},
   "source": [
    "## 1. 各年出生人数，各年个性别出生人数的趋势"
   ]
  },
  {
   "cell_type": "code",
   "execution_count": 15,
   "metadata": {
    "collapsed": false
   },
   "outputs": [
    {
     "data": {
      "image/png": "[encoded data removed]",
      "text/plain": [
       "<matplotlib.figure.Figure at 0x117f59828>"
      ]
     },
     "metadata": {},
     "output_type": "display_data"
    }
   ],
   "source": [
    "# 各年出生人数，colored by gender\n",
    "M_byyr = names[names['gender']=='M'].groupby('year')['count'].sum()\n",
    "F_byyr = names[names['gender']=='F'].groupby('year')['count'].sum()\n",
    "x = names['year'].unique()\n",
    "\n",
    "_ = plt.plot(x, M_byyr, label='male by year')\n",
    "_ = plt.plot(x, F_byyr, label='female by year')\n",
    "\n",
    "plt.margins(0.02)\n",
    "plt.legend(loc='best')\n",
    "plt.show()"
   ]
  },
  {
   "cell_type": "code",
   "execution_count": 16,
   "metadata": {
    "collapsed": false
   },
   "outputs": [
    {
     "data": {
      "text/plain": [
       "year\n",
       "1880    1.214283\n",
       "1881    1.095592\n",
       "1882    1.054132\n",
       "1883    0.931525\n",
       "1884    0.887018\n",
       "1885    0.810184\n",
       "1886    0.766498\n",
       "1887    0.694714\n",
       "1888    0.676561\n",
       "1889    0.619972\n",
       "1890    0.583188\n",
       "1891    0.545568\n",
       "1892    0.574717\n",
       "1893    0.527545\n",
       "1894    0.519330\n",
       "1895    0.502491\n",
       "1896    0.502560\n",
       "1897    0.481460\n",
       "1898    0.474131\n",
       "1899    0.455801\n",
       "1900    0.501931\n",
       "1901    0.444831\n",
       "1902    0.464485\n",
       "1903    0.455136\n",
       "1904    0.465281\n",
       "1905    0.453730\n",
       "1906    0.450915\n",
       "1907    0.460911\n",
       "1908    0.461669\n",
       "1909    0.472304\n",
       "          ...   \n",
       "1986    1.073224\n",
       "1987    1.073547\n",
       "1988    1.074602\n",
       "1989    1.085129\n",
       "1990    1.081597\n",
       "1991    1.077373\n",
       "1992    1.083059\n",
       "1993    1.084035\n",
       "1994    1.081857\n",
       "1995    1.082457\n",
       "1996    1.080568\n",
       "1997    1.082968\n",
       "1998    1.081734\n",
       "1999    1.082467\n",
       "2000    1.081454\n",
       "2001    1.079036\n",
       "2002    1.080531\n",
       "2003    1.081130\n",
       "2004    1.081025\n",
       "2005    1.080988\n",
       "2006    1.081040\n",
       "2007    1.079556\n",
       "2008    1.078981\n",
       "2009    1.079868\n",
       "2010    1.079613\n",
       "2011    1.079706\n",
       "2012    1.077274\n",
       "2013    1.078053\n",
       "2014    1.075192\n",
       "2015    1.073210\n",
       "Name: count, dtype: float64"
      ]
     },
     "execution_count": 16,
     "metadata": {},
     "output_type": "execute_result"
    }
   ],
   "source": [
    "# 出生性别比，male/female\n",
    "M_byyr.div(F_byyr)"
   ]
  },
  {
   "cell_type": "code",
   "execution_count": 17,
   "metadata": {
    "collapsed": false
   },
   "outputs": [
    {
     "data": {
      "image/png": "[encoded data removed]",
      "text/plain": [
       "<matplotlib.figure.Figure at 0x11c9c66a0>"
      ]
     },
     "metadata": {},
     "output_type": "display_data"
    }
   ],
   "source": [
    "ratio = M_byyr.div(F_byyr)\n",
    "\n",
    "_ = plt.plot(x, M_byyr, label='male by year')\n",
    "_ = plt.plot(x, F_byyr, label='female by year')\n",
    "_ = plt.plot(x, ratio, label = 'male/female ratio', linestyle='--')\n",
    "\n",
    "plt.margins(0.02)\n",
    "plt.legend(loc='best')\n",
    "plt.show()"
   ]
  },
  {
   "cell_type": "code",
   "execution_count": 18,
   "metadata": {
    "collapsed": false
   },
   "outputs": [
    {
     "data": {
      "image/png": "[encoded data removed]",
      "text/plain": [
       "<matplotlib.figure.Figure at 0x11d687e80>"
      ]
     },
     "metadata": {},
     "output_type": "display_data"
    }
   ],
   "source": [
    "# should plot absolute count of birth and ratio on separate axis\n",
    "\n",
    "fig, ax1 = plt.subplots()\n",
    "_ = plt.plot(x, M_byyr, label='male by year')\n",
    "_ = plt.plot(x, F_byyr, label='female by year')\n",
    "ax1.set_xlabel('year')\n",
    "# Make the y-axis label, ticks and tick labels match the line color.\n",
    "ax1.set_ylabel('birth count')\n",
    "\n",
    "ax2 = ax1.twinx()\n",
    "_ = plt.plot(x, ratio, label = 'male/female ratio', linestyle='--', color='r')\n",
    "ax2.set_ylabel('male/female ratio', color='r')\n",
    "\n",
    "fig.tight_layout()\n",
    "plt.show()"
   ]
  },
  {
   "cell_type": "markdown",
   "metadata": {},
   "source": [
    "很奇怪为什么在1990前后20年那么大起大落。最低点甚至male只占female一半。太诡异了。"
   ]
  },
  {
   "cell_type": "markdown",
   "metadata": {},
   "source": [
    "## 2 most popular M/F name of all time; most unpolular M/F name of all time"
   ]
  },
  {
   "cell_type": "code",
   "execution_count": 19,
   "metadata": {
    "collapsed": false
   },
   "outputs": [
    {
     "data": {
      "text/plain": [
       "Robert       272\n",
       "Lee          272\n",
       "James        272\n",
       "Ollie        272\n",
       "Tommie       272\n",
       "Leslie       272\n",
       "Sidney       272\n",
       "Jessie       272\n",
       "William      272\n",
       "Marion       272\n",
       "John         272\n",
       "Jean         272\n",
       "Francis      272\n",
       "Jesse        272\n",
       "Johnnie      272\n",
       "Joseph       272\n",
       "Elizabeth    271\n",
       "Henry        271\n",
       "June         271\n",
       "Charlie      271\n",
       "Name: name, dtype: int64"
      ]
     },
     "execution_count": 19,
     "metadata": {},
     "output_type": "execute_result"
    }
   ],
   "source": [
    "names.name.value_counts().head(20)"
   ]
  },
  {
   "cell_type": "markdown",
   "metadata": {},
   "source": [
    "居然有这么多并列第一名都出现了了272次，我对数据准确性表示怀疑。"
   ]
  },
  {
   "cell_type": "code",
   "execution_count": 20,
   "metadata": {
    "collapsed": false
   },
   "outputs": [
    {
     "data": {
      "text/plain": [
       "'Khendal'"
      ]
     },
     "execution_count": 20,
     "metadata": {},
     "output_type": "execute_result"
    }
   ],
   "source": [
    "names.name.value_counts().argmin()"
   ]
  },
  {
   "cell_type": "code",
   "execution_count": 21,
   "metadata": {
    "collapsed": false
   },
   "outputs": [
    {
     "data": {
      "text/plain": [
       "5553"
      ]
     },
     "execution_count": 21,
     "metadata": {},
     "output_type": "execute_result"
    }
   ],
   "source": [
    "# 从'Krystalmarie'到Series的末尾，共有20461个名字\n",
    "len(names.name.value_counts().loc['Krystalmarie':])"
   ]
  },
  {
   "cell_type": "code",
   "execution_count": 22,
   "metadata": {
    "collapsed": false
   },
   "outputs": [
    {
     "data": {
      "text/plain": [
       "Ashunta    2\n",
       "Khendal    1\n",
       "Name: name, dtype: int64"
      ]
     },
     "execution_count": 22,
     "metadata": {},
     "output_type": "execute_result"
    }
   ],
   "source": [
    "# 验证一下的确是\n",
    "names.name.value_counts().tail(20462).head(2)"
   ]
  },
  {
   "cell_type": "code",
   "execution_count": 23,
   "metadata": {
    "collapsed": false
   },
   "outputs": [
    {
     "data": {
      "text/plain": [
       "4"
      ]
     },
     "execution_count": 23,
     "metadata": {},
     "output_type": "execute_result"
    }
   ],
   "source": [
    "# 相比只出现一次的最稀有名字，并列第一的只有16个名字。\n",
    "len(names.name.value_counts().loc[:'Ollie'])"
   ]
  },
  {
   "cell_type": "code",
   "execution_count": 24,
   "metadata": {
    "collapsed": true
   },
   "outputs": [],
   "source": [
    "# 哎，为什么想起一句“幸福的人都是相似的，不幸的人各有各的不幸”。"
   ]
  },
  {
   "cell_type": "markdown",
   "metadata": {},
   "source": [
    "## 3 中性名字有哪些？中性名字的数量和起中性名字的人数的变化趋势是怎样的？哪些名字性别特征嘴不明显？各年的中性名字大评比？"
   ]
  },
  {
   "cell_type": "code",
   "execution_count": 176,
   "metadata": {
    "collapsed": false
   },
   "outputs": [],
   "source": [
    "names_pv = names.pivot_table(index=['year', 'name'],\n",
    "                    columns='gender',\n",
    "                    values='count'\n",
    "                   )"
   ]
  },
  {
   "cell_type": "code",
   "execution_count": 177,
   "metadata": {
    "collapsed": false
   },
   "outputs": [
    {
     "data": {
      "text/html": [
       "<div>\n",
       "<table border=\"1\" class=\"dataframe\">\n",
       "  <thead>\n",
       "    <tr style=\"text-align: right;\">\n",
       "      <th></th>\n",
       "      <th>gender</th>\n",
       "      <th>F</th>\n",
       "      <th>M</th>\n",
       "    </tr>\n",
       "    <tr>\n",
       "      <th>year</th>\n",
       "      <th>name</th>\n",
       "      <th></th>\n",
       "      <th></th>\n",
       "    </tr>\n",
       "  </thead>\n",
       "  <tbody>\n",
       "    <tr>\n",
       "      <th rowspan=\"5\" valign=\"top\">1880</th>\n",
       "      <th>Aaron</th>\n",
       "      <td>NaN</td>\n",
       "      <td>102.0</td>\n",
       "    </tr>\n",
       "    <tr>\n",
       "      <th>Ab</th>\n",
       "      <td>NaN</td>\n",
       "      <td>5.0</td>\n",
       "    </tr>\n",
       "    <tr>\n",
       "      <th>Abbie</th>\n",
       "      <td>71.0</td>\n",
       "      <td>NaN</td>\n",
       "    </tr>\n",
       "    <tr>\n",
       "      <th>Abbott</th>\n",
       "      <td>NaN</td>\n",
       "      <td>5.0</td>\n",
       "    </tr>\n",
       "    <tr>\n",
       "      <th>Abby</th>\n",
       "      <td>6.0</td>\n",
       "      <td>NaN</td>\n",
       "    </tr>\n",
       "  </tbody>\n",
       "</table>\n",
       "</div>"
      ],
      "text/plain": [
       "gender          F      M\n",
       "year name               \n",
       "1880 Aaron    NaN  102.0\n",
       "     Ab       NaN    5.0\n",
       "     Abbie   71.0    NaN\n",
       "     Abbott   NaN    5.0\n",
       "     Abby     6.0    NaN"
      ]
     },
     "execution_count": 177,
     "metadata": {},
     "output_type": "execute_result"
    }
   ],
   "source": [
    "names_pv.head()"
   ]
  },
  {
   "cell_type": "code",
   "execution_count": 178,
   "metadata": {
    "collapsed": true
   },
   "outputs": [],
   "source": [
    "names_pv.reset_index('year', inplace=True)"
   ]
  },
  {
   "cell_type": "code",
   "execution_count": 179,
   "metadata": {
    "collapsed": false
   },
   "outputs": [
    {
     "data": {
      "text/html": [
       "<div>\n",
       "<table border=\"1\" class=\"dataframe\">\n",
       "  <thead>\n",
       "    <tr style=\"text-align: right;\">\n",
       "      <th>gender</th>\n",
       "      <th>year</th>\n",
       "      <th>F</th>\n",
       "      <th>M</th>\n",
       "    </tr>\n",
       "    <tr>\n",
       "      <th>name</th>\n",
       "      <th></th>\n",
       "      <th></th>\n",
       "      <th></th>\n",
       "    </tr>\n",
       "  </thead>\n",
       "  <tbody>\n",
       "    <tr>\n",
       "      <th>Aaron</th>\n",
       "      <td>1880</td>\n",
       "      <td>NaN</td>\n",
       "      <td>102.0</td>\n",
       "    </tr>\n",
       "    <tr>\n",
       "      <th>Ab</th>\n",
       "      <td>1880</td>\n",
       "      <td>NaN</td>\n",
       "      <td>5.0</td>\n",
       "    </tr>\n",
       "    <tr>\n",
       "      <th>Abbie</th>\n",
       "      <td>1880</td>\n",
       "      <td>71.0</td>\n",
       "      <td>NaN</td>\n",
       "    </tr>\n",
       "    <tr>\n",
       "      <th>Abbott</th>\n",
       "      <td>1880</td>\n",
       "      <td>NaN</td>\n",
       "      <td>5.0</td>\n",
       "    </tr>\n",
       "    <tr>\n",
       "      <th>Abby</th>\n",
       "      <td>1880</td>\n",
       "      <td>6.0</td>\n",
       "      <td>NaN</td>\n",
       "    </tr>\n",
       "  </tbody>\n",
       "</table>\n",
       "</div>"
      ],
      "text/plain": [
       "gender  year     F      M\n",
       "name                     \n",
       "Aaron   1880   NaN  102.0\n",
       "Ab      1880   NaN    5.0\n",
       "Abbie   1880  71.0    NaN\n",
       "Abbott  1880   NaN    5.0\n",
       "Abby    1880   6.0    NaN"
      ]
     },
     "execution_count": 179,
     "metadata": {},
     "output_type": "execute_result"
    }
   ],
   "source": [
    "names_pv.head()"
   ]
  },
  {
   "cell_type": "code",
   "execution_count": 180,
   "metadata": {
    "collapsed": true
   },
   "outputs": [],
   "source": [
    "names_pv = names_pv.fillna(0)"
   ]
  },
  {
   "cell_type": "code",
   "execution_count": 181,
   "metadata": {
    "collapsed": false
   },
   "outputs": [
    {
     "data": {
      "text/html": [
       "<div>\n",
       "<table border=\"1\" class=\"dataframe\">\n",
       "  <thead>\n",
       "    <tr style=\"text-align: right;\">\n",
       "      <th>gender</th>\n",
       "      <th>year</th>\n",
       "      <th>F</th>\n",
       "      <th>M</th>\n",
       "    </tr>\n",
       "    <tr>\n",
       "      <th>name</th>\n",
       "      <th></th>\n",
       "      <th></th>\n",
       "      <th></th>\n",
       "    </tr>\n",
       "  </thead>\n",
       "  <tbody>\n",
       "    <tr>\n",
       "      <th>Aaron</th>\n",
       "      <td>1880</td>\n",
       "      <td>0.0</td>\n",
       "      <td>102.0</td>\n",
       "    </tr>\n",
       "    <tr>\n",
       "      <th>Ab</th>\n",
       "      <td>1880</td>\n",
       "      <td>0.0</td>\n",
       "      <td>5.0</td>\n",
       "    </tr>\n",
       "    <tr>\n",
       "      <th>Abbie</th>\n",
       "      <td>1880</td>\n",
       "      <td>71.0</td>\n",
       "      <td>0.0</td>\n",
       "    </tr>\n",
       "    <tr>\n",
       "      <th>Abbott</th>\n",
       "      <td>1880</td>\n",
       "      <td>0.0</td>\n",
       "      <td>5.0</td>\n",
       "    </tr>\n",
       "    <tr>\n",
       "      <th>Abby</th>\n",
       "      <td>1880</td>\n",
       "      <td>6.0</td>\n",
       "      <td>0.0</td>\n",
       "    </tr>\n",
       "  </tbody>\n",
       "</table>\n",
       "</div>"
      ],
      "text/plain": [
       "gender  year     F      M\n",
       "name                     \n",
       "Aaron   1880   0.0  102.0\n",
       "Ab      1880   0.0    5.0\n",
       "Abbie   1880  71.0    0.0\n",
       "Abbott  1880   0.0    5.0\n",
       "Abby    1880   6.0    0.0"
      ]
     },
     "execution_count": 181,
     "metadata": {},
     "output_type": "execute_result"
    }
   ],
   "source": [
    "names_pv.head()"
   ]
  },
  {
   "cell_type": "code",
   "execution_count": 182,
   "metadata": {
    "collapsed": true
   },
   "outputs": [],
   "source": [
    "names_pv.columns.name = ''"
   ]
  },
  {
   "cell_type": "code",
   "execution_count": 183,
   "metadata": {
    "collapsed": true
   },
   "outputs": [],
   "source": [
    "names_pv['tot'] = names_pv['F'] + names_pv['M']"
   ]
  },
  {
   "cell_type": "code",
   "execution_count": 184,
   "metadata": {
    "collapsed": true
   },
   "outputs": [],
   "source": [
    "names_pv['Fpct'] = names_pv['F'].div(names_pv['tot'])"
   ]
  },
  {
   "cell_type": "code",
   "execution_count": 185,
   "metadata": {
    "collapsed": true
   },
   "outputs": [],
   "source": [
    "names_pv['Mpct'] = names_pv['M'].div(names_pv['tot'])\n",
    "names_pv['pctdiff'] = abs(names_pv['Fpct']-names_pv['Mpct'])"
   ]
  },
  {
   "cell_type": "code",
   "execution_count": 186,
   "metadata": {
    "collapsed": false
   },
   "outputs": [
    {
     "data": {
      "text/html": [
       "<div>\n",
       "<table border=\"1\" class=\"dataframe\">\n",
       "  <thead>\n",
       "    <tr style=\"text-align: right;\">\n",
       "      <th></th>\n",
       "      <th>year</th>\n",
       "      <th>F</th>\n",
       "      <th>M</th>\n",
       "      <th>tot</th>\n",
       "      <th>Fpct</th>\n",
       "      <th>Mpct</th>\n",
       "      <th>pctdiff</th>\n",
       "    </tr>\n",
       "    <tr>\n",
       "      <th>name</th>\n",
       "      <th></th>\n",
       "      <th></th>\n",
       "      <th></th>\n",
       "      <th></th>\n",
       "      <th></th>\n",
       "      <th></th>\n",
       "      <th></th>\n",
       "    </tr>\n",
       "  </thead>\n",
       "  <tbody>\n",
       "    <tr>\n",
       "      <th>Aaron</th>\n",
       "      <td>1880</td>\n",
       "      <td>0.0</td>\n",
       "      <td>102.0</td>\n",
       "      <td>102.0</td>\n",
       "      <td>0.0</td>\n",
       "      <td>1.0</td>\n",
       "      <td>1.0</td>\n",
       "    </tr>\n",
       "    <tr>\n",
       "      <th>Ab</th>\n",
       "      <td>1880</td>\n",
       "      <td>0.0</td>\n",
       "      <td>5.0</td>\n",
       "      <td>5.0</td>\n",
       "      <td>0.0</td>\n",
       "      <td>1.0</td>\n",
       "      <td>1.0</td>\n",
       "    </tr>\n",
       "    <tr>\n",
       "      <th>Abbie</th>\n",
       "      <td>1880</td>\n",
       "      <td>71.0</td>\n",
       "      <td>0.0</td>\n",
       "      <td>71.0</td>\n",
       "      <td>1.0</td>\n",
       "      <td>0.0</td>\n",
       "      <td>1.0</td>\n",
       "    </tr>\n",
       "    <tr>\n",
       "      <th>Abbott</th>\n",
       "      <td>1880</td>\n",
       "      <td>0.0</td>\n",
       "      <td>5.0</td>\n",
       "      <td>5.0</td>\n",
       "      <td>0.0</td>\n",
       "      <td>1.0</td>\n",
       "      <td>1.0</td>\n",
       "    </tr>\n",
       "    <tr>\n",
       "      <th>Abby</th>\n",
       "      <td>1880</td>\n",
       "      <td>6.0</td>\n",
       "      <td>0.0</td>\n",
       "      <td>6.0</td>\n",
       "      <td>1.0</td>\n",
       "      <td>0.0</td>\n",
       "      <td>1.0</td>\n",
       "    </tr>\n",
       "  </tbody>\n",
       "</table>\n",
       "</div>"
      ],
      "text/plain": [
       "        year     F      M    tot  Fpct  Mpct  pctdiff\n",
       "name                                                 \n",
       "Aaron   1880   0.0  102.0  102.0   0.0   1.0      1.0\n",
       "Ab      1880   0.0    5.0    5.0   0.0   1.0      1.0\n",
       "Abbie   1880  71.0    0.0   71.0   1.0   0.0      1.0\n",
       "Abbott  1880   0.0    5.0    5.0   0.0   1.0      1.0\n",
       "Abby    1880   6.0    0.0    6.0   1.0   0.0      1.0"
      ]
     },
     "execution_count": 186,
     "metadata": {},
     "output_type": "execute_result"
    }
   ],
   "source": [
    "names_pv.head()"
   ]
  },
  {
   "cell_type": "code",
   "execution_count": 187,
   "metadata": {
    "collapsed": false
   },
   "outputs": [],
   "source": [
    "names_pv_100 = names_pv.loc[names_pv['tot'] > 100, :]"
   ]
  },
  {
   "cell_type": "code",
   "execution_count": 189,
   "metadata": {
    "collapsed": true
   },
   "outputs": [],
   "source": [
    "def gamb_n(df, first_n):\n",
    "    '''\n",
    "    take in a dataframe,\n",
    "    return n most gender-ambigious name\n",
    "    '''\n",
    "    df = df.sort_values('pctdiff')\n",
    "    return df.iloc[:first_n]"
   ]
  },
  {
   "cell_type": "code",
   "execution_count": 190,
   "metadata": {
    "collapsed": false
   },
   "outputs": [],
   "source": [
    "gamb_3 = names_pv_100.groupby('year').apply(gamb_n, 3)"
   ]
  },
  {
   "cell_type": "code",
   "execution_count": 191,
   "metadata": {
    "collapsed": false
   },
   "outputs": [
    {
     "data": {
      "text/html": [
       "<div>\n",
       "<table border=\"1\" class=\"dataframe\">\n",
       "  <thead>\n",
       "    <tr style=\"text-align: right;\">\n",
       "      <th></th>\n",
       "      <th></th>\n",
       "      <th>year</th>\n",
       "      <th>F</th>\n",
       "      <th>M</th>\n",
       "      <th>tot</th>\n",
       "      <th>Fpct</th>\n",
       "      <th>Mpct</th>\n",
       "      <th>pctdiff</th>\n",
       "    </tr>\n",
       "    <tr>\n",
       "      <th>year</th>\n",
       "      <th>name</th>\n",
       "      <th></th>\n",
       "      <th></th>\n",
       "      <th></th>\n",
       "      <th></th>\n",
       "      <th></th>\n",
       "      <th></th>\n",
       "      <th></th>\n",
       "    </tr>\n",
       "  </thead>\n",
       "  <tbody>\n",
       "    <tr>\n",
       "      <th rowspan=\"3\" valign=\"top\">1880</th>\n",
       "      <th>Marion</th>\n",
       "      <td>1880</td>\n",
       "      <td>115.0</td>\n",
       "      <td>189.0</td>\n",
       "      <td>304.0</td>\n",
       "      <td>0.378289</td>\n",
       "      <td>0.621711</td>\n",
       "      <td>0.243421</td>\n",
       "    </tr>\n",
       "    <tr>\n",
       "      <th>Ora</th>\n",
       "      <td>1880</td>\n",
       "      <td>149.0</td>\n",
       "      <td>64.0</td>\n",
       "      <td>213.0</td>\n",
       "      <td>0.699531</td>\n",
       "      <td>0.300469</td>\n",
       "      <td>0.399061</td>\n",
       "    </tr>\n",
       "    <tr>\n",
       "      <th>Willie</th>\n",
       "      <td>1880</td>\n",
       "      <td>192.0</td>\n",
       "      <td>476.0</td>\n",
       "      <td>668.0</td>\n",
       "      <td>0.287425</td>\n",
       "      <td>0.712575</td>\n",
       "      <td>0.425150</td>\n",
       "    </tr>\n",
       "    <tr>\n",
       "      <th rowspan=\"2\" valign=\"top\">1881</th>\n",
       "      <th>Marion</th>\n",
       "      <td>1881</td>\n",
       "      <td>110.0</td>\n",
       "      <td>162.0</td>\n",
       "      <td>272.0</td>\n",
       "      <td>0.404412</td>\n",
       "      <td>0.595588</td>\n",
       "      <td>0.191176</td>\n",
       "    </tr>\n",
       "    <tr>\n",
       "      <th>Willie</th>\n",
       "      <td>1881</td>\n",
       "      <td>229.0</td>\n",
       "      <td>498.0</td>\n",
       "      <td>727.0</td>\n",
       "      <td>0.314993</td>\n",
       "      <td>0.685007</td>\n",
       "      <td>0.370014</td>\n",
       "    </tr>\n",
       "  </tbody>\n",
       "</table>\n",
       "</div>"
      ],
      "text/plain": [
       "             year      F      M    tot      Fpct      Mpct   pctdiff\n",
       "year name                                                           \n",
       "1880 Marion  1880  115.0  189.0  304.0  0.378289  0.621711  0.243421\n",
       "     Ora     1880  149.0   64.0  213.0  0.699531  0.300469  0.399061\n",
       "     Willie  1880  192.0  476.0  668.0  0.287425  0.712575  0.425150\n",
       "1881 Marion  1881  110.0  162.0  272.0  0.404412  0.595588  0.191176\n",
       "     Willie  1881  229.0  498.0  727.0  0.314993  0.685007  0.370014"
      ]
     },
     "execution_count": 191,
     "metadata": {},
     "output_type": "execute_result"
    }
   ],
   "source": [
    "gamb_3.head()"
   ]
  },
  {
   "cell_type": "code",
   "execution_count": 195,
   "metadata": {
    "collapsed": false
   },
   "outputs": [],
   "source": [
    "gamb_3_name = gamb_3.drop('year', axis=1).reset_index('name')['name']"
   ]
  },
  {
   "cell_type": "code",
   "execution_count": 196,
   "metadata": {
    "collapsed": false
   },
   "outputs": [
    {
     "data": {
      "text/plain": [
       "145"
      ]
     },
     "execution_count": 196,
     "metadata": {},
     "output_type": "execute_result"
    }
   ],
   "source": [
    "gamb_3_name.nunique()"
   ]
  },
  {
   "cell_type": "code",
   "execution_count": 206,
   "metadata": {
    "collapsed": false,
    "scrolled": true
   },
   "outputs": [
    {
     "data": {
      "text/plain": [
       "Willie     22\n",
       "Alva       22\n",
       "Marion     17\n",
       "Johnnie    14\n",
       "Jessie     11\n",
       "Theo       11\n",
       "Jimmie     11\n",
       "Jan        10\n",
       "Gail        8\n",
       "Pat         7\n",
       "Name: name, dtype: int64"
      ]
     },
     "execution_count": 206,
     "metadata": {},
     "output_type": "execute_result"
    }
   ],
   "source": [
    "gamb_3_name.value_counts().head(10)"
   ]
  },
  {
   "cell_type": "markdown",
   "metadata": {},
   "source": [
    "按照各年同一个名字两性占比差距最小计算，在总人数超过100的名字中，Willie 和 Alva 有22年跻身‘性别最模糊的名字前三名’。"
   ]
  },
  {
   "cell_type": "code",
   "execution_count": 205,
   "metadata": {
    "collapsed": false
   },
   "outputs": [
    {
     "data": {
      "text/html": [
       "<div>\n",
       "<table border=\"1\" class=\"dataframe\">\n",
       "  <thead>\n",
       "    <tr style=\"text-align: right;\">\n",
       "      <th></th>\n",
       "      <th>tot</th>\n",
       "    </tr>\n",
       "    <tr>\n",
       "      <th>name</th>\n",
       "      <th></th>\n",
       "    </tr>\n",
       "  </thead>\n",
       "  <tbody>\n",
       "    <tr>\n",
       "      <th>Willie</th>\n",
       "      <td>34835.0</td>\n",
       "    </tr>\n",
       "    <tr>\n",
       "      <th>Jessie</th>\n",
       "      <td>22842.0</td>\n",
       "    </tr>\n",
       "    <tr>\n",
       "      <th>Leslie</th>\n",
       "      <td>22544.0</td>\n",
       "    </tr>\n",
       "    <tr>\n",
       "      <th>Peyton</th>\n",
       "      <td>9573.0</td>\n",
       "    </tr>\n",
       "    <tr>\n",
       "      <th>Jackie</th>\n",
       "      <td>8964.0</td>\n",
       "    </tr>\n",
       "    <tr>\n",
       "      <th>Lynn</th>\n",
       "      <td>7900.0</td>\n",
       "    </tr>\n",
       "    <tr>\n",
       "      <th>Riley</th>\n",
       "      <td>7863.0</td>\n",
       "    </tr>\n",
       "    <tr>\n",
       "      <th>Jan</th>\n",
       "      <td>7067.0</td>\n",
       "    </tr>\n",
       "    <tr>\n",
       "      <th>Marion</th>\n",
       "      <td>6480.0</td>\n",
       "    </tr>\n",
       "    <tr>\n",
       "      <th>Kim</th>\n",
       "      <td>6100.0</td>\n",
       "    </tr>\n",
       "  </tbody>\n",
       "</table>\n",
       "</div>"
      ],
      "text/plain": [
       "            tot\n",
       "name           \n",
       "Willie  34835.0\n",
       "Jessie  22842.0\n",
       "Leslie  22544.0\n",
       "Peyton   9573.0\n",
       "Jackie   8964.0\n",
       "Lynn     7900.0\n",
       "Riley    7863.0\n",
       "Jan      7067.0\n",
       "Marion   6480.0\n",
       "Kim      6100.0"
      ]
     },
     "execution_count": 205,
     "metadata": {},
     "output_type": "execute_result"
    }
   ],
   "source": [
    "gamb_3.drop('year', axis=1).reset_index('name')[['name', 'tot']].reset_index().groupby('name').sum().sort_values(by='tot', ascending=False).head(10)"
   ]
  },
  {
   "cell_type": "markdown",
   "metadata": {},
   "source": [
    "而按照1880-2015年起各名字的总人数来看，Willlie, Jessie, Leslie占据受最多人欢迎的前三名。第四名人数只是第三名的一半不到。"
   ]
  },
  {
   "cell_type": "markdown",
   "metadata": {},
   "source": [
    "## 4 看看我自己的艺名排名如何"
   ]
  },
  {
   "cell_type": "code",
   "execution_count": 213,
   "metadata": {
    "collapsed": false
   },
   "outputs": [],
   "source": [
    "ezra = names_pv.loc['Ezra', :]"
   ]
  },
  {
   "cell_type": "code",
   "execution_count": 225,
   "metadata": {
    "collapsed": false
   },
   "outputs": [],
   "source": [
    "ezra.reset_index(inplace=True)"
   ]
  },
  {
   "cell_type": "code",
   "execution_count": 226,
   "metadata": {
    "collapsed": false
   },
   "outputs": [
    {
     "data": {
      "text/html": [
       "<div>\n",
       "<table border=\"1\" class=\"dataframe\">\n",
       "  <thead>\n",
       "    <tr style=\"text-align: right;\">\n",
       "      <th></th>\n",
       "      <th>name</th>\n",
       "      <th>year</th>\n",
       "      <th>F</th>\n",
       "      <th>M</th>\n",
       "      <th>tot</th>\n",
       "      <th>Fpct</th>\n",
       "      <th>Mpct</th>\n",
       "      <th>pctdiff</th>\n",
       "    </tr>\n",
       "  </thead>\n",
       "  <tbody>\n",
       "    <tr>\n",
       "      <th>0</th>\n",
       "      <td>Ezra</td>\n",
       "      <td>1880</td>\n",
       "      <td>0.0</td>\n",
       "      <td>39.0</td>\n",
       "      <td>39.0</td>\n",
       "      <td>0.0</td>\n",
       "      <td>1.0</td>\n",
       "      <td>1.0</td>\n",
       "    </tr>\n",
       "    <tr>\n",
       "      <th>1</th>\n",
       "      <td>Ezra</td>\n",
       "      <td>1881</td>\n",
       "      <td>0.0</td>\n",
       "      <td>44.0</td>\n",
       "      <td>44.0</td>\n",
       "      <td>0.0</td>\n",
       "      <td>1.0</td>\n",
       "      <td>1.0</td>\n",
       "    </tr>\n",
       "    <tr>\n",
       "      <th>2</th>\n",
       "      <td>Ezra</td>\n",
       "      <td>1882</td>\n",
       "      <td>0.0</td>\n",
       "      <td>41.0</td>\n",
       "      <td>41.0</td>\n",
       "      <td>0.0</td>\n",
       "      <td>1.0</td>\n",
       "      <td>1.0</td>\n",
       "    </tr>\n",
       "    <tr>\n",
       "      <th>3</th>\n",
       "      <td>Ezra</td>\n",
       "      <td>1883</td>\n",
       "      <td>0.0</td>\n",
       "      <td>28.0</td>\n",
       "      <td>28.0</td>\n",
       "      <td>0.0</td>\n",
       "      <td>1.0</td>\n",
       "      <td>1.0</td>\n",
       "    </tr>\n",
       "    <tr>\n",
       "      <th>4</th>\n",
       "      <td>Ezra</td>\n",
       "      <td>1884</td>\n",
       "      <td>0.0</td>\n",
       "      <td>43.0</td>\n",
       "      <td>43.0</td>\n",
       "      <td>0.0</td>\n",
       "      <td>1.0</td>\n",
       "      <td>1.0</td>\n",
       "    </tr>\n",
       "  </tbody>\n",
       "</table>\n",
       "</div>"
      ],
      "text/plain": [
       "   name  year    F     M   tot  Fpct  Mpct  pctdiff\n",
       "0  Ezra  1880  0.0  39.0  39.0   0.0   1.0      1.0\n",
       "1  Ezra  1881  0.0  44.0  44.0   0.0   1.0      1.0\n",
       "2  Ezra  1882  0.0  41.0  41.0   0.0   1.0      1.0\n",
       "3  Ezra  1883  0.0  28.0  28.0   0.0   1.0      1.0\n",
       "4  Ezra  1884  0.0  43.0  43.0   0.0   1.0      1.0"
      ]
     },
     "execution_count": 226,
     "metadata": {},
     "output_type": "execute_result"
    }
   ],
   "source": [
    "ezra.head()"
   ]
  },
  {
   "cell_type": "code",
   "execution_count": 227,
   "metadata": {
    "collapsed": false
   },
   "outputs": [
    {
     "data": {
      "text/html": [
       "<div>\n",
       "<table border=\"1\" class=\"dataframe\">\n",
       "  <thead>\n",
       "    <tr style=\"text-align: right;\">\n",
       "      <th></th>\n",
       "      <th>F</th>\n",
       "      <th>M</th>\n",
       "      <th>tot</th>\n",
       "      <th>Fpct</th>\n",
       "      <th>Mpct</th>\n",
       "      <th>pctdiff</th>\n",
       "    </tr>\n",
       "    <tr>\n",
       "      <th>year</th>\n",
       "      <th></th>\n",
       "      <th></th>\n",
       "      <th></th>\n",
       "      <th></th>\n",
       "      <th></th>\n",
       "      <th></th>\n",
       "    </tr>\n",
       "  </thead>\n",
       "  <tbody>\n",
       "    <tr>\n",
       "      <th>1880</th>\n",
       "      <td>0.0</td>\n",
       "      <td>39.0</td>\n",
       "      <td>39.0</td>\n",
       "      <td>0.0</td>\n",
       "      <td>1.0</td>\n",
       "      <td>1.0</td>\n",
       "    </tr>\n",
       "    <tr>\n",
       "      <th>1881</th>\n",
       "      <td>0.0</td>\n",
       "      <td>44.0</td>\n",
       "      <td>44.0</td>\n",
       "      <td>0.0</td>\n",
       "      <td>1.0</td>\n",
       "      <td>1.0</td>\n",
       "    </tr>\n",
       "    <tr>\n",
       "      <th>1882</th>\n",
       "      <td>0.0</td>\n",
       "      <td>41.0</td>\n",
       "      <td>41.0</td>\n",
       "      <td>0.0</td>\n",
       "      <td>1.0</td>\n",
       "      <td>1.0</td>\n",
       "    </tr>\n",
       "    <tr>\n",
       "      <th>1883</th>\n",
       "      <td>0.0</td>\n",
       "      <td>28.0</td>\n",
       "      <td>28.0</td>\n",
       "      <td>0.0</td>\n",
       "      <td>1.0</td>\n",
       "      <td>1.0</td>\n",
       "    </tr>\n",
       "    <tr>\n",
       "      <th>1884</th>\n",
       "      <td>0.0</td>\n",
       "      <td>43.0</td>\n",
       "      <td>43.0</td>\n",
       "      <td>0.0</td>\n",
       "      <td>1.0</td>\n",
       "      <td>1.0</td>\n",
       "    </tr>\n",
       "  </tbody>\n",
       "</table>\n",
       "</div>"
      ],
      "text/plain": [
       "        F     M   tot  Fpct  Mpct  pctdiff\n",
       "year                                      \n",
       "1880  0.0  39.0  39.0   0.0   1.0      1.0\n",
       "1881  0.0  44.0  44.0   0.0   1.0      1.0\n",
       "1882  0.0  41.0  41.0   0.0   1.0      1.0\n",
       "1883  0.0  28.0  28.0   0.0   1.0      1.0\n",
       "1884  0.0  43.0  43.0   0.0   1.0      1.0"
      ]
     },
     "execution_count": 227,
     "metadata": {},
     "output_type": "execute_result"
    }
   ],
   "source": [
    "ezra = ezra.drop('name', axis=1).set_index('year')\n",
    "ezra.head()"
   ]
  },
  {
   "cell_type": "code",
   "execution_count": 228,
   "metadata": {
    "collapsed": false
   },
   "outputs": [
    {
     "data": {
      "image/png": "[encoded data removed]",
      "text/plain": [
       "<matplotlib.figure.Figure at 0x12bc15080>"
      ]
     },
     "metadata": {},
     "output_type": "display_data"
    }
   ],
   "source": [
    "_ = plt.plot(ezra['tot'], color='b')\n",
    "_ = plt.plot(ezra['F'], color='red', alpha=0.6)\n",
    "_ = plt.plot(ezra['M'], color='blue', alpha=0.6)\n",
    "\n",
    "_ = plt.xlabel('Year')\n",
    "_ = plt.ylabel('count')\n",
    "\n",
    "plt.show()"
   ]
  },
  {
   "cell_type": "markdown",
   "metadata": {},
   "source": [
    "2000年后一路井喷。而总人口在2000年后并没有井喷。’Ezra‘在人群中的比例提高了。"
   ]
  },
  {
   "cell_type": "code",
   "execution_count": 221,
   "metadata": {
    "collapsed": true
   },
   "outputs": [
    {
     "data": {
      "text/plain": [
       "year\n",
       "1880     201482\n",
       "1881     192696\n",
       "1882     221534\n",
       "1883     216945\n",
       "1884     243463\n",
       "1885     240854\n",
       "1886     255319\n",
       "1887     247396\n",
       "1888     299474\n",
       "1889     288948\n",
       "1890     301401\n",
       "1891     286675\n",
       "1892     334377\n",
       "1893     325222\n",
       "1894     338692\n",
       "1895     351024\n",
       "1896     357486\n",
       "1897     346958\n",
       "1898     381461\n",
       "1899     339235\n",
       "1900     450312\n",
       "1901     345816\n",
       "1902     386734\n",
       "1903     381205\n",
       "1904     403496\n",
       "1905     423941\n",
       "1906     428461\n",
       "1907     465395\n",
       "1908     488658\n",
       "1909     511231\n",
       "         ...   \n",
       "1986    3555131\n",
       "1987    3603785\n",
       "1988    3692739\n",
       "1989    3843257\n",
       "1990    3950469\n",
       "1991    3894012\n",
       "1992    3839875\n",
       "1993    3768994\n",
       "1994    3716497\n",
       "1995    3660981\n",
       "1996    3645912\n",
       "1997    3624287\n",
       "1998    3676499\n",
       "1999    3691772\n",
       "2000    3777294\n",
       "2001    3740600\n",
       "2002    3735317\n",
       "2003    3799121\n",
       "2004    3817389\n",
       "2005    3840755\n",
       "2006    3951428\n",
       "2007    3992280\n",
       "2008    3924410\n",
       "2009    3813356\n",
       "2010    3688069\n",
       "2011    3648686\n",
       "2012    3646143\n",
       "2013    3631489\n",
       "2014    3688118\n",
       "2015    3668183\n",
       "Name: count, dtype: int64"
      ]
     },
     "execution_count": 221,
     "metadata": {},
     "output_type": "execute_result"
    }
   ],
   "source": [
    "popu_tot = names.groupby('year')['count'].sum()\n",
    "popu_tot"
   ]
  },
  {
   "cell_type": "code",
   "execution_count": 230,
   "metadata": {
    "collapsed": true
   },
   "outputs": [
    {
     "data": {
      "text/plain": [
       "year\n",
       "1880    0.000194\n",
       "1881    0.000228\n",
       "1882    0.000185\n",
       "1883    0.000129\n",
       "1884    0.000177\n",
       "1885    0.000100\n",
       "1886    0.000153\n",
       "1887    0.000133\n",
       "1888    0.000107\n",
       "1889    0.000114\n",
       "1890    0.000143\n",
       "1891    0.000133\n",
       "1892    0.000132\n",
       "1893    0.000117\n",
       "1894    0.000130\n",
       "1895    0.000128\n",
       "1896    0.000126\n",
       "1897    0.000124\n",
       "1898    0.000105\n",
       "1899    0.000074\n",
       "1900    0.000093\n",
       "1901    0.000058\n",
       "1902    0.000067\n",
       "1903    0.000087\n",
       "1904    0.000084\n",
       "1905    0.000075\n",
       "1906    0.000072\n",
       "1907    0.000067\n",
       "1908    0.000051\n",
       "1909    0.000059\n",
       "          ...   \n",
       "1986    0.000046\n",
       "1987    0.000057\n",
       "1988    0.000056\n",
       "1989    0.000049\n",
       "1990    0.000047\n",
       "1991    0.000049\n",
       "1992    0.000049\n",
       "1993    0.000062\n",
       "1994    0.000063\n",
       "1995    0.000074\n",
       "1996    0.000097\n",
       "1997    0.000103\n",
       "1998    0.000128\n",
       "1999    0.000132\n",
       "2000    0.000159\n",
       "2001    0.000164\n",
       "2002    0.000160\n",
       "2003    0.000182\n",
       "2004    0.000204\n",
       "2005    0.000236\n",
       "2006    0.000244\n",
       "2007    0.000256\n",
       "2008    0.000316\n",
       "2009    0.000376\n",
       "2010    0.000416\n",
       "2011    0.000508\n",
       "2012    0.000605\n",
       "2013    0.000796\n",
       "2014    0.000966\n",
       "2015    0.001228\n",
       "dtype: float64"
      ]
     },
     "execution_count": 230,
     "metadata": {},
     "output_type": "execute_result"
    }
   ],
   "source": [
    "ezra['tot'].div(popu_tot)"
   ]
  },
  {
   "cell_type": "code",
   "execution_count": 231,
   "metadata": {
    "collapsed": false
   },
   "outputs": [
    {
     "data": {
      "image/png": "[encoded data removed]",
      "text/plain": [
       "<matplotlib.figure.Figure at 0x12bc49a58>"
      ]
     },
     "metadata": {},
     "output_type": "display_data"
    }
   ],
   "source": [
    "_ = plt.plot(ezra['tot'].div(popu_tot))\n",
    "plt.show()"
   ]
  },
  {
   "cell_type": "markdown",
   "metadata": {},
   "source": [
    "## 5 name diversity by gender "
   ]
  },
  {
   "cell_type": "code",
   "execution_count": 242,
   "metadata": {
    "collapsed": false
   },
   "outputs": [
    {
     "data": {
      "text/html": [
       "<div>\n",
       "<table border=\"1\" class=\"dataframe\">\n",
       "  <thead>\n",
       "    <tr style=\"text-align: right;\">\n",
       "      <th></th>\n",
       "      <th>gender</th>\n",
       "      <th>name</th>\n",
       "    </tr>\n",
       "    <tr>\n",
       "      <th>year</th>\n",
       "      <th></th>\n",
       "      <th></th>\n",
       "    </tr>\n",
       "  </thead>\n",
       "  <tbody>\n",
       "    <tr>\n",
       "      <th>1880</th>\n",
       "      <td>F</td>\n",
       "      <td>942</td>\n",
       "    </tr>\n",
       "    <tr>\n",
       "      <th>1880</th>\n",
       "      <td>M</td>\n",
       "      <td>1058</td>\n",
       "    </tr>\n",
       "    <tr>\n",
       "      <th>1881</th>\n",
       "      <td>F</td>\n",
       "      <td>938</td>\n",
       "    </tr>\n",
       "    <tr>\n",
       "      <th>1881</th>\n",
       "      <td>M</td>\n",
       "      <td>997</td>\n",
       "    </tr>\n",
       "    <tr>\n",
       "      <th>1882</th>\n",
       "      <td>F</td>\n",
       "      <td>1028</td>\n",
       "    </tr>\n",
       "  </tbody>\n",
       "</table>\n",
       "</div>"
      ],
      "text/plain": [
       "     gender  name\n",
       "year             \n",
       "1880      F   942\n",
       "1880      M  1058\n",
       "1881      F   938\n",
       "1881      M   997\n",
       "1882      F  1028"
      ]
     },
     "execution_count": 242,
     "metadata": {},
     "output_type": "execute_result"
    }
   ],
   "source": [
    "mixed = names.groupby(['year', 'gender'])['name'].nunique().reset_index('gender')\n",
    "mixed.head()"
   ]
  },
  {
   "cell_type": "code",
   "execution_count": 246,
   "metadata": {
    "collapsed": true
   },
   "outputs": [],
   "source": [
    "f = mixed[mixed['gender']=='F'].name\n",
    "m = mixed[mixed['gender']=='M'].name"
   ]
  },
  {
   "cell_type": "code",
   "execution_count": 250,
   "metadata": {
    "collapsed": false
   },
   "outputs": [
    {
     "data": {
      "image/png": "[encoded data removed]",
      "text/plain": [
       "<matplotlib.figure.Figure at 0x1296cf630>"
      ]
     },
     "metadata": {},
     "output_type": "display_data"
    }
   ],
   "source": [
    "_ = plt.plot(f, color='red')\n",
    "_ = plt.plot(m, color='blue')\n",
    "\n",
    "_ = plt.xlabel('year')\n",
    "_ = plt.ylabel('number of unique name')\n",
    "\n",
    "plt.show()"
   ]
  },
  {
   "cell_type": "code",
   "execution_count": 251,
   "metadata": {
    "collapsed": false
   },
   "outputs": [
    {
     "data": {
      "image/png": "[encoded data removed]",
      "text/plain": [
       "<matplotlib.figure.Figure at 0x129398a90>"
      ]
     },
     "metadata": {},
     "output_type": "display_data"
    }
   ],
   "source": [
    "_ = plt.plot(f.div(m), color='black')\n",
    "\n",
    "_ = plt.xlabel('year')\n",
    "_ = plt.ylabel('ratio of unique name (female/male)')\n",
    "\n",
    "plt.show()"
   ]
  },
  {
   "cell_type": "markdown",
   "metadata": {},
   "source": [
    "Parents tend to be more imaginative when naming a baby girl. 1890-1905年，和1960-1985年之间尤甚。"
   ]
  },
  {
   "cell_type": "code",
   "execution_count": null,
   "metadata": {
    "collapsed": true
   },
   "outputs": [],
   "source": []
  },
  {
   "cell_type": "code",
   "execution_count": null,
   "metadata": {
    "collapsed": true
   },
   "outputs": [],
   "source": []
  },
  {
   "cell_type": "code",
   "execution_count": null,
   "metadata": {
    "collapsed": true
   },
   "outputs": [],
   "source": []
  },
  {
   "cell_type": "code",
   "execution_count": null,
   "metadata": {
    "collapsed": true
   },
   "outputs": [],
   "source": []
  }
 ],
 "metadata": {
  "anaconda-cloud": {},
  "kernelspec": {
   "display_name": "Python [default]",
   "language": "python",
   "name": "python3"
  },
  "language_info": {
   "codemirror_mode": {
    "name": "ipython",
    "version": 3
   },
   "file_extension": ".py",
   "mimetype": "text/x-python",
   "name": "python",
   "nbconvert_exporter": "python",
   "pygments_lexer": "ipython3",
   "version": "3.5.2"
  }
 },
 "nbformat": 4,
 "nbformat_minor": 1
}
