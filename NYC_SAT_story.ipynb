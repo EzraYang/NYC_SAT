{
 "cells": [
  {
   "cell_type": "markdown",
   "metadata": {},
   "source": [
    "# 前言  \n",
    "* 这是一个复制（但不是完全照搬）别人work的分析（[来源](https://www.dataquest.io/blog/data-science-portfolio-project/)）。现在独自去处理陌生的data set有点怕怕的，先照着别人做一个练练手，也不至于走到死胡同（后来发现这是我想太多）\n",
    "* 这篇分析综合了多个New York City的高中的SAT成绩，并试图找找哪些numerical variable和SAT成绩关系最大。\n",
    "* 相比于原分析，我省去了画地图的部分（先把主干走一遍），更加详尽地清晰了每个数据集。"
   ]
  },
  {
   "cell_type": "markdown",
   "metadata": {},
   "source": [
    "## PART I importing data"
   ]
  },
  {
   "cell_type": "code",
   "execution_count": 1,
   "metadata": {
    "collapsed": true
   },
   "outputs": [],
   "source": [
    "import pandas as pd\n",
    "import numpy as np\n",
    "import matplotlib.pyplot as plt\n",
    "import seaborn as sns"
   ]
  },
  {
   "cell_type": "markdown",
   "metadata": {},
   "source": [
    "先审阅一下，下面代码做了三件事：\n",
    "* 用pandas把每个文件读取为DataFrame，放到一个dictionary里\n",
    "* 检查下dict的key\n",
    "* 检查下每个DataFrame的头几行"
   ]
  },
  {
   "cell_type": "code",
   "execution_count": 2,
   "metadata": {
    "collapsed": false
   },
   "outputs": [],
   "source": [
    "files = [\"ap_2010.csv\", \"class_size.csv\", \n",
    "         \"demographics.csv\", \"graduation.csv\", \n",
    "         \"hs_directory.csv\", \"math_test_results.csv\", \n",
    "         \"sat_results.csv\"]\n",
    "\n",
    "data = {}\n",
    "\n",
    "# 把所有dataframe放到一个dict里\n",
    "for f in files:\n",
    "    d = pd.read_csv(\"schools/{0}\".format(f))\n",
    "    data[f.replace(\".csv\", \"\")] = d"
   ]
  },
  {
   "cell_type": "code",
   "execution_count": 3,
   "metadata": {
    "collapsed": false
   },
   "outputs": [
    {
     "data": {
      "text/plain": [
       "dict_keys(['demographics', 'ap_2010', 'sat_results', 'graduation', 'math_test_results', 'hs_directory', 'class_size'])"
      ]
     },
     "execution_count": 3,
     "metadata": {},
     "output_type": "execute_result"
    }
   ],
   "source": [
    "data.keys()"
   ]
  },
  {
   "cell_type": "code",
   "execution_count": 4,
   "metadata": {
    "collapsed": false,
    "scrolled": false
   },
   "outputs": [
    {
     "name": "stdout",
     "output_type": "stream",
     "text": [
      "------------------------------------------------------------\n",
      "demographics：\n",
      "\n",
      "      DBN                       Name  schoolyear fl_percent  frl_percent  \\\n",
      "0  01M015  P.S. 015 ROBERTO CLEMENTE    20052006       89.4          NaN   \n",
      "1  01M015  P.S. 015 ROBERTO CLEMENTE    20062007       89.4          NaN   \n",
      "\n",
      "   total_enrollment prek   k grade1 grade2    ...     black_num black_per  \\\n",
      "0               281   15  36     40     33    ...            74      26.3   \n",
      "1               243   15  29     39     38    ...            68      28.0   \n",
      "\n",
      "  hispanic_num hispanic_per white_num white_per male_num male_per female_num  \\\n",
      "0          189         67.3         5       1.8    158.0     56.2      123.0   \n",
      "1          153         63.0         4       1.6    140.0     57.6      103.0   \n",
      "\n",
      "  female_per  \n",
      "0       43.8  \n",
      "1       42.4  \n",
      "\n",
      "[2 rows x 38 columns]\n",
      "------------------------------------------------------------\n",
      "ap_2010：\n",
      "\n",
      "      DBN                    SchoolName AP Test Takers  Total Exams Taken  \\\n",
      "0  01M448  UNIVERSITY NEIGHBORHOOD H.S.              39                49   \n",
      "1  01M450        EAST SIDE COMMUNITY HS              19                21   \n",
      "\n",
      "  Number of Exams with scores 3 4 or 5  \n",
      "0                                   10  \n",
      "1                                    s  \n",
      "------------------------------------------------------------\n",
      "sat_results：\n",
      "\n",
      "      DBN                                    SCHOOL NAME  \\\n",
      "0  01M292  HENRY STREET SCHOOL FOR INTERNATIONAL STUDIES   \n",
      "1  01M448            UNIVERSITY NEIGHBORHOOD HIGH SCHOOL   \n",
      "\n",
      "  Num of SAT Test Takers SAT Critical Reading Avg. Score SAT Math Avg. Score  \\\n",
      "0                     29                             355                 404   \n",
      "1                     91                             383                 423   \n",
      "\n",
      "  SAT Writing Avg. Score  \n",
      "0                    363  \n",
      "1                    366  \n",
      "------------------------------------------------------------\n",
      "graduation：\n",
      "\n",
      "    Demographic     DBN                            School Name Cohort  \\\n",
      "0  Total Cohort  01M292  HENRY STREET SCHOOL FOR INTERNATIONAL   2003   \n",
      "1  Total Cohort  01M292  HENRY STREET SCHOOL FOR INTERNATIONAL   2004   \n",
      "\n",
      "   Total Cohort Total Grads - n Total Grads - % of cohort Total Regents - n  \\\n",
      "0             5               s                         s                 s   \n",
      "1            55              37                     67.3%                17   \n",
      "\n",
      "  Total Regents - % of cohort Total Regents - % of grads  \\\n",
      "0                           s                          s   \n",
      "1                       30.9%                      45.9%   \n",
      "\n",
      "             ...            Regents w/o Advanced - n  \\\n",
      "0            ...                                   s   \n",
      "1            ...                                  17   \n",
      "\n",
      "  Regents w/o Advanced - % of cohort Regents w/o Advanced - % of grads  \\\n",
      "0                                  s                                 s   \n",
      "1                              30.9%                             45.9%   \n",
      "\n",
      "  Local - n Local - % of cohort Local - % of grads Still Enrolled - n  \\\n",
      "0         s                   s                  s                  s   \n",
      "1        20               36.4%              54.1%                 15   \n",
      "\n",
      "  Still Enrolled - % of cohort Dropped Out - n Dropped Out - % of cohort  \n",
      "0                            s               s                         s  \n",
      "1                        27.3%               3                      5.5%  \n",
      "\n",
      "[2 rows x 23 columns]\n",
      "------------------------------------------------------------\n",
      "math_test_results：\n",
      "\n",
      "      DBN Grade  Year      Category  Number Tested Mean Scale Score Level 1 #  \\\n",
      "0  01M015     3  2006  All Students             39              667         2   \n",
      "1  01M015     3  2007  All Students             31              672         2   \n",
      "\n",
      "  Level 1 % Level 2 # Level 2 % Level 3 # Level 3 % Level 4 # Level 4 %  \\\n",
      "0      5.1%        11     28.2%        20     51.3%         6     15.4%   \n",
      "1      6.5%         3      9.7%        22       71%         4     12.9%   \n",
      "\n",
      "  Level 3+4 # Level 3+4 %  \n",
      "0          26       66.7%  \n",
      "1          26       83.9%  \n",
      "------------------------------------------------------------\n",
      "hs_directory：\n",
      "\n",
      "      dbn                          school_name      boro building_code  \\\n",
      "0  17K548  Brooklyn School for Music & Theatre  Brooklyn          K440   \n",
      "1  09X543     High School for Violin and Dance     Bronx          X400   \n",
      "\n",
      "   phone_number    fax_number grade_span_min  grade_span_max  \\\n",
      "0  718-230-6250  718-230-6262              9              12   \n",
      "1  718-842-0687  718-589-9849              9              12   \n",
      "\n",
      "  expgrade_span_min  expgrade_span_max  \\\n",
      "0               NaN                NaN   \n",
      "1               NaN                NaN   \n",
      "\n",
      "                         ...                          \\\n",
      "0                        ...                           \n",
      "1                        ...                           \n",
      "\n",
      "                                          priority02  \\\n",
      "0                    Then to New York City residents   \n",
      "1  Then to New York City residents who attend an ...   \n",
      "\n",
      "                            priority03                       priority04  \\\n",
      "0                                  NaN                              NaN   \n",
      "1  Then to Bronx students or residents  Then to New York City residents   \n",
      "\n",
      "  priority05 priority06  priority07 priority08  priority09 priority10  \\\n",
      "0        NaN        NaN         NaN        NaN         NaN        NaN   \n",
      "1        NaN        NaN         NaN        NaN         NaN        NaN   \n",
      "\n",
      "                                          Location 1  \n",
      "0  883 Classon Avenue\\nBrooklyn, NY 11225\\n(40.67...  \n",
      "1  1110 Boston Road\\nBronx, NY 10456\\n(40.8276026...  \n",
      "\n",
      "[2 rows x 58 columns]\n",
      "------------------------------------------------------------\n",
      "class_size：\n",
      "\n",
      "   CSD BOROUGH SCHOOL CODE                SCHOOL NAME GRADE  PROGRAM TYPE  \\\n",
      "0    1       M        M015  P.S. 015 Roberto Clemente     0K       GEN ED   \n",
      "1    1       M        M015  P.S. 015 Roberto Clemente     0K          CTT   \n",
      "\n",
      "  CORE SUBJECT (MS CORE and 9-12 ONLY) CORE COURSE (MS CORE and 9-12 ONLY)  \\\n",
      "0                                    -                                   -   \n",
      "1                                    -                                   -   \n",
      "\n",
      "  SERVICE CATEGORY(K-9* ONLY)  NUMBER OF STUDENTS / SEATS FILLED  \\\n",
      "0                           -                               19.0   \n",
      "1                           -                               21.0   \n",
      "\n",
      "   NUMBER OF SECTIONS  AVERAGE CLASS SIZE  SIZE OF SMALLEST CLASS  \\\n",
      "0                 1.0                19.0                    19.0   \n",
      "1                 1.0                21.0                    21.0   \n",
      "\n",
      "   SIZE OF LARGEST CLASS DATA SOURCE  SCHOOLWIDE PUPIL-TEACHER RATIO  \n",
      "0                   19.0         ATS                             NaN  \n",
      "1                   21.0         ATS                             NaN  \n"
     ]
    }
   ],
   "source": [
    "for key, val in data.items():\n",
    "    print('--'* 30 + '\\n' + key + '：\\n')\n",
    "    print(val.head(2))"
   ]
  },
  {
   "cell_type": "markdown",
   "metadata": {
    "collapsed": true
   },
   "source": [
    "数据读取OK。观察每个表的头几行看到，除了class_size和hs_directory，每个表里都有一栏‘DBN’，谷歌一下知道这是学校的unique code。如果可以给class_size和hs_directory加上这一栏'DBN'，那么它之后可以作为把所有表合并为一个表的关键词。    \n",
    "进一步看一下这两个表："
   ]
  },
  {
   "cell_type": "code",
   "execution_count": 5,
   "metadata": {
    "collapsed": false
   },
   "outputs": [
    {
     "data": {
      "text/html": [
       "<div>\n",
       "<table border=\"1\" class=\"dataframe\">\n",
       "  <thead>\n",
       "    <tr style=\"text-align: right;\">\n",
       "      <th></th>\n",
       "      <th>CSD</th>\n",
       "      <th>BOROUGH</th>\n",
       "      <th>SCHOOL CODE</th>\n",
       "      <th>SCHOOL NAME</th>\n",
       "      <th>GRADE</th>\n",
       "      <th>PROGRAM TYPE</th>\n",
       "      <th>CORE SUBJECT (MS CORE and 9-12 ONLY)</th>\n",
       "      <th>CORE COURSE (MS CORE and 9-12 ONLY)</th>\n",
       "      <th>SERVICE CATEGORY(K-9* ONLY)</th>\n",
       "      <th>NUMBER OF STUDENTS / SEATS FILLED</th>\n",
       "      <th>NUMBER OF SECTIONS</th>\n",
       "      <th>AVERAGE CLASS SIZE</th>\n",
       "      <th>SIZE OF SMALLEST CLASS</th>\n",
       "      <th>SIZE OF LARGEST CLASS</th>\n",
       "      <th>DATA SOURCE</th>\n",
       "      <th>SCHOOLWIDE PUPIL-TEACHER RATIO</th>\n",
       "    </tr>\n",
       "  </thead>\n",
       "  <tbody>\n",
       "    <tr>\n",
       "      <th>0</th>\n",
       "      <td>1</td>\n",
       "      <td>M</td>\n",
       "      <td>M015</td>\n",
       "      <td>P.S. 015 Roberto Clemente</td>\n",
       "      <td>0K</td>\n",
       "      <td>GEN ED</td>\n",
       "      <td>-</td>\n",
       "      <td>-</td>\n",
       "      <td>-</td>\n",
       "      <td>19.0</td>\n",
       "      <td>1.0</td>\n",
       "      <td>19.0</td>\n",
       "      <td>19.0</td>\n",
       "      <td>19.0</td>\n",
       "      <td>ATS</td>\n",
       "      <td>NaN</td>\n",
       "    </tr>\n",
       "    <tr>\n",
       "      <th>1</th>\n",
       "      <td>1</td>\n",
       "      <td>M</td>\n",
       "      <td>M015</td>\n",
       "      <td>P.S. 015 Roberto Clemente</td>\n",
       "      <td>0K</td>\n",
       "      <td>CTT</td>\n",
       "      <td>-</td>\n",
       "      <td>-</td>\n",
       "      <td>-</td>\n",
       "      <td>21.0</td>\n",
       "      <td>1.0</td>\n",
       "      <td>21.0</td>\n",
       "      <td>21.0</td>\n",
       "      <td>21.0</td>\n",
       "      <td>ATS</td>\n",
       "      <td>NaN</td>\n",
       "    </tr>\n",
       "    <tr>\n",
       "      <th>2</th>\n",
       "      <td>1</td>\n",
       "      <td>M</td>\n",
       "      <td>M015</td>\n",
       "      <td>P.S. 015 Roberto Clemente</td>\n",
       "      <td>01</td>\n",
       "      <td>GEN ED</td>\n",
       "      <td>-</td>\n",
       "      <td>-</td>\n",
       "      <td>-</td>\n",
       "      <td>17.0</td>\n",
       "      <td>1.0</td>\n",
       "      <td>17.0</td>\n",
       "      <td>17.0</td>\n",
       "      <td>17.0</td>\n",
       "      <td>ATS</td>\n",
       "      <td>NaN</td>\n",
       "    </tr>\n",
       "  </tbody>\n",
       "</table>\n",
       "</div>"
      ],
      "text/plain": [
       "   CSD BOROUGH SCHOOL CODE                SCHOOL NAME GRADE  PROGRAM TYPE  \\\n",
       "0    1       M        M015  P.S. 015 Roberto Clemente     0K       GEN ED   \n",
       "1    1       M        M015  P.S. 015 Roberto Clemente     0K          CTT   \n",
       "2    1       M        M015  P.S. 015 Roberto Clemente     01       GEN ED   \n",
       "\n",
       "  CORE SUBJECT (MS CORE and 9-12 ONLY) CORE COURSE (MS CORE and 9-12 ONLY)  \\\n",
       "0                                    -                                   -   \n",
       "1                                    -                                   -   \n",
       "2                                    -                                   -   \n",
       "\n",
       "  SERVICE CATEGORY(K-9* ONLY)  NUMBER OF STUDENTS / SEATS FILLED  \\\n",
       "0                           -                               19.0   \n",
       "1                           -                               21.0   \n",
       "2                           -                               17.0   \n",
       "\n",
       "   NUMBER OF SECTIONS  AVERAGE CLASS SIZE  SIZE OF SMALLEST CLASS  \\\n",
       "0                 1.0                19.0                    19.0   \n",
       "1                 1.0                21.0                    21.0   \n",
       "2                 1.0                17.0                    17.0   \n",
       "\n",
       "   SIZE OF LARGEST CLASS DATA SOURCE  SCHOOLWIDE PUPIL-TEACHER RATIO  \n",
       "0                   19.0         ATS                             NaN  \n",
       "1                   21.0         ATS                             NaN  \n",
       "2                   17.0         ATS                             NaN  "
      ]
     },
     "execution_count": 5,
     "metadata": {},
     "output_type": "execute_result"
    }
   ],
   "source": [
    "data['class_size'].head(3)"
   ]
  },
  {
   "cell_type": "code",
   "execution_count": 6,
   "metadata": {
    "collapsed": false
   },
   "outputs": [
    {
     "data": {
      "text/html": [
       "<div>\n",
       "<table border=\"1\" class=\"dataframe\">\n",
       "  <thead>\n",
       "    <tr style=\"text-align: right;\">\n",
       "      <th></th>\n",
       "      <th>dbn</th>\n",
       "      <th>school_name</th>\n",
       "      <th>boro</th>\n",
       "      <th>building_code</th>\n",
       "      <th>phone_number</th>\n",
       "      <th>fax_number</th>\n",
       "      <th>grade_span_min</th>\n",
       "      <th>grade_span_max</th>\n",
       "      <th>expgrade_span_min</th>\n",
       "      <th>expgrade_span_max</th>\n",
       "      <th>...</th>\n",
       "      <th>priority02</th>\n",
       "      <th>priority03</th>\n",
       "      <th>priority04</th>\n",
       "      <th>priority05</th>\n",
       "      <th>priority06</th>\n",
       "      <th>priority07</th>\n",
       "      <th>priority08</th>\n",
       "      <th>priority09</th>\n",
       "      <th>priority10</th>\n",
       "      <th>Location 1</th>\n",
       "    </tr>\n",
       "  </thead>\n",
       "  <tbody>\n",
       "    <tr>\n",
       "      <th>0</th>\n",
       "      <td>17K548</td>\n",
       "      <td>Brooklyn School for Music &amp; Theatre</td>\n",
       "      <td>Brooklyn</td>\n",
       "      <td>K440</td>\n",
       "      <td>718-230-6250</td>\n",
       "      <td>718-230-6262</td>\n",
       "      <td>9</td>\n",
       "      <td>12</td>\n",
       "      <td>NaN</td>\n",
       "      <td>NaN</td>\n",
       "      <td>...</td>\n",
       "      <td>Then to New York City residents</td>\n",
       "      <td>NaN</td>\n",
       "      <td>NaN</td>\n",
       "      <td>NaN</td>\n",
       "      <td>NaN</td>\n",
       "      <td>NaN</td>\n",
       "      <td>NaN</td>\n",
       "      <td>NaN</td>\n",
       "      <td>NaN</td>\n",
       "      <td>883 Classon Avenue\\nBrooklyn, NY 11225\\n(40.67...</td>\n",
       "    </tr>\n",
       "    <tr>\n",
       "      <th>1</th>\n",
       "      <td>09X543</td>\n",
       "      <td>High School for Violin and Dance</td>\n",
       "      <td>Bronx</td>\n",
       "      <td>X400</td>\n",
       "      <td>718-842-0687</td>\n",
       "      <td>718-589-9849</td>\n",
       "      <td>9</td>\n",
       "      <td>12</td>\n",
       "      <td>NaN</td>\n",
       "      <td>NaN</td>\n",
       "      <td>...</td>\n",
       "      <td>Then to New York City residents who attend an ...</td>\n",
       "      <td>Then to Bronx students or residents</td>\n",
       "      <td>Then to New York City residents</td>\n",
       "      <td>NaN</td>\n",
       "      <td>NaN</td>\n",
       "      <td>NaN</td>\n",
       "      <td>NaN</td>\n",
       "      <td>NaN</td>\n",
       "      <td>NaN</td>\n",
       "      <td>1110 Boston Road\\nBronx, NY 10456\\n(40.8276026...</td>\n",
       "    </tr>\n",
       "    <tr>\n",
       "      <th>2</th>\n",
       "      <td>09X327</td>\n",
       "      <td>Comprehensive Model School Project M.S. 327</td>\n",
       "      <td>Bronx</td>\n",
       "      <td>X240</td>\n",
       "      <td>718-294-8111</td>\n",
       "      <td>718-294-8109</td>\n",
       "      <td>6</td>\n",
       "      <td>12</td>\n",
       "      <td>NaN</td>\n",
       "      <td>NaN</td>\n",
       "      <td>...</td>\n",
       "      <td>Then to Bronx students or residents who attend...</td>\n",
       "      <td>Then to New York City residents who attend an ...</td>\n",
       "      <td>Then to Bronx students or residents</td>\n",
       "      <td>Then to New York City residents</td>\n",
       "      <td>NaN</td>\n",
       "      <td>NaN</td>\n",
       "      <td>NaN</td>\n",
       "      <td>NaN</td>\n",
       "      <td>NaN</td>\n",
       "      <td>1501 Jerome Avenue\\nBronx, NY 10452\\n(40.84241...</td>\n",
       "    </tr>\n",
       "  </tbody>\n",
       "</table>\n",
       "<p>3 rows × 58 columns</p>\n",
       "</div>"
      ],
      "text/plain": [
       "      dbn                                  school_name      boro  \\\n",
       "0  17K548          Brooklyn School for Music & Theatre  Brooklyn   \n",
       "1  09X543             High School for Violin and Dance     Bronx   \n",
       "2  09X327  Comprehensive Model School Project M.S. 327     Bronx   \n",
       "\n",
       "  building_code  phone_number    fax_number grade_span_min  grade_span_max  \\\n",
       "0          K440  718-230-6250  718-230-6262              9              12   \n",
       "1          X400  718-842-0687  718-589-9849              9              12   \n",
       "2          X240  718-294-8111  718-294-8109              6              12   \n",
       "\n",
       "  expgrade_span_min  expgrade_span_max  \\\n",
       "0               NaN                NaN   \n",
       "1               NaN                NaN   \n",
       "2               NaN                NaN   \n",
       "\n",
       "                         ...                          \\\n",
       "0                        ...                           \n",
       "1                        ...                           \n",
       "2                        ...                           \n",
       "\n",
       "                                          priority02  \\\n",
       "0                    Then to New York City residents   \n",
       "1  Then to New York City residents who attend an ...   \n",
       "2  Then to Bronx students or residents who attend...   \n",
       "\n",
       "                                          priority03  \\\n",
       "0                                                NaN   \n",
       "1                Then to Bronx students or residents   \n",
       "2  Then to New York City residents who attend an ...   \n",
       "\n",
       "                            priority04                       priority05  \\\n",
       "0                                  NaN                              NaN   \n",
       "1      Then to New York City residents                              NaN   \n",
       "2  Then to Bronx students or residents  Then to New York City residents   \n",
       "\n",
       "  priority06  priority07 priority08  priority09 priority10  \\\n",
       "0        NaN         NaN        NaN         NaN        NaN   \n",
       "1        NaN         NaN        NaN         NaN        NaN   \n",
       "2        NaN         NaN        NaN         NaN        NaN   \n",
       "\n",
       "                                          Location 1  \n",
       "0  883 Classon Avenue\\nBrooklyn, NY 11225\\n(40.67...  \n",
       "1  1110 Boston Road\\nBronx, NY 10456\\n(40.8276026...  \n",
       "2  1501 Jerome Avenue\\nBronx, NY 10452\\n(40.84241...  \n",
       "\n",
       "[3 rows x 58 columns]"
      ]
     },
     "execution_count": 6,
     "metadata": {},
     "output_type": "execute_result"
    }
   ],
   "source": [
    "data['hs_directory'].head(3)"
   ]
  },
  {
   "cell_type": "markdown",
   "metadata": {},
   "source": [
    "查谷歌知道class_size的头三栏合并一下就是'DBN'，而hs_directory的'dbn'一栏其实就等同于'DBN'。"
   ]
  },
  {
   "cell_type": "code",
   "execution_count": 7,
   "metadata": {
    "collapsed": false
   },
   "outputs": [],
   "source": [
    "# 给class_size和hs_directory两个表加上‘DBN'一栏\n",
    "data[\"class_size\"][\"DBN\"] = data[\"class_size\"].apply(lambda x: \"{0:02d}{1}\".format(x[\"CSD\"], x[\"SCHOOL CODE\"]), axis=1)\n",
    "\n",
    "data[\"hs_directory\"][\"DBN\"] = data[\"hs_directory\"][\"dbn\"]"
   ]
  },
  {
   "cell_type": "markdown",
   "metadata": {},
   "source": [
    "中途发现了其它有用数据，一份是针对所有district的学校的调查，另一份是只针对district75的学校的调查，加到dictionary里："
   ]
  },
  {
   "cell_type": "code",
   "execution_count": 9,
   "metadata": {
    "collapsed": false
   },
   "outputs": [],
   "source": [
    "survey1 = pd.read_excel(open('schools/survey_all.xlsx', 'rb'), \n",
    "                        sheetname = 'Sheet1', \n",
    "                        skiprows = [0, 1])\n",
    "survey2 = pd.read_excel(open('schools/survey_d75.xlsx', 'rb'), \n",
    "                        sheetname = 'Sheet1', \n",
    "                        skiprows = [0, 1])\n",
    "\n",
    "# 保险起见加一栏来表示来源的不同\n",
    "survey1['d75'] = False\n",
    "survey2['d75'] = True\n",
    "survey = pd.concat([survey1, survey2], axis=0)"
   ]
  },
  {
   "cell_type": "code",
   "execution_count": 10,
   "metadata": {
    "collapsed": false
   },
   "outputs": [
    {
     "name": "stdout",
     "output_type": "stream",
     "text": [
      "1938 1769\n"
     ]
    }
   ],
   "source": [
    "print(len(survey1.columns), len(survey2.columns))"
   ]
  },
  {
   "cell_type": "markdown",
   "metadata": {},
   "source": [
    "虽燃两个survey的栏目不完全相同，但查询codebook得知名字相同的栏目意义是相同的，所以用pd.concat()加到一起没问题。至于不匹配的栏目，管它呢反正pd.concat()会填充NaN的。    \n",
    "这一步要做的主要是有什么都收进来搁着，精挑细选是下一步的事。"
   ]
  },
  {
   "cell_type": "code",
   "execution_count": 11,
   "metadata": {
    "collapsed": false
   },
   "outputs": [
    {
     "data": {
      "text/html": [
       "<div>\n",
       "<table border=\"1\" class=\"dataframe\">\n",
       "  <thead>\n",
       "    <tr style=\"text-align: right;\">\n",
       "      <th></th>\n",
       "      <th>N_p</th>\n",
       "      <th>N_s</th>\n",
       "      <th>N_t</th>\n",
       "      <th>aca_p_11</th>\n",
       "      <th>aca_s_11</th>\n",
       "      <th>aca_t_11</th>\n",
       "      <th>aca_tot_11</th>\n",
       "      <th>com_p_11</th>\n",
       "      <th>com_s_11</th>\n",
       "      <th>com_t_11</th>\n",
       "      <th>...</th>\n",
       "      <th>t_q8c_1</th>\n",
       "      <th>t_q8c_2</th>\n",
       "      <th>t_q8c_3</th>\n",
       "      <th>t_q8c_4</th>\n",
       "      <th>t_q9</th>\n",
       "      <th>t_q9_1</th>\n",
       "      <th>t_q9_2</th>\n",
       "      <th>t_q9_3</th>\n",
       "      <th>t_q9_4</th>\n",
       "      <th>t_q9_5</th>\n",
       "    </tr>\n",
       "  </thead>\n",
       "  <tbody>\n",
       "    <tr>\n",
       "      <th>0</th>\n",
       "      <td>90.0</td>\n",
       "      <td>NaN</td>\n",
       "      <td>22.0</td>\n",
       "      <td>7.8</td>\n",
       "      <td>NaN</td>\n",
       "      <td>7.9</td>\n",
       "      <td>7.9</td>\n",
       "      <td>7.6</td>\n",
       "      <td>NaN</td>\n",
       "      <td>7.8</td>\n",
       "      <td>...</td>\n",
       "      <td>29.0</td>\n",
       "      <td>67.0</td>\n",
       "      <td>5.0</td>\n",
       "      <td>0.0</td>\n",
       "      <td>NaN</td>\n",
       "      <td>5.0</td>\n",
       "      <td>14.0</td>\n",
       "      <td>52.0</td>\n",
       "      <td>24.0</td>\n",
       "      <td>5.0</td>\n",
       "    </tr>\n",
       "    <tr>\n",
       "      <th>1</th>\n",
       "      <td>161.0</td>\n",
       "      <td>NaN</td>\n",
       "      <td>34.0</td>\n",
       "      <td>7.8</td>\n",
       "      <td>NaN</td>\n",
       "      <td>9.1</td>\n",
       "      <td>8.4</td>\n",
       "      <td>7.6</td>\n",
       "      <td>NaN</td>\n",
       "      <td>8.5</td>\n",
       "      <td>...</td>\n",
       "      <td>74.0</td>\n",
       "      <td>21.0</td>\n",
       "      <td>6.0</td>\n",
       "      <td>0.0</td>\n",
       "      <td>NaN</td>\n",
       "      <td>3.0</td>\n",
       "      <td>6.0</td>\n",
       "      <td>3.0</td>\n",
       "      <td>78.0</td>\n",
       "      <td>9.0</td>\n",
       "    </tr>\n",
       "    <tr>\n",
       "      <th>2</th>\n",
       "      <td>367.0</td>\n",
       "      <td>NaN</td>\n",
       "      <td>42.0</td>\n",
       "      <td>8.6</td>\n",
       "      <td>NaN</td>\n",
       "      <td>7.5</td>\n",
       "      <td>8.0</td>\n",
       "      <td>8.3</td>\n",
       "      <td>NaN</td>\n",
       "      <td>6.3</td>\n",
       "      <td>...</td>\n",
       "      <td>33.0</td>\n",
       "      <td>35.0</td>\n",
       "      <td>20.0</td>\n",
       "      <td>13.0</td>\n",
       "      <td>NaN</td>\n",
       "      <td>3.0</td>\n",
       "      <td>5.0</td>\n",
       "      <td>16.0</td>\n",
       "      <td>70.0</td>\n",
       "      <td>5.0</td>\n",
       "    </tr>\n",
       "    <tr>\n",
       "      <th>3</th>\n",
       "      <td>151.0</td>\n",
       "      <td>145.0</td>\n",
       "      <td>29.0</td>\n",
       "      <td>8.5</td>\n",
       "      <td>7.4</td>\n",
       "      <td>7.8</td>\n",
       "      <td>7.9</td>\n",
       "      <td>8.2</td>\n",
       "      <td>5.9</td>\n",
       "      <td>6.2</td>\n",
       "      <td>...</td>\n",
       "      <td>21.0</td>\n",
       "      <td>45.0</td>\n",
       "      <td>28.0</td>\n",
       "      <td>7.0</td>\n",
       "      <td>NaN</td>\n",
       "      <td>0.0</td>\n",
       "      <td>18.0</td>\n",
       "      <td>32.0</td>\n",
       "      <td>39.0</td>\n",
       "      <td>11.0</td>\n",
       "    </tr>\n",
       "    <tr>\n",
       "      <th>4</th>\n",
       "      <td>90.0</td>\n",
       "      <td>NaN</td>\n",
       "      <td>23.0</td>\n",
       "      <td>7.9</td>\n",
       "      <td>NaN</td>\n",
       "      <td>8.1</td>\n",
       "      <td>8.0</td>\n",
       "      <td>7.9</td>\n",
       "      <td>NaN</td>\n",
       "      <td>7.3</td>\n",
       "      <td>...</td>\n",
       "      <td>59.0</td>\n",
       "      <td>36.0</td>\n",
       "      <td>5.0</td>\n",
       "      <td>0.0</td>\n",
       "      <td>NaN</td>\n",
       "      <td>10.0</td>\n",
       "      <td>5.0</td>\n",
       "      <td>10.0</td>\n",
       "      <td>60.0</td>\n",
       "      <td>15.0</td>\n",
       "    </tr>\n",
       "  </tbody>\n",
       "</table>\n",
       "<p>5 rows × 2769 columns</p>\n",
       "</div>"
      ],
      "text/plain": [
       "     N_p    N_s   N_t  aca_p_11  aca_s_11  aca_t_11  aca_tot_11  com_p_11  \\\n",
       "0   90.0    NaN  22.0       7.8       NaN       7.9         7.9       7.6   \n",
       "1  161.0    NaN  34.0       7.8       NaN       9.1         8.4       7.6   \n",
       "2  367.0    NaN  42.0       8.6       NaN       7.5         8.0       8.3   \n",
       "3  151.0  145.0  29.0       8.5       7.4       7.8         7.9       8.2   \n",
       "4   90.0    NaN  23.0       7.9       NaN       8.1         8.0       7.9   \n",
       "\n",
       "   com_s_11  com_t_11   ...    t_q8c_1 t_q8c_2 t_q8c_3  t_q8c_4  t_q9  t_q9_1  \\\n",
       "0       NaN       7.8   ...       29.0    67.0     5.0      0.0   NaN     5.0   \n",
       "1       NaN       8.5   ...       74.0    21.0     6.0      0.0   NaN     3.0   \n",
       "2       NaN       6.3   ...       33.0    35.0    20.0     13.0   NaN     3.0   \n",
       "3       5.9       6.2   ...       21.0    45.0    28.0      7.0   NaN     0.0   \n",
       "4       NaN       7.3   ...       59.0    36.0     5.0      0.0   NaN    10.0   \n",
       "\n",
       "   t_q9_2  t_q9_3  t_q9_4  t_q9_5  \n",
       "0    14.0    52.0    24.0     5.0  \n",
       "1     6.0     3.0    78.0     9.0  \n",
       "2     5.0    16.0    70.0     5.0  \n",
       "3    18.0    32.0    39.0    11.0  \n",
       "4     5.0    10.0    60.0    15.0  \n",
       "\n",
       "[5 rows x 2769 columns]"
      ]
     },
     "execution_count": 11,
     "metadata": {},
     "output_type": "execute_result"
    }
   ],
   "source": [
    "survey.head()"
   ]
  },
  {
   "cell_type": "code",
   "execution_count": 12,
   "metadata": {
    "collapsed": false
   },
   "outputs": [
    {
     "data": {
      "text/plain": [
       "(1702, 23)"
      ]
     },
     "execution_count": 12,
     "metadata": {},
     "output_type": "execute_result"
    }
   ],
   "source": [
    "# 初步清洗一下survey, 加到data dictionary里\n",
    "survey[\"DBN\"] = survey[\"dbn\"]\n",
    "\n",
    "survey_fields = [\"DBN\", \n",
    "                 \"rr_s\", \"rr_t\", \"rr_p\", \n",
    "                 \"N_s\", \"N_t\", \"N_p\", \n",
    "                 \"saf_p_11\", \"com_p_11\", \"eng_p_11\", \"aca_p_11\", \n",
    "                 \"saf_t_11\", \"com_t_11\", \"eng_t_10\", \"aca_t_11\", \n",
    "                 \"saf_s_11\", \"com_s_11\", \"eng_s_11\", \"aca_s_11\", \n",
    "                 \"saf_tot_11\", \"com_tot_11\", \"eng_tot_11\", \"aca_tot_11\"\n",
    "                ]\n",
    "survey = survey.loc[:,survey_fields]\n",
    "data[\"survey\"] = survey\n",
    "survey.shape"
   ]
  },
  {
   "cell_type": "markdown",
   "metadata": {},
   "source": [
    "现在data dictionary里有7个dataframe，每个dataframe里都有一栏代表学校代码的'DBN'。"
   ]
  },
  {
   "cell_type": "markdown",
   "metadata": {},
   "source": [
    "## PART II condensing and cleaning dataset"
   ]
  },
  {
   "cell_type": "markdown",
   "metadata": {},
   "source": [
    "如果以'DBN'为关键词来合并所有dataframe，需要确保每个'DBN'只对应一个学校，且在同一个表里每个'DBN'只占一行。  \n",
    "我们需要看看那些表里同一'DBN'出现了多次，把多行用一些aggregation func合并为一行。"
   ]
  },
  {
   "cell_type": "code",
   "execution_count": 13,
   "metadata": {
    "collapsed": false
   },
   "outputs": [
    {
     "name": "stdout",
     "output_type": "stream",
     "text": [
      "demographics\n",
      "8481\n",
      "survey\n",
      "0\n",
      "ap_2010\n",
      "1\n",
      "sat_results\n",
      "0\n",
      "graduation\n",
      "24673\n",
      "math_test_results\n",
      "27346\n",
      "hs_directory\n",
      "0\n",
      "class_size\n",
      "26124\n"
     ]
    }
   ],
   "source": [
    "for key in data.keys():\n",
    "    print(key)\n",
    "    print(len(data[key]['DBN']) - len(data[key]['DBN'].unique()))"
   ]
  },
  {
   "cell_type": "markdown",
   "metadata": {},
   "source": [
    "可以看到在'math_test_results', 'graduation', 'ap_2010', 'class_size'和'demographcis'里至少一个DBN出现了多次。我们需要对这五个表操作一下把多行aggregate为一行。"
   ]
  },
  {
   "cell_type": "markdown",
   "metadata": {},
   "source": [
    "### 2.1 condensing and cleaning math_test_results"
   ]
  },
  {
   "cell_type": "code",
   "execution_count": 15,
   "metadata": {
    "collapsed": false,
    "scrolled": true
   },
   "outputs": [
    {
     "data": {
      "text/html": [
       "<div>\n",
       "<table border=\"1\" class=\"dataframe\">\n",
       "  <thead>\n",
       "    <tr style=\"text-align: right;\">\n",
       "      <th></th>\n",
       "      <th>DBN</th>\n",
       "      <th>Grade</th>\n",
       "      <th>Year</th>\n",
       "      <th>Category</th>\n",
       "      <th>Number Tested</th>\n",
       "      <th>Mean Scale Score</th>\n",
       "      <th>Level 1 #</th>\n",
       "      <th>Level 1 %</th>\n",
       "      <th>Level 2 #</th>\n",
       "      <th>Level 2 %</th>\n",
       "      <th>Level 3 #</th>\n",
       "      <th>Level 3 %</th>\n",
       "      <th>Level 4 #</th>\n",
       "      <th>Level 4 %</th>\n",
       "      <th>Level 3+4 #</th>\n",
       "      <th>Level 3+4 %</th>\n",
       "    </tr>\n",
       "  </thead>\n",
       "  <tbody>\n",
       "    <tr>\n",
       "      <th>0</th>\n",
       "      <td>01M015</td>\n",
       "      <td>3</td>\n",
       "      <td>2006</td>\n",
       "      <td>All Students</td>\n",
       "      <td>39</td>\n",
       "      <td>667</td>\n",
       "      <td>2</td>\n",
       "      <td>5.1%</td>\n",
       "      <td>11</td>\n",
       "      <td>28.2%</td>\n",
       "      <td>20</td>\n",
       "      <td>51.3%</td>\n",
       "      <td>6</td>\n",
       "      <td>15.4%</td>\n",
       "      <td>26</td>\n",
       "      <td>66.7%</td>\n",
       "    </tr>\n",
       "    <tr>\n",
       "      <th>1</th>\n",
       "      <td>01M015</td>\n",
       "      <td>3</td>\n",
       "      <td>2007</td>\n",
       "      <td>All Students</td>\n",
       "      <td>31</td>\n",
       "      <td>672</td>\n",
       "      <td>2</td>\n",
       "      <td>6.5%</td>\n",
       "      <td>3</td>\n",
       "      <td>9.7%</td>\n",
       "      <td>22</td>\n",
       "      <td>71%</td>\n",
       "      <td>4</td>\n",
       "      <td>12.9%</td>\n",
       "      <td>26</td>\n",
       "      <td>83.9%</td>\n",
       "    </tr>\n",
       "    <tr>\n",
       "      <th>2</th>\n",
       "      <td>01M015</td>\n",
       "      <td>3</td>\n",
       "      <td>2008</td>\n",
       "      <td>All Students</td>\n",
       "      <td>37</td>\n",
       "      <td>668</td>\n",
       "      <td>0</td>\n",
       "      <td>0%</td>\n",
       "      <td>6</td>\n",
       "      <td>16.2%</td>\n",
       "      <td>29</td>\n",
       "      <td>78.4%</td>\n",
       "      <td>2</td>\n",
       "      <td>5.4%</td>\n",
       "      <td>31</td>\n",
       "      <td>83.8%</td>\n",
       "    </tr>\n",
       "    <tr>\n",
       "      <th>3</th>\n",
       "      <td>01M015</td>\n",
       "      <td>3</td>\n",
       "      <td>2009</td>\n",
       "      <td>All Students</td>\n",
       "      <td>33</td>\n",
       "      <td>668</td>\n",
       "      <td>0</td>\n",
       "      <td>0%</td>\n",
       "      <td>4</td>\n",
       "      <td>12.1%</td>\n",
       "      <td>28</td>\n",
       "      <td>84.8%</td>\n",
       "      <td>1</td>\n",
       "      <td>3%</td>\n",
       "      <td>29</td>\n",
       "      <td>87.9%</td>\n",
       "    </tr>\n",
       "    <tr>\n",
       "      <th>4</th>\n",
       "      <td>01M015</td>\n",
       "      <td>3</td>\n",
       "      <td>2010</td>\n",
       "      <td>All Students</td>\n",
       "      <td>26</td>\n",
       "      <td>677</td>\n",
       "      <td>6</td>\n",
       "      <td>23.1%</td>\n",
       "      <td>12</td>\n",
       "      <td>46.2%</td>\n",
       "      <td>6</td>\n",
       "      <td>23.1%</td>\n",
       "      <td>2</td>\n",
       "      <td>7.7%</td>\n",
       "      <td>8</td>\n",
       "      <td>30.8%</td>\n",
       "    </tr>\n",
       "  </tbody>\n",
       "</table>\n",
       "</div>"
      ],
      "text/plain": [
       "      DBN Grade  Year      Category  Number Tested Mean Scale Score Level 1 #  \\\n",
       "0  01M015     3  2006  All Students             39              667         2   \n",
       "1  01M015     3  2007  All Students             31              672         2   \n",
       "2  01M015     3  2008  All Students             37              668         0   \n",
       "3  01M015     3  2009  All Students             33              668         0   \n",
       "4  01M015     3  2010  All Students             26              677         6   \n",
       "\n",
       "  Level 1 % Level 2 # Level 2 % Level 3 # Level 3 % Level 4 # Level 4 %  \\\n",
       "0      5.1%        11     28.2%        20     51.3%         6     15.4%   \n",
       "1      6.5%         3      9.7%        22       71%         4     12.9%   \n",
       "2        0%         6     16.2%        29     78.4%         2      5.4%   \n",
       "3        0%         4     12.1%        28     84.8%         1        3%   \n",
       "4     23.1%        12     46.2%         6     23.1%         2      7.7%   \n",
       "\n",
       "  Level 3+4 # Level 3+4 %  \n",
       "0          26       66.7%  \n",
       "1          26       83.9%  \n",
       "2          31       83.8%  \n",
       "3          29       87.9%  \n",
       "4           8       30.8%  "
      ]
     },
     "execution_count": 15,
     "metadata": {},
     "output_type": "execute_result"
    }
   ],
   "source": [
    "math = data['math_test_results']\n",
    "math.head()"
   ]
  },
  {
   "cell_type": "code",
   "execution_count": 16,
   "metadata": {
    "collapsed": false
   },
   "outputs": [
    {
     "name": "stdout",
     "output_type": "stream",
     "text": [
      "<class 'pandas.core.frame.DataFrame'>\n",
      "RangeIndex: 28478 entries, 0 to 28477\n",
      "Data columns (total 16 columns):\n",
      "DBN                 28478 non-null object\n",
      "Grade               28478 non-null object\n",
      "Year                28478 non-null int64\n",
      "Category            28478 non-null object\n",
      "Number Tested       28478 non-null int64\n",
      "Mean Scale Score    23131 non-null object\n",
      "Level 1 #           28478 non-null object\n",
      "Level 1 %           28478 non-null object\n",
      "Level 2 #           28478 non-null object\n",
      "Level 2 %           28478 non-null object\n",
      "Level 3 #           28478 non-null object\n",
      "Level 3 %           28478 non-null object\n",
      "Level 4 #           28478 non-null object\n",
      "Level 4 %           28478 non-null object\n",
      "Level 3+4 #         28478 non-null object\n",
      "Level 3+4 %         28478 non-null object\n",
      "dtypes: int64(2), object(14)\n",
      "memory usage: 3.5+ MB\n"
     ]
    }
   ],
   "source": [
    "math.info()"
   ]
  },
  {
   "cell_type": "markdown",
   "metadata": {},
   "source": [
    "本应是数据的栏目，需要转换格式。"
   ]
  },
  {
   "cell_type": "code",
   "execution_count": 17,
   "metadata": {
    "collapsed": true
   },
   "outputs": [],
   "source": [
    "# func to convert type, 这个可以多次使用\n",
    "def obj_to_num(data, cols_list):\n",
    "    for col in cols_list:\n",
    "        data[col] = data[col].str.replace('%', '')\n",
    "        data[col] = pd.to_numeric(data[col], errors='coerce')\n",
    "    return data"
   ]
  },
  {
   "cell_type": "code",
   "execution_count": 18,
   "metadata": {
    "collapsed": false
   },
   "outputs": [
    {
     "data": {
      "text/plain": [
       "Index(['DBN', 'Grade', 'Year', 'Category', 'Number Tested', 'Mean Scale Score',\n",
       "       'Level 1 #', 'Level 1 %', 'Level 2 #', 'Level 2 %', 'Level 3 #',\n",
       "       'Level 3 %', 'Level 4 #', 'Level 4 %', 'Level 3+4 #', 'Level 3+4 %'],\n",
       "      dtype='object')"
      ]
     },
     "execution_count": 18,
     "metadata": {},
     "output_type": "execute_result"
    }
   ],
   "source": [
    "math.columns"
   ]
  },
  {
   "cell_type": "code",
   "execution_count": 19,
   "metadata": {
    "collapsed": true
   },
   "outputs": [],
   "source": [
    "# 转换数据格式\n",
    "math = obj_to_num(math, math.columns[5:])"
   ]
  },
  {
   "cell_type": "code",
   "execution_count": 20,
   "metadata": {
    "collapsed": false
   },
   "outputs": [
    {
     "name": "stdout",
     "output_type": "stream",
     "text": [
      "<class 'pandas.core.frame.DataFrame'>\n",
      "RangeIndex: 28478 entries, 0 to 28477\n",
      "Data columns (total 16 columns):\n",
      "DBN                 28478 non-null object\n",
      "Grade               28478 non-null object\n",
      "Year                28478 non-null int64\n",
      "Category            28478 non-null object\n",
      "Number Tested       28478 non-null int64\n",
      "Mean Scale Score    22731 non-null float64\n",
      "Level 1 #           28057 non-null float64\n",
      "Level 1 %           28057 non-null float64\n",
      "Level 2 #           28057 non-null float64\n",
      "Level 2 %           28057 non-null float64\n",
      "Level 3 #           28057 non-null float64\n",
      "Level 3 %           28057 non-null float64\n",
      "Level 4 #           28057 non-null float64\n",
      "Level 4 %           28057 non-null float64\n",
      "Level 3+4 #         28057 non-null float64\n",
      "Level 3+4 %         28057 non-null float64\n",
      "dtypes: float64(11), int64(2), object(3)\n",
      "memory usage: 3.5+ MB\n"
     ]
    }
   ],
   "source": [
    "math.info()"
   ]
  },
  {
   "cell_type": "code",
   "execution_count": 21,
   "metadata": {
    "collapsed": false
   },
   "outputs": [
    {
     "data": {
      "text/html": [
       "<div>\n",
       "<table border=\"1\" class=\"dataframe\">\n",
       "  <thead>\n",
       "    <tr style=\"text-align: right;\">\n",
       "      <th></th>\n",
       "      <th>DBN</th>\n",
       "      <th>Grade</th>\n",
       "      <th>Year</th>\n",
       "      <th>Category</th>\n",
       "      <th>Number Tested</th>\n",
       "      <th>Mean Scale Score</th>\n",
       "      <th>Level 1 #</th>\n",
       "      <th>Level 1 %</th>\n",
       "      <th>Level 2 #</th>\n",
       "      <th>Level 2 %</th>\n",
       "      <th>Level 3 #</th>\n",
       "      <th>Level 3 %</th>\n",
       "      <th>Level 4 #</th>\n",
       "      <th>Level 4 %</th>\n",
       "      <th>Level 3+4 #</th>\n",
       "      <th>Level 3+4 %</th>\n",
       "    </tr>\n",
       "  </thead>\n",
       "  <tbody>\n",
       "    <tr>\n",
       "      <th>0</th>\n",
       "      <td>01M015</td>\n",
       "      <td>3</td>\n",
       "      <td>2006</td>\n",
       "      <td>All Students</td>\n",
       "      <td>39</td>\n",
       "      <td>667.0</td>\n",
       "      <td>2.0</td>\n",
       "      <td>5.1</td>\n",
       "      <td>11.0</td>\n",
       "      <td>28.2</td>\n",
       "      <td>20.0</td>\n",
       "      <td>51.3</td>\n",
       "      <td>6.0</td>\n",
       "      <td>15.4</td>\n",
       "      <td>26.0</td>\n",
       "      <td>66.7</td>\n",
       "    </tr>\n",
       "    <tr>\n",
       "      <th>1</th>\n",
       "      <td>01M015</td>\n",
       "      <td>3</td>\n",
       "      <td>2007</td>\n",
       "      <td>All Students</td>\n",
       "      <td>31</td>\n",
       "      <td>672.0</td>\n",
       "      <td>2.0</td>\n",
       "      <td>6.5</td>\n",
       "      <td>3.0</td>\n",
       "      <td>9.7</td>\n",
       "      <td>22.0</td>\n",
       "      <td>71.0</td>\n",
       "      <td>4.0</td>\n",
       "      <td>12.9</td>\n",
       "      <td>26.0</td>\n",
       "      <td>83.9</td>\n",
       "    </tr>\n",
       "    <tr>\n",
       "      <th>2</th>\n",
       "      <td>01M015</td>\n",
       "      <td>3</td>\n",
       "      <td>2008</td>\n",
       "      <td>All Students</td>\n",
       "      <td>37</td>\n",
       "      <td>668.0</td>\n",
       "      <td>0.0</td>\n",
       "      <td>0.0</td>\n",
       "      <td>6.0</td>\n",
       "      <td>16.2</td>\n",
       "      <td>29.0</td>\n",
       "      <td>78.4</td>\n",
       "      <td>2.0</td>\n",
       "      <td>5.4</td>\n",
       "      <td>31.0</td>\n",
       "      <td>83.8</td>\n",
       "    </tr>\n",
       "    <tr>\n",
       "      <th>3</th>\n",
       "      <td>01M015</td>\n",
       "      <td>3</td>\n",
       "      <td>2009</td>\n",
       "      <td>All Students</td>\n",
       "      <td>33</td>\n",
       "      <td>668.0</td>\n",
       "      <td>0.0</td>\n",
       "      <td>0.0</td>\n",
       "      <td>4.0</td>\n",
       "      <td>12.1</td>\n",
       "      <td>28.0</td>\n",
       "      <td>84.8</td>\n",
       "      <td>1.0</td>\n",
       "      <td>3.0</td>\n",
       "      <td>29.0</td>\n",
       "      <td>87.9</td>\n",
       "    </tr>\n",
       "    <tr>\n",
       "      <th>4</th>\n",
       "      <td>01M015</td>\n",
       "      <td>3</td>\n",
       "      <td>2010</td>\n",
       "      <td>All Students</td>\n",
       "      <td>26</td>\n",
       "      <td>677.0</td>\n",
       "      <td>6.0</td>\n",
       "      <td>23.1</td>\n",
       "      <td>12.0</td>\n",
       "      <td>46.2</td>\n",
       "      <td>6.0</td>\n",
       "      <td>23.1</td>\n",
       "      <td>2.0</td>\n",
       "      <td>7.7</td>\n",
       "      <td>8.0</td>\n",
       "      <td>30.8</td>\n",
       "    </tr>\n",
       "  </tbody>\n",
       "</table>\n",
       "</div>"
      ],
      "text/plain": [
       "      DBN Grade  Year      Category  Number Tested  Mean Scale Score  \\\n",
       "0  01M015     3  2006  All Students             39             667.0   \n",
       "1  01M015     3  2007  All Students             31             672.0   \n",
       "2  01M015     3  2008  All Students             37             668.0   \n",
       "3  01M015     3  2009  All Students             33             668.0   \n",
       "4  01M015     3  2010  All Students             26             677.0   \n",
       "\n",
       "   Level 1 #  Level 1 %  Level 2 #  Level 2 %  Level 3 #  Level 3 %  \\\n",
       "0        2.0        5.1       11.0       28.2       20.0       51.3   \n",
       "1        2.0        6.5        3.0        9.7       22.0       71.0   \n",
       "2        0.0        0.0        6.0       16.2       29.0       78.4   \n",
       "3        0.0        0.0        4.0       12.1       28.0       84.8   \n",
       "4        6.0       23.1       12.0       46.2        6.0       23.1   \n",
       "\n",
       "   Level 4 #  Level 4 %  Level 3+4 #  Level 3+4 %  \n",
       "0        6.0       15.4         26.0         66.7  \n",
       "1        4.0       12.9         26.0         83.9  \n",
       "2        2.0        5.4         31.0         83.8  \n",
       "3        1.0        3.0         29.0         87.9  \n",
       "4        2.0        7.7          8.0         30.8  "
      ]
     },
     "execution_count": 21,
     "metadata": {},
     "output_type": "execute_result"
    }
   ],
   "source": [
    "math.head()"
   ]
  },
  {
   "cell_type": "code",
   "execution_count": 22,
   "metadata": {
    "collapsed": false,
    "scrolled": true
   },
   "outputs": [],
   "source": [
    "math = math.groupby('DBN').mean().reset_index()"
   ]
  },
  {
   "cell_type": "code",
   "execution_count": 23,
   "metadata": {
    "collapsed": false,
    "scrolled": true
   },
   "outputs": [],
   "source": [
    "math = math.drop('Year', axis=1)"
   ]
  },
  {
   "cell_type": "code",
   "execution_count": 24,
   "metadata": {
    "collapsed": false
   },
   "outputs": [
    {
     "data": {
      "text/html": [
       "<div>\n",
       "<table border=\"1\" class=\"dataframe\">\n",
       "  <thead>\n",
       "    <tr style=\"text-align: right;\">\n",
       "      <th></th>\n",
       "      <th>DBN</th>\n",
       "      <th>Number Tested</th>\n",
       "      <th>Mean Scale Score</th>\n",
       "      <th>Level 1 #</th>\n",
       "      <th>Level 1 %</th>\n",
       "      <th>Level 2 #</th>\n",
       "      <th>Level 2 %</th>\n",
       "      <th>Level 3 #</th>\n",
       "      <th>Level 3 %</th>\n",
       "      <th>Level 4 #</th>\n",
       "      <th>Level 4 %</th>\n",
       "      <th>Level 3+4 #</th>\n",
       "      <th>Level 3+4 %</th>\n",
       "    </tr>\n",
       "  </thead>\n",
       "  <tbody>\n",
       "    <tr>\n",
       "      <th>0</th>\n",
       "      <td>01M015</td>\n",
       "      <td>54.000000</td>\n",
       "      <td>658.850000</td>\n",
       "      <td>8.880000</td>\n",
       "      <td>16.400000</td>\n",
       "      <td>18.640000</td>\n",
       "      <td>34.74400</td>\n",
       "      <td>23.200000</td>\n",
       "      <td>42.90800</td>\n",
       "      <td>3.28000</td>\n",
       "      <td>5.940000</td>\n",
       "      <td>26.480000</td>\n",
       "      <td>48.860000</td>\n",
       "    </tr>\n",
       "    <tr>\n",
       "      <th>1</th>\n",
       "      <td>01M019</td>\n",
       "      <td>69.846154</td>\n",
       "      <td>675.100000</td>\n",
       "      <td>5.360000</td>\n",
       "      <td>6.740000</td>\n",
       "      <td>16.520000</td>\n",
       "      <td>23.67200</td>\n",
       "      <td>37.200000</td>\n",
       "      <td>50.73600</td>\n",
       "      <td>13.52000</td>\n",
       "      <td>18.848000</td>\n",
       "      <td>50.720000</td>\n",
       "      <td>69.584000</td>\n",
       "    </tr>\n",
       "    <tr>\n",
       "      <th>2</th>\n",
       "      <td>01M020</td>\n",
       "      <td>144.640000</td>\n",
       "      <td>679.100000</td>\n",
       "      <td>6.720000</td>\n",
       "      <td>4.636000</td>\n",
       "      <td>26.800000</td>\n",
       "      <td>18.72400</td>\n",
       "      <td>83.360000</td>\n",
       "      <td>57.24000</td>\n",
       "      <td>27.76000</td>\n",
       "      <td>19.404000</td>\n",
       "      <td>111.120000</td>\n",
       "      <td>76.640000</td>\n",
       "    </tr>\n",
       "    <tr>\n",
       "      <th>3</th>\n",
       "      <td>01M034</td>\n",
       "      <td>80.047619</td>\n",
       "      <td>662.162162</td>\n",
       "      <td>10.047619</td>\n",
       "      <td>11.595238</td>\n",
       "      <td>26.857143</td>\n",
       "      <td>31.97619</td>\n",
       "      <td>35.619048</td>\n",
       "      <td>45.52619</td>\n",
       "      <td>7.52381</td>\n",
       "      <td>10.897619</td>\n",
       "      <td>43.142857</td>\n",
       "      <td>56.428571</td>\n",
       "    </tr>\n",
       "    <tr>\n",
       "      <th>4</th>\n",
       "      <td>01M063</td>\n",
       "      <td>46.080000</td>\n",
       "      <td>675.050000</td>\n",
       "      <td>2.880000</td>\n",
       "      <td>6.340000</td>\n",
       "      <td>9.600000</td>\n",
       "      <td>22.02400</td>\n",
       "      <td>25.920000</td>\n",
       "      <td>54.75200</td>\n",
       "      <td>7.68000</td>\n",
       "      <td>16.880000</td>\n",
       "      <td>33.600000</td>\n",
       "      <td>71.632000</td>\n",
       "    </tr>\n",
       "  </tbody>\n",
       "</table>\n",
       "</div>"
      ],
      "text/plain": [
       "      DBN  Number Tested  Mean Scale Score  Level 1 #  Level 1 %  Level 2 #  \\\n",
       "0  01M015      54.000000        658.850000   8.880000  16.400000  18.640000   \n",
       "1  01M019      69.846154        675.100000   5.360000   6.740000  16.520000   \n",
       "2  01M020     144.640000        679.100000   6.720000   4.636000  26.800000   \n",
       "3  01M034      80.047619        662.162162  10.047619  11.595238  26.857143   \n",
       "4  01M063      46.080000        675.050000   2.880000   6.340000   9.600000   \n",
       "\n",
       "   Level 2 %  Level 3 #  Level 3 %  Level 4 #  Level 4 %  Level 3+4 #  \\\n",
       "0   34.74400  23.200000   42.90800    3.28000   5.940000    26.480000   \n",
       "1   23.67200  37.200000   50.73600   13.52000  18.848000    50.720000   \n",
       "2   18.72400  83.360000   57.24000   27.76000  19.404000   111.120000   \n",
       "3   31.97619  35.619048   45.52619    7.52381  10.897619    43.142857   \n",
       "4   22.02400  25.920000   54.75200    7.68000  16.880000    33.600000   \n",
       "\n",
       "   Level 3+4 %  \n",
       "0    48.860000  \n",
       "1    69.584000  \n",
       "2    76.640000  \n",
       "3    56.428571  \n",
       "4    71.632000  "
      ]
     },
     "execution_count": 24,
     "metadata": {},
     "output_type": "execute_result"
    }
   ],
   "source": [
    "math.head()"
   ]
  },
  {
   "cell_type": "code",
   "execution_count": 25,
   "metadata": {
    "collapsed": false
   },
   "outputs": [
    {
     "data": {
      "text/plain": [
       "0"
      ]
     },
     "execution_count": 25,
     "metadata": {},
     "output_type": "execute_result"
    }
   ],
   "source": [
    "len(math.DBN) - math.DBN.nunique()"
   ]
  },
  {
   "cell_type": "code",
   "execution_count": 26,
   "metadata": {
    "collapsed": false
   },
   "outputs": [],
   "source": [
    "data['math_test_results'] = math"
   ]
  },
  {
   "cell_type": "markdown",
   "metadata": {},
   "source": [
    "### 2.2 clean 'graduation' dataset"
   ]
  },
  {
   "cell_type": "code",
   "execution_count": 27,
   "metadata": {
    "collapsed": false
   },
   "outputs": [
    {
     "data": {
      "text/html": [
       "<div>\n",
       "<table border=\"1\" class=\"dataframe\">\n",
       "  <thead>\n",
       "    <tr style=\"text-align: right;\">\n",
       "      <th></th>\n",
       "      <th>Demographic</th>\n",
       "      <th>DBN</th>\n",
       "      <th>School Name</th>\n",
       "      <th>Cohort</th>\n",
       "      <th>Total Cohort</th>\n",
       "      <th>Total Grads - n</th>\n",
       "      <th>Total Grads - % of cohort</th>\n",
       "      <th>Total Regents - n</th>\n",
       "      <th>Total Regents - % of cohort</th>\n",
       "      <th>Total Regents - % of grads</th>\n",
       "      <th>...</th>\n",
       "      <th>Regents w/o Advanced - n</th>\n",
       "      <th>Regents w/o Advanced - % of cohort</th>\n",
       "      <th>Regents w/o Advanced - % of grads</th>\n",
       "      <th>Local - n</th>\n",
       "      <th>Local - % of cohort</th>\n",
       "      <th>Local - % of grads</th>\n",
       "      <th>Still Enrolled - n</th>\n",
       "      <th>Still Enrolled - % of cohort</th>\n",
       "      <th>Dropped Out - n</th>\n",
       "      <th>Dropped Out - % of cohort</th>\n",
       "    </tr>\n",
       "  </thead>\n",
       "  <tbody>\n",
       "    <tr>\n",
       "      <th>0</th>\n",
       "      <td>Total Cohort</td>\n",
       "      <td>01M292</td>\n",
       "      <td>HENRY STREET SCHOOL FOR INTERNATIONAL</td>\n",
       "      <td>2003</td>\n",
       "      <td>5</td>\n",
       "      <td>s</td>\n",
       "      <td>s</td>\n",
       "      <td>s</td>\n",
       "      <td>s</td>\n",
       "      <td>s</td>\n",
       "      <td>...</td>\n",
       "      <td>s</td>\n",
       "      <td>s</td>\n",
       "      <td>s</td>\n",
       "      <td>s</td>\n",
       "      <td>s</td>\n",
       "      <td>s</td>\n",
       "      <td>s</td>\n",
       "      <td>s</td>\n",
       "      <td>s</td>\n",
       "      <td>s</td>\n",
       "    </tr>\n",
       "    <tr>\n",
       "      <th>1</th>\n",
       "      <td>Total Cohort</td>\n",
       "      <td>01M292</td>\n",
       "      <td>HENRY STREET SCHOOL FOR INTERNATIONAL</td>\n",
       "      <td>2004</td>\n",
       "      <td>55</td>\n",
       "      <td>37</td>\n",
       "      <td>67.3%</td>\n",
       "      <td>17</td>\n",
       "      <td>30.9%</td>\n",
       "      <td>45.9%</td>\n",
       "      <td>...</td>\n",
       "      <td>17</td>\n",
       "      <td>30.9%</td>\n",
       "      <td>45.9%</td>\n",
       "      <td>20</td>\n",
       "      <td>36.4%</td>\n",
       "      <td>54.1%</td>\n",
       "      <td>15</td>\n",
       "      <td>27.3%</td>\n",
       "      <td>3</td>\n",
       "      <td>5.5%</td>\n",
       "    </tr>\n",
       "    <tr>\n",
       "      <th>2</th>\n",
       "      <td>Total Cohort</td>\n",
       "      <td>01M292</td>\n",
       "      <td>HENRY STREET SCHOOL FOR INTERNATIONAL</td>\n",
       "      <td>2005</td>\n",
       "      <td>64</td>\n",
       "      <td>43</td>\n",
       "      <td>67.2%</td>\n",
       "      <td>27</td>\n",
       "      <td>42.2%</td>\n",
       "      <td>62.8%</td>\n",
       "      <td>...</td>\n",
       "      <td>27</td>\n",
       "      <td>42.2%</td>\n",
       "      <td>62.8%</td>\n",
       "      <td>16</td>\n",
       "      <td>25%</td>\n",
       "      <td>37.200000000000003%</td>\n",
       "      <td>9</td>\n",
       "      <td>14.1%</td>\n",
       "      <td>9</td>\n",
       "      <td>14.1%</td>\n",
       "    </tr>\n",
       "    <tr>\n",
       "      <th>3</th>\n",
       "      <td>Total Cohort</td>\n",
       "      <td>01M292</td>\n",
       "      <td>HENRY STREET SCHOOL FOR INTERNATIONAL</td>\n",
       "      <td>2006</td>\n",
       "      <td>78</td>\n",
       "      <td>43</td>\n",
       "      <td>55.1%</td>\n",
       "      <td>36</td>\n",
       "      <td>46.2%</td>\n",
       "      <td>83.7%</td>\n",
       "      <td>...</td>\n",
       "      <td>36</td>\n",
       "      <td>46.2%</td>\n",
       "      <td>83.7%</td>\n",
       "      <td>7</td>\n",
       "      <td>9%</td>\n",
       "      <td>16.3%</td>\n",
       "      <td>16</td>\n",
       "      <td>20.5%</td>\n",
       "      <td>11</td>\n",
       "      <td>14.1%</td>\n",
       "    </tr>\n",
       "    <tr>\n",
       "      <th>4</th>\n",
       "      <td>Total Cohort</td>\n",
       "      <td>01M292</td>\n",
       "      <td>HENRY STREET SCHOOL FOR INTERNATIONAL</td>\n",
       "      <td>2006 Aug</td>\n",
       "      <td>78</td>\n",
       "      <td>44</td>\n",
       "      <td>56.4%</td>\n",
       "      <td>37</td>\n",
       "      <td>47.4%</td>\n",
       "      <td>84.1%</td>\n",
       "      <td>...</td>\n",
       "      <td>37</td>\n",
       "      <td>47.4%</td>\n",
       "      <td>84.1%</td>\n",
       "      <td>7</td>\n",
       "      <td>9%</td>\n",
       "      <td>15.9%</td>\n",
       "      <td>15</td>\n",
       "      <td>19.2%</td>\n",
       "      <td>11</td>\n",
       "      <td>14.1%</td>\n",
       "    </tr>\n",
       "  </tbody>\n",
       "</table>\n",
       "<p>5 rows × 23 columns</p>\n",
       "</div>"
      ],
      "text/plain": [
       "    Demographic     DBN                            School Name    Cohort  \\\n",
       "0  Total Cohort  01M292  HENRY STREET SCHOOL FOR INTERNATIONAL      2003   \n",
       "1  Total Cohort  01M292  HENRY STREET SCHOOL FOR INTERNATIONAL      2004   \n",
       "2  Total Cohort  01M292  HENRY STREET SCHOOL FOR INTERNATIONAL      2005   \n",
       "3  Total Cohort  01M292  HENRY STREET SCHOOL FOR INTERNATIONAL      2006   \n",
       "4  Total Cohort  01M292  HENRY STREET SCHOOL FOR INTERNATIONAL  2006 Aug   \n",
       "\n",
       "   Total Cohort Total Grads - n Total Grads - % of cohort Total Regents - n  \\\n",
       "0             5               s                         s                 s   \n",
       "1            55              37                     67.3%                17   \n",
       "2            64              43                     67.2%                27   \n",
       "3            78              43                     55.1%                36   \n",
       "4            78              44                     56.4%                37   \n",
       "\n",
       "  Total Regents - % of cohort Total Regents - % of grads  \\\n",
       "0                           s                          s   \n",
       "1                       30.9%                      45.9%   \n",
       "2                       42.2%                      62.8%   \n",
       "3                       46.2%                      83.7%   \n",
       "4                       47.4%                      84.1%   \n",
       "\n",
       "             ...            Regents w/o Advanced - n  \\\n",
       "0            ...                                   s   \n",
       "1            ...                                  17   \n",
       "2            ...                                  27   \n",
       "3            ...                                  36   \n",
       "4            ...                                  37   \n",
       "\n",
       "  Regents w/o Advanced - % of cohort Regents w/o Advanced - % of grads  \\\n",
       "0                                  s                                 s   \n",
       "1                              30.9%                             45.9%   \n",
       "2                              42.2%                             62.8%   \n",
       "3                              46.2%                             83.7%   \n",
       "4                              47.4%                             84.1%   \n",
       "\n",
       "  Local - n Local - % of cohort   Local - % of grads Still Enrolled - n  \\\n",
       "0         s                   s                    s                  s   \n",
       "1        20               36.4%                54.1%                 15   \n",
       "2        16                 25%  37.200000000000003%                  9   \n",
       "3         7                  9%                16.3%                 16   \n",
       "4         7                  9%                15.9%                 15   \n",
       "\n",
       "  Still Enrolled - % of cohort Dropped Out - n Dropped Out - % of cohort  \n",
       "0                            s               s                         s  \n",
       "1                        27.3%               3                      5.5%  \n",
       "2                        14.1%               9                     14.1%  \n",
       "3                        20.5%              11                     14.1%  \n",
       "4                        19.2%              11                     14.1%  \n",
       "\n",
       "[5 rows x 23 columns]"
      ]
     },
     "execution_count": 27,
     "metadata": {},
     "output_type": "execute_result"
    }
   ],
   "source": [
    "grad = data['graduation']\n",
    "grad.head()"
   ]
  },
  {
   "cell_type": "markdown",
   "metadata": {
    "collapsed": false
   },
   "source": [
    "'s'代表的应该是missing value。还好pd.to_numeric可以设置errors='coerce'，不用重新读一边数据。"
   ]
  },
  {
   "cell_type": "code",
   "execution_count": 28,
   "metadata": {
    "collapsed": false
   },
   "outputs": [
    {
     "name": "stdout",
     "output_type": "stream",
     "text": [
      "<class 'pandas.core.frame.DataFrame'>\n",
      "RangeIndex: 25096 entries, 0 to 25095\n",
      "Data columns (total 23 columns):\n",
      "Demographic                           25096 non-null object\n",
      "DBN                                   25096 non-null object\n",
      "School Name                           25096 non-null object\n",
      "Cohort                                25096 non-null object\n",
      "Total Cohort                          25096 non-null int64\n",
      "Total Grads - n                       25096 non-null object\n",
      "Total Grads - % of cohort             25096 non-null object\n",
      "Total Regents - n                     25096 non-null object\n",
      "Total Regents - % of cohort           25096 non-null object\n",
      "Total Regents - % of grads            25051 non-null object\n",
      "Advanced Regents - n                  25096 non-null object\n",
      "Advanced Regents - % of cohort        25096 non-null object\n",
      "Advanced Regents - % of grads         25051 non-null object\n",
      "Regents w/o Advanced - n              25096 non-null object\n",
      "Regents w/o Advanced - % of cohort    25096 non-null object\n",
      "Regents w/o Advanced - % of grads     25051 non-null object\n",
      "Local - n                             25096 non-null object\n",
      "Local - % of cohort                   25096 non-null object\n",
      "Local - % of grads                    25051 non-null object\n",
      "Still Enrolled - n                    25096 non-null object\n",
      "Still Enrolled - % of cohort          25096 non-null object\n",
      "Dropped Out - n                       25096 non-null object\n",
      "Dropped Out - % of cohort             25096 non-null object\n",
      "dtypes: int64(1), object(22)\n",
      "memory usage: 4.4+ MB\n"
     ]
    }
   ],
   "source": [
    "grad.info()"
   ]
  },
  {
   "cell_type": "code",
   "execution_count": 29,
   "metadata": {
    "collapsed": false
   },
   "outputs": [
    {
     "name": "stdout",
     "output_type": "stream",
     "text": [
      "<class 'pandas.core.frame.DataFrame'>\n",
      "RangeIndex: 25096 entries, 0 to 25095\n",
      "Data columns (total 23 columns):\n",
      "Demographic                           25096 non-null object\n",
      "DBN                                   25096 non-null object\n",
      "School Name                           25096 non-null object\n",
      "Cohort                                25096 non-null object\n",
      "Total Cohort                          25096 non-null int64\n",
      "Total Grads - n                       16704 non-null float64\n",
      "Total Grads - % of cohort             16704 non-null float64\n",
      "Total Regents - n                     16704 non-null float64\n",
      "Total Regents - % of cohort           16704 non-null float64\n",
      "Total Regents - % of grads            16652 non-null float64\n",
      "Advanced Regents - n                  16704 non-null float64\n",
      "Advanced Regents - % of cohort        16704 non-null float64\n",
      "Advanced Regents - % of grads         16652 non-null float64\n",
      "Regents w/o Advanced - n              16704 non-null float64\n",
      "Regents w/o Advanced - % of cohort    16704 non-null float64\n",
      "Regents w/o Advanced - % of grads     16652 non-null float64\n",
      "Local - n                             16704 non-null float64\n",
      "Local - % of cohort                   16704 non-null float64\n",
      "Local - % of grads                    16652 non-null float64\n",
      "Still Enrolled - n                    16704 non-null float64\n",
      "Still Enrolled - % of cohort          16704 non-null float64\n",
      "Dropped Out - n                       16704 non-null float64\n",
      "Dropped Out - % of cohort             16704 non-null float64\n",
      "dtypes: float64(18), int64(1), object(4)\n",
      "memory usage: 4.4+ MB\n"
     ]
    }
   ],
   "source": [
    "# 转换格式\n",
    "grad = obj_to_num(grad, grad.columns[5:])\n",
    "grad.info()"
   ]
  },
  {
   "cell_type": "code",
   "execution_count": 30,
   "metadata": {
    "collapsed": false
   },
   "outputs": [
    {
     "data": {
      "text/html": [
       "<div>\n",
       "<table border=\"1\" class=\"dataframe\">\n",
       "  <thead>\n",
       "    <tr style=\"text-align: right;\">\n",
       "      <th></th>\n",
       "      <th>Demographic</th>\n",
       "      <th>DBN</th>\n",
       "      <th>School Name</th>\n",
       "      <th>Cohort</th>\n",
       "      <th>Total Cohort</th>\n",
       "      <th>Total Grads - n</th>\n",
       "      <th>Total Grads - % of cohort</th>\n",
       "      <th>Total Regents - n</th>\n",
       "      <th>Total Regents - % of cohort</th>\n",
       "      <th>Total Regents - % of grads</th>\n",
       "      <th>...</th>\n",
       "      <th>Regents w/o Advanced - n</th>\n",
       "      <th>Regents w/o Advanced - % of cohort</th>\n",
       "      <th>Regents w/o Advanced - % of grads</th>\n",
       "      <th>Local - n</th>\n",
       "      <th>Local - % of cohort</th>\n",
       "      <th>Local - % of grads</th>\n",
       "      <th>Still Enrolled - n</th>\n",
       "      <th>Still Enrolled - % of cohort</th>\n",
       "      <th>Dropped Out - n</th>\n",
       "      <th>Dropped Out - % of cohort</th>\n",
       "    </tr>\n",
       "  </thead>\n",
       "  <tbody>\n",
       "    <tr>\n",
       "      <th>0</th>\n",
       "      <td>Total Cohort</td>\n",
       "      <td>01M292</td>\n",
       "      <td>HENRY STREET SCHOOL FOR INTERNATIONAL</td>\n",
       "      <td>2003</td>\n",
       "      <td>5</td>\n",
       "      <td>NaN</td>\n",
       "      <td>NaN</td>\n",
       "      <td>NaN</td>\n",
       "      <td>NaN</td>\n",
       "      <td>NaN</td>\n",
       "      <td>...</td>\n",
       "      <td>NaN</td>\n",
       "      <td>NaN</td>\n",
       "      <td>NaN</td>\n",
       "      <td>NaN</td>\n",
       "      <td>NaN</td>\n",
       "      <td>NaN</td>\n",
       "      <td>NaN</td>\n",
       "      <td>NaN</td>\n",
       "      <td>NaN</td>\n",
       "      <td>NaN</td>\n",
       "    </tr>\n",
       "    <tr>\n",
       "      <th>1</th>\n",
       "      <td>Total Cohort</td>\n",
       "      <td>01M292</td>\n",
       "      <td>HENRY STREET SCHOOL FOR INTERNATIONAL</td>\n",
       "      <td>2004</td>\n",
       "      <td>55</td>\n",
       "      <td>37.0</td>\n",
       "      <td>67.3</td>\n",
       "      <td>17.0</td>\n",
       "      <td>30.9</td>\n",
       "      <td>45.9</td>\n",
       "      <td>...</td>\n",
       "      <td>17.0</td>\n",
       "      <td>30.9</td>\n",
       "      <td>45.9</td>\n",
       "      <td>20.0</td>\n",
       "      <td>36.4</td>\n",
       "      <td>54.1</td>\n",
       "      <td>15.0</td>\n",
       "      <td>27.3</td>\n",
       "      <td>3.0</td>\n",
       "      <td>5.5</td>\n",
       "    </tr>\n",
       "    <tr>\n",
       "      <th>2</th>\n",
       "      <td>Total Cohort</td>\n",
       "      <td>01M292</td>\n",
       "      <td>HENRY STREET SCHOOL FOR INTERNATIONAL</td>\n",
       "      <td>2005</td>\n",
       "      <td>64</td>\n",
       "      <td>43.0</td>\n",
       "      <td>67.2</td>\n",
       "      <td>27.0</td>\n",
       "      <td>42.2</td>\n",
       "      <td>62.8</td>\n",
       "      <td>...</td>\n",
       "      <td>27.0</td>\n",
       "      <td>42.2</td>\n",
       "      <td>62.8</td>\n",
       "      <td>16.0</td>\n",
       "      <td>25.0</td>\n",
       "      <td>37.2</td>\n",
       "      <td>9.0</td>\n",
       "      <td>14.1</td>\n",
       "      <td>9.0</td>\n",
       "      <td>14.1</td>\n",
       "    </tr>\n",
       "    <tr>\n",
       "      <th>3</th>\n",
       "      <td>Total Cohort</td>\n",
       "      <td>01M292</td>\n",
       "      <td>HENRY STREET SCHOOL FOR INTERNATIONAL</td>\n",
       "      <td>2006</td>\n",
       "      <td>78</td>\n",
       "      <td>43.0</td>\n",
       "      <td>55.1</td>\n",
       "      <td>36.0</td>\n",
       "      <td>46.2</td>\n",
       "      <td>83.7</td>\n",
       "      <td>...</td>\n",
       "      <td>36.0</td>\n",
       "      <td>46.2</td>\n",
       "      <td>83.7</td>\n",
       "      <td>7.0</td>\n",
       "      <td>9.0</td>\n",
       "      <td>16.3</td>\n",
       "      <td>16.0</td>\n",
       "      <td>20.5</td>\n",
       "      <td>11.0</td>\n",
       "      <td>14.1</td>\n",
       "    </tr>\n",
       "    <tr>\n",
       "      <th>4</th>\n",
       "      <td>Total Cohort</td>\n",
       "      <td>01M292</td>\n",
       "      <td>HENRY STREET SCHOOL FOR INTERNATIONAL</td>\n",
       "      <td>2006 Aug</td>\n",
       "      <td>78</td>\n",
       "      <td>44.0</td>\n",
       "      <td>56.4</td>\n",
       "      <td>37.0</td>\n",
       "      <td>47.4</td>\n",
       "      <td>84.1</td>\n",
       "      <td>...</td>\n",
       "      <td>37.0</td>\n",
       "      <td>47.4</td>\n",
       "      <td>84.1</td>\n",
       "      <td>7.0</td>\n",
       "      <td>9.0</td>\n",
       "      <td>15.9</td>\n",
       "      <td>15.0</td>\n",
       "      <td>19.2</td>\n",
       "      <td>11.0</td>\n",
       "      <td>14.1</td>\n",
       "    </tr>\n",
       "  </tbody>\n",
       "</table>\n",
       "<p>5 rows × 23 columns</p>\n",
       "</div>"
      ],
      "text/plain": [
       "    Demographic     DBN                            School Name    Cohort  \\\n",
       "0  Total Cohort  01M292  HENRY STREET SCHOOL FOR INTERNATIONAL      2003   \n",
       "1  Total Cohort  01M292  HENRY STREET SCHOOL FOR INTERNATIONAL      2004   \n",
       "2  Total Cohort  01M292  HENRY STREET SCHOOL FOR INTERNATIONAL      2005   \n",
       "3  Total Cohort  01M292  HENRY STREET SCHOOL FOR INTERNATIONAL      2006   \n",
       "4  Total Cohort  01M292  HENRY STREET SCHOOL FOR INTERNATIONAL  2006 Aug   \n",
       "\n",
       "   Total Cohort  Total Grads - n  Total Grads - % of cohort  \\\n",
       "0             5              NaN                        NaN   \n",
       "1            55             37.0                       67.3   \n",
       "2            64             43.0                       67.2   \n",
       "3            78             43.0                       55.1   \n",
       "4            78             44.0                       56.4   \n",
       "\n",
       "   Total Regents - n  Total Regents - % of cohort  Total Regents - % of grads  \\\n",
       "0                NaN                          NaN                         NaN   \n",
       "1               17.0                         30.9                        45.9   \n",
       "2               27.0                         42.2                        62.8   \n",
       "3               36.0                         46.2                        83.7   \n",
       "4               37.0                         47.4                        84.1   \n",
       "\n",
       "             ...              Regents w/o Advanced - n  \\\n",
       "0            ...                                   NaN   \n",
       "1            ...                                  17.0   \n",
       "2            ...                                  27.0   \n",
       "3            ...                                  36.0   \n",
       "4            ...                                  37.0   \n",
       "\n",
       "   Regents w/o Advanced - % of cohort  Regents w/o Advanced - % of grads  \\\n",
       "0                                 NaN                                NaN   \n",
       "1                                30.9                               45.9   \n",
       "2                                42.2                               62.8   \n",
       "3                                46.2                               83.7   \n",
       "4                                47.4                               84.1   \n",
       "\n",
       "   Local - n  Local - % of cohort  Local - % of grads  Still Enrolled - n  \\\n",
       "0        NaN                  NaN                 NaN                 NaN   \n",
       "1       20.0                 36.4                54.1                15.0   \n",
       "2       16.0                 25.0                37.2                 9.0   \n",
       "3        7.0                  9.0                16.3                16.0   \n",
       "4        7.0                  9.0                15.9                15.0   \n",
       "\n",
       "   Still Enrolled - % of cohort  Dropped Out - n  Dropped Out - % of cohort  \n",
       "0                           NaN              NaN                        NaN  \n",
       "1                          27.3              3.0                        5.5  \n",
       "2                          14.1              9.0                       14.1  \n",
       "3                          20.5             11.0                       14.1  \n",
       "4                          19.2             11.0                       14.1  \n",
       "\n",
       "[5 rows x 23 columns]"
      ]
     },
     "execution_count": 30,
     "metadata": {},
     "output_type": "execute_result"
    }
   ],
   "source": [
    "grad.head()"
   ]
  },
  {
   "cell_type": "markdown",
   "metadata": {},
   "source": [
    "现在数据类型转换好了，思考下保留那些column，去掉哪些column；以及名字看起来有关联性的几栏之间是什么关系。"
   ]
  },
  {
   "cell_type": "code",
   "execution_count": 31,
   "metadata": {
    "collapsed": false
   },
   "outputs": [
    {
     "data": {
      "text/plain": [
       "2006 Aug    4131\n",
       "2006        4130\n",
       "2005        3963\n",
       "2004        3708\n",
       "2003        3432\n",
       "2002        3095\n",
       "2001        2637\n",
       "Name: Cohort, dtype: int64"
      ]
     },
     "execution_count": 31,
     "metadata": {},
     "output_type": "execute_result"
    }
   ],
   "source": [
    "grad.Cohort.value_counts()   #  太早年份的信息，还是去掉吧"
   ]
  },
  {
   "cell_type": "code",
   "execution_count": 32,
   "metadata": {
    "collapsed": true
   },
   "outputs": [],
   "source": [
    "mask = (grad.Cohort=='2001')|(grad.Cohort=='2002')|(grad.Cohort=='2003')|(grad.Cohort=='2004')\n",
    "\n",
    "grad = grad[~mask]"
   ]
  },
  {
   "cell_type": "code",
   "execution_count": 33,
   "metadata": {
    "collapsed": false
   },
   "outputs": [
    {
     "data": {
      "text/plain": [
       "Special Education Students     1217\n",
       "Total Cohort                   1200\n",
       "General Education Students     1197\n",
       "English Proficient Students    1190\n",
       "Female                         1172\n",
       "Black                          1171\n",
       "Male                           1170\n",
       "Hispanic                       1166\n",
       "English Language Learners       996\n",
       "Asian                           877\n",
       "White                           868\n",
       "Name: Demographic, dtype: int64"
      ]
     },
     "execution_count": 33,
     "metadata": {},
     "output_type": "execute_result"
    }
   ],
   "source": [
    "grad.Demographic.value_counts()    # 这个可以贡献什么信息？\n",
    "                                   # 如果同一个'DBN'在Demographic一栏有多个值，该咋合并？"
   ]
  },
  {
   "cell_type": "code",
   "execution_count": 34,
   "metadata": {
    "collapsed": false
   },
   "outputs": [
    {
     "data": {
      "text/plain": [
       "4261"
      ]
     },
     "execution_count": 34,
     "metadata": {},
     "output_type": "execute_result"
    }
   ],
   "source": [
    "len(grad[['Demographic', 'DBN', 'Cohort']].groupby(['Demographic', 'DBN']).count())"
   ]
  },
  {
   "cell_type": "code",
   "execution_count": 35,
   "metadata": {
    "collapsed": false
   },
   "outputs": [
    {
     "data": {
      "text/plain": [
       "413"
      ]
     },
     "execution_count": 35,
     "metadata": {},
     "output_type": "execute_result"
    }
   ],
   "source": [
    "grad.DBN.nunique()"
   ]
  },
  {
   "cell_type": "markdown",
   "metadata": {},
   "source": [
    "从上面得知同一个学校的确有多个Demographic的值，那么在这个表的aggregation里，Demographic会被drop掉啦，虽然它提供了一些可能有用的信息。  \n",
    "但是没关系，还有个表专门记学校的demographic信息呢（hs_directory）。"
   ]
  },
  {
   "cell_type": "markdown",
   "metadata": {},
   "source": [
    "还得思考下Total Rengents, Advanced Rengents, Rengents w/o Advanced, Local分别是什么意思。  \n",
    "\n",
    "Do some google search I know that there are three types of diploma: advanced rengents, rengents, and local. The former is better than the latter."
   ]
  },
  {
   "cell_type": "code",
   "execution_count": 36,
   "metadata": {
    "collapsed": false
   },
   "outputs": [
    {
     "data": {
      "text/html": [
       "<div>\n",
       "<table border=\"1\" class=\"dataframe\">\n",
       "  <thead>\n",
       "    <tr style=\"text-align: right;\">\n",
       "      <th></th>\n",
       "      <th>Demographic</th>\n",
       "      <th>DBN</th>\n",
       "      <th>School Name</th>\n",
       "      <th>Cohort</th>\n",
       "      <th>Total Cohort</th>\n",
       "      <th>Total Grads - n</th>\n",
       "      <th>Total Grads - % of cohort</th>\n",
       "      <th>Total Regents - n</th>\n",
       "      <th>Total Regents - % of cohort</th>\n",
       "      <th>Total Regents - % of grads</th>\n",
       "      <th>...</th>\n",
       "      <th>Regents w/o Advanced - n</th>\n",
       "      <th>Regents w/o Advanced - % of cohort</th>\n",
       "      <th>Regents w/o Advanced - % of grads</th>\n",
       "      <th>Local - n</th>\n",
       "      <th>Local - % of cohort</th>\n",
       "      <th>Local - % of grads</th>\n",
       "      <th>Still Enrolled - n</th>\n",
       "      <th>Still Enrolled - % of cohort</th>\n",
       "      <th>Dropped Out - n</th>\n",
       "      <th>Dropped Out - % of cohort</th>\n",
       "    </tr>\n",
       "  </thead>\n",
       "  <tbody>\n",
       "    <tr>\n",
       "      <th>2</th>\n",
       "      <td>Total Cohort</td>\n",
       "      <td>01M292</td>\n",
       "      <td>HENRY STREET SCHOOL FOR INTERNATIONAL</td>\n",
       "      <td>2005</td>\n",
       "      <td>64</td>\n",
       "      <td>43.0</td>\n",
       "      <td>67.2</td>\n",
       "      <td>27.0</td>\n",
       "      <td>42.2</td>\n",
       "      <td>62.8</td>\n",
       "      <td>...</td>\n",
       "      <td>27.0</td>\n",
       "      <td>42.2</td>\n",
       "      <td>62.8</td>\n",
       "      <td>16.0</td>\n",
       "      <td>25.0</td>\n",
       "      <td>37.2</td>\n",
       "      <td>9.0</td>\n",
       "      <td>14.1</td>\n",
       "      <td>9.0</td>\n",
       "      <td>14.1</td>\n",
       "    </tr>\n",
       "    <tr>\n",
       "      <th>3</th>\n",
       "      <td>Total Cohort</td>\n",
       "      <td>01M292</td>\n",
       "      <td>HENRY STREET SCHOOL FOR INTERNATIONAL</td>\n",
       "      <td>2006</td>\n",
       "      <td>78</td>\n",
       "      <td>43.0</td>\n",
       "      <td>55.1</td>\n",
       "      <td>36.0</td>\n",
       "      <td>46.2</td>\n",
       "      <td>83.7</td>\n",
       "      <td>...</td>\n",
       "      <td>36.0</td>\n",
       "      <td>46.2</td>\n",
       "      <td>83.7</td>\n",
       "      <td>7.0</td>\n",
       "      <td>9.0</td>\n",
       "      <td>16.3</td>\n",
       "      <td>16.0</td>\n",
       "      <td>20.5</td>\n",
       "      <td>11.0</td>\n",
       "      <td>14.1</td>\n",
       "    </tr>\n",
       "    <tr>\n",
       "      <th>4</th>\n",
       "      <td>Total Cohort</td>\n",
       "      <td>01M292</td>\n",
       "      <td>HENRY STREET SCHOOL FOR INTERNATIONAL</td>\n",
       "      <td>2006 Aug</td>\n",
       "      <td>78</td>\n",
       "      <td>44.0</td>\n",
       "      <td>56.4</td>\n",
       "      <td>37.0</td>\n",
       "      <td>47.4</td>\n",
       "      <td>84.1</td>\n",
       "      <td>...</td>\n",
       "      <td>37.0</td>\n",
       "      <td>47.4</td>\n",
       "      <td>84.1</td>\n",
       "      <td>7.0</td>\n",
       "      <td>9.0</td>\n",
       "      <td>15.9</td>\n",
       "      <td>15.0</td>\n",
       "      <td>19.2</td>\n",
       "      <td>11.0</td>\n",
       "      <td>14.1</td>\n",
       "    </tr>\n",
       "    <tr>\n",
       "      <th>9</th>\n",
       "      <td>Total Cohort</td>\n",
       "      <td>01M448</td>\n",
       "      <td>UNIVERSITY NEIGHBORHOOD HIGH SCHOOL</td>\n",
       "      <td>2005</td>\n",
       "      <td>121</td>\n",
       "      <td>64.0</td>\n",
       "      <td>52.9</td>\n",
       "      <td>35.0</td>\n",
       "      <td>28.9</td>\n",
       "      <td>54.7</td>\n",
       "      <td>...</td>\n",
       "      <td>31.0</td>\n",
       "      <td>25.6</td>\n",
       "      <td>48.4</td>\n",
       "      <td>29.0</td>\n",
       "      <td>24.0</td>\n",
       "      <td>45.3</td>\n",
       "      <td>41.0</td>\n",
       "      <td>33.9</td>\n",
       "      <td>11.0</td>\n",
       "      <td>9.1</td>\n",
       "    </tr>\n",
       "    <tr>\n",
       "      <th>10</th>\n",
       "      <td>Total Cohort</td>\n",
       "      <td>01M448</td>\n",
       "      <td>UNIVERSITY NEIGHBORHOOD HIGH SCHOOL</td>\n",
       "      <td>2006</td>\n",
       "      <td>124</td>\n",
       "      <td>53.0</td>\n",
       "      <td>42.7</td>\n",
       "      <td>42.0</td>\n",
       "      <td>33.9</td>\n",
       "      <td>79.2</td>\n",
       "      <td>...</td>\n",
       "      <td>34.0</td>\n",
       "      <td>27.4</td>\n",
       "      <td>64.2</td>\n",
       "      <td>11.0</td>\n",
       "      <td>8.9</td>\n",
       "      <td>20.8</td>\n",
       "      <td>46.0</td>\n",
       "      <td>37.1</td>\n",
       "      <td>20.0</td>\n",
       "      <td>16.1</td>\n",
       "    </tr>\n",
       "  </tbody>\n",
       "</table>\n",
       "<p>5 rows × 23 columns</p>\n",
       "</div>"
      ],
      "text/plain": [
       "     Demographic     DBN                            School Name    Cohort  \\\n",
       "2   Total Cohort  01M292  HENRY STREET SCHOOL FOR INTERNATIONAL      2005   \n",
       "3   Total Cohort  01M292  HENRY STREET SCHOOL FOR INTERNATIONAL      2006   \n",
       "4   Total Cohort  01M292  HENRY STREET SCHOOL FOR INTERNATIONAL  2006 Aug   \n",
       "9   Total Cohort  01M448    UNIVERSITY NEIGHBORHOOD HIGH SCHOOL      2005   \n",
       "10  Total Cohort  01M448    UNIVERSITY NEIGHBORHOOD HIGH SCHOOL      2006   \n",
       "\n",
       "    Total Cohort  Total Grads - n  Total Grads - % of cohort  \\\n",
       "2             64             43.0                       67.2   \n",
       "3             78             43.0                       55.1   \n",
       "4             78             44.0                       56.4   \n",
       "9            121             64.0                       52.9   \n",
       "10           124             53.0                       42.7   \n",
       "\n",
       "    Total Regents - n  Total Regents - % of cohort  \\\n",
       "2                27.0                         42.2   \n",
       "3                36.0                         46.2   \n",
       "4                37.0                         47.4   \n",
       "9                35.0                         28.9   \n",
       "10               42.0                         33.9   \n",
       "\n",
       "    Total Regents - % of grads            ...              \\\n",
       "2                         62.8            ...               \n",
       "3                         83.7            ...               \n",
       "4                         84.1            ...               \n",
       "9                         54.7            ...               \n",
       "10                        79.2            ...               \n",
       "\n",
       "    Regents w/o Advanced - n  Regents w/o Advanced - % of cohort  \\\n",
       "2                       27.0                                42.2   \n",
       "3                       36.0                                46.2   \n",
       "4                       37.0                                47.4   \n",
       "9                       31.0                                25.6   \n",
       "10                      34.0                                27.4   \n",
       "\n",
       "    Regents w/o Advanced - % of grads  Local - n  Local - % of cohort  \\\n",
       "2                                62.8       16.0                 25.0   \n",
       "3                                83.7        7.0                  9.0   \n",
       "4                                84.1        7.0                  9.0   \n",
       "9                                48.4       29.0                 24.0   \n",
       "10                               64.2       11.0                  8.9   \n",
       "\n",
       "    Local - % of grads  Still Enrolled - n  Still Enrolled - % of cohort  \\\n",
       "2                 37.2                 9.0                          14.1   \n",
       "3                 16.3                16.0                          20.5   \n",
       "4                 15.9                15.0                          19.2   \n",
       "9                 45.3                41.0                          33.9   \n",
       "10                20.8                46.0                          37.1   \n",
       "\n",
       "    Dropped Out - n  Dropped Out - % of cohort  \n",
       "2               9.0                       14.1  \n",
       "3              11.0                       14.1  \n",
       "4              11.0                       14.1  \n",
       "9              11.0                        9.1  \n",
       "10             20.0                       16.1  \n",
       "\n",
       "[5 rows x 23 columns]"
      ]
     },
     "execution_count": 36,
     "metadata": {},
     "output_type": "execute_result"
    }
   ],
   "source": [
    "grad.head()"
   ]
  },
  {
   "cell_type": "markdown",
   "metadata": {},
   "source": [
    "头几行都出现了’Total Regents - % of cohort‘的值和’Regents w/o Advanced - % of cohort‘值相等。为了进一步探究这两栏的关系，跳出它们的值不等的行："
   ]
  },
  {
   "cell_type": "code",
   "execution_count": 37,
   "metadata": {
    "collapsed": false
   },
   "outputs": [],
   "source": [
    "mask = grad['Total Regents - % of cohort'] == grad['Regents w/o Advanced - % of cohort']"
   ]
  },
  {
   "cell_type": "code",
   "execution_count": 38,
   "metadata": {
    "collapsed": false,
    "scrolled": true
   },
   "outputs": [
    {
     "data": {
      "text/html": [
       "<div>\n",
       "<table border=\"1\" class=\"dataframe\">\n",
       "  <thead>\n",
       "    <tr style=\"text-align: right;\">\n",
       "      <th></th>\n",
       "      <th>Demographic</th>\n",
       "      <th>DBN</th>\n",
       "      <th>School Name</th>\n",
       "      <th>Cohort</th>\n",
       "      <th>Total Cohort</th>\n",
       "      <th>Total Grads - n</th>\n",
       "      <th>Total Grads - % of cohort</th>\n",
       "      <th>Total Regents - n</th>\n",
       "      <th>Total Regents - % of cohort</th>\n",
       "      <th>Total Regents - % of grads</th>\n",
       "      <th>...</th>\n",
       "      <th>Regents w/o Advanced - n</th>\n",
       "      <th>Regents w/o Advanced - % of cohort</th>\n",
       "      <th>Regents w/o Advanced - % of grads</th>\n",
       "      <th>Local - n</th>\n",
       "      <th>Local - % of cohort</th>\n",
       "      <th>Local - % of grads</th>\n",
       "      <th>Still Enrolled - n</th>\n",
       "      <th>Still Enrolled - % of cohort</th>\n",
       "      <th>Dropped Out - n</th>\n",
       "      <th>Dropped Out - % of cohort</th>\n",
       "    </tr>\n",
       "  </thead>\n",
       "  <tbody>\n",
       "    <tr>\n",
       "      <th>9</th>\n",
       "      <td>Total Cohort</td>\n",
       "      <td>01M448</td>\n",
       "      <td>UNIVERSITY NEIGHBORHOOD HIGH SCHOOL</td>\n",
       "      <td>2005</td>\n",
       "      <td>121</td>\n",
       "      <td>64.0</td>\n",
       "      <td>52.9</td>\n",
       "      <td>35.0</td>\n",
       "      <td>28.9</td>\n",
       "      <td>54.7</td>\n",
       "      <td>...</td>\n",
       "      <td>31.0</td>\n",
       "      <td>25.6</td>\n",
       "      <td>48.4</td>\n",
       "      <td>29.0</td>\n",
       "      <td>24.0</td>\n",
       "      <td>45.3</td>\n",
       "      <td>41.0</td>\n",
       "      <td>33.9</td>\n",
       "      <td>11.0</td>\n",
       "      <td>9.1</td>\n",
       "    </tr>\n",
       "    <tr>\n",
       "      <th>10</th>\n",
       "      <td>Total Cohort</td>\n",
       "      <td>01M448</td>\n",
       "      <td>UNIVERSITY NEIGHBORHOOD HIGH SCHOOL</td>\n",
       "      <td>2006</td>\n",
       "      <td>124</td>\n",
       "      <td>53.0</td>\n",
       "      <td>42.7</td>\n",
       "      <td>42.0</td>\n",
       "      <td>33.9</td>\n",
       "      <td>79.2</td>\n",
       "      <td>...</td>\n",
       "      <td>34.0</td>\n",
       "      <td>27.4</td>\n",
       "      <td>64.2</td>\n",
       "      <td>11.0</td>\n",
       "      <td>8.9</td>\n",
       "      <td>20.8</td>\n",
       "      <td>46.0</td>\n",
       "      <td>37.1</td>\n",
       "      <td>20.0</td>\n",
       "      <td>16.1</td>\n",
       "    </tr>\n",
       "    <tr>\n",
       "      <th>11</th>\n",
       "      <td>Total Cohort</td>\n",
       "      <td>01M448</td>\n",
       "      <td>UNIVERSITY NEIGHBORHOOD HIGH SCHOOL</td>\n",
       "      <td>2006 Aug</td>\n",
       "      <td>124</td>\n",
       "      <td>60.0</td>\n",
       "      <td>48.4</td>\n",
       "      <td>42.0</td>\n",
       "      <td>33.9</td>\n",
       "      <td>70.0</td>\n",
       "      <td>...</td>\n",
       "      <td>34.0</td>\n",
       "      <td>27.4</td>\n",
       "      <td>56.7</td>\n",
       "      <td>18.0</td>\n",
       "      <td>14.5</td>\n",
       "      <td>30.0</td>\n",
       "      <td>39.0</td>\n",
       "      <td>31.5</td>\n",
       "      <td>20.0</td>\n",
       "      <td>16.1</td>\n",
       "    </tr>\n",
       "    <tr>\n",
       "      <th>23</th>\n",
       "      <td>Total Cohort</td>\n",
       "      <td>01M509</td>\n",
       "      <td>MARTA VALLE HIGH SCHOOL</td>\n",
       "      <td>2005</td>\n",
       "      <td>88</td>\n",
       "      <td>49.0</td>\n",
       "      <td>55.7</td>\n",
       "      <td>38.0</td>\n",
       "      <td>43.2</td>\n",
       "      <td>77.6</td>\n",
       "      <td>...</td>\n",
       "      <td>20.0</td>\n",
       "      <td>22.7</td>\n",
       "      <td>40.8</td>\n",
       "      <td>11.0</td>\n",
       "      <td>12.5</td>\n",
       "      <td>22.4</td>\n",
       "      <td>20.0</td>\n",
       "      <td>22.7</td>\n",
       "      <td>14.0</td>\n",
       "      <td>15.9</td>\n",
       "    </tr>\n",
       "    <tr>\n",
       "      <th>24</th>\n",
       "      <td>Total Cohort</td>\n",
       "      <td>01M509</td>\n",
       "      <td>MARTA VALLE HIGH SCHOOL</td>\n",
       "      <td>2006</td>\n",
       "      <td>84</td>\n",
       "      <td>47.0</td>\n",
       "      <td>56.0</td>\n",
       "      <td>40.0</td>\n",
       "      <td>47.6</td>\n",
       "      <td>85.1</td>\n",
       "      <td>...</td>\n",
       "      <td>23.0</td>\n",
       "      <td>27.4</td>\n",
       "      <td>48.9</td>\n",
       "      <td>7.0</td>\n",
       "      <td>8.3</td>\n",
       "      <td>14.9</td>\n",
       "      <td>25.0</td>\n",
       "      <td>29.8</td>\n",
       "      <td>5.0</td>\n",
       "      <td>6.0</td>\n",
       "    </tr>\n",
       "  </tbody>\n",
       "</table>\n",
       "<p>5 rows × 23 columns</p>\n",
       "</div>"
      ],
      "text/plain": [
       "     Demographic     DBN                          School Name    Cohort  \\\n",
       "9   Total Cohort  01M448  UNIVERSITY NEIGHBORHOOD HIGH SCHOOL      2005   \n",
       "10  Total Cohort  01M448  UNIVERSITY NEIGHBORHOOD HIGH SCHOOL      2006   \n",
       "11  Total Cohort  01M448  UNIVERSITY NEIGHBORHOOD HIGH SCHOOL  2006 Aug   \n",
       "23  Total Cohort  01M509              MARTA VALLE HIGH SCHOOL      2005   \n",
       "24  Total Cohort  01M509              MARTA VALLE HIGH SCHOOL      2006   \n",
       "\n",
       "    Total Cohort  Total Grads - n  Total Grads - % of cohort  \\\n",
       "9            121             64.0                       52.9   \n",
       "10           124             53.0                       42.7   \n",
       "11           124             60.0                       48.4   \n",
       "23            88             49.0                       55.7   \n",
       "24            84             47.0                       56.0   \n",
       "\n",
       "    Total Regents - n  Total Regents - % of cohort  \\\n",
       "9                35.0                         28.9   \n",
       "10               42.0                         33.9   \n",
       "11               42.0                         33.9   \n",
       "23               38.0                         43.2   \n",
       "24               40.0                         47.6   \n",
       "\n",
       "    Total Regents - % of grads            ...              \\\n",
       "9                         54.7            ...               \n",
       "10                        79.2            ...               \n",
       "11                        70.0            ...               \n",
       "23                        77.6            ...               \n",
       "24                        85.1            ...               \n",
       "\n",
       "    Regents w/o Advanced - n  Regents w/o Advanced - % of cohort  \\\n",
       "9                       31.0                                25.6   \n",
       "10                      34.0                                27.4   \n",
       "11                      34.0                                27.4   \n",
       "23                      20.0                                22.7   \n",
       "24                      23.0                                27.4   \n",
       "\n",
       "    Regents w/o Advanced - % of grads  Local - n  Local - % of cohort  \\\n",
       "9                                48.4       29.0                 24.0   \n",
       "10                               64.2       11.0                  8.9   \n",
       "11                               56.7       18.0                 14.5   \n",
       "23                               40.8       11.0                 12.5   \n",
       "24                               48.9        7.0                  8.3   \n",
       "\n",
       "    Local - % of grads  Still Enrolled - n  Still Enrolled - % of cohort  \\\n",
       "9                 45.3                41.0                          33.9   \n",
       "10                20.8                46.0                          37.1   \n",
       "11                30.0                39.0                          31.5   \n",
       "23                22.4                20.0                          22.7   \n",
       "24                14.9                25.0                          29.8   \n",
       "\n",
       "    Dropped Out - n  Dropped Out - % of cohort  \n",
       "9              11.0                        9.1  \n",
       "10             20.0                       16.1  \n",
       "11             20.0                       16.1  \n",
       "23             14.0                       15.9  \n",
       "24              5.0                        6.0  \n",
       "\n",
       "[5 rows x 23 columns]"
      ]
     },
     "execution_count": 38,
     "metadata": {},
     "output_type": "execute_result"
    }
   ],
   "source": [
    "grad[~mask].head()"
   ]
  },
  {
   "cell_type": "markdown",
   "metadata": {},
   "source": [
    "从上面可以看出来，advanced rengent是total rangent的一个子集，而local, still enrolled, dropped out和total rangent没有交集。"
   ]
  },
  {
   "cell_type": "code",
   "execution_count": 39,
   "metadata": {
    "collapsed": false,
    "scrolled": true
   },
   "outputs": [
    {
     "data": {
      "text/html": [
       "<div>\n",
       "<table border=\"1\" class=\"dataframe\">\n",
       "  <thead>\n",
       "    <tr style=\"text-align: right;\">\n",
       "      <th></th>\n",
       "      <th>DBN</th>\n",
       "      <th>Cohort</th>\n",
       "      <th>Total Cohort</th>\n",
       "      <th>Total Grads - n</th>\n",
       "      <th>Total Regents - n</th>\n",
       "      <th>Advanced Regents - n</th>\n",
       "      <th>Regents w/o Advanced - n</th>\n",
       "      <th>Local - n</th>\n",
       "      <th>Still Enrolled - n</th>\n",
       "      <th>Dropped Out - n</th>\n",
       "    </tr>\n",
       "  </thead>\n",
       "  <tbody>\n",
       "    <tr>\n",
       "      <th>9</th>\n",
       "      <td>01M448</td>\n",
       "      <td>2005</td>\n",
       "      <td>121</td>\n",
       "      <td>64.0</td>\n",
       "      <td>35.0</td>\n",
       "      <td>4.0</td>\n",
       "      <td>31.0</td>\n",
       "      <td>29.0</td>\n",
       "      <td>41.0</td>\n",
       "      <td>11.0</td>\n",
       "    </tr>\n",
       "    <tr>\n",
       "      <th>10</th>\n",
       "      <td>01M448</td>\n",
       "      <td>2006</td>\n",
       "      <td>124</td>\n",
       "      <td>53.0</td>\n",
       "      <td>42.0</td>\n",
       "      <td>8.0</td>\n",
       "      <td>34.0</td>\n",
       "      <td>11.0</td>\n",
       "      <td>46.0</td>\n",
       "      <td>20.0</td>\n",
       "    </tr>\n",
       "    <tr>\n",
       "      <th>11</th>\n",
       "      <td>01M448</td>\n",
       "      <td>2006 Aug</td>\n",
       "      <td>124</td>\n",
       "      <td>60.0</td>\n",
       "      <td>42.0</td>\n",
       "      <td>8.0</td>\n",
       "      <td>34.0</td>\n",
       "      <td>18.0</td>\n",
       "      <td>39.0</td>\n",
       "      <td>20.0</td>\n",
       "    </tr>\n",
       "    <tr>\n",
       "      <th>23</th>\n",
       "      <td>01M509</td>\n",
       "      <td>2005</td>\n",
       "      <td>88</td>\n",
       "      <td>49.0</td>\n",
       "      <td>38.0</td>\n",
       "      <td>18.0</td>\n",
       "      <td>20.0</td>\n",
       "      <td>11.0</td>\n",
       "      <td>20.0</td>\n",
       "      <td>14.0</td>\n",
       "    </tr>\n",
       "    <tr>\n",
       "      <th>24</th>\n",
       "      <td>01M509</td>\n",
       "      <td>2006</td>\n",
       "      <td>84</td>\n",
       "      <td>47.0</td>\n",
       "      <td>40.0</td>\n",
       "      <td>17.0</td>\n",
       "      <td>23.0</td>\n",
       "      <td>7.0</td>\n",
       "      <td>25.0</td>\n",
       "      <td>5.0</td>\n",
       "    </tr>\n",
       "    <tr>\n",
       "      <th>25</th>\n",
       "      <td>01M509</td>\n",
       "      <td>2006 Aug</td>\n",
       "      <td>84</td>\n",
       "      <td>50.0</td>\n",
       "      <td>41.0</td>\n",
       "      <td>18.0</td>\n",
       "      <td>23.0</td>\n",
       "      <td>9.0</td>\n",
       "      <td>22.0</td>\n",
       "      <td>5.0</td>\n",
       "    </tr>\n",
       "    <tr>\n",
       "      <th>30</th>\n",
       "      <td>01M515</td>\n",
       "      <td>2005</td>\n",
       "      <td>154</td>\n",
       "      <td>70.0</td>\n",
       "      <td>56.0</td>\n",
       "      <td>45.0</td>\n",
       "      <td>11.0</td>\n",
       "      <td>14.0</td>\n",
       "      <td>64.0</td>\n",
       "      <td>20.0</td>\n",
       "    </tr>\n",
       "    <tr>\n",
       "      <th>31</th>\n",
       "      <td>01M515</td>\n",
       "      <td>2006</td>\n",
       "      <td>193</td>\n",
       "      <td>105.0</td>\n",
       "      <td>91.0</td>\n",
       "      <td>69.0</td>\n",
       "      <td>22.0</td>\n",
       "      <td>14.0</td>\n",
       "      <td>53.0</td>\n",
       "      <td>35.0</td>\n",
       "    </tr>\n",
       "    <tr>\n",
       "      <th>32</th>\n",
       "      <td>01M515</td>\n",
       "      <td>2006 Aug</td>\n",
       "      <td>193</td>\n",
       "      <td>105.0</td>\n",
       "      <td>91.0</td>\n",
       "      <td>69.0</td>\n",
       "      <td>22.0</td>\n",
       "      <td>14.0</td>\n",
       "      <td>53.0</td>\n",
       "      <td>35.0</td>\n",
       "    </tr>\n",
       "    <tr>\n",
       "      <th>37</th>\n",
       "      <td>01M539</td>\n",
       "      <td>2005</td>\n",
       "      <td>49</td>\n",
       "      <td>47.0</td>\n",
       "      <td>47.0</td>\n",
       "      <td>38.0</td>\n",
       "      <td>9.0</td>\n",
       "      <td>0.0</td>\n",
       "      <td>2.0</td>\n",
       "      <td>0.0</td>\n",
       "    </tr>\n",
       "  </tbody>\n",
       "</table>\n",
       "</div>"
      ],
      "text/plain": [
       "       DBN    Cohort  Total Cohort  Total Grads - n  Total Regents - n  \\\n",
       "9   01M448      2005           121             64.0               35.0   \n",
       "10  01M448      2006           124             53.0               42.0   \n",
       "11  01M448  2006 Aug           124             60.0               42.0   \n",
       "23  01M509      2005            88             49.0               38.0   \n",
       "24  01M509      2006            84             47.0               40.0   \n",
       "25  01M509  2006 Aug            84             50.0               41.0   \n",
       "30  01M515      2005           154             70.0               56.0   \n",
       "31  01M515      2006           193            105.0               91.0   \n",
       "32  01M515  2006 Aug           193            105.0               91.0   \n",
       "37  01M539      2005            49             47.0               47.0   \n",
       "\n",
       "    Advanced Regents - n  Regents w/o Advanced - n  Local - n  \\\n",
       "9                    4.0                      31.0       29.0   \n",
       "10                   8.0                      34.0       11.0   \n",
       "11                   8.0                      34.0       18.0   \n",
       "23                  18.0                      20.0       11.0   \n",
       "24                  17.0                      23.0        7.0   \n",
       "25                  18.0                      23.0        9.0   \n",
       "30                  45.0                      11.0       14.0   \n",
       "31                  69.0                      22.0       14.0   \n",
       "32                  69.0                      22.0       14.0   \n",
       "37                  38.0                       9.0        0.0   \n",
       "\n",
       "    Still Enrolled - n  Dropped Out - n  \n",
       "9                 41.0             11.0  \n",
       "10                46.0             20.0  \n",
       "11                39.0             20.0  \n",
       "23                20.0             14.0  \n",
       "24                25.0              5.0  \n",
       "25                22.0              5.0  \n",
       "30                64.0             20.0  \n",
       "31                53.0             35.0  \n",
       "32                53.0             35.0  \n",
       "37                 2.0              0.0  "
      ]
     },
     "execution_count": 39,
     "metadata": {},
     "output_type": "execute_result"
    }
   ],
   "source": [
    "# 进一步探究下col之间的的关系，撇开百分比，只看绝对值\n",
    "sus_cols = ['DBN', 'Cohort', 'Total Cohort',\n",
    "       'Total Grads - n',  'Total Regents - n', \n",
    "       'Advanced Regents - n', 'Regents w/o Advanced - n',\n",
    "       'Local - n',  'Still Enrolled - n',\n",
    "       'Dropped Out - n']\n",
    "grad[~mask][sus_cols].head(10)"
   ]
  },
  {
   "cell_type": "markdown",
   "metadata": {},
   "source": [
    "* 'Total Cohort'的层级结构和包含关系：\n",
    "    * 'Total Grads - n'\n",
    "        * 'Total Regents - n'\n",
    "            * 'Advanced Regents - n'\n",
    "            * 'Regents w/o Advanced - n'\n",
    "        * 'Local - n'\n",
    "    * 'Still Enrolled - n'\n",
    "    * 'Dropped Out - n'"
   ]
  },
  {
   "cell_type": "markdown",
   "metadata": {
    "collapsed": true
   },
   "source": [
    "虽然这里有很多内相关，但我又没打算建模，姑且都留着所有栏目吧。"
   ]
  },
  {
   "cell_type": "code",
   "execution_count": 40,
   "metadata": {
    "collapsed": false
   },
   "outputs": [],
   "source": [
    "grad = grad.groupby(['DBN','School Name']).mean().reset_index()"
   ]
  },
  {
   "cell_type": "code",
   "execution_count": 41,
   "metadata": {
    "collapsed": false
   },
   "outputs": [
    {
     "name": "stdout",
     "output_type": "stream",
     "text": [
      "<class 'pandas.core.frame.DataFrame'>\n",
      "RangeIndex: 413 entries, 0 to 412\n",
      "Data columns (total 21 columns):\n",
      "DBN                                   413 non-null object\n",
      "School Name                           413 non-null object\n",
      "Total Cohort                          413 non-null float64\n",
      "Total Grads - n                       382 non-null float64\n",
      "Total Grads - % of cohort             382 non-null float64\n",
      "Total Regents - n                     382 non-null float64\n",
      "Total Regents - % of cohort           382 non-null float64\n",
      "Total Regents - % of grads            382 non-null float64\n",
      "Advanced Regents - n                  382 non-null float64\n",
      "Advanced Regents - % of cohort        382 non-null float64\n",
      "Advanced Regents - % of grads         382 non-null float64\n",
      "Regents w/o Advanced - n              382 non-null float64\n",
      "Regents w/o Advanced - % of cohort    382 non-null float64\n",
      "Regents w/o Advanced - % of grads     382 non-null float64\n",
      "Local - n                             382 non-null float64\n",
      "Local - % of cohort                   382 non-null float64\n",
      "Local - % of grads                    382 non-null float64\n",
      "Still Enrolled - n                    382 non-null float64\n",
      "Still Enrolled - % of cohort          382 non-null float64\n",
      "Dropped Out - n                       382 non-null float64\n",
      "Dropped Out - % of cohort             382 non-null float64\n",
      "dtypes: float64(19), object(2)\n",
      "memory usage: 67.8+ KB\n"
     ]
    }
   ],
   "source": [
    "grad.info()"
   ]
  },
  {
   "cell_type": "code",
   "execution_count": 42,
   "metadata": {
    "collapsed": false
   },
   "outputs": [],
   "source": [
    "# codebook里有说对于人数小于等于5的cohort，不把毕业数据纳入计算。\n",
    "# 对于我们的目的，这些行留着也没用，drop掉。\n",
    "grad = grad.dropna()"
   ]
  },
  {
   "cell_type": "code",
   "execution_count": 43,
   "metadata": {
    "collapsed": false
   },
   "outputs": [
    {
     "name": "stdout",
     "output_type": "stream",
     "text": [
      "<class 'pandas.core.frame.DataFrame'>\n",
      "Int64Index: 382 entries, 0 to 412\n",
      "Data columns (total 21 columns):\n",
      "DBN                                   382 non-null object\n",
      "School Name                           382 non-null object\n",
      "Total Cohort                          382 non-null float64\n",
      "Total Grads - n                       382 non-null float64\n",
      "Total Grads - % of cohort             382 non-null float64\n",
      "Total Regents - n                     382 non-null float64\n",
      "Total Regents - % of cohort           382 non-null float64\n",
      "Total Regents - % of grads            382 non-null float64\n",
      "Advanced Regents - n                  382 non-null float64\n",
      "Advanced Regents - % of cohort        382 non-null float64\n",
      "Advanced Regents - % of grads         382 non-null float64\n",
      "Regents w/o Advanced - n              382 non-null float64\n",
      "Regents w/o Advanced - % of cohort    382 non-null float64\n",
      "Regents w/o Advanced - % of grads     382 non-null float64\n",
      "Local - n                             382 non-null float64\n",
      "Local - % of cohort                   382 non-null float64\n",
      "Local - % of grads                    382 non-null float64\n",
      "Still Enrolled - n                    382 non-null float64\n",
      "Still Enrolled - % of cohort          382 non-null float64\n",
      "Dropped Out - n                       382 non-null float64\n",
      "Dropped Out - % of cohort             382 non-null float64\n",
      "dtypes: float64(19), object(2)\n",
      "memory usage: 65.7+ KB\n",
      "0\n"
     ]
    }
   ],
   "source": [
    "grad.info()\n",
    "\n",
    "print(len(grad.DBN) - grad.DBN.nunique())"
   ]
  },
  {
   "cell_type": "code",
   "execution_count": 44,
   "metadata": {
    "collapsed": false
   },
   "outputs": [
    {
     "data": {
      "text/plain": [
       "0"
      ]
     },
     "execution_count": 44,
     "metadata": {},
     "output_type": "execute_result"
    }
   ],
   "source": [
    "len(grad) - grad.DBN.nunique()"
   ]
  },
  {
   "cell_type": "code",
   "execution_count": 45,
   "metadata": {
    "collapsed": true
   },
   "outputs": [],
   "source": [
    "data['graduation'] = grad"
   ]
  },
  {
   "cell_type": "markdown",
   "metadata": {},
   "source": [
    "### 2.3 clean 'ap_2010'"
   ]
  },
  {
   "cell_type": "code",
   "execution_count": 58,
   "metadata": {
    "collapsed": false,
    "scrolled": true
   },
   "outputs": [
    {
     "name": "stdout",
     "output_type": "stream",
     "text": [
      "<class 'pandas.core.frame.DataFrame'>\n",
      "RangeIndex: 258 entries, 0 to 257\n",
      "Data columns (total 5 columns):\n",
      "DBN                                     258 non-null object\n",
      "SchoolName                              258 non-null object\n",
      "AP Test Takers                          233 non-null float64\n",
      "Total Exams Taken                       258 non-null object\n",
      "Number of Exams with scores 3 4 or 5    258 non-null object\n",
      "dtypes: float64(1), object(4)\n",
      "memory usage: 10.2+ KB\n"
     ]
    }
   ],
   "source": [
    "ap = data['ap_2010']\n",
    "ap.info()"
   ]
  },
  {
   "cell_type": "code",
   "execution_count": 47,
   "metadata": {
    "collapsed": false
   },
   "outputs": [
    {
     "data": {
      "text/plain": [
       "04M610    2\n",
       "17K537    1\n",
       "31R600    1\n",
       "13K605    1\n",
       "30Q450    1\n",
       "Name: DBN, dtype: int64"
      ]
     },
     "execution_count": 47,
     "metadata": {},
     "output_type": "execute_result"
    }
   ],
   "source": [
    "# 只有一个DBN出现了两次，看看它是谁\n",
    "ap.DBN.value_counts().head()"
   ]
  },
  {
   "cell_type": "code",
   "execution_count": 48,
   "metadata": {
    "collapsed": false
   },
   "outputs": [
    {
     "data": {
      "text/html": [
       "<div>\n",
       "<table border=\"1\" class=\"dataframe\">\n",
       "  <thead>\n",
       "    <tr style=\"text-align: right;\">\n",
       "      <th></th>\n",
       "      <th>DBN</th>\n",
       "      <th>SchoolName</th>\n",
       "      <th>AP Test Takers</th>\n",
       "      <th>Total Exams Taken</th>\n",
       "      <th>Number of Exams with scores 3 4 or 5</th>\n",
       "    </tr>\n",
       "  </thead>\n",
       "  <tbody>\n",
       "    <tr>\n",
       "      <th>51</th>\n",
       "      <td>04M610</td>\n",
       "      <td>THE YOUNG WOMEN'S LEADERSHIP SCHOOL OF EAST HA...</td>\n",
       "      <td>41</td>\n",
       "      <td>55</td>\n",
       "      <td>29</td>\n",
       "    </tr>\n",
       "    <tr>\n",
       "      <th>52</th>\n",
       "      <td>04M610</td>\n",
       "      <td>YOUNG WOMEN'S LEADERSHIP SCH</td>\n",
       "      <td>s</td>\n",
       "      <td>s</td>\n",
       "      <td>s</td>\n",
       "    </tr>\n",
       "  </tbody>\n",
       "</table>\n",
       "</div>"
      ],
      "text/plain": [
       "       DBN                                         SchoolName AP Test Takers   \\\n",
       "51  04M610  THE YOUNG WOMEN'S LEADERSHIP SCHOOL OF EAST HA...              41   \n",
       "52  04M610                       YOUNG WOMEN'S LEADERSHIP SCH               s   \n",
       "\n",
       "   Total Exams Taken Number of Exams with scores 3 4 or 5  \n",
       "51                55                                   29  \n",
       "52                 s                                    s  "
      ]
     },
     "execution_count": 48,
     "metadata": {},
     "output_type": "execute_result"
    }
   ],
   "source": [
    "ap.loc[data['ap_2010'].DBN=='04M610', :]"
   ]
  },
  {
   "cell_type": "markdown",
   "metadata": {},
   "source": [
    "可能是录入时搞重了。目测转换下格式然后dropna()就行。"
   ]
  },
  {
   "cell_type": "code",
   "execution_count": 60,
   "metadata": {
    "collapsed": false
   },
   "outputs": [],
   "source": [
    "# 转换格式\n",
    "ap = obj_to_num(ap, ap.columns[3:])"
   ]
  },
  {
   "cell_type": "code",
   "execution_count": 49,
   "metadata": {
    "collapsed": false
   },
   "outputs": [
    {
     "data": {
      "text/plain": [
       "Index(['DBN', 'SchoolName', 'AP Test Takers ', 'Total Exams Taken',\n",
       "       'Number of Exams with scores 3 4 or 5'],\n",
       "      dtype='object')"
      ]
     },
     "execution_count": 49,
     "metadata": {},
     "output_type": "execute_result"
    }
   ],
   "source": [
    "ap.columns"
   ]
  },
  {
   "cell_type": "code",
   "execution_count": 51,
   "metadata": {
    "collapsed": true
   },
   "outputs": [],
   "source": [
    "ap.columns = ap.columns.str.strip()"
   ]
  },
  {
   "cell_type": "code",
   "execution_count": 61,
   "metadata": {
    "collapsed": false
   },
   "outputs": [
    {
     "name": "stdout",
     "output_type": "stream",
     "text": [
      "<class 'pandas.core.frame.DataFrame'>\n",
      "RangeIndex: 258 entries, 0 to 257\n",
      "Data columns (total 5 columns):\n",
      "DBN                                     258 non-null object\n",
      "SchoolName                              258 non-null object\n",
      "AP Test Takers                          233 non-null float64\n",
      "Total Exams Taken                       233 non-null float64\n",
      "Number of Exams with scores 3 4 or 5    151 non-null float64\n",
      "dtypes: float64(3), object(2)\n",
      "memory usage: 10.2+ KB\n"
     ]
    }
   ],
   "source": [
    "ap.info()"
   ]
  },
  {
   "cell_type": "code",
   "execution_count": 62,
   "metadata": {
    "collapsed": false
   },
   "outputs": [],
   "source": [
    "# 把数字的三列全空的行drop掉\n",
    "mask = (ap['AP Test Takers'].isnull()) & (ap['Total Exams Taken'].isnull()) & (ap['Number of Exams with scores 3 4 or 5'].isnull())"
   ]
  },
  {
   "cell_type": "code",
   "execution_count": 63,
   "metadata": {
    "collapsed": false
   },
   "outputs": [
    {
     "data": {
      "text/plain": [
       "25"
      ]
     },
     "execution_count": 63,
     "metadata": {},
     "output_type": "execute_result"
    }
   ],
   "source": [
    "mask.sum()"
   ]
  },
  {
   "cell_type": "code",
   "execution_count": 64,
   "metadata": {
    "collapsed": false
   },
   "outputs": [],
   "source": [
    "ap = ap[~mask]"
   ]
  },
  {
   "cell_type": "code",
   "execution_count": 65,
   "metadata": {
    "collapsed": false
   },
   "outputs": [
    {
     "name": "stdout",
     "output_type": "stream",
     "text": [
      "<class 'pandas.core.frame.DataFrame'>\n",
      "Int64Index: 233 entries, 0 to 257\n",
      "Data columns (total 5 columns):\n",
      "DBN                                     233 non-null object\n",
      "SchoolName                              233 non-null object\n",
      "AP Test Takers                          233 non-null float64\n",
      "Total Exams Taken                       233 non-null float64\n",
      "Number of Exams with scores 3 4 or 5    151 non-null float64\n",
      "dtypes: float64(3), object(2)\n",
      "memory usage: 10.9+ KB\n"
     ]
    }
   ],
   "source": [
    "ap.info()"
   ]
  },
  {
   "cell_type": "code",
   "execution_count": 66,
   "metadata": {
    "collapsed": false
   },
   "outputs": [
    {
     "data": {
      "text/plain": [
       "0"
      ]
     },
     "execution_count": 66,
     "metadata": {},
     "output_type": "execute_result"
    }
   ],
   "source": [
    "len(ap.DBN) - ap.DBN.nunique()"
   ]
  },
  {
   "cell_type": "code",
   "execution_count": 67,
   "metadata": {
    "collapsed": false
   },
   "outputs": [],
   "source": [
    "data['ap_2010'] = ap"
   ]
  },
  {
   "cell_type": "markdown",
   "metadata": {},
   "source": [
    "### 2.4 clean 'class_size'"
   ]
  },
  {
   "cell_type": "code",
   "execution_count": 68,
   "metadata": {
    "collapsed": false
   },
   "outputs": [
    {
     "data": {
      "text/html": [
       "<div>\n",
       "<table border=\"1\" class=\"dataframe\">\n",
       "  <thead>\n",
       "    <tr style=\"text-align: right;\">\n",
       "      <th></th>\n",
       "      <th>CSD</th>\n",
       "      <th>BOROUGH</th>\n",
       "      <th>SCHOOL CODE</th>\n",
       "      <th>SCHOOL NAME</th>\n",
       "      <th>GRADE</th>\n",
       "      <th>PROGRAM TYPE</th>\n",
       "      <th>CORE SUBJECT (MS CORE and 9-12 ONLY)</th>\n",
       "      <th>CORE COURSE (MS CORE and 9-12 ONLY)</th>\n",
       "      <th>SERVICE CATEGORY(K-9* ONLY)</th>\n",
       "      <th>NUMBER OF STUDENTS / SEATS FILLED</th>\n",
       "      <th>NUMBER OF SECTIONS</th>\n",
       "      <th>AVERAGE CLASS SIZE</th>\n",
       "      <th>SIZE OF SMALLEST CLASS</th>\n",
       "      <th>SIZE OF LARGEST CLASS</th>\n",
       "      <th>DATA SOURCE</th>\n",
       "      <th>SCHOOLWIDE PUPIL-TEACHER RATIO</th>\n",
       "      <th>DBN</th>\n",
       "    </tr>\n",
       "  </thead>\n",
       "  <tbody>\n",
       "    <tr>\n",
       "      <th>0</th>\n",
       "      <td>1</td>\n",
       "      <td>M</td>\n",
       "      <td>M015</td>\n",
       "      <td>P.S. 015 Roberto Clemente</td>\n",
       "      <td>0K</td>\n",
       "      <td>GEN ED</td>\n",
       "      <td>-</td>\n",
       "      <td>-</td>\n",
       "      <td>-</td>\n",
       "      <td>19.0</td>\n",
       "      <td>1.0</td>\n",
       "      <td>19.0</td>\n",
       "      <td>19.0</td>\n",
       "      <td>19.0</td>\n",
       "      <td>ATS</td>\n",
       "      <td>NaN</td>\n",
       "      <td>01M015</td>\n",
       "    </tr>\n",
       "    <tr>\n",
       "      <th>1</th>\n",
       "      <td>1</td>\n",
       "      <td>M</td>\n",
       "      <td>M015</td>\n",
       "      <td>P.S. 015 Roberto Clemente</td>\n",
       "      <td>0K</td>\n",
       "      <td>CTT</td>\n",
       "      <td>-</td>\n",
       "      <td>-</td>\n",
       "      <td>-</td>\n",
       "      <td>21.0</td>\n",
       "      <td>1.0</td>\n",
       "      <td>21.0</td>\n",
       "      <td>21.0</td>\n",
       "      <td>21.0</td>\n",
       "      <td>ATS</td>\n",
       "      <td>NaN</td>\n",
       "      <td>01M015</td>\n",
       "    </tr>\n",
       "    <tr>\n",
       "      <th>2</th>\n",
       "      <td>1</td>\n",
       "      <td>M</td>\n",
       "      <td>M015</td>\n",
       "      <td>P.S. 015 Roberto Clemente</td>\n",
       "      <td>01</td>\n",
       "      <td>GEN ED</td>\n",
       "      <td>-</td>\n",
       "      <td>-</td>\n",
       "      <td>-</td>\n",
       "      <td>17.0</td>\n",
       "      <td>1.0</td>\n",
       "      <td>17.0</td>\n",
       "      <td>17.0</td>\n",
       "      <td>17.0</td>\n",
       "      <td>ATS</td>\n",
       "      <td>NaN</td>\n",
       "      <td>01M015</td>\n",
       "    </tr>\n",
       "    <tr>\n",
       "      <th>3</th>\n",
       "      <td>1</td>\n",
       "      <td>M</td>\n",
       "      <td>M015</td>\n",
       "      <td>P.S. 015 Roberto Clemente</td>\n",
       "      <td>01</td>\n",
       "      <td>CTT</td>\n",
       "      <td>-</td>\n",
       "      <td>-</td>\n",
       "      <td>-</td>\n",
       "      <td>17.0</td>\n",
       "      <td>1.0</td>\n",
       "      <td>17.0</td>\n",
       "      <td>17.0</td>\n",
       "      <td>17.0</td>\n",
       "      <td>ATS</td>\n",
       "      <td>NaN</td>\n",
       "      <td>01M015</td>\n",
       "    </tr>\n",
       "    <tr>\n",
       "      <th>4</th>\n",
       "      <td>1</td>\n",
       "      <td>M</td>\n",
       "      <td>M015</td>\n",
       "      <td>P.S. 015 Roberto Clemente</td>\n",
       "      <td>02</td>\n",
       "      <td>GEN ED</td>\n",
       "      <td>-</td>\n",
       "      <td>-</td>\n",
       "      <td>-</td>\n",
       "      <td>15.0</td>\n",
       "      <td>1.0</td>\n",
       "      <td>15.0</td>\n",
       "      <td>15.0</td>\n",
       "      <td>15.0</td>\n",
       "      <td>ATS</td>\n",
       "      <td>NaN</td>\n",
       "      <td>01M015</td>\n",
       "    </tr>\n",
       "  </tbody>\n",
       "</table>\n",
       "</div>"
      ],
      "text/plain": [
       "   CSD BOROUGH SCHOOL CODE                SCHOOL NAME GRADE  PROGRAM TYPE  \\\n",
       "0    1       M        M015  P.S. 015 Roberto Clemente     0K       GEN ED   \n",
       "1    1       M        M015  P.S. 015 Roberto Clemente     0K          CTT   \n",
       "2    1       M        M015  P.S. 015 Roberto Clemente     01       GEN ED   \n",
       "3    1       M        M015  P.S. 015 Roberto Clemente     01          CTT   \n",
       "4    1       M        M015  P.S. 015 Roberto Clemente     02       GEN ED   \n",
       "\n",
       "  CORE SUBJECT (MS CORE and 9-12 ONLY) CORE COURSE (MS CORE and 9-12 ONLY)  \\\n",
       "0                                    -                                   -   \n",
       "1                                    -                                   -   \n",
       "2                                    -                                   -   \n",
       "3                                    -                                   -   \n",
       "4                                    -                                   -   \n",
       "\n",
       "  SERVICE CATEGORY(K-9* ONLY)  NUMBER OF STUDENTS / SEATS FILLED  \\\n",
       "0                           -                               19.0   \n",
       "1                           -                               21.0   \n",
       "2                           -                               17.0   \n",
       "3                           -                               17.0   \n",
       "4                           -                               15.0   \n",
       "\n",
       "   NUMBER OF SECTIONS  AVERAGE CLASS SIZE  SIZE OF SMALLEST CLASS  \\\n",
       "0                 1.0                19.0                    19.0   \n",
       "1                 1.0                21.0                    21.0   \n",
       "2                 1.0                17.0                    17.0   \n",
       "3                 1.0                17.0                    17.0   \n",
       "4                 1.0                15.0                    15.0   \n",
       "\n",
       "   SIZE OF LARGEST CLASS DATA SOURCE  SCHOOLWIDE PUPIL-TEACHER RATIO     DBN  \n",
       "0                   19.0         ATS                             NaN  01M015  \n",
       "1                   21.0         ATS                             NaN  01M015  \n",
       "2                   17.0         ATS                             NaN  01M015  \n",
       "3                   17.0         ATS                             NaN  01M015  \n",
       "4                   15.0         ATS                             NaN  01M015  "
      ]
     },
     "execution_count": 68,
     "metadata": {},
     "output_type": "execute_result"
    }
   ],
   "source": [
    "cls = data['class_size']\n",
    "cls.head()"
   ]
  },
  {
   "cell_type": "code",
   "execution_count": 69,
   "metadata": {
    "collapsed": false
   },
   "outputs": [
    {
     "name": "stdout",
     "output_type": "stream",
     "text": [
      "<class 'pandas.core.frame.DataFrame'>\n",
      "RangeIndex: 27611 entries, 0 to 27610\n",
      "Data columns (total 17 columns):\n",
      "CSD                                     27611 non-null int64\n",
      "BOROUGH                                 27611 non-null object\n",
      "SCHOOL CODE                             27611 non-null object\n",
      "SCHOOL NAME                             27611 non-null object\n",
      "GRADE                                   26127 non-null object\n",
      "PROGRAM TYPE                            26127 non-null object\n",
      "CORE SUBJECT (MS CORE and 9-12 ONLY)    26127 non-null object\n",
      "CORE COURSE (MS CORE and 9-12 ONLY)     26127 non-null object\n",
      "SERVICE CATEGORY(K-9* ONLY)             26127 non-null object\n",
      "NUMBER OF STUDENTS / SEATS FILLED       26127 non-null float64\n",
      "NUMBER OF SECTIONS                      26127 non-null float64\n",
      "AVERAGE CLASS SIZE                      26127 non-null float64\n",
      "SIZE OF SMALLEST CLASS                  26127 non-null float64\n",
      "SIZE OF LARGEST CLASS                   26127 non-null float64\n",
      "DATA SOURCE                             26127 non-null object\n",
      "SCHOOLWIDE PUPIL-TEACHER RATIO          1484 non-null float64\n",
      "DBN                                     27611 non-null object\n",
      "dtypes: float64(6), int64(1), object(10)\n",
      "memory usage: 3.6+ MB\n"
     ]
    }
   ],
   "source": [
    "cls.info()"
   ]
  },
  {
   "cell_type": "code",
   "execution_count": 70,
   "metadata": {
    "collapsed": false
   },
   "outputs": [
    {
     "data": {
      "text/plain": [
       "Index(['CSD', 'BOROUGH', 'SCHOOL CODE', 'SCHOOL NAME', 'GRADE ',\n",
       "       'PROGRAM TYPE', 'CORE SUBJECT (MS CORE and 9-12 ONLY)',\n",
       "       'CORE COURSE (MS CORE and 9-12 ONLY)', 'SERVICE CATEGORY(K-9* ONLY)',\n",
       "       'NUMBER OF STUDENTS / SEATS FILLED', 'NUMBER OF SECTIONS',\n",
       "       'AVERAGE CLASS SIZE', 'SIZE OF SMALLEST CLASS', 'SIZE OF LARGEST CLASS',\n",
       "       'DATA SOURCE', 'SCHOOLWIDE PUPIL-TEACHER RATIO', 'DBN'],\n",
       "      dtype='object')"
      ]
     },
     "execution_count": 70,
     "metadata": {},
     "output_type": "execute_result"
    }
   ],
   "source": [
    "cls.columns"
   ]
  },
  {
   "cell_type": "code",
   "execution_count": 71,
   "metadata": {
    "collapsed": false
   },
   "outputs": [
    {
     "data": {
      "text/plain": [
       "09-12      10644\n",
       "MS Core     4762\n",
       "0K-09       1384\n",
       "0K          1237\n",
       "01          1185\n",
       "02          1167\n",
       "03          1143\n",
       "04          1140\n",
       "05          1086\n",
       "06           846\n",
       "07           778\n",
       "08           735\n",
       "09            20\n",
       "Name: GRADE , dtype: int64"
      ]
     },
     "execution_count": 71,
     "metadata": {},
     "output_type": "execute_result"
    }
   ],
   "source": [
    "cls['GRADE '].value_counts()"
   ]
  },
  {
   "cell_type": "code",
   "execution_count": 72,
   "metadata": {
    "collapsed": false
   },
   "outputs": [
    {
     "data": {
      "text/plain": [
       "GEN ED     14545\n",
       "CTT         7460\n",
       "SPEC ED     3653\n",
       "G&T          469\n",
       "Name: PROGRAM TYPE, dtype: int64"
      ]
     },
     "execution_count": 72,
     "metadata": {},
     "output_type": "execute_result"
    }
   ],
   "source": [
    "cls['PROGRAM TYPE'].value_counts()"
   ]
  },
  {
   "cell_type": "code",
   "execution_count": 73,
   "metadata": {
    "collapsed": true
   },
   "outputs": [],
   "source": [
    "# 从中选择高中\n",
    "mask = (cls['PROGRAM TYPE']=='GEN ED') & (cls['GRADE ']=='09-12')"
   ]
  },
  {
   "cell_type": "code",
   "execution_count": 74,
   "metadata": {
    "collapsed": true
   },
   "outputs": [],
   "source": [
    "cls = cls.loc[mask]"
   ]
  },
  {
   "cell_type": "markdown",
   "metadata": {},
   "source": [
    "我们需要的几栏已经是float格式了，因此没必要做转换，直接groupby吧"
   ]
  },
  {
   "cell_type": "code",
   "execution_count": 75,
   "metadata": {
    "collapsed": true
   },
   "outputs": [],
   "source": [
    "cls = cls.groupby(['DBN', 'SCHOOL NAME']).mean().reset_index()"
   ]
  },
  {
   "cell_type": "code",
   "execution_count": 76,
   "metadata": {
    "collapsed": false
   },
   "outputs": [
    {
     "name": "stdout",
     "output_type": "stream",
     "text": [
      "<class 'pandas.core.frame.DataFrame'>\n",
      "RangeIndex: 583 entries, 0 to 582\n",
      "Data columns (total 9 columns):\n",
      "DBN                                  583 non-null object\n",
      "SCHOOL NAME                          583 non-null object\n",
      "CSD                                  583 non-null int64\n",
      "NUMBER OF STUDENTS / SEATS FILLED    583 non-null float64\n",
      "NUMBER OF SECTIONS                   583 non-null float64\n",
      "AVERAGE CLASS SIZE                   583 non-null float64\n",
      "SIZE OF SMALLEST CLASS               583 non-null float64\n",
      "SIZE OF LARGEST CLASS                583 non-null float64\n",
      "SCHOOLWIDE PUPIL-TEACHER RATIO       0 non-null float64\n",
      "dtypes: float64(6), int64(1), object(2)\n",
      "memory usage: 41.1+ KB\n"
     ]
    }
   ],
   "source": [
    "cls.info()"
   ]
  },
  {
   "cell_type": "code",
   "execution_count": 77,
   "metadata": {
    "collapsed": true
   },
   "outputs": [],
   "source": [
    "# drop redundant cols\n",
    "cls = cls.drop(['CSD', 'SCHOOLWIDE PUPIL-TEACHER RATIO'], axis=1)"
   ]
  },
  {
   "cell_type": "code",
   "execution_count": 78,
   "metadata": {
    "collapsed": true
   },
   "outputs": [],
   "source": [
    "# convert column names into lowercase\n",
    "cls.columns = cls.columns.str.lower()"
   ]
  },
  {
   "cell_type": "code",
   "execution_count": 79,
   "metadata": {
    "collapsed": false
   },
   "outputs": [
    {
     "data": {
      "text/html": [
       "<div>\n",
       "<table border=\"1\" class=\"dataframe\">\n",
       "  <thead>\n",
       "    <tr style=\"text-align: right;\">\n",
       "      <th></th>\n",
       "      <th>dbn</th>\n",
       "      <th>school name</th>\n",
       "      <th>number of students / seats filled</th>\n",
       "      <th>number of sections</th>\n",
       "      <th>average class size</th>\n",
       "      <th>size of smallest class</th>\n",
       "      <th>size of largest class</th>\n",
       "    </tr>\n",
       "  </thead>\n",
       "  <tbody>\n",
       "    <tr>\n",
       "      <th>0</th>\n",
       "      <td>01M292</td>\n",
       "      <td>Henry Street School for International Studies</td>\n",
       "      <td>88.0000</td>\n",
       "      <td>4.000000</td>\n",
       "      <td>22.564286</td>\n",
       "      <td>18.50</td>\n",
       "      <td>26.571429</td>\n",
       "    </tr>\n",
       "    <tr>\n",
       "      <th>1</th>\n",
       "      <td>01M332</td>\n",
       "      <td>University Neighborhood Middle School</td>\n",
       "      <td>46.0000</td>\n",
       "      <td>2.000000</td>\n",
       "      <td>22.000000</td>\n",
       "      <td>21.00</td>\n",
       "      <td>23.500000</td>\n",
       "    </tr>\n",
       "    <tr>\n",
       "      <th>2</th>\n",
       "      <td>01M378</td>\n",
       "      <td>School for Global Leaders</td>\n",
       "      <td>33.0000</td>\n",
       "      <td>1.000000</td>\n",
       "      <td>33.000000</td>\n",
       "      <td>33.00</td>\n",
       "      <td>33.000000</td>\n",
       "    </tr>\n",
       "    <tr>\n",
       "      <th>3</th>\n",
       "      <td>01M448</td>\n",
       "      <td>University Neighborhood High School</td>\n",
       "      <td>105.6875</td>\n",
       "      <td>4.750000</td>\n",
       "      <td>22.231250</td>\n",
       "      <td>18.25</td>\n",
       "      <td>27.062500</td>\n",
       "    </tr>\n",
       "    <tr>\n",
       "      <th>4</th>\n",
       "      <td>01M450</td>\n",
       "      <td>East Side Community School</td>\n",
       "      <td>57.6000</td>\n",
       "      <td>2.733333</td>\n",
       "      <td>21.200000</td>\n",
       "      <td>19.40</td>\n",
       "      <td>22.866667</td>\n",
       "    </tr>\n",
       "  </tbody>\n",
       "</table>\n",
       "</div>"
      ],
      "text/plain": [
       "      dbn                                    school name  \\\n",
       "0  01M292  Henry Street School for International Studies   \n",
       "1  01M332          University Neighborhood Middle School   \n",
       "2  01M378                      School for Global Leaders   \n",
       "3  01M448            University Neighborhood High School   \n",
       "4  01M450                     East Side Community School   \n",
       "\n",
       "   number of students / seats filled  number of sections  average class size  \\\n",
       "0                            88.0000            4.000000           22.564286   \n",
       "1                            46.0000            2.000000           22.000000   \n",
       "2                            33.0000            1.000000           33.000000   \n",
       "3                           105.6875            4.750000           22.231250   \n",
       "4                            57.6000            2.733333           21.200000   \n",
       "\n",
       "   size of smallest class  size of largest class  \n",
       "0                   18.50              26.571429  \n",
       "1                   21.00              23.500000  \n",
       "2                   33.00              33.000000  \n",
       "3                   18.25              27.062500  \n",
       "4                   19.40              22.866667  "
      ]
     },
     "execution_count": 79,
     "metadata": {},
     "output_type": "execute_result"
    }
   ],
   "source": [
    "cls.head()"
   ]
  },
  {
   "cell_type": "code",
   "execution_count": 92,
   "metadata": {
    "collapsed": false
   },
   "outputs": [],
   "source": [
    "# 要保持和其它表的一致性，dbn一栏还得大写\n",
    "cls = cls.rename(columns={'dbn':'DBN'})"
   ]
  },
  {
   "cell_type": "code",
   "execution_count": 93,
   "metadata": {
    "collapsed": true
   },
   "outputs": [],
   "source": [
    "data['class_size'] = cls"
   ]
  },
  {
   "cell_type": "markdown",
   "metadata": {},
   "source": [
    "### 2.5 cleaning 'demographics'"
   ]
  },
  {
   "cell_type": "code",
   "execution_count": 82,
   "metadata": {
    "collapsed": false
   },
   "outputs": [
    {
     "data": {
      "text/html": [
       "<div>\n",
       "<table border=\"1\" class=\"dataframe\">\n",
       "  <thead>\n",
       "    <tr style=\"text-align: right;\">\n",
       "      <th></th>\n",
       "      <th>DBN</th>\n",
       "      <th>Name</th>\n",
       "      <th>schoolyear</th>\n",
       "      <th>fl_percent</th>\n",
       "      <th>frl_percent</th>\n",
       "      <th>total_enrollment</th>\n",
       "      <th>prek</th>\n",
       "      <th>k</th>\n",
       "      <th>grade1</th>\n",
       "      <th>grade2</th>\n",
       "      <th>...</th>\n",
       "      <th>black_num</th>\n",
       "      <th>black_per</th>\n",
       "      <th>hispanic_num</th>\n",
       "      <th>hispanic_per</th>\n",
       "      <th>white_num</th>\n",
       "      <th>white_per</th>\n",
       "      <th>male_num</th>\n",
       "      <th>male_per</th>\n",
       "      <th>female_num</th>\n",
       "      <th>female_per</th>\n",
       "    </tr>\n",
       "  </thead>\n",
       "  <tbody>\n",
       "    <tr>\n",
       "      <th>0</th>\n",
       "      <td>01M015</td>\n",
       "      <td>P.S. 015 ROBERTO CLEMENTE</td>\n",
       "      <td>20052006</td>\n",
       "      <td>89.4</td>\n",
       "      <td>NaN</td>\n",
       "      <td>281</td>\n",
       "      <td>15</td>\n",
       "      <td>36</td>\n",
       "      <td>40</td>\n",
       "      <td>33</td>\n",
       "      <td>...</td>\n",
       "      <td>74</td>\n",
       "      <td>26.3</td>\n",
       "      <td>189</td>\n",
       "      <td>67.3</td>\n",
       "      <td>5</td>\n",
       "      <td>1.8</td>\n",
       "      <td>158.0</td>\n",
       "      <td>56.2</td>\n",
       "      <td>123.0</td>\n",
       "      <td>43.8</td>\n",
       "    </tr>\n",
       "    <tr>\n",
       "      <th>1</th>\n",
       "      <td>01M015</td>\n",
       "      <td>P.S. 015 ROBERTO CLEMENTE</td>\n",
       "      <td>20062007</td>\n",
       "      <td>89.4</td>\n",
       "      <td>NaN</td>\n",
       "      <td>243</td>\n",
       "      <td>15</td>\n",
       "      <td>29</td>\n",
       "      <td>39</td>\n",
       "      <td>38</td>\n",
       "      <td>...</td>\n",
       "      <td>68</td>\n",
       "      <td>28.0</td>\n",
       "      <td>153</td>\n",
       "      <td>63.0</td>\n",
       "      <td>4</td>\n",
       "      <td>1.6</td>\n",
       "      <td>140.0</td>\n",
       "      <td>57.6</td>\n",
       "      <td>103.0</td>\n",
       "      <td>42.4</td>\n",
       "    </tr>\n",
       "    <tr>\n",
       "      <th>2</th>\n",
       "      <td>01M015</td>\n",
       "      <td>P.S. 015 ROBERTO CLEMENTE</td>\n",
       "      <td>20072008</td>\n",
       "      <td>89.4</td>\n",
       "      <td>NaN</td>\n",
       "      <td>261</td>\n",
       "      <td>18</td>\n",
       "      <td>43</td>\n",
       "      <td>39</td>\n",
       "      <td>36</td>\n",
       "      <td>...</td>\n",
       "      <td>77</td>\n",
       "      <td>29.5</td>\n",
       "      <td>157</td>\n",
       "      <td>60.2</td>\n",
       "      <td>7</td>\n",
       "      <td>2.7</td>\n",
       "      <td>143.0</td>\n",
       "      <td>54.8</td>\n",
       "      <td>118.0</td>\n",
       "      <td>45.2</td>\n",
       "    </tr>\n",
       "    <tr>\n",
       "      <th>3</th>\n",
       "      <td>01M015</td>\n",
       "      <td>P.S. 015 ROBERTO CLEMENTE</td>\n",
       "      <td>20082009</td>\n",
       "      <td>89.4</td>\n",
       "      <td>NaN</td>\n",
       "      <td>252</td>\n",
       "      <td>17</td>\n",
       "      <td>37</td>\n",
       "      <td>44</td>\n",
       "      <td>32</td>\n",
       "      <td>...</td>\n",
       "      <td>75</td>\n",
       "      <td>29.8</td>\n",
       "      <td>149</td>\n",
       "      <td>59.1</td>\n",
       "      <td>7</td>\n",
       "      <td>2.8</td>\n",
       "      <td>149.0</td>\n",
       "      <td>59.1</td>\n",
       "      <td>103.0</td>\n",
       "      <td>40.9</td>\n",
       "    </tr>\n",
       "    <tr>\n",
       "      <th>4</th>\n",
       "      <td>01M015</td>\n",
       "      <td>P.S. 015 ROBERTO CLEMENTE</td>\n",
       "      <td>20092010</td>\n",
       "      <td></td>\n",
       "      <td>96.5</td>\n",
       "      <td>208</td>\n",
       "      <td>16</td>\n",
       "      <td>40</td>\n",
       "      <td>28</td>\n",
       "      <td>32</td>\n",
       "      <td>...</td>\n",
       "      <td>67</td>\n",
       "      <td>32.2</td>\n",
       "      <td>118</td>\n",
       "      <td>56.7</td>\n",
       "      <td>6</td>\n",
       "      <td>2.9</td>\n",
       "      <td>124.0</td>\n",
       "      <td>59.6</td>\n",
       "      <td>84.0</td>\n",
       "      <td>40.4</td>\n",
       "    </tr>\n",
       "  </tbody>\n",
       "</table>\n",
       "<p>5 rows × 38 columns</p>\n",
       "</div>"
      ],
      "text/plain": [
       "      DBN                       Name  schoolyear fl_percent  frl_percent  \\\n",
       "0  01M015  P.S. 015 ROBERTO CLEMENTE    20052006       89.4          NaN   \n",
       "1  01M015  P.S. 015 ROBERTO CLEMENTE    20062007       89.4          NaN   \n",
       "2  01M015  P.S. 015 ROBERTO CLEMENTE    20072008       89.4          NaN   \n",
       "3  01M015  P.S. 015 ROBERTO CLEMENTE    20082009       89.4          NaN   \n",
       "4  01M015  P.S. 015 ROBERTO CLEMENTE    20092010                    96.5   \n",
       "\n",
       "   total_enrollment prek   k grade1 grade2    ...     black_num black_per  \\\n",
       "0               281   15  36     40     33    ...            74      26.3   \n",
       "1               243   15  29     39     38    ...            68      28.0   \n",
       "2               261   18  43     39     36    ...            77      29.5   \n",
       "3               252   17  37     44     32    ...            75      29.8   \n",
       "4               208   16  40     28     32    ...            67      32.2   \n",
       "\n",
       "  hispanic_num hispanic_per white_num white_per male_num male_per female_num  \\\n",
       "0          189         67.3         5       1.8    158.0     56.2      123.0   \n",
       "1          153         63.0         4       1.6    140.0     57.6      103.0   \n",
       "2          157         60.2         7       2.7    143.0     54.8      118.0   \n",
       "3          149         59.1         7       2.8    149.0     59.1      103.0   \n",
       "4          118         56.7         6       2.9    124.0     59.6       84.0   \n",
       "\n",
       "  female_per  \n",
       "0       43.8  \n",
       "1       42.4  \n",
       "2       45.2  \n",
       "3       40.9  \n",
       "4       40.4  \n",
       "\n",
       "[5 rows x 38 columns]"
      ]
     },
     "execution_count": 82,
     "metadata": {},
     "output_type": "execute_result"
    }
   ],
   "source": [
    "demo = data['demographics']\n",
    "demo.head()"
   ]
  },
  {
   "cell_type": "code",
   "execution_count": 83,
   "metadata": {
    "collapsed": false
   },
   "outputs": [
    {
     "name": "stdout",
     "output_type": "stream",
     "text": [
      "<class 'pandas.core.frame.DataFrame'>\n",
      "RangeIndex: 10075 entries, 0 to 10074\n",
      "Data columns (total 38 columns):\n",
      "DBN                  10075 non-null object\n",
      "Name                 10075 non-null object\n",
      "schoolyear           10075 non-null int64\n",
      "fl_percent           8566 non-null object\n",
      "frl_percent          4482 non-null float64\n",
      "total_enrollment     10075 non-null int64\n",
      "prek                 4712 non-null object\n",
      "k                    5882 non-null object\n",
      "grade1               5881 non-null object\n",
      "grade2               5851 non-null object\n",
      "grade3               5779 non-null object\n",
      "grade4               5741 non-null object\n",
      "grade5               5777 non-null object\n",
      "grade6               4517 non-null object\n",
      "grade7               4203 non-null object\n",
      "grade8               4085 non-null object\n",
      "grade9               3974 non-null object\n",
      "grade10              3846 non-null object\n",
      "grade11              3674 non-null object\n",
      "grade12              3513 non-null object\n",
      "ell_num              9885 non-null float64\n",
      "ell_percent          9963 non-null float64\n",
      "sped_num             9985 non-null float64\n",
      "sped_percent         10075 non-null float64\n",
      "ctt_num              8678 non-null object\n",
      "selfcontained_num    9075 non-null object\n",
      "asian_num            10075 non-null int64\n",
      "asian_per            10075 non-null float64\n",
      "black_num            10075 non-null int64\n",
      "black_per            10075 non-null float64\n",
      "hispanic_num         10075 non-null int64\n",
      "hispanic_per         10075 non-null float64\n",
      "white_num            10075 non-null int64\n",
      "white_per            10075 non-null float64\n",
      "male_num             10034 non-null float64\n",
      "male_per             10075 non-null float64\n",
      "female_num           10051 non-null float64\n",
      "female_per           10075 non-null float64\n",
      "dtypes: float64(13), int64(6), object(19)\n",
      "memory usage: 2.9+ MB\n"
     ]
    }
   ],
   "source": [
    "demo.info()"
   ]
  },
  {
   "cell_type": "markdown",
   "metadata": {},
   "source": [
    "谷歌一下知道，美国的high school指的是grade9 - grade 12。([来源](http://www.go2travel.com.tw/PA/education/kiski/system.htm))"
   ]
  },
  {
   "cell_type": "code",
   "execution_count": 84,
   "metadata": {
    "collapsed": true
   },
   "outputs": [],
   "source": [
    "# 把grade9 - grade12不全为空的行保留下来\n",
    "mask = (demo.grade9.isnull()) & (demo.grade10.isnull()) & (demo.grade11.isnull()) & (demo.grade12.isnull())\n",
    "\n",
    "demo = demo[~mask]"
   ]
  },
  {
   "cell_type": "code",
   "execution_count": 85,
   "metadata": {
    "collapsed": false
   },
   "outputs": [
    {
     "data": {
      "text/plain": [
       "Index(['DBN', 'Name', 'schoolyear', 'fl_percent', 'frl_percent',\n",
       "       'total_enrollment', 'prek', 'k', 'grade1', 'grade2', 'grade3', 'grade4',\n",
       "       'grade5', 'grade6', 'grade7', 'grade8', 'grade9', 'grade10', 'grade11',\n",
       "       'grade12', 'ell_num', 'ell_percent', 'sped_num', 'sped_percent',\n",
       "       'ctt_num', 'selfcontained_num', 'asian_num', 'asian_per', 'black_num',\n",
       "       'black_per', 'hispanic_num', 'hispanic_per', 'white_num', 'white_per',\n",
       "       'male_num', 'male_per', 'female_num', 'female_per'],\n",
       "      dtype='object')"
      ]
     },
     "execution_count": 85,
     "metadata": {},
     "output_type": "execute_result"
    }
   ],
   "source": [
    "demo.columns"
   ]
  },
  {
   "cell_type": "code",
   "execution_count": 86,
   "metadata": {
    "collapsed": true
   },
   "outputs": [
    {
     "name": "stderr",
     "output_type": "stream",
     "text": [
      "/Users/EzraYang/anaconda/lib/python3.5/site-packages/ipykernel/__main__.py:4: SettingWithCopyWarning: \n",
      "A value is trying to be set on a copy of a slice from a DataFrame.\n",
      "Try using .loc[row_indexer,col_indexer] = value instead\n",
      "\n",
      "See the caveats in the documentation: http://pandas.pydata.org/pandas-docs/stable/indexing.html#indexing-view-versus-copy\n",
      "/Users/EzraYang/anaconda/lib/python3.5/site-packages/ipykernel/__main__.py:5: SettingWithCopyWarning: \n",
      "A value is trying to be set on a copy of a slice from a DataFrame.\n",
      "Try using .loc[row_indexer,col_indexer] = value instead\n",
      "\n",
      "See the caveats in the documentation: http://pandas.pydata.org/pandas-docs/stable/indexing.html#indexing-view-versus-copy\n"
     ]
    }
   ],
   "source": [
    "# 转换格式\n",
    "cols = ['fl_percent', 'ctt_num', 'selfcontained_num']\n",
    "\n",
    "demo = obj_to_num(demo, cols)"
   ]
  },
  {
   "cell_type": "code",
   "execution_count": 87,
   "metadata": {
    "collapsed": false
   },
   "outputs": [
    {
     "name": "stdout",
     "output_type": "stream",
     "text": [
      "<class 'pandas.core.frame.DataFrame'>\n",
      "RangeIndex: 1550 entries, 0 to 1549\n",
      "Data columns (total 23 columns):\n",
      "DBN                  1550 non-null object\n",
      "schoolyear           1550 non-null float64\n",
      "fl_percent           490 non-null float64\n",
      "frl_percent          1520 non-null float64\n",
      "total_enrollment     1550 non-null float64\n",
      "ell_num              1549 non-null float64\n",
      "ell_percent          1549 non-null float64\n",
      "sped_num             1549 non-null float64\n",
      "sped_percent         1550 non-null float64\n",
      "ctt_num              1531 non-null float64\n",
      "selfcontained_num    1535 non-null float64\n",
      "asian_num            1550 non-null float64\n",
      "asian_per            1550 non-null float64\n",
      "black_num            1550 non-null float64\n",
      "black_per            1550 non-null float64\n",
      "hispanic_num         1550 non-null float64\n",
      "hispanic_per         1550 non-null float64\n",
      "white_num            1550 non-null float64\n",
      "white_per            1550 non-null float64\n",
      "male_num             1550 non-null float64\n",
      "male_per             1550 non-null float64\n",
      "female_num           1550 non-null float64\n",
      "female_per           1550 non-null float64\n",
      "dtypes: float64(22), object(1)\n",
      "memory usage: 278.6+ KB\n"
     ]
    }
   ],
   "source": [
    "demo = demo.groupby(['DBN']).mean().reset_index()\n",
    "demo.info()"
   ]
  },
  {
   "cell_type": "code",
   "execution_count": 88,
   "metadata": {
    "collapsed": false
   },
   "outputs": [
    {
     "data": {
      "text/plain": [
       "0"
      ]
     },
     "execution_count": 88,
     "metadata": {},
     "output_type": "execute_result"
    }
   ],
   "source": [
    "demo = demo.drop('schoolyear', axis=1)\n",
    "len(demo) - demo.DBN.nunique()"
   ]
  },
  {
   "cell_type": "code",
   "execution_count": 89,
   "metadata": {
    "collapsed": true
   },
   "outputs": [],
   "source": [
    "data['demographics'] = demo"
   ]
  },
  {
   "cell_type": "code",
   "execution_count": 95,
   "metadata": {
    "collapsed": false,
    "scrolled": true
   },
   "outputs": [
    {
     "name": "stdout",
     "output_type": "stream",
     "text": [
      "demographics : \n",
      "0\n",
      "survey : \n",
      "0\n",
      "ap_2010 : \n",
      "0\n",
      "sat_results : \n",
      "0\n",
      "graduation : \n",
      "0\n",
      "math_test_results : \n",
      "0\n",
      "hs_directory : \n",
      "0\n",
      "class_size : \n",
      "0\n"
     ]
    }
   ],
   "source": [
    "try:  \n",
    "    for key in data.keys():\n",
    "        print(key, ': ')\n",
    "        print(len(data[key]) - data[key]['DBN'].nunique())\n",
    "except:\n",
    "    print(key, ' got error.')"
   ]
  },
  {
   "cell_type": "markdown",
   "metadata": {},
   "source": [
    "Now we've condensed 'math_test_results', 'graduation', 'ap_2010', 'class_size' and 'demographcis' dataframe, each DBN in each dataframe is unique."
   ]
  },
  {
   "cell_type": "markdown",
   "metadata": {},
   "source": [
    "## PART III clean other data sets"
   ]
  },
  {
   "cell_type": "markdown",
   "metadata": {},
   "source": [
    "We still have the following 3 datasets to look at and do some basic cleaning: 'hs_directory', 'survey', 'sat_results'."
   ]
  },
  {
   "cell_type": "markdown",
   "metadata": {},
   "source": [
    "### 3.1 clean 'hs_directory'"
   ]
  },
  {
   "cell_type": "code",
   "execution_count": 96,
   "metadata": {
    "collapsed": false
   },
   "outputs": [
    {
     "data": {
      "text/html": [
       "<div>\n",
       "<table border=\"1\" class=\"dataframe\">\n",
       "  <thead>\n",
       "    <tr style=\"text-align: right;\">\n",
       "      <th></th>\n",
       "      <th>dbn</th>\n",
       "      <th>school_name</th>\n",
       "      <th>boro</th>\n",
       "      <th>building_code</th>\n",
       "      <th>phone_number</th>\n",
       "      <th>fax_number</th>\n",
       "      <th>grade_span_min</th>\n",
       "      <th>grade_span_max</th>\n",
       "      <th>expgrade_span_min</th>\n",
       "      <th>expgrade_span_max</th>\n",
       "      <th>...</th>\n",
       "      <th>priority03</th>\n",
       "      <th>priority04</th>\n",
       "      <th>priority05</th>\n",
       "      <th>priority06</th>\n",
       "      <th>priority07</th>\n",
       "      <th>priority08</th>\n",
       "      <th>priority09</th>\n",
       "      <th>priority10</th>\n",
       "      <th>Location 1</th>\n",
       "      <th>DBN</th>\n",
       "    </tr>\n",
       "  </thead>\n",
       "  <tbody>\n",
       "    <tr>\n",
       "      <th>0</th>\n",
       "      <td>17K548</td>\n",
       "      <td>Brooklyn School for Music &amp; Theatre</td>\n",
       "      <td>Brooklyn</td>\n",
       "      <td>K440</td>\n",
       "      <td>718-230-6250</td>\n",
       "      <td>718-230-6262</td>\n",
       "      <td>9</td>\n",
       "      <td>12</td>\n",
       "      <td>NaN</td>\n",
       "      <td>NaN</td>\n",
       "      <td>...</td>\n",
       "      <td>NaN</td>\n",
       "      <td>NaN</td>\n",
       "      <td>NaN</td>\n",
       "      <td>NaN</td>\n",
       "      <td>NaN</td>\n",
       "      <td>NaN</td>\n",
       "      <td>NaN</td>\n",
       "      <td>NaN</td>\n",
       "      <td>883 Classon Avenue\\nBrooklyn, NY 11225\\n(40.67...</td>\n",
       "      <td>17K548</td>\n",
       "    </tr>\n",
       "    <tr>\n",
       "      <th>1</th>\n",
       "      <td>09X543</td>\n",
       "      <td>High School for Violin and Dance</td>\n",
       "      <td>Bronx</td>\n",
       "      <td>X400</td>\n",
       "      <td>718-842-0687</td>\n",
       "      <td>718-589-9849</td>\n",
       "      <td>9</td>\n",
       "      <td>12</td>\n",
       "      <td>NaN</td>\n",
       "      <td>NaN</td>\n",
       "      <td>...</td>\n",
       "      <td>Then to Bronx students or residents</td>\n",
       "      <td>Then to New York City residents</td>\n",
       "      <td>NaN</td>\n",
       "      <td>NaN</td>\n",
       "      <td>NaN</td>\n",
       "      <td>NaN</td>\n",
       "      <td>NaN</td>\n",
       "      <td>NaN</td>\n",
       "      <td>1110 Boston Road\\nBronx, NY 10456\\n(40.8276026...</td>\n",
       "      <td>09X543</td>\n",
       "    </tr>\n",
       "    <tr>\n",
       "      <th>2</th>\n",
       "      <td>09X327</td>\n",
       "      <td>Comprehensive Model School Project M.S. 327</td>\n",
       "      <td>Bronx</td>\n",
       "      <td>X240</td>\n",
       "      <td>718-294-8111</td>\n",
       "      <td>718-294-8109</td>\n",
       "      <td>6</td>\n",
       "      <td>12</td>\n",
       "      <td>NaN</td>\n",
       "      <td>NaN</td>\n",
       "      <td>...</td>\n",
       "      <td>Then to New York City residents who attend an ...</td>\n",
       "      <td>Then to Bronx students or residents</td>\n",
       "      <td>Then to New York City residents</td>\n",
       "      <td>NaN</td>\n",
       "      <td>NaN</td>\n",
       "      <td>NaN</td>\n",
       "      <td>NaN</td>\n",
       "      <td>NaN</td>\n",
       "      <td>1501 Jerome Avenue\\nBronx, NY 10452\\n(40.84241...</td>\n",
       "      <td>09X327</td>\n",
       "    </tr>\n",
       "    <tr>\n",
       "      <th>3</th>\n",
       "      <td>02M280</td>\n",
       "      <td>Manhattan Early College School for Advertising</td>\n",
       "      <td>Manhattan</td>\n",
       "      <td>M520</td>\n",
       "      <td>718-935-3477</td>\n",
       "      <td>NaN</td>\n",
       "      <td>9</td>\n",
       "      <td>10</td>\n",
       "      <td>9</td>\n",
       "      <td>14.0</td>\n",
       "      <td>...</td>\n",
       "      <td>Then to Manhattan students or residents</td>\n",
       "      <td>Then to New York City residents</td>\n",
       "      <td>NaN</td>\n",
       "      <td>NaN</td>\n",
       "      <td>NaN</td>\n",
       "      <td>NaN</td>\n",
       "      <td>NaN</td>\n",
       "      <td>NaN</td>\n",
       "      <td>411 Pearl Street\\nNew York, NY 10038\\n(40.7106...</td>\n",
       "      <td>02M280</td>\n",
       "    </tr>\n",
       "    <tr>\n",
       "      <th>4</th>\n",
       "      <td>28Q680</td>\n",
       "      <td>Queens Gateway to Health Sciences Secondary Sc...</td>\n",
       "      <td>Queens</td>\n",
       "      <td>Q695</td>\n",
       "      <td>718-969-3155</td>\n",
       "      <td>718-969-3552</td>\n",
       "      <td>6</td>\n",
       "      <td>12</td>\n",
       "      <td>NaN</td>\n",
       "      <td>NaN</td>\n",
       "      <td>...</td>\n",
       "      <td>Then to Queens students or residents</td>\n",
       "      <td>Then to New York City residents</td>\n",
       "      <td>NaN</td>\n",
       "      <td>NaN</td>\n",
       "      <td>NaN</td>\n",
       "      <td>NaN</td>\n",
       "      <td>NaN</td>\n",
       "      <td>NaN</td>\n",
       "      <td>160-20 Goethals Avenue\\nJamaica, NY 11432\\n(40...</td>\n",
       "      <td>28Q680</td>\n",
       "    </tr>\n",
       "  </tbody>\n",
       "</table>\n",
       "<p>5 rows × 59 columns</p>\n",
       "</div>"
      ],
      "text/plain": [
       "      dbn                                        school_name       boro  \\\n",
       "0  17K548                Brooklyn School for Music & Theatre   Brooklyn   \n",
       "1  09X543                   High School for Violin and Dance      Bronx   \n",
       "2  09X327        Comprehensive Model School Project M.S. 327      Bronx   \n",
       "3  02M280     Manhattan Early College School for Advertising  Manhattan   \n",
       "4  28Q680  Queens Gateway to Health Sciences Secondary Sc...     Queens   \n",
       "\n",
       "  building_code    phone_number    fax_number grade_span_min  grade_span_max  \\\n",
       "0          K440    718-230-6250  718-230-6262              9              12   \n",
       "1          X400    718-842-0687  718-589-9849              9              12   \n",
       "2          X240    718-294-8111  718-294-8109              6              12   \n",
       "3          M520  718-935-3477             NaN              9              10   \n",
       "4          Q695    718-969-3155  718-969-3552              6              12   \n",
       "\n",
       "  expgrade_span_min  expgrade_span_max   ...    \\\n",
       "0               NaN                NaN   ...     \n",
       "1               NaN                NaN   ...     \n",
       "2               NaN                NaN   ...     \n",
       "3                 9               14.0   ...     \n",
       "4               NaN                NaN   ...     \n",
       "\n",
       "                                          priority03  \\\n",
       "0                                                NaN   \n",
       "1                Then to Bronx students or residents   \n",
       "2  Then to New York City residents who attend an ...   \n",
       "3          Then to Manhattan students or residents     \n",
       "4               Then to Queens students or residents   \n",
       "\n",
       "                            priority04                       priority05  \\\n",
       "0                                  NaN                              NaN   \n",
       "1      Then to New York City residents                              NaN   \n",
       "2  Then to Bronx students or residents  Then to New York City residents   \n",
       "3      Then to New York City residents                              NaN   \n",
       "4      Then to New York City residents                              NaN   \n",
       "\n",
       "  priority06 priority07  priority08 priority09  priority10  \\\n",
       "0        NaN        NaN         NaN        NaN         NaN   \n",
       "1        NaN        NaN         NaN        NaN         NaN   \n",
       "2        NaN        NaN         NaN        NaN         NaN   \n",
       "3        NaN        NaN         NaN        NaN         NaN   \n",
       "4        NaN        NaN         NaN        NaN         NaN   \n",
       "\n",
       "                                          Location 1     DBN  \n",
       "0  883 Classon Avenue\\nBrooklyn, NY 11225\\n(40.67...  17K548  \n",
       "1  1110 Boston Road\\nBronx, NY 10456\\n(40.8276026...  09X543  \n",
       "2  1501 Jerome Avenue\\nBronx, NY 10452\\n(40.84241...  09X327  \n",
       "3  411 Pearl Street\\nNew York, NY 10038\\n(40.7106...  02M280  \n",
       "4  160-20 Goethals Avenue\\nJamaica, NY 11432\\n(40...  28Q680  \n",
       "\n",
       "[5 rows x 59 columns]"
      ]
     },
     "execution_count": 96,
     "metadata": {},
     "output_type": "execute_result"
    }
   ],
   "source": [
    "hs = data['hs_directory']\n",
    "hs.head()"
   ]
  },
  {
   "cell_type": "code",
   "execution_count": 97,
   "metadata": {
    "collapsed": true
   },
   "outputs": [
    {
     "name": "stdout",
     "output_type": "stream",
     "text": [
      "<class 'pandas.core.frame.DataFrame'>\n",
      "RangeIndex: 435 entries, 0 to 434\n",
      "Data columns (total 59 columns):\n",
      "dbn                                 435 non-null object\n",
      "school_name                         435 non-null object\n",
      "boro                                435 non-null object\n",
      "building_code                       435 non-null object\n",
      "phone_number                        435 non-null object\n",
      "fax_number                          423 non-null object\n",
      "grade_span_min                      435 non-null object\n",
      "grade_span_max                      435 non-null int64\n",
      "expgrade_span_min                   33 non-null object\n",
      "expgrade_span_max                   33 non-null float64\n",
      "bus                                 434 non-null object\n",
      "subway                              358 non-null object\n",
      "primary_address_line_1              435 non-null object\n",
      "city                                435 non-null object\n",
      "state_code                          435 non-null object\n",
      "zip                                 435 non-null int64\n",
      "website                             430 non-null object\n",
      "total_students                      426 non-null float64\n",
      "campus_name                         217 non-null object\n",
      "school_type                         104 non-null object\n",
      "overview_paragraph                  434 non-null object\n",
      "program_highlights                  434 non-null object\n",
      "language_classes                    412 non-null object\n",
      "advancedplacement_courses           340 non-null object\n",
      "online_ap_courses                   64 non-null object\n",
      "online_language_courses             73 non-null object\n",
      "extracurricular_activities          435 non-null object\n",
      "psal_sports_boys                    380 non-null object\n",
      "psal_sports_girls                   373 non-null object\n",
      "psal_sports_coed                    147 non-null object\n",
      "school_sports                       297 non-null object\n",
      "partner_cbo                         354 non-null object\n",
      "partner_hospital                    196 non-null object\n",
      "partner_highered                    378 non-null object\n",
      "partner_cultural                    305 non-null object\n",
      "partner_nonprofit                   298 non-null object\n",
      "partner_corporate                   198 non-null object\n",
      "partner_financial                   72 non-null object\n",
      "partner_other                       188 non-null object\n",
      "addtl_info1                         354 non-null object\n",
      "addtl_info2                         229 non-null object\n",
      "start_time                          431 non-null object\n",
      "end_time                            431 non-null object\n",
      "se_services                         435 non-null object\n",
      "ell_programs                        435 non-null object\n",
      "school_accessibility_description    435 non-null object\n",
      "number_programs                     435 non-null int64\n",
      "priority01                          435 non-null object\n",
      "priority02                          352 non-null object\n",
      "priority03                          243 non-null object\n",
      "priority04                          177 non-null object\n",
      "priority05                          39 non-null object\n",
      "priority06                          17 non-null object\n",
      "priority07                          4 non-null object\n",
      "priority08                          1 non-null object\n",
      "priority09                          1 non-null object\n",
      "priority10                          1 non-null object\n",
      "Location 1                          435 non-null object\n",
      "DBN                                 435 non-null object\n",
      "dtypes: float64(2), int64(3), object(54)\n",
      "memory usage: 200.6+ KB\n"
     ]
    }
   ],
   "source": [
    "hs.info()"
   ]
  },
  {
   "cell_type": "code",
   "execution_count": 98,
   "metadata": {
    "collapsed": false
   },
   "outputs": [],
   "source": [
    "hs.grade_span_min = pd.to_numeric(hs.grade_span_min, errors='coerce')"
   ]
  },
  {
   "cell_type": "code",
   "execution_count": 99,
   "metadata": {
    "collapsed": false
   },
   "outputs": [
    {
     "name": "stdout",
     "output_type": "stream",
     "text": [
      "<class 'pandas.core.frame.DataFrame'>\n",
      "Int64Index: 432 entries, 0 to 434\n",
      "Data columns (total 59 columns):\n",
      "dbn                                 432 non-null object\n",
      "school_name                         432 non-null object\n",
      "boro                                432 non-null object\n",
      "building_code                       432 non-null object\n",
      "phone_number                        432 non-null object\n",
      "fax_number                          420 non-null object\n",
      "grade_span_min                      432 non-null float64\n",
      "grade_span_max                      432 non-null int64\n",
      "expgrade_span_min                   32 non-null object\n",
      "expgrade_span_max                   32 non-null float64\n",
      "bus                                 431 non-null object\n",
      "subway                              356 non-null object\n",
      "primary_address_line_1              432 non-null object\n",
      "city                                432 non-null object\n",
      "state_code                          432 non-null object\n",
      "zip                                 432 non-null int64\n",
      "website                             427 non-null object\n",
      "total_students                      423 non-null float64\n",
      "campus_name                         216 non-null object\n",
      "school_type                         104 non-null object\n",
      "overview_paragraph                  431 non-null object\n",
      "program_highlights                  431 non-null object\n",
      "language_classes                    409 non-null object\n",
      "advancedplacement_courses           337 non-null object\n",
      "online_ap_courses                   64 non-null object\n",
      "online_language_courses             73 non-null object\n",
      "extracurricular_activities          432 non-null object\n",
      "psal_sports_boys                    378 non-null object\n",
      "psal_sports_girls                   371 non-null object\n",
      "psal_sports_coed                    147 non-null object\n",
      "school_sports                       294 non-null object\n",
      "partner_cbo                         351 non-null object\n",
      "partner_hospital                    196 non-null object\n",
      "partner_highered                    376 non-null object\n",
      "partner_cultural                    303 non-null object\n",
      "partner_nonprofit                   296 non-null object\n",
      "partner_corporate                   197 non-null object\n",
      "partner_financial                   72 non-null object\n",
      "partner_other                       188 non-null object\n",
      "addtl_info1                         352 non-null object\n",
      "addtl_info2                         229 non-null object\n",
      "start_time                          428 non-null object\n",
      "end_time                            428 non-null object\n",
      "se_services                         432 non-null object\n",
      "ell_programs                        432 non-null object\n",
      "school_accessibility_description    432 non-null object\n",
      "number_programs                     432 non-null int64\n",
      "priority01                          432 non-null object\n",
      "priority02                          350 non-null object\n",
      "priority03                          243 non-null object\n",
      "priority04                          177 non-null object\n",
      "priority05                          39 non-null object\n",
      "priority06                          17 non-null object\n",
      "priority07                          4 non-null object\n",
      "priority08                          1 non-null object\n",
      "priority09                          1 non-null object\n",
      "priority10                          1 non-null object\n",
      "Location 1                          432 non-null object\n",
      "DBN                                 432 non-null object\n",
      "dtypes: float64(3), int64(3), object(53)\n",
      "memory usage: 202.5+ KB\n"
     ]
    }
   ],
   "source": [
    "hs = hs.loc[(hs.grade_span_min <= 9)&(hs.grade_span_max >= 9), :]\n",
    "hs.info()"
   ]
  },
  {
   "cell_type": "markdown",
   "metadata": {},
   "source": [
    "观察到有很多栏目的值可能比较复杂，take a look："
   ]
  },
  {
   "cell_type": "code",
   "execution_count": 100,
   "metadata": {
    "collapsed": false
   },
   "outputs": [],
   "source": [
    "cols = ['school_type', 'advancedplacement_courses', 'online_ap_courses', \n",
    "        'extracurricular_activities', 'school_sports', 'partner_cbo', \n",
    "        'partner_hospital', 'partner_highered', 'partner_cultural', \n",
    "        'partner_nonprofit', 'partner_corporate', 'partner_financial', \n",
    "        'partner_other', 'se_services', 'ell_programs', 'number_programs']"
   ]
  },
  {
   "cell_type": "code",
   "execution_count": 101,
   "metadata": {
    "collapsed": false
   },
   "outputs": [
    {
     "name": "stdout",
     "output_type": "stream",
     "text": [
      "----------------------------------------\n",
      "school_type:\n",
      "\n",
      "CTE School           36\n",
      "Consortium School    17\n",
      "Name: school_type, dtype: int64\n",
      "----------------------------------------\n",
      "advancedplacement_courses:\n",
      "\n",
      "English Literature and Composition, United States History    10\n",
      "English Literature and Composition                            8\n",
      "Name: advancedplacement_courses, dtype: int64\n",
      "----------------------------------------\n",
      "online_ap_courses:\n",
      "\n",
      "Biology                         3\n",
      "Spanish Language and Culture    3\n",
      "Name: online_ap_courses, dtype: int64\n",
      "----------------------------------------\n",
      "extracurricular_activities:\n",
      "\n",
      "Campus Senate, Cartooning/Anime, Chess Club and Team, Creative Writing, English Classes for English Language Learners (ELLs), Fashion and Modeling, Mural Painting, Required Math and English Language Arts (ELA) After-school Tutoring, Saturday Regents Preparation, Salsa Dance, SAT Preparation, School Newspaper, Step, Student Leadership, Student Government, Young Runner's Team, Campus-wide Sports    1\n",
      "National Honor Society, Brave/Respect for All/Diversity Club, Double Discovery Center at Columbia University, Journalism/School Newspaper, Leadership Program, Dance, Cooking Club with Health Corps, Creative Writing, G.W. Campus Youth Theater Compa, NY Peer Mediation, Achieve Now Academy, SAT Preparation Program                                                                                        1\n",
      "Name: extracurricular_activities, dtype: int64\n",
      "----------------------------------------\n",
      "school_sports:\n",
      "\n",
      "Cheerleading         11\n",
      "Intramural Sports     4\n",
      "Name: school_sports, dtype: int64\n",
      "----------------------------------------\n",
      "partner_cbo:\n",
      "\n",
      "Children's Aid Society                                3\n",
      "Interborough Developmental and Consultation Center    2\n",
      "Name: partner_cbo, dtype: int64\n",
      "----------------------------------------\n",
      "partner_hospital:\n",
      "\n",
      "Montefiore Medical Center       6\n",
      "Morris Heights Health Center    3\n",
      "Name: partner_hospital, dtype: int64\n",
      "----------------------------------------\n",
      "partner_highered:\n",
      "\n",
      "Brooklyn College               5\n",
      "LaGuardia Community College    5\n",
      "Name: partner_highered, dtype: int64\n",
      "----------------------------------------\n",
      "partner_cultural:\n",
      "\n",
      "Comedy Hall of Fame                     2\n",
      "Jamaica Center for Arts and Learning    2\n",
      "Name: partner_cultural, dtype: int64\n",
      "----------------------------------------\n",
      "partner_nonprofit:\n",
      "\n",
      "New Visions for Public Schools    6\n",
      "The Urban Assembly                5\n",
      "Name: partner_nonprofit, dtype: int64\n",
      "----------------------------------------\n",
      "partner_corporate:\n",
      "\n",
      "Merrill Lynch      2\n",
      "Bank of America    2\n",
      "Name: partner_corporate, dtype: int64\n",
      "----------------------------------------\n",
      "partner_financial:\n",
      "\n",
      "JP Morgan Chase           4\n",
      "Ridgewood Savings Bank    2\n",
      "Name: partner_financial, dtype: int64\n",
      "----------------------------------------\n",
      "partner_other:\n",
      "\n",
      "Institute for Student Achievement          2\n",
      "Consulate General of France in New York    2\n",
      "Name: partner_other, dtype: int64\n",
      "----------------------------------------\n",
      "se_services:\n",
      "\n",
      "This school will provide students with disabilities the supports and services indicated on their IEPs.    432\n",
      "Name: se_services, dtype: int64\n",
      "----------------------------------------\n",
      "ell_programs:\n",
      "\n",
      "ESL                                             389\n",
      "ESL; Transitional Bilingual Program: Spanish     23\n",
      "Name: ell_programs, dtype: int64\n",
      "----------------------------------------\n",
      "number_programs:\n",
      "\n",
      "1    319\n",
      "2     46\n",
      "Name: number_programs, dtype: int64\n"
     ]
    }
   ],
   "source": [
    "for col in cols:\n",
    "    print('--' * 20)\n",
    "    print(col + ':\\n')\n",
    "    print(hs[col].value_counts().head(2))"
   ]
  },
  {
   "cell_type": "markdown",
   "metadata": {},
   "source": [
    "方便起见，吧合作伙伴的栏目从comma seperated string 转换成合作伙伴的数量："
   ]
  },
  {
   "cell_type": "code",
   "execution_count": 102,
   "metadata": {
    "collapsed": true
   },
   "outputs": [
    {
     "name": "stderr",
     "output_type": "stream",
     "text": [
      "/Users/EzraYang/anaconda/lib/python3.5/site-packages/pandas/core/indexing.py:465: SettingWithCopyWarning: \n",
      "A value is trying to be set on a copy of a slice from a DataFrame.\n",
      "Try using .loc[row_indexer,col_indexer] = value instead\n",
      "\n",
      "See the caveats in the documentation: http://pandas.pydata.org/pandas-docs/stable/indexing.html#indexing-view-versus-copy\n",
      "  self.obj[item] = s\n"
     ]
    }
   ],
   "source": [
    "try:\n",
    "    for col in cols[1:-1]:\n",
    "        hs.loc[:, col] = hs[col].fillna('').str.split(',')\n",
    "        hs.loc[:, col] = hs[col].apply(lambda x: 0 if x == [''] else len(x))\n",
    "except:\n",
    "    print(col)"
   ]
  },
  {
   "cell_type": "code",
   "execution_count": 103,
   "metadata": {
    "collapsed": false
   },
   "outputs": [
    {
     "name": "stdout",
     "output_type": "stream",
     "text": [
      "----------------------------------------\n",
      "school_type:\n",
      "\n",
      "CTE School           36\n",
      "Consortium School    17\n",
      "Name: school_type, dtype: int64\n",
      "----------------------------------------\n",
      "advancedplacement_courses:\n",
      "\n",
      "0    95\n",
      "3    46\n",
      "Name: advancedplacement_courses, dtype: int64\n",
      "----------------------------------------\n",
      "online_ap_courses:\n",
      "\n",
      "0    368\n",
      "2     17\n",
      "Name: online_ap_courses, dtype: int64\n",
      "----------------------------------------\n",
      "extracurricular_activities:\n",
      "\n",
      "12    28\n",
      "13    24\n",
      "Name: extracurricular_activities, dtype: int64\n",
      "----------------------------------------\n",
      "school_sports:\n",
      "\n",
      "0    138\n",
      "1     78\n",
      "Name: school_sports, dtype: int64\n",
      "----------------------------------------\n",
      "partner_cbo:\n",
      "\n",
      "1    90\n",
      "0    81\n",
      "Name: partner_cbo, dtype: int64\n",
      "----------------------------------------\n",
      "partner_hospital:\n",
      "\n",
      "0    236\n",
      "1    125\n",
      "Name: partner_hospital, dtype: int64\n",
      "----------------------------------------\n",
      "partner_highered:\n",
      "\n",
      "1    90\n",
      "2    64\n",
      "Name: partner_highered, dtype: int64\n",
      "----------------------------------------\n",
      "partner_cultural:\n",
      "\n",
      "0    129\n",
      "1     75\n",
      "Name: partner_cultural, dtype: int64\n",
      "----------------------------------------\n",
      "partner_nonprofit:\n",
      "\n",
      "0    136\n",
      "1    101\n",
      "Name: partner_nonprofit, dtype: int64\n",
      "----------------------------------------\n",
      "partner_corporate:\n",
      "\n",
      "0    235\n",
      "1     81\n",
      "Name: partner_corporate, dtype: int64\n",
      "----------------------------------------\n",
      "partner_financial:\n",
      "\n",
      "0    360\n",
      "1     46\n",
      "Name: partner_financial, dtype: int64\n",
      "----------------------------------------\n",
      "partner_other:\n",
      "\n",
      "0    244\n",
      "1     82\n",
      "Name: partner_other, dtype: int64\n",
      "----------------------------------------\n",
      "se_services:\n",
      "\n",
      "1    432\n",
      "Name: se_services, dtype: int64\n",
      "----------------------------------------\n",
      "ell_programs:\n",
      "\n",
      "1    422\n",
      "2      9\n",
      "Name: ell_programs, dtype: int64\n",
      "----------------------------------------\n",
      "number_programs:\n",
      "\n",
      "1    319\n",
      "2     46\n",
      "Name: number_programs, dtype: int64\n"
     ]
    }
   ],
   "source": [
    "for col in cols:\n",
    "    print('--' * 20)\n",
    "    print(col + ':\\n')\n",
    "    print(hs[col].value_counts().head(2))"
   ]
  },
  {
   "cell_type": "markdown",
   "metadata": {},
   "source": [
    "Now they are all in int type."
   ]
  },
  {
   "cell_type": "code",
   "execution_count": 104,
   "metadata": {
    "collapsed": false,
    "scrolled": true
   },
   "outputs": [
    {
     "name": "stdout",
     "output_type": "stream",
     "text": [
      "<class 'pandas.core.frame.DataFrame'>\n",
      "Int64Index: 432 entries, 0 to 434\n",
      "Data columns (total 59 columns):\n",
      "dbn                                 432 non-null object\n",
      "school_name                         432 non-null object\n",
      "boro                                432 non-null object\n",
      "building_code                       432 non-null object\n",
      "phone_number                        432 non-null object\n",
      "fax_number                          420 non-null object\n",
      "grade_span_min                      432 non-null float64\n",
      "grade_span_max                      432 non-null int64\n",
      "expgrade_span_min                   32 non-null object\n",
      "expgrade_span_max                   32 non-null float64\n",
      "bus                                 431 non-null object\n",
      "subway                              356 non-null object\n",
      "primary_address_line_1              432 non-null object\n",
      "city                                432 non-null object\n",
      "state_code                          432 non-null object\n",
      "zip                                 432 non-null int64\n",
      "website                             427 non-null object\n",
      "total_students                      423 non-null float64\n",
      "campus_name                         216 non-null object\n",
      "school_type                         104 non-null object\n",
      "overview_paragraph                  431 non-null object\n",
      "program_highlights                  431 non-null object\n",
      "language_classes                    409 non-null object\n",
      "advancedplacement_courses           432 non-null int64\n",
      "online_ap_courses                   432 non-null int64\n",
      "online_language_courses             73 non-null object\n",
      "extracurricular_activities          432 non-null int64\n",
      "psal_sports_boys                    378 non-null object\n",
      "psal_sports_girls                   371 non-null object\n",
      "psal_sports_coed                    147 non-null object\n",
      "school_sports                       432 non-null int64\n",
      "partner_cbo                         432 non-null int64\n",
      "partner_hospital                    432 non-null int64\n",
      "partner_highered                    432 non-null int64\n",
      "partner_cultural                    432 non-null int64\n",
      "partner_nonprofit                   432 non-null int64\n",
      "partner_corporate                   432 non-null int64\n",
      "partner_financial                   432 non-null int64\n",
      "partner_other                       432 non-null int64\n",
      "addtl_info1                         352 non-null object\n",
      "addtl_info2                         229 non-null object\n",
      "start_time                          428 non-null object\n",
      "end_time                            428 non-null object\n",
      "se_services                         432 non-null int64\n",
      "ell_programs                        432 non-null int64\n",
      "school_accessibility_description    432 non-null object\n",
      "number_programs                     432 non-null int64\n",
      "priority01                          432 non-null object\n",
      "priority02                          350 non-null object\n",
      "priority03                          243 non-null object\n",
      "priority04                          177 non-null object\n",
      "priority05                          39 non-null object\n",
      "priority06                          17 non-null object\n",
      "priority07                          4 non-null object\n",
      "priority08                          1 non-null object\n",
      "priority09                          1 non-null object\n",
      "priority10                          1 non-null object\n",
      "Location 1                          432 non-null object\n",
      "DBN                                 432 non-null object\n",
      "dtypes: float64(3), int64(17), object(39)\n",
      "memory usage: 202.5+ KB\n"
     ]
    }
   ],
   "source": [
    "hs.info()"
   ]
  },
  {
   "cell_type": "code",
   "execution_count": 105,
   "metadata": {
    "collapsed": true
   },
   "outputs": [
    {
     "name": "stderr",
     "output_type": "stream",
     "text": [
      "/Users/EzraYang/anaconda/lib/python3.5/site-packages/ipykernel/__main__.py:2: SettingWithCopyWarning: \n",
      "A value is trying to be set on a copy of a slice from a DataFrame.\n",
      "Try using .loc[row_indexer,col_indexer] = value instead\n",
      "\n",
      "See the caveats in the documentation: http://pandas.pydata.org/pandas-docs/stable/indexing.html#indexing-view-versus-copy\n",
      "  from ipykernel import kernelapp as app\n",
      "/Users/EzraYang/anaconda/lib/python3.5/site-packages/ipykernel/__main__.py:3: SettingWithCopyWarning: \n",
      "A value is trying to be set on a copy of a slice from a DataFrame.\n",
      "Try using .loc[row_indexer,col_indexer] = value instead\n",
      "\n",
      "See the caveats in the documentation: http://pandas.pydata.org/pandas-docs/stable/indexing.html#indexing-view-versus-copy\n",
      "  app.launch_new_instance()\n",
      "/Users/EzraYang/anaconda/lib/python3.5/site-packages/ipykernel/__main__.py:6: SettingWithCopyWarning: \n",
      "A value is trying to be set on a copy of a slice from a DataFrame.\n",
      "Try using .loc[row_indexer,col_indexer] = value instead\n",
      "\n",
      "See the caveats in the documentation: http://pandas.pydata.org/pandas-docs/stable/indexing.html#indexing-view-versus-copy\n"
     ]
    }
   ],
   "source": [
    "# adding lat and lon columns\n",
    "hs['lat'] = hs['Location 1'].apply(lambda x: x.split(\"\\n\")[-1].replace(\"(\", \"\").replace(\")\", \"\").split(\", \")[0])\n",
    "hs['lon'] = hs['Location 1'].apply(lambda x: x.split(\"\\n\")[-1].replace(\"(\", \"\").replace(\")\", \"\").split(\", \")[1])\n",
    "\n",
    "for c in ['lat', 'lon']:\n",
    "    hs[c] = pd.to_numeric(hs[c])"
   ]
  },
  {
   "cell_type": "code",
   "execution_count": 106,
   "metadata": {
    "collapsed": false
   },
   "outputs": [],
   "source": [
    "data['hs_directory'] = hs"
   ]
  },
  {
   "cell_type": "markdown",
   "metadata": {},
   "source": [
    "### 3.2 clean 'survey' dataset "
   ]
  },
  {
   "cell_type": "code",
   "execution_count": 107,
   "metadata": {
    "collapsed": false
   },
   "outputs": [
    {
     "data": {
      "text/html": [
       "<div>\n",
       "<table border=\"1\" class=\"dataframe\">\n",
       "  <thead>\n",
       "    <tr style=\"text-align: right;\">\n",
       "      <th></th>\n",
       "      <th>DBN</th>\n",
       "      <th>rr_s</th>\n",
       "      <th>rr_t</th>\n",
       "      <th>rr_p</th>\n",
       "      <th>N_s</th>\n",
       "      <th>N_t</th>\n",
       "      <th>N_p</th>\n",
       "      <th>saf_p_11</th>\n",
       "      <th>com_p_11</th>\n",
       "      <th>eng_p_11</th>\n",
       "      <th>...</th>\n",
       "      <th>eng_t_10</th>\n",
       "      <th>aca_t_11</th>\n",
       "      <th>saf_s_11</th>\n",
       "      <th>com_s_11</th>\n",
       "      <th>eng_s_11</th>\n",
       "      <th>aca_s_11</th>\n",
       "      <th>saf_tot_11</th>\n",
       "      <th>com_tot_11</th>\n",
       "      <th>eng_tot_11</th>\n",
       "      <th>aca_tot_11</th>\n",
       "    </tr>\n",
       "  </thead>\n",
       "  <tbody>\n",
       "    <tr>\n",
       "      <th>0</th>\n",
       "      <td>01M015</td>\n",
       "      <td>NaN</td>\n",
       "      <td>88</td>\n",
       "      <td>60</td>\n",
       "      <td>NaN</td>\n",
       "      <td>22.0</td>\n",
       "      <td>90.0</td>\n",
       "      <td>8.5</td>\n",
       "      <td>7.6</td>\n",
       "      <td>7.5</td>\n",
       "      <td>...</td>\n",
       "      <td>NaN</td>\n",
       "      <td>7.9</td>\n",
       "      <td>NaN</td>\n",
       "      <td>NaN</td>\n",
       "      <td>NaN</td>\n",
       "      <td>NaN</td>\n",
       "      <td>8.0</td>\n",
       "      <td>7.7</td>\n",
       "      <td>7.5</td>\n",
       "      <td>7.9</td>\n",
       "    </tr>\n",
       "    <tr>\n",
       "      <th>1</th>\n",
       "      <td>01M019</td>\n",
       "      <td>NaN</td>\n",
       "      <td>100</td>\n",
       "      <td>60</td>\n",
       "      <td>NaN</td>\n",
       "      <td>34.0</td>\n",
       "      <td>161.0</td>\n",
       "      <td>8.4</td>\n",
       "      <td>7.6</td>\n",
       "      <td>7.6</td>\n",
       "      <td>...</td>\n",
       "      <td>NaN</td>\n",
       "      <td>9.1</td>\n",
       "      <td>NaN</td>\n",
       "      <td>NaN</td>\n",
       "      <td>NaN</td>\n",
       "      <td>NaN</td>\n",
       "      <td>8.5</td>\n",
       "      <td>8.1</td>\n",
       "      <td>8.2</td>\n",
       "      <td>8.4</td>\n",
       "    </tr>\n",
       "    <tr>\n",
       "      <th>2</th>\n",
       "      <td>01M020</td>\n",
       "      <td>NaN</td>\n",
       "      <td>88</td>\n",
       "      <td>73</td>\n",
       "      <td>NaN</td>\n",
       "      <td>42.0</td>\n",
       "      <td>367.0</td>\n",
       "      <td>8.9</td>\n",
       "      <td>8.3</td>\n",
       "      <td>8.3</td>\n",
       "      <td>...</td>\n",
       "      <td>NaN</td>\n",
       "      <td>7.5</td>\n",
       "      <td>NaN</td>\n",
       "      <td>NaN</td>\n",
       "      <td>NaN</td>\n",
       "      <td>NaN</td>\n",
       "      <td>8.2</td>\n",
       "      <td>7.3</td>\n",
       "      <td>7.5</td>\n",
       "      <td>8.0</td>\n",
       "    </tr>\n",
       "    <tr>\n",
       "      <th>3</th>\n",
       "      <td>01M034</td>\n",
       "      <td>89.0</td>\n",
       "      <td>73</td>\n",
       "      <td>50</td>\n",
       "      <td>145.0</td>\n",
       "      <td>29.0</td>\n",
       "      <td>151.0</td>\n",
       "      <td>8.8</td>\n",
       "      <td>8.2</td>\n",
       "      <td>8.0</td>\n",
       "      <td>...</td>\n",
       "      <td>NaN</td>\n",
       "      <td>7.8</td>\n",
       "      <td>6.2</td>\n",
       "      <td>5.9</td>\n",
       "      <td>6.5</td>\n",
       "      <td>7.4</td>\n",
       "      <td>7.3</td>\n",
       "      <td>6.7</td>\n",
       "      <td>7.1</td>\n",
       "      <td>7.9</td>\n",
       "    </tr>\n",
       "    <tr>\n",
       "      <th>4</th>\n",
       "      <td>01M063</td>\n",
       "      <td>NaN</td>\n",
       "      <td>100</td>\n",
       "      <td>60</td>\n",
       "      <td>NaN</td>\n",
       "      <td>23.0</td>\n",
       "      <td>90.0</td>\n",
       "      <td>8.7</td>\n",
       "      <td>7.9</td>\n",
       "      <td>8.1</td>\n",
       "      <td>...</td>\n",
       "      <td>NaN</td>\n",
       "      <td>8.1</td>\n",
       "      <td>NaN</td>\n",
       "      <td>NaN</td>\n",
       "      <td>NaN</td>\n",
       "      <td>NaN</td>\n",
       "      <td>8.5</td>\n",
       "      <td>7.6</td>\n",
       "      <td>7.9</td>\n",
       "      <td>8.0</td>\n",
       "    </tr>\n",
       "  </tbody>\n",
       "</table>\n",
       "<p>5 rows × 23 columns</p>\n",
       "</div>"
      ],
      "text/plain": [
       "      DBN  rr_s  rr_t  rr_p    N_s   N_t    N_p  saf_p_11  com_p_11  eng_p_11  \\\n",
       "0  01M015   NaN    88    60    NaN  22.0   90.0       8.5       7.6       7.5   \n",
       "1  01M019   NaN   100    60    NaN  34.0  161.0       8.4       7.6       7.6   \n",
       "2  01M020   NaN    88    73    NaN  42.0  367.0       8.9       8.3       8.3   \n",
       "3  01M034  89.0    73    50  145.0  29.0  151.0       8.8       8.2       8.0   \n",
       "4  01M063   NaN   100    60    NaN  23.0   90.0       8.7       7.9       8.1   \n",
       "\n",
       "      ...      eng_t_10  aca_t_11  saf_s_11  com_s_11  eng_s_11  aca_s_11  \\\n",
       "0     ...           NaN       7.9       NaN       NaN       NaN       NaN   \n",
       "1     ...           NaN       9.1       NaN       NaN       NaN       NaN   \n",
       "2     ...           NaN       7.5       NaN       NaN       NaN       NaN   \n",
       "3     ...           NaN       7.8       6.2       5.9       6.5       7.4   \n",
       "4     ...           NaN       8.1       NaN       NaN       NaN       NaN   \n",
       "\n",
       "   saf_tot_11  com_tot_11  eng_tot_11  aca_tot_11  \n",
       "0         8.0         7.7         7.5         7.9  \n",
       "1         8.5         8.1         8.2         8.4  \n",
       "2         8.2         7.3         7.5         8.0  \n",
       "3         7.3         6.7         7.1         7.9  \n",
       "4         8.5         7.6         7.9         8.0  \n",
       "\n",
       "[5 rows x 23 columns]"
      ]
     },
     "execution_count": 107,
     "metadata": {},
     "output_type": "execute_result"
    }
   ],
   "source": [
    "sv = data['survey']\n",
    "sv.head()"
   ]
  },
  {
   "cell_type": "code",
   "execution_count": 108,
   "metadata": {
    "collapsed": false
   },
   "outputs": [
    {
     "name": "stdout",
     "output_type": "stream",
     "text": [
      "<class 'pandas.core.frame.DataFrame'>\n",
      "Int64Index: 1702 entries, 0 to 55\n",
      "Data columns (total 23 columns):\n",
      "DBN           1702 non-null object\n",
      "rr_s          1041 non-null float64\n",
      "rr_t          1702 non-null int64\n",
      "rr_p          1702 non-null int64\n",
      "N_s           1036 non-null float64\n",
      "N_t           1700 non-null float64\n",
      "N_p           1696 non-null float64\n",
      "saf_p_11      1696 non-null float64\n",
      "com_p_11      1696 non-null float64\n",
      "eng_p_11      1696 non-null float64\n",
      "aca_p_11      1696 non-null float64\n",
      "saf_t_11      1700 non-null float64\n",
      "com_t_11      1700 non-null float64\n",
      "eng_t_10      0 non-null float64\n",
      "aca_t_11      1700 non-null float64\n",
      "saf_s_11      1036 non-null float64\n",
      "com_s_11      1036 non-null float64\n",
      "eng_s_11      1036 non-null float64\n",
      "aca_s_11      1036 non-null float64\n",
      "saf_tot_11    1702 non-null float64\n",
      "com_tot_11    1702 non-null float64\n",
      "eng_tot_11    1702 non-null float64\n",
      "aca_tot_11    1702 non-null float64\n",
      "dtypes: float64(20), int64(2), object(1)\n",
      "memory usage: 319.1+ KB\n"
     ]
    }
   ],
   "source": [
    "sv.info()"
   ]
  },
  {
   "cell_type": "code",
   "execution_count": null,
   "metadata": {
    "collapsed": true
   },
   "outputs": [],
   "source": [
    "# it's clean enough, don't have to do nothing"
   ]
  },
  {
   "cell_type": "markdown",
   "metadata": {},
   "source": [
    "### 3.3 clean 'sat_results'"
   ]
  },
  {
   "cell_type": "code",
   "execution_count": 109,
   "metadata": {
    "collapsed": false
   },
   "outputs": [
    {
     "data": {
      "text/html": [
       "<div>\n",
       "<table border=\"1\" class=\"dataframe\">\n",
       "  <thead>\n",
       "    <tr style=\"text-align: right;\">\n",
       "      <th></th>\n",
       "      <th>DBN</th>\n",
       "      <th>SCHOOL NAME</th>\n",
       "      <th>Num of SAT Test Takers</th>\n",
       "      <th>SAT Critical Reading Avg. Score</th>\n",
       "      <th>SAT Math Avg. Score</th>\n",
       "      <th>SAT Writing Avg. Score</th>\n",
       "    </tr>\n",
       "  </thead>\n",
       "  <tbody>\n",
       "    <tr>\n",
       "      <th>0</th>\n",
       "      <td>01M292</td>\n",
       "      <td>HENRY STREET SCHOOL FOR INTERNATIONAL STUDIES</td>\n",
       "      <td>29</td>\n",
       "      <td>355</td>\n",
       "      <td>404</td>\n",
       "      <td>363</td>\n",
       "    </tr>\n",
       "    <tr>\n",
       "      <th>1</th>\n",
       "      <td>01M448</td>\n",
       "      <td>UNIVERSITY NEIGHBORHOOD HIGH SCHOOL</td>\n",
       "      <td>91</td>\n",
       "      <td>383</td>\n",
       "      <td>423</td>\n",
       "      <td>366</td>\n",
       "    </tr>\n",
       "    <tr>\n",
       "      <th>2</th>\n",
       "      <td>01M450</td>\n",
       "      <td>EAST SIDE COMMUNITY SCHOOL</td>\n",
       "      <td>70</td>\n",
       "      <td>377</td>\n",
       "      <td>402</td>\n",
       "      <td>370</td>\n",
       "    </tr>\n",
       "    <tr>\n",
       "      <th>3</th>\n",
       "      <td>01M458</td>\n",
       "      <td>FORSYTH SATELLITE ACADEMY</td>\n",
       "      <td>7</td>\n",
       "      <td>414</td>\n",
       "      <td>401</td>\n",
       "      <td>359</td>\n",
       "    </tr>\n",
       "    <tr>\n",
       "      <th>4</th>\n",
       "      <td>01M509</td>\n",
       "      <td>MARTA VALLE HIGH SCHOOL</td>\n",
       "      <td>44</td>\n",
       "      <td>390</td>\n",
       "      <td>433</td>\n",
       "      <td>384</td>\n",
       "    </tr>\n",
       "  </tbody>\n",
       "</table>\n",
       "</div>"
      ],
      "text/plain": [
       "      DBN                                    SCHOOL NAME  \\\n",
       "0  01M292  HENRY STREET SCHOOL FOR INTERNATIONAL STUDIES   \n",
       "1  01M448            UNIVERSITY NEIGHBORHOOD HIGH SCHOOL   \n",
       "2  01M450                     EAST SIDE COMMUNITY SCHOOL   \n",
       "3  01M458                      FORSYTH SATELLITE ACADEMY   \n",
       "4  01M509                        MARTA VALLE HIGH SCHOOL   \n",
       "\n",
       "  Num of SAT Test Takers SAT Critical Reading Avg. Score SAT Math Avg. Score  \\\n",
       "0                     29                             355                 404   \n",
       "1                     91                             383                 423   \n",
       "2                     70                             377                 402   \n",
       "3                      7                             414                 401   \n",
       "4                     44                             390                 433   \n",
       "\n",
       "  SAT Writing Avg. Score  \n",
       "0                    363  \n",
       "1                    366  \n",
       "2                    370  \n",
       "3                    359  \n",
       "4                    384  "
      ]
     },
     "execution_count": 109,
     "metadata": {},
     "output_type": "execute_result"
    }
   ],
   "source": [
    "sat = data['sat_results']\n",
    "sat.head()"
   ]
  },
  {
   "cell_type": "code",
   "execution_count": 110,
   "metadata": {
    "collapsed": false
   },
   "outputs": [
    {
     "name": "stdout",
     "output_type": "stream",
     "text": [
      "<class 'pandas.core.frame.DataFrame'>\n",
      "RangeIndex: 478 entries, 0 to 477\n",
      "Data columns (total 6 columns):\n",
      "DBN                                478 non-null object\n",
      "SCHOOL NAME                        478 non-null object\n",
      "Num of SAT Test Takers             478 non-null object\n",
      "SAT Critical Reading Avg. Score    478 non-null object\n",
      "SAT Math Avg. Score                478 non-null object\n",
      "SAT Writing Avg. Score             478 non-null object\n",
      "dtypes: object(6)\n",
      "memory usage: 22.5+ KB\n"
     ]
    }
   ],
   "source": [
    "sat.info()"
   ]
  },
  {
   "cell_type": "code",
   "execution_count": 111,
   "metadata": {
    "collapsed": false
   },
   "outputs": [
    {
     "data": {
      "text/plain": [
       "Index(['DBN', 'SCHOOL NAME', 'Num of SAT Test Takers',\n",
       "       'SAT Critical Reading Avg. Score', 'SAT Math Avg. Score',\n",
       "       'SAT Writing Avg. Score'],\n",
       "      dtype='object')"
      ]
     },
     "execution_count": 111,
     "metadata": {},
     "output_type": "execute_result"
    }
   ],
   "source": [
    "sat.columns"
   ]
  },
  {
   "cell_type": "code",
   "execution_count": 112,
   "metadata": {
    "collapsed": true
   },
   "outputs": [],
   "source": [
    "cols = ['Num of SAT Test Takers',\n",
    "       'SAT Critical Reading Avg. Score', 'SAT Math Avg. Score',\n",
    "       'SAT Writing Avg. Score']"
   ]
  },
  {
   "cell_type": "code",
   "execution_count": 113,
   "metadata": {
    "collapsed": false
   },
   "outputs": [],
   "source": [
    "sat = obj_to_num(sat, cols)"
   ]
  },
  {
   "cell_type": "code",
   "execution_count": 114,
   "metadata": {
    "collapsed": true
   },
   "outputs": [],
   "source": [
    "sat['sat_score'] = sat[cols[1]] + sat[cols[2]] + sat[cols[3]]"
   ]
  },
  {
   "cell_type": "code",
   "execution_count": 115,
   "metadata": {
    "collapsed": false
   },
   "outputs": [
    {
     "name": "stdout",
     "output_type": "stream",
     "text": [
      "<class 'pandas.core.frame.DataFrame'>\n",
      "RangeIndex: 478 entries, 0 to 477\n",
      "Data columns (total 7 columns):\n",
      "DBN                                478 non-null object\n",
      "SCHOOL NAME                        478 non-null object\n",
      "Num of SAT Test Takers             421 non-null float64\n",
      "SAT Critical Reading Avg. Score    421 non-null float64\n",
      "SAT Math Avg. Score                421 non-null float64\n",
      "SAT Writing Avg. Score             421 non-null float64\n",
      "sat_score                          421 non-null float64\n",
      "dtypes: float64(5), object(2)\n",
      "memory usage: 26.2+ KB\n"
     ]
    }
   ],
   "source": [
    "sat.info()"
   ]
  },
  {
   "cell_type": "code",
   "execution_count": 116,
   "metadata": {
    "collapsed": true
   },
   "outputs": [],
   "source": [
    "data['sat_results'] = sat"
   ]
  },
  {
   "cell_type": "markdown",
   "metadata": {},
   "source": [
    "Now we have looked into each of the datasets in the 'data' dictionary, we've made sure each row represents a unique school, extract useful columns, and convert data type wherever necessary.  \n",
    "Next we can combine them into one single dataframe."
   ]
  },
  {
   "cell_type": "markdown",
   "metadata": {},
   "source": [
    "## PART IV combining the dataset and some more cleaning "
   ]
  },
  {
   "cell_type": "code",
   "execution_count": 117,
   "metadata": {
    "collapsed": false
   },
   "outputs": [
    {
     "data": {
      "text/plain": [
       "dict_keys(['demographics', 'survey', 'ap_2010', 'sat_results', 'graduation', 'math_test_results', 'hs_directory', 'class_size'])"
      ]
     },
     "execution_count": 117,
     "metadata": {},
     "output_type": "execute_result"
    }
   ],
   "source": [
    "data.keys()"
   ]
  },
  {
   "cell_type": "code",
   "execution_count": 118,
   "metadata": {
    "collapsed": false
   },
   "outputs": [],
   "source": [
    "full = data['sat_results']"
   ]
  },
  {
   "cell_type": "code",
   "execution_count": 119,
   "metadata": {
    "collapsed": true
   },
   "outputs": [],
   "source": [
    "for key in ['hs_directory', 'survey', 'math_test_results', 'graduation',\n",
    "            'ap_2010', 'class_size', 'demographics']:\n",
    "    full = full.merge(data[key], on='DBN', how='left')  # 以有sat_score的学校为准"
   ]
  },
  {
   "cell_type": "code",
   "execution_count": 120,
   "metadata": {
    "collapsed": false,
    "scrolled": true
   },
   "outputs": [
    {
     "name": "stdout",
     "output_type": "stream",
     "text": [
      "<class 'pandas.core.frame.DataFrame'>\n",
      "Int64Index: 478 entries, 0 to 477\n",
      "Columns: 152 entries, DBN to female_per\n",
      "dtypes: float64(109), object(43)\n",
      "memory usage: 571.4+ KB\n"
     ]
    }
   ],
   "source": [
    "full.info()"
   ]
  },
  {
   "cell_type": "code",
   "execution_count": 121,
   "metadata": {
    "collapsed": false
   },
   "outputs": [
    {
     "data": {
      "text/plain": [
       "(478, 152)"
      ]
     },
     "execution_count": 121,
     "metadata": {},
     "output_type": "execute_result"
    }
   ],
   "source": [
    "full.shape"
   ]
  },
  {
   "cell_type": "code",
   "execution_count": 122,
   "metadata": {
    "collapsed": true
   },
   "outputs": [],
   "source": [
    "# add a column to indicate school district\n",
    "full[\"school_dist\"] = full[\"DBN\"].apply(lambda x: x[:2])"
   ]
  },
  {
   "cell_type": "markdown",
   "metadata": {},
   "source": [
    "Finally, we’ll need to fill in any missing values in full with the median of the column, so we can compute correlations:"
   ]
  },
  {
   "cell_type": "code",
   "execution_count": 123,
   "metadata": {
    "collapsed": true
   },
   "outputs": [],
   "source": [
    "full = full.fillna(full.median())"
   ]
  },
  {
   "cell_type": "markdown",
   "metadata": {},
   "source": [
    "## PART V computing correlations"
   ]
  },
  {
   "cell_type": "code",
   "execution_count": 124,
   "metadata": {
    "collapsed": false
   },
   "outputs": [
    {
     "data": {
      "text/plain": [
       "(109, 109)"
      ]
     },
     "execution_count": 124,
     "metadata": {},
     "output_type": "execute_result"
    }
   ],
   "source": [
    "full.corr().shape"
   ]
  },
  {
   "cell_type": "code",
   "execution_count": 125,
   "metadata": {
    "collapsed": false
   },
   "outputs": [],
   "source": [
    "r = full.corr()['sat_score'].dropna().round(decimals=2)"
   ]
  },
  {
   "cell_type": "code",
   "execution_count": 126,
   "metadata": {
    "collapsed": false
   },
   "outputs": [],
   "source": [
    "strong = r[abs(r) >= 0.7]\n",
    "upper_med = r[(0.7> abs(r)) & (abs(r)>= 0.5)]\n",
    "lower_med = r[(0.5 > abs(r)) & (abs(r)>= 0.3)]\n",
    "weak = r[0.3 > abs(r) ]"
   ]
  },
  {
   "cell_type": "code",
   "execution_count": 127,
   "metadata": {
    "collapsed": false
   },
   "outputs": [
    {
     "name": "stdout",
     "output_type": "stream",
     "text": [
      "6\n",
      "11\n",
      "24\n",
      "64\n"
     ]
    }
   ],
   "source": [
    "for gr in [strong, upper_med, lower_med, weak]:\n",
    "    print(len(gr))"
   ]
  },
  {
   "cell_type": "code",
   "execution_count": 128,
   "metadata": {
    "collapsed": false
   },
   "outputs": [
    {
     "data": {
      "text/plain": [
       "sat_score                          1.00\n",
       "SAT Writing Avg. Score             0.98\n",
       "SAT Critical Reading Avg. Score    0.97\n",
       "SAT Math Avg. Score                0.95\n",
       "Advanced Regents - % of cohort     0.77\n",
       "Advanced Regents - % of grads      0.74\n",
       "Name: sat_score, dtype: float64"
      ]
     },
     "execution_count": 128,
     "metadata": {},
     "output_type": "execute_result"
    }
   ],
   "source": [
    "strong.sort_values(ascending=False)"
   ]
  },
  {
   "cell_type": "code",
   "execution_count": 129,
   "metadata": {
    "collapsed": false
   },
   "outputs": [
    {
     "data": {
      "text/plain": [
       "white_per                               0.64\n",
       "Advanced Regents - n                    0.62\n",
       "Total Regents - % of cohort             0.60\n",
       "AP Test Takers                          0.55\n",
       "Total Exams Taken                       0.54\n",
       "Total Regents - n                       0.54\n",
       "asian_per                               0.53\n",
       "Number of Exams with scores 3 4 or 5    0.53\n",
       "advancedplacement_courses               0.52\n",
       "fl_percent                             -0.67\n",
       "frl_percent                            -0.69\n",
       "Name: sat_score, dtype: float64"
      ]
     },
     "execution_count": 129,
     "metadata": {},
     "output_type": "execute_result"
    }
   ],
   "source": [
    "upper_med.sort_values(ascending=False)"
   ]
  },
  {
   "cell_type": "code",
   "execution_count": 130,
   "metadata": {
    "collapsed": true
   },
   "outputs": [
    {
     "data": {
      "text/plain": [
       "Num of SAT Test Takers               0.49\n",
       "Total Grads - % of cohort            0.48\n",
       "Total Regents - % of grads           0.47\n",
       "Total Grads - n                      0.47\n",
       "asian_num                            0.45\n",
       "N_p                                  0.44\n",
       "white_num                            0.44\n",
       "N_s                                  0.43\n",
       "total_students                       0.41\n",
       "extracurricular_activities           0.41\n",
       "number of students / seats filled    0.39\n",
       "average class size                   0.37\n",
       "number of sections                   0.36\n",
       "female_num                           0.33\n",
       "total_enrollment                     0.32\n",
       "size of largest class                0.31\n",
       "N_t                                  0.30\n",
       "ell_percent                         -0.33\n",
       "sped_percent                        -0.36\n",
       "hispanic_per                        -0.36\n",
       "Still Enrolled - % of cohort        -0.37\n",
       "Local - % of cohort                 -0.40\n",
       "Dropped Out - % of cohort           -0.44\n",
       "Local - % of grads                  -0.47\n",
       "Name: sat_score, dtype: float64"
      ]
     },
     "execution_count": 130,
     "metadata": {},
     "output_type": "execute_result"
    }
   ],
   "source": [
    "lower_med.sort_values(ascending=False)"
   ]
  },
  {
   "cell_type": "code",
   "execution_count": 135,
   "metadata": {
    "collapsed": true
   },
   "outputs": [
    {
     "data": {
      "text/plain": [
       "male_num                              0.29\n",
       "Total Cohort                          0.29\n",
       "rr_s                                  0.27\n",
       "saf_t_11                              0.27\n",
       "size of smallest class                0.25\n",
       "aca_s_11                              0.25\n",
       "Level 4 %                             0.25\n",
       "saf_tot_11                            0.24\n",
       "Level 3+4 %                           0.24\n",
       "saf_s_11                              0.23\n",
       "Mean Scale Score                      0.23\n",
       "Regents w/o Advanced - n              0.22\n",
       "Level 4 #                             0.22\n",
       "Level 3+4 #                           0.19\n",
       "partner_highered                      0.18\n",
       "number_programs                       0.16\n",
       "aca_tot_11                            0.15\n",
       "partner_cultural                      0.14\n",
       "com_s_11                              0.13\n",
       "eng_s_11                              0.13\n",
       "aca_t_11                              0.12\n",
       "Level 3 %                             0.11\n",
       "rr_p                                  0.10\n",
       "Level 3 #                             0.10\n",
       "saf_p_11                              0.09\n",
       "partner_financial                     0.08\n",
       "com_t_11                              0.08\n",
       "female_per                            0.08\n",
       "eng_tot_11                            0.07\n",
       "com_tot_11                            0.07\n",
       "                                      ... \n",
       "hispanic_num                          0.03\n",
       "black_num                             0.03\n",
       "Regents w/o Advanced - % of cohort    0.03\n",
       "partner_other                         0.03\n",
       "selfcontained_num                     0.03\n",
       "aca_p_11                              0.02\n",
       "eng_p_11                              0.02\n",
       "rr_t                                  0.00\n",
       "partner_nonprofit                    -0.01\n",
       "ctt_num                              -0.01\n",
       "zip                                  -0.02\n",
       "partner_hospital                     -0.02\n",
       "online_ap_courses                    -0.04\n",
       "school_sports                        -0.04\n",
       "grade_span_min                       -0.06\n",
       "partner_cbo                          -0.07\n",
       "male_per                             -0.08\n",
       "com_p_11                             -0.09\n",
       "ell_num                              -0.09\n",
       "Local - n                            -0.10\n",
       "Still Enrolled - n                   -0.11\n",
       "lat                                  -0.11\n",
       "lon                                  -0.11\n",
       "Dropped Out - n                      -0.11\n",
       "Level 1 %                            -0.14\n",
       "Level 2 #                            -0.15\n",
       "Level 1 #                            -0.16\n",
       "Level 2 %                            -0.26\n",
       "Regents w/o Advanced - % of grads    -0.28\n",
       "black_per                            -0.29\n",
       "Name: sat_score, dtype: float64"
      ]
     },
     "execution_count": 135,
     "metadata": {},
     "output_type": "execute_result"
    }
   ],
   "source": [
    "weak.sort_values(ascending=False)"
   ]
  },
  {
   "cell_type": "code",
   "execution_count": 131,
   "metadata": {
    "collapsed": true
   },
   "outputs": [
    {
     "name": "stdout",
     "output_type": "stream",
     "text": [
      "demographics :\n",
      "Index(['DBN', 'fl_percent', 'frl_percent', 'total_enrollment', 'ell_num',\n",
      "       'ell_percent', 'sped_num', 'sped_percent', 'ctt_num',\n",
      "       'selfcontained_num', 'asian_num', 'asian_per', 'black_num', 'black_per',\n",
      "       'hispanic_num', 'hispanic_per', 'white_num', 'white_per', 'male_num',\n",
      "       'male_per', 'female_num', 'female_per'],\n",
      "      dtype='object')\n",
      "survey :\n",
      "Index(['DBN', 'rr_s', 'rr_t', 'rr_p', 'N_s', 'N_t', 'N_p', 'saf_p_11',\n",
      "       'com_p_11', 'eng_p_11', 'aca_p_11', 'saf_t_11', 'com_t_11', 'eng_t_10',\n",
      "       'aca_t_11', 'saf_s_11', 'com_s_11', 'eng_s_11', 'aca_s_11',\n",
      "       'saf_tot_11', 'com_tot_11', 'eng_tot_11', 'aca_tot_11'],\n",
      "      dtype='object')\n",
      "ap_2010 :\n",
      "Index(['DBN', 'SchoolName', 'AP Test Takers', 'Total Exams Taken',\n",
      "       'Number of Exams with scores 3 4 or 5'],\n",
      "      dtype='object')\n",
      "sat_results :\n",
      "Index(['DBN', 'SCHOOL NAME', 'Num of SAT Test Takers',\n",
      "       'SAT Critical Reading Avg. Score', 'SAT Math Avg. Score',\n",
      "       'SAT Writing Avg. Score', 'sat_score'],\n",
      "      dtype='object')\n",
      "graduation :\n",
      "Index(['DBN', 'School Name', 'Total Cohort', 'Total Grads - n',\n",
      "       'Total Grads - % of cohort', 'Total Regents - n',\n",
      "       'Total Regents - % of cohort', 'Total Regents - % of grads',\n",
      "       'Advanced Regents - n', 'Advanced Regents - % of cohort',\n",
      "       'Advanced Regents - % of grads', 'Regents w/o Advanced - n',\n",
      "       'Regents w/o Advanced - % of cohort',\n",
      "       'Regents w/o Advanced - % of grads', 'Local - n', 'Local - % of cohort',\n",
      "       'Local - % of grads', 'Still Enrolled - n',\n",
      "       'Still Enrolled - % of cohort', 'Dropped Out - n',\n",
      "       'Dropped Out - % of cohort'],\n",
      "      dtype='object')\n",
      "math_test_results :\n",
      "Index(['DBN', 'Number Tested', 'Mean Scale Score', 'Level 1 #', 'Level 1 %',\n",
      "       'Level 2 #', 'Level 2 %', 'Level 3 #', 'Level 3 %', 'Level 4 #',\n",
      "       'Level 4 %', 'Level 3+4 #', 'Level 3+4 %'],\n",
      "      dtype='object')\n",
      "hs_directory :\n",
      "Index(['dbn', 'school_name', 'boro', 'building_code', 'phone_number',\n",
      "       'fax_number', 'grade_span_min', 'grade_span_max', 'expgrade_span_min',\n",
      "       'expgrade_span_max', 'bus', 'subway', 'primary_address_line_1', 'city',\n",
      "       'state_code', 'zip', 'website', 'total_students', 'campus_name',\n",
      "       'school_type', 'overview_paragraph', 'program_highlights',\n",
      "       'language_classes', 'advancedplacement_courses', 'online_ap_courses',\n",
      "       'online_language_courses', 'extracurricular_activities',\n",
      "       'psal_sports_boys', 'psal_sports_girls', 'psal_sports_coed',\n",
      "       'school_sports', 'partner_cbo', 'partner_hospital', 'partner_highered',\n",
      "       'partner_cultural', 'partner_nonprofit', 'partner_corporate',\n",
      "       'partner_financial', 'partner_other', 'addtl_info1', 'addtl_info2',\n",
      "       'start_time', 'end_time', 'se_services', 'ell_programs',\n",
      "       'school_accessibility_description', 'number_programs', 'priority01',\n",
      "       'priority02', 'priority03', 'priority04', 'priority05', 'priority06',\n",
      "       'priority07', 'priority08', 'priority09', 'priority10', 'Location 1',\n",
      "       'DBN', 'lat', 'lon'],\n",
      "      dtype='object')\n",
      "class_size :\n",
      "Index(['DBN', 'school name', 'number of students / seats filled',\n",
      "       'number of sections', 'average class size', 'size of smallest class',\n",
      "       'size of largest class'],\n",
      "      dtype='object')\n"
     ]
    }
   ],
   "source": [
    "# 把columns按照不同来源打出来，方便extract columns of interest\n",
    "for key in data.keys():\n",
    "    print(key, ':')\n",
    "    print(data[key].columns)"
   ]
  },
  {
   "cell_type": "markdown",
   "metadata": {},
   "source": [
    "先来看一看variable of interest, sat_score的分布情况，它是否符合一个正态分布？"
   ]
  },
  {
   "cell_type": "code",
   "execution_count": 132,
   "metadata": {
    "collapsed": false,
    "scrolled": false
   },
   "outputs": [
    {
     "data": {
      "image/png": "[encoded data removed]",
      "text/plain": [
       "<matplotlib.figure.Figure at 0x11da14cc0>"
      ]
     },
     "metadata": {},
     "output_type": "display_data"
    }
   ],
   "source": [
    "# 用ECDF来看一看sat_score的分布情况\n",
    "mu = np.mean(full.sat_score)\n",
    "std = np.std(full.sat_score)\n",
    "\n",
    "x_real = full.sat_score.sort_values()\n",
    "y_real = np.arange(1, len(x_real) + 1) / len(x_real)\n",
    "\n",
    "x_theo = np.sort(np.random.normal(mu, std, 100000))\n",
    "y_theo = np.arange(1, len(x_theo) + 1) / len(x_theo)\n",
    "\n",
    "_ = plt.plot(x_real, y_real, marker='.', linestyle='none')\n",
    "_ = plt.plot(x_theo, y_theo)\n",
    "\n",
    "plt.margins(0.02)\n",
    "\n",
    "plt.show()"
   ]
  },
  {
   "cell_type": "markdown",
   "metadata": {},
   "source": [
    "上面做的事：\n",
    "* 先计算出sat_score的均值mu和标准差std，然后用它们生成相应均值的正态分布，是为如果sat_score服从正态分布的理论值。\n",
    "* 把理论值和实际值都画出来。对于曲线上的一个点，sat_score，纵轴乘100是这个点在所有点当中超过别人的percentile\n",
    "* 蓝色为实际的数据点，绿色为理论上正态分布。\n",
    "\n",
    "可以看出：\n",
    "* sat_score并不是正态分布\n",
    "* 没有人得极低分，极少有人得极高分：大部分人都在中间塞着呢。\n",
    "* 在中间区域（比如说1050-1300），正是因为人很多，只要提高一点点的分数，就能超越大把的人。这是努力学习的回报率最高的阶段。\n",
    "* 在右端区域（>1500）要提高很多分才能超过一点点的人。"
   ]
  },
  {
   "cell_type": "markdown",
   "metadata": {},
   "source": [
    "用bee plot来验证下是不是："
   ]
  },
  {
   "cell_type": "code",
   "execution_count": 133,
   "metadata": {
    "collapsed": false
   },
   "outputs": [
    {
     "data": {
      "text/plain": [
       "<matplotlib.axes._subplots.AxesSubplot at 0x11da14358>"
      ]
     },
     "execution_count": 133,
     "metadata": {},
     "output_type": "execute_result"
    },
    {
     "data": {
      "image/png": "[encoded data removed]",
      "text/plain": [
       "<matplotlib.figure.Figure at 0x11da1ba20>"
      ]
     },
     "metadata": {},
     "output_type": "display_data"
    }
   ],
   "source": [
    "sns.swarmplot(y='sat_score', data=full)"
   ]
  },
  {
   "cell_type": "markdown",
   "metadata": {},
   "source": [
    "果真是这样。如果用percentile来衡量的话，1200左右的人好惨。。。比底端那一部分努力了，明明再高一点percentile就可以猛升的，然而还是停留在庸常的大多数的区间里。   \n",
    "\n",
    "好，回来看其它变量和sat_score的相关度。"
   ]
  },
  {
   "cell_type": "markdown",
   "metadata": {},
   "source": [
    "除了用来构建sat_score的变量和sat_score本身，和sat_score相关性最强的是‘Advanced Rengents % of cohort'. 其它几个描述毕业生情况的变量也有不低的相关性。总体来说，描述毕业生去向的这个数据集和sat_score是最有关系的。"
   ]
  },
  {
   "cell_type": "code",
   "execution_count": 134,
   "metadata": {
    "collapsed": false
   },
   "outputs": [
    {
     "data": {
      "text/plain": [
       "<matplotlib.axes._subplots.AxesSubplot at 0x1153197f0>"
      ]
     },
     "execution_count": 134,
     "metadata": {},
     "output_type": "execute_result"
    },
    {
     "data": {
      "image/png": "[encoded data removed]",
      "text/plain": [
       "<matplotlib.figure.Figure at 0x10a85b438>"
      ]
     },
     "metadata": {},
     "output_type": "display_data"
    }
   ],
   "source": [
    "r[['Total Grads - % of cohort',\n",
    "       'Total Regents - % of cohort', 'Advanced Regents - % of cohort',\n",
    "       'Local - % of cohort', 'Still Enrolled - % of cohort',\n",
    "       'Dropped Out - % of cohort']].plot.bar()"
   ]
  },
  {
   "cell_type": "code",
   "execution_count": 136,
   "metadata": {
    "collapsed": true
   },
   "outputs": [],
   "source": [
    "concern = ['fl_percent', 'frl_percent', 'total_enrollment', 'ell_num',\n",
    "       'ell_percent', 'sped_num', 'sped_percent', 'ctt_num',\n",
    "       'selfcontained_num', 'asian_num', 'asian_per', 'black_num', 'black_per',\n",
    "       'hispanic_num', 'hispanic_per', 'white_num', 'white_per', 'male_num',\n",
    "       'male_per', 'female_num', 'female_per']"
   ]
  },
  {
   "cell_type": "code",
   "execution_count": 137,
   "metadata": {
    "collapsed": false
   },
   "outputs": [
    {
     "data": {
      "text/plain": [
       "<matplotlib.axes._subplots.AxesSubplot at 0x11da5fb70>"
      ]
     },
     "execution_count": 137,
     "metadata": {},
     "output_type": "execute_result"
    },
    {
     "data": {
      "image/png": "[encoded data removed]",
      "text/plain": [
       "<matplotlib.figure.Figure at 0x11da59588>"
      ]
     },
     "metadata": {},
     "output_type": "display_data"
    }
   ],
   "source": [
    "r[concern].plot.bar()"
   ]
  },
  {
   "cell_type": "code",
   "execution_count": 138,
   "metadata": {
    "collapsed": false
   },
   "outputs": [
    {
     "data": {
      "text/plain": [
       "<matplotlib.axes._subplots.AxesSubplot at 0x11ccdb080>"
      ]
     },
     "execution_count": 138,
     "metadata": {},
     "output_type": "execute_result"
    },
    {
     "data": {
      "image/png": "[encoded data removed]",
      "text/plain": [
       "<matplotlib.figure.Figure at 0x11ccfc400>"
      ]
     },
     "metadata": {},
     "output_type": "display_data"
    }
   ],
   "source": [
    "r[['asian_per', 'black_per', 'hispanic_per', 'white_per',\n",
    "       'male_per', 'female_per']].plot.bar()"
   ]
  },
  {
   "cell_type": "markdown",
   "metadata": {},
   "source": [
    "关于学校人口构成的变量，白人和亚裔所占比重和sata_score有中等强度正相关性；黑人和拉丁裔有中下强度的负相关性；性别比重则与sat_score相关性微弱。    \n",
    "\n",
    "至于有中强负相关性的fl_percent和frl_percent，数据来源并没有解释它们是什么，也没有提供codebook，只能放到一边了。   \n",
    "\n",
    "现在来看ap test的情况："
   ]
  },
  {
   "cell_type": "code",
   "execution_count": 139,
   "metadata": {
    "collapsed": false
   },
   "outputs": [
    {
     "data": {
      "text/plain": [
       "<matplotlib.axes._subplots.AxesSubplot at 0x11b4855f8>"
      ]
     },
     "execution_count": 139,
     "metadata": {},
     "output_type": "execute_result"
    },
    {
     "data": {
      "image/png": "[encoded data removed]",
      "text/plain": [
       "<matplotlib.figure.Figure at 0x1162daef0>"
      ]
     },
     "metadata": {},
     "output_type": "display_data"
    }
   ],
   "source": [
    "r[['AP Test Takers', 'Total Exams Taken',\n",
    "       'Number of Exams with scores 3 4 or 5']].plot.bar()"
   ]
  },
  {
   "cell_type": "markdown",
   "metadata": {},
   "source": [
    "参加AP测试的人数越多，AP测试的总数越多，拿到高分的AP测试越多，则we would expect a higher sat_score of that school.  \n",
    "This result seems reasonable, but the 3 variable is measured in absolute value, not a percentage. Therefore, there could be a bias in favor of the population in that school."
   ]
  },
  {
   "cell_type": "code",
   "execution_count": 140,
   "metadata": {
    "collapsed": false
   },
   "outputs": [
    {
     "data": {
      "text/plain": [
       "<matplotlib.axes._subplots.AxesSubplot at 0x11d888630>"
      ]
     },
     "execution_count": 140,
     "metadata": {},
     "output_type": "execute_result"
    },
    {
     "data": {
      "image/png": "[encoded data removed]",
      "text/plain": [
       "<matplotlib.figure.Figure at 0x11661f940>"
      ]
     },
     "metadata": {},
     "output_type": "display_data"
    }
   ],
   "source": [
    "r[['advancedplacement_courses', 'online_ap_courses',\n",
    "       'extracurricular_activities', 'school_sports', 'partner_cbo',\n",
    "       'partner_hospital', 'partner_highered', 'partner_cultural',\n",
    "       'partner_nonprofit', 'partner_corporate', 'partner_financial',\n",
    "       'partner_other', 'se_services', 'ell_programs', 'number_programs']].plot.bar()"
   ]
  },
  {
   "cell_type": "markdown",
   "metadata": {},
   "source": [
    "在所有衡量学校资源多少的变量中，只有两个与sat_score有中等强度的相关性(advancedplacement_courses and extracurricular_activities)；其余变量，诸如与学校建立合作关系的医院、高等教育机构、文化机构等的数量都与sat_score关系微弱。当然，学校的社会资源用’与之有合作关系的机构数量‘来衡量并不准确，但起码在已有数据中我们可以说相关性最显著的还是AP课程的数量和课外活动的数量。  \n",
    "\n",
    "出人意料的是，在线AP课程的数量和sat_score不仅关系微弱，而且是负相关。"
   ]
  },
  {
   "cell_type": "code",
   "execution_count": 142,
   "metadata": {
    "collapsed": false
   },
   "outputs": [
    {
     "data": {
      "text/plain": [
       "<matplotlib.axes._subplots.AxesSubplot at 0x116d4ca90>"
      ]
     },
     "execution_count": 142,
     "metadata": {},
     "output_type": "execute_result"
    },
    {
     "data": {
      "image/png": "[encoded data removed]",
      "text/plain": [
       "<matplotlib.figure.Figure at 0x11767d080>"
      ]
     },
     "metadata": {},
     "output_type": "display_data"
    }
   ],
   "source": [
    "r[['number of students / seats filled',\n",
    "       'number of sections', 'average class size', 'size of smallest class',\n",
    "       'size of largest class']].plot.bar()"
   ]
  },
  {
   "cell_type": "markdown",
   "metadata": {},
   "source": [
    "描述课堂规模的五个变量均和sat_score有中等强度的正相关。"
   ]
  },
  {
   "cell_type": "markdown",
   "metadata": {},
   "source": [
    "在关于调查结果变量中，只有参与调查学生数、参与调查家长数与sat_score有中等强度相关性。与前面提到的课堂规模、参与AP测试的人数类似，参与调查的学生数和家长数是用绝对值衡量，都和一所学校的总人口相关。"
   ]
  },
  {
   "cell_type": "code",
   "execution_count": 143,
   "metadata": {
    "collapsed": false
   },
   "outputs": [
    {
     "data": {
      "text/plain": [
       "<matplotlib.axes._subplots.AxesSubplot at 0x116376630>"
      ]
     },
     "execution_count": 143,
     "metadata": {},
     "output_type": "execute_result"
    },
    {
     "data": {
      "image/png": "[encoded data removed]",
      "text/plain": [
       "<matplotlib.figure.Figure at 0x115f57be0>"
      ]
     },
     "metadata": {},
     "output_type": "display_data"
    }
   ],
   "source": [
    "r[['rr_s', 'rr_t', 'rr_p', 'N_s', 'N_t', 'N_p', 'saf_p_11',\n",
    "       'com_p_11', 'eng_p_11', 'aca_p_11', 'saf_t_11', 'com_t_11', 'eng_t_10',\n",
    "       'aca_t_11', 'saf_s_11', 'com_s_11', 'eng_s_11', 'aca_s_11',\n",
    "       'saf_tot_11', 'com_tot_11', 'eng_tot_11', 'aca_tot_11']].plot.bar()"
   ]
  },
  {
   "cell_type": "markdown",
   "metadata": {},
   "source": [
    "测试一下这几个用绝对人数来衡量的变量的内相关性。"
   ]
  },
  {
   "cell_type": "code",
   "execution_count": 145,
   "metadata": {
    "collapsed": false
   },
   "outputs": [],
   "source": [
    "r.popu = full.corr()[['advancedplacement_courses', \n",
    "'extracurricular_activities','number of students / seats filled',\n",
    "       'number of sections', 'average class size', 'size of smallest class',\n",
    "       'size of largest class', 'N_s', 'N_p']].loc[('advancedplacement_courses', \n",
    "'extracurricular_activities','number of students / seats filled',\n",
    "       'number of sections', 'average class size', 'size of smallest class',\n",
    "       'size of largest class', 'N_s', 'N_p'), :]"
   ]
  },
  {
   "cell_type": "code",
   "execution_count": 146,
   "metadata": {
    "collapsed": false
   },
   "outputs": [
    {
     "data": {
      "text/plain": [
       "<matplotlib.axes._subplots.AxesSubplot at 0x11781ab38>"
      ]
     },
     "execution_count": 146,
     "metadata": {},
     "output_type": "execute_result"
    },
    {
     "data": {
      "image/png": "[encoded data removed]",
      "text/plain": [
       "<matplotlib.figure.Figure at 0x11783e048>"
      ]
     },
     "metadata": {},
     "output_type": "display_data"
    }
   ],
   "source": [
    "sns.heatmap(r.popu, square=True, cmap='RdYlGn')"
   ]
  },
  {
   "cell_type": "markdown",
   "metadata": {},
   "source": [
    "嗯。。没有像想象中那样一篇全绿，’SIZE OF SMALLEST CLASS‘和很多变量是负相关的，还有很多相互之间相关度并不大的变量。"
   ]
  },
  {
   "cell_type": "markdown",
   "metadata": {},
   "source": [
    "# 后记\n",
    "\n",
    "第一次自己去八这么多data set啊，虽然是照着别人趟过的路开始的，但还是跟用数据库里的clean data set或是上课用的data set接触起来感受大有不同。而且别看这么短短一篇最后也没太挖掘出什么有用信息的analysis，我因为一些缘故做了三遍，花了超多时间。。。  \n",
    "\n",
    "第一遍重做是到了计算correlation那里才发现我没有转换数据格式，导致很多数字是储存为object格式的，它们在计算correlation时就自动被忽略了。于是推到重来。我去follow的那篇分析中人家博主为了更好说明怎样用项目构建建立（而非单纯在讲项目），省掉了很多tedious cleaning work，但他省掉的部分我跟着省就SB了T_T。  \n",
    "\n",
    "第二遍重做是发现到分析的时候我觉得内相关想要调查一下的total enrollment变量早在清洗时被我删了。。。不甘心，推倒重来。  \n",
    "\n",
    "总结一下吧：\n",
    "* 终于体会到了data science 90%的时间是在数据清洗，感受到了清洗的套路，df.info()和转换格式非常有用\n",
    "* 清洗阶段特别注意转换格式\n",
    "    * (1)因为到合并了df时，full有太多栏，报错比较难发现到底哪里出错\n",
    "    * (2)趁着清洗还能好好熟悉单个data set\n",
    "* 清洗阶段别轻易删变量啊，能留都留着，判断哪些有用哪些没有那是分析阶段的事"
   ]
  },
  {
   "cell_type": "code",
   "execution_count": null,
   "metadata": {
    "collapsed": true
   },
   "outputs": [],
   "source": []
  },
  {
   "cell_type": "code",
   "execution_count": null,
   "metadata": {
    "collapsed": true
   },
   "outputs": [],
   "source": []
  },
  {
   "cell_type": "code",
   "execution_count": null,
   "metadata": {
    "collapsed": true
   },
   "outputs": [],
   "source": []
  },
  {
   "cell_type": "code",
   "execution_count": null,
   "metadata": {
    "collapsed": true
   },
   "outputs": [],
   "source": []
  },
  {
   "cell_type": "code",
   "execution_count": null,
   "metadata": {
    "collapsed": true
   },
   "outputs": [],
   "source": []
  }
 ],
 "metadata": {
  "anaconda-cloud": {},
  "kernelspec": {
   "display_name": "Python [default]",
   "language": "python",
   "name": "python3"
  },
  "language_info": {
   "codemirror_mode": {
    "name": "ipython",
    "version": 3
   },
   "file_extension": ".py",
   "mimetype": "text/x-python",
   "name": "python",
   "nbconvert_exporter": "python",
   "pygments_lexer": "ipython3",
   "version": "3.5.2"
  }
 },
 "nbformat": 4,
 "nbformat_minor": 1
}
