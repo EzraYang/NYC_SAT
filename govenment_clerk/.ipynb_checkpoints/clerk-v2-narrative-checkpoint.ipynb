{
 "cells": [
  {
   "cell_type": "markdown",
   "metadata": {
    "toc": "true"
   },
   "source": [
    "# Table of Contents\n",
    " <p><div class=\"lev1 toc-item\"><a href=\"#target-set-(2017)\" data-toc-modified-id=\"target-set-(2017)-1\"><span class=\"toc-item-num\">1&nbsp;&nbsp;</span>target set (2017)</a></div><div class=\"lev1 toc-item\"><a href=\"#merge-'puer'-data-and-'job'-data\" data-toc-modified-id=\"merge-'puer'-data-and-'job'-data-2\"><span class=\"toc-item-num\">2&nbsp;&nbsp;</span>merge 'puer' data and 'job' data</a></div><div class=\"lev2 toc-item\"><a href=\"#读取普洱市‘拟录用公示’和省级‘职位表公告’完成\" data-toc-modified-id=\"读取普洱市‘拟录用公示’和省级‘职位表公告’完成-21\"><span class=\"toc-item-num\">2.1&nbsp;&nbsp;</span>读取普洱市‘拟录用公示’和省级‘职位表公告’完成</a></div><div class=\"lev2 toc-item\"><a href=\"#merge普洱市‘拟录用公示’和省级‘职位表公告’完成\" data-toc-modified-id=\"merge普洱市‘拟录用公示’和省级‘职位表公告’完成-22\"><span class=\"toc-item-num\">2.2&nbsp;&nbsp;</span>merge普洱市‘拟录用公示’和省级‘职位表公告’完成</a></div><div class=\"lev2 toc-item\"><a href=\"#将以往数据分割成’在省级职位表‘-和-’不在省级职位表‘-两类-done\" data-toc-modified-id=\"将以往数据分割成’在省级职位表‘-和-’不在省级职位表‘-两类-done-23\"><span class=\"toc-item-num\">2.3&nbsp;&nbsp;</span>将以往数据分割成’在省级职位表‘ 和 ’不在省级职位表‘ 两类 done</a></div><div class=\"lev1 toc-item\"><a href=\"#concat往年数据\" data-toc-modified-id=\"concat往年数据-3\"><span class=\"toc-item-num\">3&nbsp;&nbsp;</span>concat往年数据</a></div><div class=\"lev2 toc-item\"><a href=\"#使以往每年数据有同样含义的column，-done\" data-toc-modified-id=\"使以往每年数据有同样含义的column，-done-31\"><span class=\"toc-item-num\">3.1&nbsp;&nbsp;</span>使以往每年数据有同样含义的column， done</a></div><div class=\"lev2 toc-item\"><a href=\"#codebook\" data-toc-modified-id=\"codebook-32\"><span class=\"toc-item-num\">3.2&nbsp;&nbsp;</span>codebook</a></div><div class=\"lev2 toc-item\"><a href=\"#codebook-增加-'yr'\" data-toc-modified-id=\"codebook-增加-'yr'-33\"><span class=\"toc-item-num\">3.3&nbsp;&nbsp;</span>codebook 增加 'yr'</a></div><div class=\"lev2 toc-item\"><a href=\"#concat往年数据-done\" data-toc-modified-id=\"concat往年数据-done-34\"><span class=\"toc-item-num\">3.4&nbsp;&nbsp;</span>concat往年数据 done</a></div><div class=\"lev1 toc-item\"><a href=\"#clean-columns\" data-toc-modified-id=\"clean-columns-4\"><span class=\"toc-item-num\">4&nbsp;&nbsp;</span>clean columns</a></div><div class=\"lev2 toc-item\"><a href=\"#clean考生信息\" data-toc-modified-id=\"clean考生信息-41\"><span class=\"toc-item-num\">4.1&nbsp;&nbsp;</span>clean考生信息</a></div><div class=\"lev2 toc-item\"><a href=\"#clean-单位信息\" data-toc-modified-id=\"clean-单位信息-42\"><span class=\"toc-item-num\">4.2&nbsp;&nbsp;</span>clean 单位信息</a></div><div class=\"lev2 toc-item\"><a href=\"#clean岗位信息\" data-toc-modified-id=\"clean岗位信息-43\"><span class=\"toc-item-num\">4.3&nbsp;&nbsp;</span>clean岗位信息</a></div><div class=\"lev2 toc-item\"><a href=\"#clean报考要求\" data-toc-modified-id=\"clean报考要求-44\"><span class=\"toc-item-num\">4.4&nbsp;&nbsp;</span>clean报考要求</a></div><div class=\"lev2 toc-item\"><a href=\"#clean录取情况\" data-toc-modified-id=\"clean录取情况-45\"><span class=\"toc-item-num\">4.5&nbsp;&nbsp;</span>clean录取情况</a></div><div class=\"lev1 toc-item\"><a href=\"#确认'rk'栏的意思\" data-toc-modified-id=\"确认'rk'栏的意思-5\"><span class=\"toc-item-num\">5&nbsp;&nbsp;</span>确认'rk'栏的意思</a></div><div class=\"lev1 toc-item\"><a href=\"#增加五个feature\" data-toc-modified-id=\"增加五个feature-6\"><span class=\"toc-item-num\">6&nbsp;&nbsp;</span>增加五个feature</a></div><div class=\"lev2 toc-item\"><a href=\"#codebook更新：-add-5-col\" data-toc-modified-id=\"codebook更新：-add-5-col-61\"><span class=\"toc-item-num\">6.1&nbsp;&nbsp;</span>codebook更新： add 5 col</a></div><div class=\"lev1 toc-item\"><a href=\"#modeling-(see-this-RMD-file)\" data-toc-modified-id=\"modeling-(see-this-RMD-file)-7\"><span class=\"toc-item-num\">7&nbsp;&nbsp;</span>modeling (see <a href=\"https://github.com/EzraYang/analysis_projects/blob/master/govenment_clerk/clerk-v2-modeling.Rmd\" target=\"_blank\">this</a> RMD file)</a></div><div class=\"lev1 toc-item\"><a href=\"#predict-on-2017-data\" data-toc-modified-id=\"predict-on-2017-data-8\"><span class=\"toc-item-num\">8&nbsp;&nbsp;</span>predict on 2017 data</a></div><div class=\"lev1 toc-item\"><a href=\"#more-idea\" data-toc-modified-id=\"more-idea-9\"><span class=\"toc-item-num\">9&nbsp;&nbsp;</span>more idea</a></div><div class=\"lev1 toc-item\"><a href=\"#end\" data-toc-modified-id=\"end-10\"><span class=\"toc-item-num\">10&nbsp;&nbsp;</span>end</a></div>"
   ]
  },
  {
   "cell_type": "markdown",
   "metadata": {},
   "source": [
    "这篇文章的modeling目的是，让一个考普洱市公务猿的人，在得知自己进面试后算出最终录取的几率大不大；  \n",
    "或者让利益相关的培训机构预测一个考生录取几率，好方便选择性招生。"
   ]
  },
  {
   "cell_type": "code",
   "execution_count": 3,
   "metadata": {
    "collapsed": true
   },
   "outputs": [],
   "source": [
    "import pandas as pd\n",
    "import numpy as np\n",
    "import matplotlib.pyplot as plt\n",
    "import seaborn as sns\n",
    "import scipy.stats as st\n",
    "import re  \n",
    "\n",
    "pd.set_option('display.max_rows', 5)"
   ]
  },
  {
   "cell_type": "markdown",
   "metadata": {},
   "source": [
    "# target set (2017)"
   ]
  },
  {
   "cell_type": "markdown",
   "metadata": {},
   "source": [
    "下面的代码是用来读取普洱市人社局公布的2017年进入面试的人的名单，有用的信息只有岗位代码和准考证号，其它信息是面试时间地点的安排。"
   ]
  },
  {
   "cell_type": "code",
   "execution_count": 4,
   "metadata": {},
   "outputs": [
    {
     "name": "stdout",
     "output_type": "stream",
     "text": [
      "<class 'pandas.core.frame.DataFrame'>\n",
      "RangeIndex: 519 entries, 0 to 518\n",
      "Data columns (total 8 columns):\n",
      "2017年普洱市考试录用公务员进入面试人员名单          519 non-null object\n",
      "Unnamed: 1                       518 non-null object\n",
      "Unnamed: 2                       518 non-null object\n",
      "Unnamed: 3                       518 non-null object\n",
      "Unnamed: 4                       518 non-null object\n",
      "Unnamed: 5                       518 non-null object\n",
      "Unnamed: 6                       1 non-null object\n",
      "     选中A列→CTRL+F→输入准考证号→查找下一个    1 non-null object\n",
      "dtypes: object(8)\n",
      "memory usage: 32.5+ KB\n"
     ]
    }
   ],
   "source": [
    "p17 = pd.ExcelFile('2017_interview.xls').parse(0)\n",
    "p17.info()\n",
    "    # 这个名单不包括法检系统"
   ]
  },
  {
   "cell_type": "code",
   "execution_count": 5,
   "metadata": {},
   "outputs": [
    {
     "data": {
      "text/html": [
       "<div>\n",
       "<table border=\"1\" class=\"dataframe\">\n",
       "  <thead>\n",
       "    <tr style=\"text-align: right;\">\n",
       "      <th></th>\n",
       "      <th>2017年普洱市考试录用公务员进入面试人员名单</th>\n",
       "      <th>Unnamed: 1</th>\n",
       "      <th>Unnamed: 2</th>\n",
       "      <th>Unnamed: 3</th>\n",
       "      <th>Unnamed: 4</th>\n",
       "      <th>Unnamed: 5</th>\n",
       "      <th>Unnamed: 6</th>\n",
       "      <th>选中A列→CTRL+F→输入准考证号→查找下一个</th>\n",
       "    </tr>\n",
       "  </thead>\n",
       "  <tbody>\n",
       "    <tr>\n",
       "      <th>0</th>\n",
       "      <td>特别提示：请进入面试的考生认真仔细从表中查找自己的信息，按规定的时间地点参加面试。</td>\n",
       "      <td>NaN</td>\n",
       "      <td>NaN</td>\n",
       "      <td>NaN</td>\n",
       "      <td>NaN</td>\n",
       "      <td>NaN</td>\n",
       "      <td>NaN</td>\n",
       "      <td>CTRL+A→CTRL+F→输入准考证号→查找下一个</td>\n",
       "    </tr>\n",
       "    <tr>\n",
       "      <th>1</th>\n",
       "      <td>准考证号</td>\n",
       "      <td>岗位代码</td>\n",
       "      <td>面试时间</td>\n",
       "      <td>抽签开始时间</td>\n",
       "      <td>面试开始时间</td>\n",
       "      <td>面试地点</td>\n",
       "      <td>备注</td>\n",
       "      <td>NaN</td>\n",
       "    </tr>\n",
       "    <tr>\n",
       "      <th>2</th>\n",
       "      <td>501270602008</td>\n",
       "      <td>50827002061</td>\n",
       "      <td>2017年7月29日上午</td>\n",
       "      <td>当天7:00在候考室准时开始抽签</td>\n",
       "      <td>当天8:00正式开始面试</td>\n",
       "      <td>中共普洱市委党校</td>\n",
       "      <td>NaN</td>\n",
       "      <td>NaN</td>\n",
       "    </tr>\n",
       "    <tr>\n",
       "      <th>3</th>\n",
       "      <td>501270602326</td>\n",
       "      <td>50827002061</td>\n",
       "      <td>2017年7月29日上午</td>\n",
       "      <td>当天7:00在候考室准时开始抽签</td>\n",
       "      <td>当天8:00正式开始面试</td>\n",
       "      <td>中共普洱市委党校</td>\n",
       "      <td>NaN</td>\n",
       "      <td>NaN</td>\n",
       "    </tr>\n",
       "    <tr>\n",
       "      <th>4</th>\n",
       "      <td>501270601714</td>\n",
       "      <td>50827002061</td>\n",
       "      <td>2017年7月29日上午</td>\n",
       "      <td>当天7:00在候考室准时开始抽签</td>\n",
       "      <td>当天8:00正式开始面试</td>\n",
       "      <td>中共普洱市委党校</td>\n",
       "      <td>NaN</td>\n",
       "      <td>NaN</td>\n",
       "    </tr>\n",
       "  </tbody>\n",
       "</table>\n",
       "</div>"
      ],
      "text/plain": [
       "                        2017年普洱市考试录用公务员进入面试人员名单   Unnamed: 1    Unnamed: 2  \\\n",
       "0     特别提示：请进入面试的考生认真仔细从表中查找自己的信息，按规定的时间地点参加面试。          NaN           NaN   \n",
       "1                                          准考证号         岗位代码          面试时间   \n",
       "2                                  501270602008  50827002061  2017年7月29日上午   \n",
       "3                                  501270602326  50827002061  2017年7月29日上午   \n",
       "4                                  501270601714  50827002061  2017年7月29日上午   \n",
       "\n",
       "         Unnamed: 3    Unnamed: 4 Unnamed: 5 Unnamed: 6  \\\n",
       "0               NaN           NaN        NaN        NaN   \n",
       "1            抽签开始时间        面试开始时间       面试地点         备注   \n",
       "2  当天7:00在候考室准时开始抽签  当天8:00正式开始面试   中共普洱市委党校        NaN   \n",
       "3  当天7:00在候考室准时开始抽签  当天8:00正式开始面试   中共普洱市委党校        NaN   \n",
       "4  当天7:00在候考室准时开始抽签  当天8:00正式开始面试   中共普洱市委党校        NaN   \n",
       "\n",
       "          选中A列→CTRL+F→输入准考证号→查找下一个  \n",
       "0       CTRL+A→CTRL+F→输入准考证号→查找下一个  \n",
       "1                              NaN  \n",
       "2                              NaN  \n",
       "3                              NaN  \n",
       "4                              NaN  "
      ]
     },
     "execution_count": 5,
     "metadata": {},
     "output_type": "execute_result"
    }
   ],
   "source": [
    "p17.head()"
   ]
  },
  {
   "cell_type": "code",
   "execution_count": 6,
   "metadata": {},
   "outputs": [
    {
     "name": "stdout",
     "output_type": "stream",
     "text": [
      "<class 'pandas.core.frame.DataFrame'>\n",
      "RangeIndex: 519 entries, 0 to 518\n",
      "Data columns (total 8 columns):\n",
      "2017年普洱市考试录用公务员进入面试人员名单          519 non-null object\n",
      "Unnamed: 1                       518 non-null object\n",
      "Unnamed: 2                       518 non-null object\n",
      "Unnamed: 3                       518 non-null object\n",
      "Unnamed: 4                       518 non-null object\n",
      "Unnamed: 5                       518 non-null object\n",
      "Unnamed: 6                       1 non-null object\n",
      "     选中A列→CTRL+F→输入准考证号→查找下一个    1 non-null object\n",
      "dtypes: object(8)\n",
      "memory usage: 32.5+ KB\n"
     ]
    }
   ],
   "source": [
    "p17.info()"
   ]
  },
  {
   "cell_type": "code",
   "execution_count": 7,
   "metadata": {
    "collapsed": true
   },
   "outputs": [],
   "source": [
    "def pull_up_rows(df, numRow):\n",
    "    df.columns = df.iloc[numRow - 1, :]\n",
    "    df = df[numRow:]\n",
    "    return df"
   ]
  },
  {
   "cell_type": "code",
   "execution_count": 8,
   "metadata": {},
   "outputs": [
    {
     "data": {
      "text/html": [
       "<div>\n",
       "<table border=\"1\" class=\"dataframe\">\n",
       "  <thead>\n",
       "    <tr style=\"text-align: right;\">\n",
       "      <th>1</th>\n",
       "      <th>准考证号</th>\n",
       "      <th>岗位代码</th>\n",
       "      <th>面试时间</th>\n",
       "      <th>抽签开始时间</th>\n",
       "      <th>面试开始时间</th>\n",
       "      <th>面试地点</th>\n",
       "      <th>备注</th>\n",
       "      <th>nan</th>\n",
       "    </tr>\n",
       "  </thead>\n",
       "  <tbody>\n",
       "    <tr>\n",
       "      <th>2</th>\n",
       "      <td>501270602008</td>\n",
       "      <td>50827002061</td>\n",
       "      <td>2017年7月29日上午</td>\n",
       "      <td>当天7:00在候考室准时开始抽签</td>\n",
       "      <td>当天8:00正式开始面试</td>\n",
       "      <td>中共普洱市委党校</td>\n",
       "      <td>NaN</td>\n",
       "      <td>NaN</td>\n",
       "    </tr>\n",
       "    <tr>\n",
       "      <th>3</th>\n",
       "      <td>501270602326</td>\n",
       "      <td>50827002061</td>\n",
       "      <td>2017年7月29日上午</td>\n",
       "      <td>当天7:00在候考室准时开始抽签</td>\n",
       "      <td>当天8:00正式开始面试</td>\n",
       "      <td>中共普洱市委党校</td>\n",
       "      <td>NaN</td>\n",
       "      <td>NaN</td>\n",
       "    </tr>\n",
       "    <tr>\n",
       "      <th>4</th>\n",
       "      <td>501270601714</td>\n",
       "      <td>50827002061</td>\n",
       "      <td>2017年7月29日上午</td>\n",
       "      <td>当天7:00在候考室准时开始抽签</td>\n",
       "      <td>当天8:00正式开始面试</td>\n",
       "      <td>中共普洱市委党校</td>\n",
       "      <td>NaN</td>\n",
       "      <td>NaN</td>\n",
       "    </tr>\n",
       "    <tr>\n",
       "      <th>5</th>\n",
       "      <td>501270601702</td>\n",
       "      <td>50827002061</td>\n",
       "      <td>2017年7月29日上午</td>\n",
       "      <td>当天7:00在候考室准时开始抽签</td>\n",
       "      <td>当天8:00正式开始面试</td>\n",
       "      <td>中共普洱市委党校</td>\n",
       "      <td>NaN</td>\n",
       "      <td>NaN</td>\n",
       "    </tr>\n",
       "    <tr>\n",
       "      <th>6</th>\n",
       "      <td>501270602117</td>\n",
       "      <td>50827002061</td>\n",
       "      <td>2017年7月29日上午</td>\n",
       "      <td>当天7:00在候考室准时开始抽签</td>\n",
       "      <td>当天8:00正式开始面试</td>\n",
       "      <td>中共普洱市委党校</td>\n",
       "      <td>NaN</td>\n",
       "      <td>NaN</td>\n",
       "    </tr>\n",
       "  </tbody>\n",
       "</table>\n",
       "</div>"
      ],
      "text/plain": [
       "1          准考证号         岗位代码          面试时间            抽签开始时间        面试开始时间  \\\n",
       "2  501270602008  50827002061  2017年7月29日上午  当天7:00在候考室准时开始抽签  当天8:00正式开始面试   \n",
       "3  501270602326  50827002061  2017年7月29日上午  当天7:00在候考室准时开始抽签  当天8:00正式开始面试   \n",
       "4  501270601714  50827002061  2017年7月29日上午  当天7:00在候考室准时开始抽签  当天8:00正式开始面试   \n",
       "5  501270601702  50827002061  2017年7月29日上午  当天7:00在候考室准时开始抽签  当天8:00正式开始面试   \n",
       "6  501270602117  50827002061  2017年7月29日上午  当天7:00在候考室准时开始抽签  当天8:00正式开始面试   \n",
       "\n",
       "1      面试地点   备注  NaN  \n",
       "2  中共普洱市委党校  NaN  NaN  \n",
       "3  中共普洱市委党校  NaN  NaN  \n",
       "4  中共普洱市委党校  NaN  NaN  \n",
       "5  中共普洱市委党校  NaN  NaN  \n",
       "6  中共普洱市委党校  NaN  NaN  "
      ]
     },
     "execution_count": 8,
     "metadata": {},
     "output_type": "execute_result"
    }
   ],
   "source": [
    "p17 = pull_up_rows(p17, 2)\n",
    "p17.head()"
   ]
  },
  {
   "cell_type": "markdown",
   "metadata": {},
   "source": [
    "以下是读取2017年云南省招考公告中的职位表，有用信息分为四类，岗位代码，单位信息，报考要求。\n",
    "然后做了点格式转换，好方便和进入面试名单合并。"
   ]
  },
  {
   "cell_type": "code",
   "execution_count": 9,
   "metadata": {
    "collapsed": true
   },
   "outputs": [],
   "source": [
    "job2017 = pd.ExcelFile('jobs2017.xlsx').parse(0)"
   ]
  },
  {
   "cell_type": "code",
   "execution_count": 10,
   "metadata": {},
   "outputs": [
    {
     "name": "stdout",
     "output_type": "stream",
     "text": [
      "<class 'pandas.core.frame.DataFrame'>\n",
      "RangeIndex: 2690 entries, 0 to 2689\n",
      "Data columns (total 34 columns):\n",
      "岗位代码                         2689 non-null float64\n",
      "招录单位全称                       2689 non-null object\n",
      "单位类别                         2689 non-null object\n",
      "属地信息一级                       2689 non-null object\n",
      "属地信息二级                       2689 non-null object\n",
      "招录岗位名称                       2689 non-null object\n",
      "岗位类型                         2689 non-null object\n",
      "是否为法官检察官助理岗位                 2689 non-null object\n",
      "公安机关人民警察岗位类别                 2689 non-null object\n",
      "岗位工作简介                       2689 non-null object\n",
      "招录人数                         2690 non-null int64\n",
      "报考人员身份要求                     2689 non-null object\n",
      "性别要求                         2689 non-null object\n",
      "民族要求                         2689 non-null object\n",
      "岗位具体需要的少数民族名称                2689 non-null object\n",
      "学历性质要求                       2689 non-null object\n",
      "学历要求                         2689 non-null object\n",
      "学位要求                         2689 non-null object\n",
      "年龄要求                         2689 non-null object\n",
      "第一组专业要求：一级目录                 2689 non-null object\n",
      "第一组专业要求：二级目录                 2689 non-null object\n",
      "第一组专业要求：具体专业                 2689 non-null object\n",
      "第二组专业要求：一级目录                 2689 non-null object\n",
      "第二组专业要求：二级目录                 2689 non-null object\n",
      "第三组专业要求：一级目录                 2689 non-null object\n",
      "第三组专业要求：二级目录                 2689 non-null object\n",
      "生源或户籍要求                      2689 non-null object\n",
      "服务地要求（定向服务基层“四个项目”人员岗位填写）    2689 non-null object\n",
      "政治面貌要求                       2689 non-null object\n",
      "国家司法考试证书要求                   2689 non-null object\n",
      "是否进行专业测试                     2689 non-null object\n",
      "其他招录条件                       2689 non-null object\n",
      "有关说明                         2689 non-null object\n",
      "是否受开考比例限制                    2689 non-null object\n",
      "dtypes: float64(1), int64(1), object(32)\n",
      "memory usage: 714.6+ KB\n"
     ]
    }
   ],
   "source": [
    "job2017.info()"
   ]
  },
  {
   "cell_type": "code",
   "execution_count": 11,
   "metadata": {},
   "outputs": [
    {
     "data": {
      "text/html": [
       "<div>\n",
       "<table border=\"1\" class=\"dataframe\">\n",
       "  <thead>\n",
       "    <tr style=\"text-align: right;\">\n",
       "      <th></th>\n",
       "      <th>岗位代码</th>\n",
       "      <th>招录单位全称</th>\n",
       "      <th>单位类别</th>\n",
       "      <th>属地信息一级</th>\n",
       "      <th>属地信息二级</th>\n",
       "      <th>招录岗位名称</th>\n",
       "      <th>岗位类型</th>\n",
       "      <th>是否为法官检察官助理岗位</th>\n",
       "      <th>公安机关人民警察岗位类别</th>\n",
       "      <th>岗位工作简介</th>\n",
       "      <th>...</th>\n",
       "      <th>第三组专业要求：一级目录</th>\n",
       "      <th>第三组专业要求：二级目录</th>\n",
       "      <th>生源或户籍要求</th>\n",
       "      <th>服务地要求（定向服务基层“四个项目”人员岗位填写）</th>\n",
       "      <th>政治面貌要求</th>\n",
       "      <th>国家司法考试证书要求</th>\n",
       "      <th>是否进行专业测试</th>\n",
       "      <th>其他招录条件</th>\n",
       "      <th>有关说明</th>\n",
       "      <th>是否受开考比例限制</th>\n",
       "    </tr>\n",
       "  </thead>\n",
       "  <tbody>\n",
       "    <tr>\n",
       "      <th>2685</th>\n",
       "      <td>1.342300e+10</td>\n",
       "      <td>迪庆州维西县攀天阁乡人民政府</td>\n",
       "      <td>行政机关</td>\n",
       "      <td>迪庆州</td>\n",
       "      <td>维西</td>\n",
       "      <td>党政办公室岗</td>\n",
       "      <td>乡镇公务员</td>\n",
       "      <td>--</td>\n",
       "      <td>--</td>\n",
       "      <td>从事党政办公室综合文秘工作</td>\n",
       "      <td>...</td>\n",
       "      <td>--</td>\n",
       "      <td>--</td>\n",
       "      <td>招考单位所在州（市）</td>\n",
       "      <td>--</td>\n",
       "      <td>不限</td>\n",
       "      <td>--</td>\n",
       "      <td>否</td>\n",
       "      <td>--</td>\n",
       "      <td>该岗位一经录用，需驻村3年，其间作为大学村官管理，期满后回招录单位。</td>\n",
       "      <td>否</td>\n",
       "    </tr>\n",
       "    <tr>\n",
       "      <th>2686</th>\n",
       "      <td>1.342300e+10</td>\n",
       "      <td>迪庆州维西县保和镇人民政府</td>\n",
       "      <td>行政机关</td>\n",
       "      <td>迪庆州</td>\n",
       "      <td>维西</td>\n",
       "      <td>党政办公室岗</td>\n",
       "      <td>乡镇公务员</td>\n",
       "      <td>--</td>\n",
       "      <td>--</td>\n",
       "      <td>从事党政办公室综合文秘工作</td>\n",
       "      <td>...</td>\n",
       "      <td>--</td>\n",
       "      <td>--</td>\n",
       "      <td>招考单位所在州（市）</td>\n",
       "      <td>--</td>\n",
       "      <td>不限</td>\n",
       "      <td>--</td>\n",
       "      <td>否</td>\n",
       "      <td>--</td>\n",
       "      <td>该岗位一经录用，需驻村3年，其间作为大学村官管理，期满后回招录单位。</td>\n",
       "      <td>否</td>\n",
       "    </tr>\n",
       "    <tr>\n",
       "      <th>2687</th>\n",
       "      <td>1.342300e+10</td>\n",
       "      <td>迪庆州维西县巴迪乡人民政府</td>\n",
       "      <td>行政机关</td>\n",
       "      <td>迪庆州</td>\n",
       "      <td>维西</td>\n",
       "      <td>财务岗</td>\n",
       "      <td>乡镇公务员</td>\n",
       "      <td>--</td>\n",
       "      <td>--</td>\n",
       "      <td>从事财务工作</td>\n",
       "      <td>...</td>\n",
       "      <td>--</td>\n",
       "      <td>--</td>\n",
       "      <td>招考单位所在州（市）</td>\n",
       "      <td>--</td>\n",
       "      <td>不限</td>\n",
       "      <td>--</td>\n",
       "      <td>否</td>\n",
       "      <td>--</td>\n",
       "      <td>该岗位一经录用，需驻村3年，其间作为大学村官管理，期满后回招录单位。</td>\n",
       "      <td>否</td>\n",
       "    </tr>\n",
       "    <tr>\n",
       "      <th>2688</th>\n",
       "      <td>1.342300e+10</td>\n",
       "      <td>迪庆州维西县康普乡人民政府</td>\n",
       "      <td>行政机关</td>\n",
       "      <td>迪庆州</td>\n",
       "      <td>维西</td>\n",
       "      <td>党政办公室岗</td>\n",
       "      <td>乡镇公务员</td>\n",
       "      <td>--</td>\n",
       "      <td>--</td>\n",
       "      <td>从事党政办公室综合文秘工作</td>\n",
       "      <td>...</td>\n",
       "      <td>--</td>\n",
       "      <td>--</td>\n",
       "      <td>招考单位所在州（市）</td>\n",
       "      <td>--</td>\n",
       "      <td>不限</td>\n",
       "      <td>--</td>\n",
       "      <td>否</td>\n",
       "      <td>--</td>\n",
       "      <td>该岗位一经录用，需驻村3年，其间作为大学村官管理，期满后回招录单位。</td>\n",
       "      <td>否</td>\n",
       "    </tr>\n",
       "    <tr>\n",
       "      <th>2689</th>\n",
       "      <td>NaN</td>\n",
       "      <td>NaN</td>\n",
       "      <td>NaN</td>\n",
       "      <td>NaN</td>\n",
       "      <td>NaN</td>\n",
       "      <td>NaN</td>\n",
       "      <td>NaN</td>\n",
       "      <td>NaN</td>\n",
       "      <td>NaN</td>\n",
       "      <td>NaN</td>\n",
       "      <td>...</td>\n",
       "      <td>NaN</td>\n",
       "      <td>NaN</td>\n",
       "      <td>NaN</td>\n",
       "      <td>NaN</td>\n",
       "      <td>NaN</td>\n",
       "      <td>NaN</td>\n",
       "      <td>NaN</td>\n",
       "      <td>NaN</td>\n",
       "      <td>NaN</td>\n",
       "      <td>NaN</td>\n",
       "    </tr>\n",
       "  </tbody>\n",
       "</table>\n",
       "<p>5 rows × 34 columns</p>\n",
       "</div>"
      ],
      "text/plain": [
       "              岗位代码          招录单位全称  单位类别 属地信息一级 属地信息二级  招录岗位名称   岗位类型  \\\n",
       "2685  1.342300e+10  迪庆州维西县攀天阁乡人民政府  行政机关    迪庆州     维西  党政办公室岗  乡镇公务员   \n",
       "2686  1.342300e+10   迪庆州维西县保和镇人民政府  行政机关    迪庆州     维西  党政办公室岗  乡镇公务员   \n",
       "2687  1.342300e+10   迪庆州维西县巴迪乡人民政府  行政机关    迪庆州     维西     财务岗  乡镇公务员   \n",
       "2688  1.342300e+10   迪庆州维西县康普乡人民政府  行政机关    迪庆州     维西  党政办公室岗  乡镇公务员   \n",
       "2689           NaN             NaN   NaN    NaN    NaN     NaN    NaN   \n",
       "\n",
       "     是否为法官检察官助理岗位 公安机关人民警察岗位类别         岗位工作简介    ...     第三组专业要求：一级目录  \\\n",
       "2685           --           --  从事党政办公室综合文秘工作    ...               --   \n",
       "2686           --           --  从事党政办公室综合文秘工作    ...               --   \n",
       "2687           --           --         从事财务工作    ...               --   \n",
       "2688           --           --  从事党政办公室综合文秘工作    ...               --   \n",
       "2689          NaN          NaN            NaN    ...              NaN   \n",
       "\n",
       "     第三组专业要求：二级目录     生源或户籍要求 服务地要求（定向服务基层“四个项目”人员岗位填写） 政治面貌要求 国家司法考试证书要求  \\\n",
       "2685           --  招考单位所在州（市）                        --     不限         --   \n",
       "2686           --  招考单位所在州（市）                        --     不限         --   \n",
       "2687           --  招考单位所在州（市）                        --     不限         --   \n",
       "2688           --  招考单位所在州（市）                        --     不限         --   \n",
       "2689          NaN         NaN                       NaN    NaN        NaN   \n",
       "\n",
       "     是否进行专业测试 其他招录条件                                有关说明 是否受开考比例限制  \n",
       "2685        否     --  该岗位一经录用，需驻村3年，其间作为大学村官管理，期满后回招录单位。         否  \n",
       "2686        否     --  该岗位一经录用，需驻村3年，其间作为大学村官管理，期满后回招录单位。         否  \n",
       "2687        否     --  该岗位一经录用，需驻村3年，其间作为大学村官管理，期满后回招录单位。         否  \n",
       "2688        否     --  该岗位一经录用，需驻村3年，其间作为大学村官管理，期满后回招录单位。         否  \n",
       "2689      NaN    NaN                                 NaN       NaN  \n",
       "\n",
       "[5 rows x 34 columns]"
      ]
     },
     "execution_count": 11,
     "metadata": {},
     "output_type": "execute_result"
    }
   ],
   "source": [
    "job2017.tail()"
   ]
  },
  {
   "cell_type": "code",
   "execution_count": 12,
   "metadata": {
    "collapsed": true
   },
   "outputs": [],
   "source": [
    "job2017 = job2017.drop([2689])"
   ]
  },
  {
   "cell_type": "code",
   "execution_count": 13,
   "metadata": {
    "collapsed": true
   },
   "outputs": [],
   "source": [
    "job2017.loc[:,'岗位代码'] = job2017['岗位代码'].astype(int)"
   ]
  },
  {
   "cell_type": "code",
   "execution_count": 14,
   "metadata": {
    "collapsed": true
   },
   "outputs": [],
   "source": [
    "job2017.loc[:,'岗位代码'] = job2017['岗位代码'].astype(str)"
   ]
  },
  {
   "cell_type": "code",
   "execution_count": 15,
   "metadata": {},
   "outputs": [
    {
     "name": "stdout",
     "output_type": "stream",
     "text": [
      "<class 'pandas.core.frame.DataFrame'>\n",
      "Int64Index: 517 entries, 0 to 516\n",
      "Data columns (total 41 columns):\n",
      "准考证号                         517 non-null object\n",
      "岗位代码                         517 non-null object\n",
      "面试时间                         517 non-null object\n",
      "抽签开始时间                       517 non-null object\n",
      "面试开始时间                       517 non-null object\n",
      "面试地点                         517 non-null object\n",
      "备注                           0 non-null object\n",
      "nan                          0 non-null object\n",
      "招录单位全称                       349 non-null object\n",
      "单位类别                         349 non-null object\n",
      "属地信息一级                       349 non-null object\n",
      "属地信息二级                       349 non-null object\n",
      "招录岗位名称                       349 non-null object\n",
      "岗位类型                         349 non-null object\n",
      "是否为法官检察官助理岗位                 349 non-null object\n",
      "公安机关人民警察岗位类别                 349 non-null object\n",
      "岗位工作简介                       349 non-null object\n",
      "招录人数                         349 non-null float64\n",
      "报考人员身份要求                     349 non-null object\n",
      "性别要求                         349 non-null object\n",
      "民族要求                         349 non-null object\n",
      "岗位具体需要的少数民族名称                349 non-null object\n",
      "学历性质要求                       349 non-null object\n",
      "学历要求                         349 non-null object\n",
      "学位要求                         349 non-null object\n",
      "年龄要求                         349 non-null object\n",
      "第一组专业要求：一级目录                 349 non-null object\n",
      "第一组专业要求：二级目录                 349 non-null object\n",
      "第一组专业要求：具体专业                 349 non-null object\n",
      "第二组专业要求：一级目录                 349 non-null object\n",
      "第二组专业要求：二级目录                 349 non-null object\n",
      "第三组专业要求：一级目录                 349 non-null object\n",
      "第三组专业要求：二级目录                 349 non-null object\n",
      "生源或户籍要求                      349 non-null object\n",
      "服务地要求（定向服务基层“四个项目”人员岗位填写）    349 non-null object\n",
      "政治面貌要求                       349 non-null object\n",
      "国家司法考试证书要求                   349 non-null object\n",
      "是否进行专业测试                     349 non-null object\n",
      "其他招录条件                       349 non-null object\n",
      "有关说明                         349 non-null object\n",
      "是否受开考比例限制                    349 non-null object\n",
      "dtypes: float64(1), object(40)\n",
      "memory usage: 169.6+ KB\n"
     ]
    }
   ],
   "source": [
    "temp = pd.merge(p17, job2017, \n",
    "                on='岗位代码', how='left')\n",
    "temp.info()"
   ]
  },
  {
   "cell_type": "code",
   "execution_count": 16,
   "metadata": {
    "collapsed": true
   },
   "outputs": [],
   "source": [
    "temp.loc[:,'岗位代码'] = temp['岗位代码'].astype(str)"
   ]
  },
  {
   "cell_type": "markdown",
   "metadata": {},
   "source": [
    "    发现进入面试名单中，有一些可疑岗位不在省级发布的职位表里。"
   ]
  },
  {
   "cell_type": "code",
   "execution_count": 17,
   "metadata": {},
   "outputs": [
    {
     "data": {
      "text/plain": [
       "168"
      ]
     },
     "execution_count": 17,
     "metadata": {},
     "output_type": "execute_result"
    }
   ],
   "source": [
    "\n",
    "sus2017 = [code for code in temp['岗位代码'] if code not in np.array(job2017['岗位代码'])]\n",
    "len(sus2017)"
   ]
  },
  {
   "cell_type": "code",
   "execution_count": 18,
   "metadata": {},
   "outputs": [
    {
     "data": {
      "text/plain": [
       "517"
      ]
     },
     "execution_count": 18,
     "metadata": {},
     "output_type": "execute_result"
    }
   ],
   "source": [
    "349+168"
   ]
  },
  {
   "cell_type": "markdown",
   "metadata": {},
   "source": [
    "    进入面试的517人，有349人的岗位可以在省级职位表里找到，有168人找不到"
   ]
  },
  {
   "cell_type": "code",
   "execution_count": 19,
   "metadata": {},
   "outputs": [
    {
     "data": {
      "text/plain": [
       "['50827002061',\n",
       " '50827002061',\n",
       " '50827002061',\n",
       " '50827002061',\n",
       " '50827002061',\n",
       " '50827002061',\n",
       " '50827002061',\n",
       " '50827002061',\n",
       " '50827002061',\n",
       " '50827002061',\n",
       " '50824001051',\n",
       " '50824001051',\n",
       " '50822002056',\n",
       " '50822002056',\n",
       " '50822002056',\n",
       " '50822002056',\n",
       " '50822002056',\n",
       " '50822002056',\n",
       " '50822002056',\n",
       " '50822002056',\n",
       " '50822002056',\n",
       " '50822002056',\n",
       " '50822002056',\n",
       " '50822002056',\n",
       " '50822002056',\n",
       " '50822002056',\n",
       " '50822002056',\n",
       " '50822002056',\n",
       " '50821002055',\n",
       " '50821002055',\n",
       " '50821002055',\n",
       " '50821002055',\n",
       " '50821002055',\n",
       " '50821002055',\n",
       " '50821002055',\n",
       " '50821002055',\n",
       " '50821002055',\n",
       " '50821002055',\n",
       " '50800002054',\n",
       " '50800002054',\n",
       " '50800002054',\n",
       " '50800002054',\n",
       " '50800002054',\n",
       " '50800002054',\n",
       " '50800002054',\n",
       " '50800002054',\n",
       " '50825002059',\n",
       " '50825002059',\n",
       " '50825002059',\n",
       " '50825002059',\n",
       " '50825002059',\n",
       " '50825002059',\n",
       " '50825002059',\n",
       " '50825002059',\n",
       " '50825002059',\n",
       " '50825002059',\n",
       " '50825001052',\n",
       " '50825001052',\n",
       " '50829002063',\n",
       " '50829002063',\n",
       " '50829002063',\n",
       " '50828001055',\n",
       " '50828001055',\n",
       " '50827001054',\n",
       " '50827001054',\n",
       " '50822001049',\n",
       " '50822001049',\n",
       " '50821001048',\n",
       " '50821001048',\n",
       " '50800001047',\n",
       " '50800001047',\n",
       " '50829001056',\n",
       " '50829001056',\n",
       " '50823001050',\n",
       " '50823001050',\n",
       " '50826002060',\n",
       " '50826002060',\n",
       " '50826002060',\n",
       " '50826002060',\n",
       " '50826002060',\n",
       " '50826002060',\n",
       " '50826002060',\n",
       " '50826002060',\n",
       " '50826001053',\n",
       " '50826001053',\n",
       " '50823002057',\n",
       " '50823002057',\n",
       " '50823002057',\n",
       " '50823002057',\n",
       " '50823002057',\n",
       " '50823002057',\n",
       " '50823002057',\n",
       " '50823002057',\n",
       " '50823002057',\n",
       " '50823002057',\n",
       " '50823002057',\n",
       " '50823002057',\n",
       " '50823002057',\n",
       " '50823002057',\n",
       " '50823002057',\n",
       " '50823002057',\n",
       " '50823002057',\n",
       " '50823002057',\n",
       " '50824002058',\n",
       " '50824002058',\n",
       " '50824002058',\n",
       " '50824002058',\n",
       " '50824002058',\n",
       " '50824002058',\n",
       " '50824002058',\n",
       " '50824002058',\n",
       " '50824002058',\n",
       " '50824002058',\n",
       " '50824002058',\n",
       " '50824002058',\n",
       " '50824002058',\n",
       " '50824002058',\n",
       " '50824002058',\n",
       " '50824002058',\n",
       " '50828002062',\n",
       " '50828002062',\n",
       " '50828002062',\n",
       " '50828002062',\n",
       " '50828002062',\n",
       " '50828002062',\n",
       " '50828002062',\n",
       " '50828002062',\n",
       " '50828002062',\n",
       " '50828002062',\n",
       " '50828002062',\n",
       " '50828002062',\n",
       " '50828002062',\n",
       " '50828002062',\n",
       " '50828002062',\n",
       " '50828002062',\n",
       " '50828002062',\n",
       " '20170514',\n",
       " '20170529',\n",
       " '20170530',\n",
       " '20170530',\n",
       " '20170531',\n",
       " '20170531',\n",
       " '20170531',\n",
       " '20170531',\n",
       " '20170534',\n",
       " '20170536',\n",
       " '20170537',\n",
       " '20170537',\n",
       " '20170538',\n",
       " '20170539',\n",
       " '20170539',\n",
       " '20170543',\n",
       " '20170543',\n",
       " '20170543',\n",
       " '20170544',\n",
       " '20170545',\n",
       " '20170504',\n",
       " '20170506',\n",
       " '20170510',\n",
       " '20170511',\n",
       " '20170513',\n",
       " '20170513',\n",
       " '20170518',\n",
       " '20170519',\n",
       " '20170521',\n",
       " '20170521',\n",
       " '20170535',\n",
       " '20170535']"
      ]
     },
     "execution_count": 19,
     "metadata": {},
     "output_type": "execute_result"
    }
   ],
   "source": [
    "sus2017"
   ]
  },
  {
   "cell_type": "markdown",
   "metadata": {},
   "source": [
    "    下面是读取从中公找来的体侧名单和无需体侧的名单，里面有用信息是笔试成绩和岗位排名。\n",
    "    做简单格式转换后合并这两个名单。"
   ]
  },
  {
   "cell_type": "code",
   "execution_count": 20,
   "metadata": {
    "collapsed": true
   },
   "outputs": [],
   "source": [
    "p17_nonphy = pd.ExcelFile('2017_non_phy.xlsx').parse(0)\n",
    "p17_phy = pd.ExcelFile('2017_phy.xlsx').parse(0)"
   ]
  },
  {
   "cell_type": "code",
   "execution_count": 21,
   "metadata": {},
   "outputs": [
    {
     "name": "stdout",
     "output_type": "stream",
     "text": [
      "<class 'pandas.core.frame.DataFrame'>\n",
      "RangeIndex: 6790 entries, 0 to 6789\n",
      "Data columns (total 8 columns):\n",
      "准考证号               6790 non-null int64\n",
      "岗位代码               6790 non-null int64\n",
      "笔试总成绩              6790 non-null float64\n",
      "笔试总成绩岗位排名          6790 non-null int64\n",
      "所报岗位招录计划裁减后招录人数    6790 non-null int64\n",
      "所报岗位笔试最低合格分数线      6790 non-null int64\n",
      "进入体能测评否            6790 non-null object\n",
      "是否为首批资格复审人员        6790 non-null object\n",
      "dtypes: float64(1), int64(5), object(2)\n",
      "memory usage: 424.5+ KB\n"
     ]
    }
   ],
   "source": [
    "p17_nonphy.info()"
   ]
  },
  {
   "cell_type": "code",
   "execution_count": 22,
   "metadata": {},
   "outputs": [
    {
     "name": "stdout",
     "output_type": "stream",
     "text": [
      "<class 'pandas.core.frame.DataFrame'>\n",
      "RangeIndex: 593 entries, 0 to 592\n",
      "Data columns (total 8 columns):\n",
      "准考证号               593 non-null int64\n",
      "岗位代码               593 non-null int64\n",
      "笔试总成绩              593 non-null float64\n",
      "笔试总成绩岗位排名          593 non-null int64\n",
      "所报岗位招录计划裁减后招录人数    593 non-null int64\n",
      "所报岗位笔试最低合格分数线      593 non-null int64\n",
      "进入体能测评否            593 non-null object\n",
      "是否为首批资格复审人员        593 non-null object\n",
      "dtypes: float64(1), int64(5), object(2)\n",
      "memory usage: 37.1+ KB\n"
     ]
    }
   ],
   "source": [
    "p17_phy.info()"
   ]
  },
  {
   "cell_type": "code",
   "execution_count": 23,
   "metadata": {
    "collapsed": true
   },
   "outputs": [],
   "source": [
    "temp.loc[:,'准考证号'] = temp['准考证号'].astype(str)\n",
    "temp.loc[:,'岗位代码'] = temp['岗位代码'].astype(str)"
   ]
  },
  {
   "cell_type": "code",
   "execution_count": 24,
   "metadata": {
    "collapsed": true
   },
   "outputs": [],
   "source": [
    "p17_nonphy.loc[:,'准考证号'] = p17_nonphy['准考证号'].astype(str)\n",
    "p17_nonphy.loc[:,'岗位代码'] = p17_nonphy['岗位代码'].astype(str)"
   ]
  },
  {
   "cell_type": "code",
   "execution_count": 25,
   "metadata": {
    "collapsed": true
   },
   "outputs": [],
   "source": [
    "p17_phy.loc[:,'准考证号'] = p17_phy['准考证号'].astype(str)\n",
    "p17_phy.loc[:,'岗位代码'] = p17_phy['岗位代码'].astype(str)"
   ]
  },
  {
   "cell_type": "code",
   "execution_count": 26,
   "metadata": {},
   "outputs": [
    {
     "data": {
      "text/plain": [
       "array([ True,  True,  True,  True,  True,  True,  True,  True], dtype=bool)"
      ]
     },
     "execution_count": 26,
     "metadata": {},
     "output_type": "execute_result"
    }
   ],
   "source": [
    "p17_nonphy.columns == p17_phy.columns"
   ]
  },
  {
   "cell_type": "code",
   "execution_count": 27,
   "metadata": {
    "collapsed": true
   },
   "outputs": [],
   "source": [
    "p17_allphy = pd.concat([p17_phy, p17_nonphy])"
   ]
  },
  {
   "cell_type": "code",
   "execution_count": 28,
   "metadata": {},
   "outputs": [
    {
     "data": {
      "text/html": [
       "<div>\n",
       "<table border=\"1\" class=\"dataframe\">\n",
       "  <thead>\n",
       "    <tr style=\"text-align: right;\">\n",
       "      <th></th>\n",
       "      <th>准考证号</th>\n",
       "      <th>岗位代码</th>\n",
       "      <th>笔试总成绩</th>\n",
       "      <th>笔试总成绩岗位排名</th>\n",
       "      <th>所报岗位招录计划裁减后招录人数</th>\n",
       "      <th>所报岗位笔试最低合格分数线</th>\n",
       "      <th>进入体能测评否</th>\n",
       "      <th>是否为首批资格复审人员</th>\n",
       "    </tr>\n",
       "  </thead>\n",
       "  <tbody>\n",
       "    <tr>\n",
       "      <th>0</th>\n",
       "      <td>101012000716</td>\n",
       "      <td>10422008001</td>\n",
       "      <td>162.0</td>\n",
       "      <td>1</td>\n",
       "      <td>1</td>\n",
       "      <td>105</td>\n",
       "      <td>是</td>\n",
       "      <td>待体能测评结束后确定</td>\n",
       "    </tr>\n",
       "    <tr>\n",
       "      <th>1</th>\n",
       "      <td>101360803216</td>\n",
       "      <td>10422008001</td>\n",
       "      <td>151.5</td>\n",
       "      <td>2</td>\n",
       "      <td>1</td>\n",
       "      <td>105</td>\n",
       "      <td>是</td>\n",
       "      <td>待体能测评结束后确定</td>\n",
       "    </tr>\n",
       "    <tr>\n",
       "      <th>2</th>\n",
       "      <td>101360808918</td>\n",
       "      <td>10422008001</td>\n",
       "      <td>137.0</td>\n",
       "      <td>3</td>\n",
       "      <td>1</td>\n",
       "      <td>105</td>\n",
       "      <td>是</td>\n",
       "      <td>待体能测评结束后确定</td>\n",
       "    </tr>\n",
       "    <tr>\n",
       "      <th>3</th>\n",
       "      <td>101240701314</td>\n",
       "      <td>10424007001</td>\n",
       "      <td>158.5</td>\n",
       "      <td>1</td>\n",
       "      <td>1</td>\n",
       "      <td>105</td>\n",
       "      <td>是</td>\n",
       "      <td>待体能测评结束后确定</td>\n",
       "    </tr>\n",
       "    <tr>\n",
       "      <th>4</th>\n",
       "      <td>101360813020</td>\n",
       "      <td>10424007001</td>\n",
       "      <td>157.0</td>\n",
       "      <td>2</td>\n",
       "      <td>1</td>\n",
       "      <td>105</td>\n",
       "      <td>是</td>\n",
       "      <td>待体能测评结束后确定</td>\n",
       "    </tr>\n",
       "  </tbody>\n",
       "</table>\n",
       "</div>"
      ],
      "text/plain": [
       "           准考证号         岗位代码  笔试总成绩  笔试总成绩岗位排名  所报岗位招录计划裁减后招录人数  \\\n",
       "0  101012000716  10422008001  162.0          1                1   \n",
       "1  101360803216  10422008001  151.5          2                1   \n",
       "2  101360808918  10422008001  137.0          3                1   \n",
       "3  101240701314  10424007001  158.5          1                1   \n",
       "4  101360813020  10424007001  157.0          2                1   \n",
       "\n",
       "   所报岗位笔试最低合格分数线 进入体能测评否 是否为首批资格复审人员  \n",
       "0            105       是  待体能测评结束后确定  \n",
       "1            105       是  待体能测评结束后确定  \n",
       "2            105       是  待体能测评结束后确定  \n",
       "3            105       是  待体能测评结束后确定  \n",
       "4            105       是  待体能测评结束后确定  "
      ]
     },
     "execution_count": 28,
     "metadata": {},
     "output_type": "execute_result"
    }
   ],
   "source": [
    "p17_allphy.head()"
   ]
  },
  {
   "cell_type": "code",
   "execution_count": 29,
   "metadata": {},
   "outputs": [
    {
     "name": "stdout",
     "output_type": "stream",
     "text": [
      "<class 'pandas.core.frame.DataFrame'>\n",
      "Int64Index: 517 entries, 0 to 516\n",
      "Data columns (total 47 columns):\n",
      "准考证号                         517 non-null object\n",
      "岗位代码                         517 non-null object\n",
      "面试时间                         517 non-null object\n",
      "抽签开始时间                       517 non-null object\n",
      "面试开始时间                       517 non-null object\n",
      "面试地点                         517 non-null object\n",
      "备注                           0 non-null object\n",
      "nan                          0 non-null object\n",
      "招录单位全称                       349 non-null object\n",
      "单位类别                         349 non-null object\n",
      "属地信息一级                       349 non-null object\n",
      "属地信息二级                       349 non-null object\n",
      "招录岗位名称                       349 non-null object\n",
      "岗位类型                         349 non-null object\n",
      "是否为法官检察官助理岗位                 349 non-null object\n",
      "公安机关人民警察岗位类别                 349 non-null object\n",
      "岗位工作简介                       349 non-null object\n",
      "招录人数                         349 non-null float64\n",
      "报考人员身份要求                     349 non-null object\n",
      "性别要求                         349 non-null object\n",
      "民族要求                         349 non-null object\n",
      "岗位具体需要的少数民族名称                349 non-null object\n",
      "学历性质要求                       349 non-null object\n",
      "学历要求                         349 non-null object\n",
      "学位要求                         349 non-null object\n",
      "年龄要求                         349 non-null object\n",
      "第一组专业要求：一级目录                 349 non-null object\n",
      "第一组专业要求：二级目录                 349 non-null object\n",
      "第一组专业要求：具体专业                 349 non-null object\n",
      "第二组专业要求：一级目录                 349 non-null object\n",
      "第二组专业要求：二级目录                 349 non-null object\n",
      "第三组专业要求：一级目录                 349 non-null object\n",
      "第三组专业要求：二级目录                 349 non-null object\n",
      "生源或户籍要求                      349 non-null object\n",
      "服务地要求（定向服务基层“四个项目”人员岗位填写）    349 non-null object\n",
      "政治面貌要求                       349 non-null object\n",
      "国家司法考试证书要求                   349 non-null object\n",
      "是否进行专业测试                     349 non-null object\n",
      "其他招录条件                       349 non-null object\n",
      "有关说明                         349 non-null object\n",
      "是否受开考比例限制                    349 non-null object\n",
      "笔试总成绩                        334 non-null float64\n",
      "笔试总成绩岗位排名                    334 non-null float64\n",
      "所报岗位招录计划裁减后招录人数              334 non-null float64\n",
      "所报岗位笔试最低合格分数线                334 non-null float64\n",
      "进入体能测评否                      334 non-null object\n",
      "是否为首批资格复审人员                  334 non-null object\n",
      "dtypes: float64(5), object(42)\n",
      "memory usage: 193.9+ KB\n"
     ]
    }
   ],
   "source": [
    "temp4 = pd.merge(temp, p17_allphy, \n",
    "                 on=['准考证号','岗位代码'], how='left')\n",
    "temp4.info()"
   ]
  },
  {
   "cell_type": "code",
   "execution_count": 30,
   "metadata": {},
   "outputs": [
    {
     "data": {
      "text/plain": [
       "183"
      ]
     },
     "execution_count": 30,
     "metadata": {},
     "output_type": "execute_result"
    }
   ],
   "source": [
    "sum(pd.isnull(temp4['笔试总成绩']))"
   ]
  },
  {
   "cell_type": "code",
   "execution_count": 31,
   "metadata": {},
   "outputs": [
    {
     "data": {
      "text/plain": [
       "168"
      ]
     },
     "execution_count": 31,
     "metadata": {},
     "output_type": "execute_result"
    }
   ],
   "source": [
    "sum(pd.isnull(temp4['单位类别']))"
   ]
  },
  {
   "cell_type": "code",
   "execution_count": 32,
   "metadata": {},
   "outputs": [
    {
     "data": {
      "text/plain": [
       "15"
      ]
     },
     "execution_count": 32,
     "metadata": {},
     "output_type": "execute_result"
    }
   ],
   "source": [
    "sum((pd.isnull(temp4['笔试总成绩'])) & (pd.notnull(temp4['单位类别'])))\n"
   ]
  },
  {
   "cell_type": "code",
   "execution_count": 33,
   "metadata": {},
   "outputs": [
    {
     "data": {
      "text/html": [
       "<div>\n",
       "<table border=\"1\" class=\"dataframe\">\n",
       "  <thead>\n",
       "    <tr style=\"text-align: right;\">\n",
       "      <th>1</th>\n",
       "      <th>准考证号</th>\n",
       "      <th>岗位代码</th>\n",
       "      <th>面试时间</th>\n",
       "      <th>抽签开始时间</th>\n",
       "      <th>面试开始时间</th>\n",
       "      <th>面试地点</th>\n",
       "      <th>备注</th>\n",
       "      <th>nan</th>\n",
       "      <th>招录单位全称</th>\n",
       "      <th>单位类别</th>\n",
       "      <th>...</th>\n",
       "      <th>是否进行专业测试</th>\n",
       "      <th>其他招录条件</th>\n",
       "      <th>有关说明</th>\n",
       "      <th>是否受开考比例限制</th>\n",
       "      <th>笔试总成绩</th>\n",
       "      <th>笔试总成绩岗位排名</th>\n",
       "      <th>所报岗位招录计划裁减后招录人数</th>\n",
       "      <th>所报岗位笔试最低合格分数线</th>\n",
       "      <th>进入体能测评否</th>\n",
       "      <th>是否为首批资格复审人员</th>\n",
       "    </tr>\n",
       "  </thead>\n",
       "  <tbody>\n",
       "    <tr>\n",
       "      <th>89</th>\n",
       "      <td>101270103428</td>\n",
       "      <td>10828022001</td>\n",
       "      <td>2017年7月29日上午</td>\n",
       "      <td>当天7:00在候考室准时开始抽签</td>\n",
       "      <td>当天8:00正式开始面试</td>\n",
       "      <td>中共普洱市委党校</td>\n",
       "      <td>NaN</td>\n",
       "      <td>NaN</td>\n",
       "      <td>澜沧县工业商务和信息化局</td>\n",
       "      <td>行政机关</td>\n",
       "      <td>...</td>\n",
       "      <td>否</td>\n",
       "      <td>--</td>\n",
       "      <td>--</td>\n",
       "      <td>是</td>\n",
       "      <td>NaN</td>\n",
       "      <td>NaN</td>\n",
       "      <td>NaN</td>\n",
       "      <td>NaN</td>\n",
       "      <td>NaN</td>\n",
       "      <td>NaN</td>\n",
       "    </tr>\n",
       "    <tr>\n",
       "      <th>177</th>\n",
       "      <td>101270303805</td>\n",
       "      <td>10826011002</td>\n",
       "      <td>2017年7月29日下午</td>\n",
       "      <td>当天12:30在候考室准时开始抽签</td>\n",
       "      <td>当天13:30正式开始面试</td>\n",
       "      <td>中共普洱市委党校</td>\n",
       "      <td>NaN</td>\n",
       "      <td>NaN</td>\n",
       "      <td>江城哈尼族彝族自治县乡镇国土资源管理所</td>\n",
       "      <td>参照公务员法管理的事业单位</td>\n",
       "      <td>...</td>\n",
       "      <td>否</td>\n",
       "      <td>--</td>\n",
       "      <td>根据综合成绩高低依次分配到康平镇、曲水镇国土资源管理所各1人</td>\n",
       "      <td>否</td>\n",
       "      <td>NaN</td>\n",
       "      <td>NaN</td>\n",
       "      <td>NaN</td>\n",
       "      <td>NaN</td>\n",
       "      <td>NaN</td>\n",
       "      <td>NaN</td>\n",
       "    </tr>\n",
       "    <tr>\n",
       "      <th>...</th>\n",
       "      <td>...</td>\n",
       "      <td>...</td>\n",
       "      <td>...</td>\n",
       "      <td>...</td>\n",
       "      <td>...</td>\n",
       "      <td>...</td>\n",
       "      <td>...</td>\n",
       "      <td>...</td>\n",
       "      <td>...</td>\n",
       "      <td>...</td>\n",
       "      <td>...</td>\n",
       "      <td>...</td>\n",
       "      <td>...</td>\n",
       "      <td>...</td>\n",
       "      <td>...</td>\n",
       "      <td>...</td>\n",
       "      <td>...</td>\n",
       "      <td>...</td>\n",
       "      <td>...</td>\n",
       "      <td>...</td>\n",
       "      <td>...</td>\n",
       "    </tr>\n",
       "    <tr>\n",
       "      <th>461</th>\n",
       "      <td>101361602117</td>\n",
       "      <td>10829003001</td>\n",
       "      <td>2017年7月30日上午</td>\n",
       "      <td>当天7:00在候考室准时开始抽签</td>\n",
       "      <td>当天8:00正式开始面试</td>\n",
       "      <td>中共普洱市委党校</td>\n",
       "      <td>NaN</td>\n",
       "      <td>NaN</td>\n",
       "      <td>西盟县岳宋乡人民政府</td>\n",
       "      <td>行政机关</td>\n",
       "      <td>...</td>\n",
       "      <td>否</td>\n",
       "      <td>--</td>\n",
       "      <td>该岗位一经录用，需驻村3年，其间作为大学村官管理，期满后回招录单位。</td>\n",
       "      <td>否</td>\n",
       "      <td>NaN</td>\n",
       "      <td>NaN</td>\n",
       "      <td>NaN</td>\n",
       "      <td>NaN</td>\n",
       "      <td>NaN</td>\n",
       "      <td>NaN</td>\n",
       "    </tr>\n",
       "    <tr>\n",
       "      <th>473</th>\n",
       "      <td>101270104617</td>\n",
       "      <td>10800007002</td>\n",
       "      <td>2017年7月30日上午</td>\n",
       "      <td>当天7:00在候考室准时开始抽签</td>\n",
       "      <td>当天8:00正式开始面试</td>\n",
       "      <td>中共普洱市委党校</td>\n",
       "      <td>NaN</td>\n",
       "      <td>NaN</td>\n",
       "      <td>思茅区社会保险局</td>\n",
       "      <td>参照公务员法管理的事业单位</td>\n",
       "      <td>...</td>\n",
       "      <td>否</td>\n",
       "      <td>--</td>\n",
       "      <td>--</td>\n",
       "      <td>是</td>\n",
       "      <td>NaN</td>\n",
       "      <td>NaN</td>\n",
       "      <td>NaN</td>\n",
       "      <td>NaN</td>\n",
       "      <td>NaN</td>\n",
       "      <td>NaN</td>\n",
       "    </tr>\n",
       "  </tbody>\n",
       "</table>\n",
       "<p>15 rows × 47 columns</p>\n",
       "</div>"
      ],
      "text/plain": [
       "1            准考证号         岗位代码          面试时间             抽签开始时间  \\\n",
       "89   101270103428  10828022001  2017年7月29日上午   当天7:00在候考室准时开始抽签   \n",
       "177  101270303805  10826011002  2017年7月29日下午  当天12:30在候考室准时开始抽签   \n",
       "..            ...          ...           ...                ...   \n",
       "461  101361602117  10829003001  2017年7月30日上午   当天7:00在候考室准时开始抽签   \n",
       "473  101270104617  10800007002  2017年7月30日上午   当天7:00在候考室准时开始抽签   \n",
       "\n",
       "1           面试开始时间      面试地点   备注  NaN               招录单位全称           单位类别  \\\n",
       "89    当天8:00正式开始面试  中共普洱市委党校  NaN  NaN         澜沧县工业商务和信息化局           行政机关   \n",
       "177  当天13:30正式开始面试  中共普洱市委党校  NaN  NaN  江城哈尼族彝族自治县乡镇国土资源管理所  参照公务员法管理的事业单位   \n",
       "..             ...       ...  ...  ...                  ...            ...   \n",
       "461   当天8:00正式开始面试  中共普洱市委党校  NaN  NaN           西盟县岳宋乡人民政府           行政机关   \n",
       "473   当天8:00正式开始面试  中共普洱市委党校  NaN  NaN             思茅区社会保险局  参照公务员法管理的事业单位   \n",
       "\n",
       "1       ...     是否进行专业测试 其他招录条件                                有关说明 是否受开考比例限制  \\\n",
       "89      ...            否     --                                  --         是   \n",
       "177     ...            否     --      根据综合成绩高低依次分配到康平镇、曲水镇国土资源管理所各1人         否   \n",
       "..      ...          ...    ...                                 ...       ...   \n",
       "461     ...            否     --  该岗位一经录用，需驻村3年，其间作为大学村官管理，期满后回招录单位。         否   \n",
       "473     ...            否     --                                  --         是   \n",
       "\n",
       "1   笔试总成绩 笔试总成绩岗位排名 所报岗位招录计划裁减后招录人数  所报岗位笔试最低合格分数线 进入体能测评否 是否为首批资格复审人员  \n",
       "89    NaN       NaN             NaN            NaN     NaN         NaN  \n",
       "177   NaN       NaN             NaN            NaN     NaN         NaN  \n",
       "..    ...       ...             ...            ...     ...         ...  \n",
       "461   NaN       NaN             NaN            NaN     NaN         NaN  \n",
       "473   NaN       NaN             NaN            NaN     NaN         NaN  \n",
       "\n",
       "[15 rows x 47 columns]"
      ]
     },
     "execution_count": 33,
     "metadata": {},
     "output_type": "execute_result"
    }
   ],
   "source": [
    "temp4[(pd.isnull(temp4['笔试总成绩'])) & (pd.notnull(temp4['单位类别']))]\n"
   ]
  },
  {
   "cell_type": "markdown",
   "metadata": {},
   "source": [
    "现在，temp4是最全的信息，所有517行都是进入面试的人，其中：  \n",
    "* 按照是否在省级职位表划分，349人在省级职位表里，168人疑似普洱自行增加；  \n",
    "* 按照是否有笔试成绩划分，334人有笔试成绩，183人没有笔试成绩；  \n",
    "有15人虽然在省级职位表里，但没有笔试成绩。  \n",
    "\n",
    "下一步：  \n",
    "分离出普洱市自行增加的岗位，作为p17sus；  \n",
    "剩下岗位中drop掉没有笔试成绩的15人，作为p17。."
   ]
  },
  {
   "cell_type": "code",
   "execution_count": 34,
   "metadata": {},
   "outputs": [
    {
     "data": {
      "text/plain": [
       "(168, 47)"
      ]
     },
     "execution_count": 34,
     "metadata": {},
     "output_type": "execute_result"
    }
   ],
   "source": [
    "p17sus = temp4.loc[pd.isnull(temp4['单位类别']),:]\n",
    "p17sus.shape"
   ]
  },
  {
   "cell_type": "code",
   "execution_count": 35,
   "metadata": {},
   "outputs": [
    {
     "data": {
      "text/plain": [
       "(334, 47)"
      ]
     },
     "execution_count": 35,
     "metadata": {},
     "output_type": "execute_result"
    }
   ],
   "source": [
    "p17 = temp4.loc[(pd.notnull(temp4['单位类别']))&(pd.notnull(temp4['笔试总成绩'])),: ]\n",
    "p17.shape"
   ]
  },
  {
   "cell_type": "code",
   "execution_count": 36,
   "metadata": {},
   "outputs": [
    {
     "name": "stdout",
     "output_type": "stream",
     "text": [
      "<class 'pandas.core.frame.DataFrame'>\n",
      "Int64Index: 334 entries, 38 to 484\n",
      "Data columns (total 47 columns):\n",
      "准考证号                         334 non-null object\n",
      "岗位代码                         334 non-null object\n",
      "面试时间                         334 non-null object\n",
      "抽签开始时间                       334 non-null object\n",
      "面试开始时间                       334 non-null object\n",
      "面试地点                         334 non-null object\n",
      "备注                           0 non-null object\n",
      "nan                          0 non-null object\n",
      "招录单位全称                       334 non-null object\n",
      "单位类别                         334 non-null object\n",
      "属地信息一级                       334 non-null object\n",
      "属地信息二级                       334 non-null object\n",
      "招录岗位名称                       334 non-null object\n",
      "岗位类型                         334 non-null object\n",
      "是否为法官检察官助理岗位                 334 non-null object\n",
      "公安机关人民警察岗位类别                 334 non-null object\n",
      "岗位工作简介                       334 non-null object\n",
      "招录人数                         334 non-null float64\n",
      "报考人员身份要求                     334 non-null object\n",
      "性别要求                         334 non-null object\n",
      "民族要求                         334 non-null object\n",
      "岗位具体需要的少数民族名称                334 non-null object\n",
      "学历性质要求                       334 non-null object\n",
      "学历要求                         334 non-null object\n",
      "学位要求                         334 non-null object\n",
      "年龄要求                         334 non-null object\n",
      "第一组专业要求：一级目录                 334 non-null object\n",
      "第一组专业要求：二级目录                 334 non-null object\n",
      "第一组专业要求：具体专业                 334 non-null object\n",
      "第二组专业要求：一级目录                 334 non-null object\n",
      "第二组专业要求：二级目录                 334 non-null object\n",
      "第三组专业要求：一级目录                 334 non-null object\n",
      "第三组专业要求：二级目录                 334 non-null object\n",
      "生源或户籍要求                      334 non-null object\n",
      "服务地要求（定向服务基层“四个项目”人员岗位填写）    334 non-null object\n",
      "政治面貌要求                       334 non-null object\n",
      "国家司法考试证书要求                   334 non-null object\n",
      "是否进行专业测试                     334 non-null object\n",
      "其他招录条件                       334 non-null object\n",
      "有关说明                         334 non-null object\n",
      "是否受开考比例限制                    334 non-null object\n",
      "笔试总成绩                        334 non-null float64\n",
      "笔试总成绩岗位排名                    334 non-null float64\n",
      "所报岗位招录计划裁减后招录人数              334 non-null float64\n",
      "所报岗位笔试最低合格分数线                334 non-null float64\n",
      "进入体能测评否                      334 non-null object\n",
      "是否为首批资格复审人员                  334 non-null object\n",
      "dtypes: float64(5), object(42)\n",
      "memory usage: 125.2+ KB\n"
     ]
    }
   ],
   "source": [
    "p17.info()"
   ]
  },
  {
   "cell_type": "markdown",
   "metadata": {},
   "source": [
    "Target set cleaning done."
   ]
  },
  {
   "cell_type": "markdown",
   "metadata": {},
   "source": [
    "# merge 'puer' data and 'job' data"
   ]
  },
  {
   "cell_type": "markdown",
   "metadata": {},
   "source": [
    "读取我找来的2013-2016年普洱市发布的“拟录用人员公示”，和2013-2016年云南省发布的“招考公告职位表”"
   ]
  },
  {
   "cell_type": "code",
   "execution_count": 37,
   "metadata": {},
   "outputs": [
    {
     "data": {
      "text/plain": [
       "dict_keys(['2014', '2016', '2015', '2013'])"
      ]
     },
     "execution_count": 37,
     "metadata": {},
     "output_type": "execute_result"
    }
   ],
   "source": [
    "p = {}\n",
    "\n",
    "for file in ['2013.xls','2014.xls','2015.xls','2016.xls']:\n",
    "    df = pd.ExcelFile(file).parse(0)\n",
    "    p[file.replace('.xls', '')] = df\n",
    "    \n",
    "p.keys()"
   ]
  },
  {
   "cell_type": "code",
   "execution_count": 38,
   "metadata": {},
   "outputs": [
    {
     "data": {
      "text/plain": [
       "dict_keys(['2014', '2016', '2015', '2013'])"
      ]
     },
     "execution_count": 38,
     "metadata": {},
     "output_type": "execute_result"
    }
   ],
   "source": [
    "j = {}\n",
    "for file in ['jobs2013.xls', 'jobs2014.xls', 'jobs2015.xls', 'jobs2016.xls']:\n",
    "    df = pd.ExcelFile(file).parse(0)\n",
    "    j[file.replace('.xls', '').replace('jobs', '')] = df\n",
    "    \n",
    "j.keys()"
   ]
  },
  {
   "cell_type": "code",
   "execution_count": 39,
   "metadata": {
    "collapsed": true,
    "scrolled": true
   },
   "outputs": [],
   "source": [
    "for year in ['2013', '2014']:\n",
    "    p[year] = pull_up_rows(p[year], 3)\n",
    "for year in ['2015', '2016']:\n",
    "    p[year] = pull_up_rows(p[year], 2)"
   ]
  },
  {
   "cell_type": "code",
   "execution_count": 40,
   "metadata": {},
   "outputs": [
    {
     "name": "stdout",
     "output_type": "stream",
     "text": [
      "2014: \n",
      "<class 'pandas.core.frame.DataFrame'>\n",
      "RangeIndex: 921 entries, 3 to 923\n",
      "Data columns (total 21 columns):\n",
      "准考证号                 921 non-null object\n",
      "姓名                   921 non-null object\n",
      "性别                   921 non-null object\n",
      "民族                   921 non-null object\n",
      "毕业院校                 876 non-null object\n",
      "学历                   921 non-null object\n",
      "学位                   876 non-null object\n",
      "岗位代码                 921 non-null object\n",
      "招录单位全称               921 non-null object\n",
      "招考人数                 377 non-null object\n",
      "笔试\n",
      "成绩                921 non-null object\n",
      "面试       成绩          921 non-null object\n",
      "综合     成绩            921 non-null object\n",
      "岗位         排名        921 non-null object\n",
      "是否进体测体检考察            921 non-null object\n",
      "是否考察合格               921 non-null object\n",
      "是否录用                 921 non-null object\n",
      "面试考场                 921 non-null object\n",
      "面试轮次                 921 non-null object\n",
      "抽签         顺序号       921 non-null object\n",
      "考生具体         面试时间    921 non-null object\n",
      "dtypes: object(21)\n",
      "memory usage: 151.2+ KB\n",
      "None\n",
      "2016: \n",
      "<class 'pandas.core.frame.DataFrame'>\n",
      "RangeIndex: 259 entries, 2 to 260\n",
      "Data columns (total 24 columns):\n",
      "分组                   259 non-null object\n",
      "组合                   259 non-null object\n",
      "准考证号                 259 non-null object\n",
      "姓名                   259 non-null object\n",
      "性别                   243 non-null object\n",
      "民族                   243 non-null object\n",
      "毕业院校                 243 non-null object\n",
      "学历                   243 non-null object\n",
      "学位                   243 non-null object\n",
      "岗位代码                 259 non-null object\n",
      "招录单位全称               259 non-null object\n",
      "招考人数                 259 non-null object\n",
      "笔试\n",
      "总成绩               259 non-null object\n",
      "面试       成绩          259 non-null object\n",
      "经历业绩评价               9 non-null object\n",
      "综合     成绩            259 non-null object\n",
      "岗位         排名        259 non-null object\n",
      "是否进入体检考察             259 non-null object\n",
      "体检考察是否合格             259 non-null object\n",
      "最终是否录用               259 non-null object\n",
      "抽签考场号码               259 non-null object\n",
      "抽签轮次号码               259 non-null object\n",
      "抽签  胸牌  号码           259 non-null object\n",
      "考生具体         面试时间    259 non-null object\n",
      "dtypes: object(24)\n",
      "memory usage: 48.6+ KB\n",
      "None\n",
      "2015: \n",
      "<class 'pandas.core.frame.DataFrame'>\n",
      "RangeIndex: 642 entries, 2 to 643\n",
      "Data columns (total 24 columns):\n",
      "分组                    642 non-null object\n",
      "组合                    642 non-null object\n",
      "准考证号                  642 non-null object\n",
      "姓名                    642 non-null object\n",
      "性别                    642 non-null object\n",
      "民族                    642 non-null object\n",
      "毕业院校                  581 non-null object\n",
      "学历                    581 non-null object\n",
      "学位                    581 non-null object\n",
      "岗位代码                  642 non-null object\n",
      "招录单位全称                642 non-null object\n",
      "招考人数                  642 non-null object\n",
      "笔试\n",
      "成绩                 642 non-null object\n",
      "面试       成绩           642 non-null object\n",
      "其他         测试         22 non-null object\n",
      "综合     成绩             642 non-null object\n",
      "招考   岗位         排名    642 non-null object\n",
      "是否进入体检体测              642 non-null object\n",
      "是否进入考察                642 non-null object\n",
      "最终是否录用                642 non-null object\n",
      "抽签考场号码                642 non-null object\n",
      "抽签轮次号码                642 non-null object\n",
      "抽签  胸牌  号码            642 non-null object\n",
      "考生具体         面试时间     642 non-null object\n",
      "dtypes: object(24)\n",
      "memory usage: 120.5+ KB\n",
      "None\n",
      "2013: \n",
      "<class 'pandas.core.frame.DataFrame'>\n",
      "RangeIndex: 483 entries, 3 to 485\n",
      "Data columns (total 23 columns):\n",
      "准考证号                 483 non-null object\n",
      "姓名                   483 non-null object\n",
      "性别                   483 non-null object\n",
      "民族                   483 non-null object\n",
      "毕业院校                 483 non-null object\n",
      "学历                   483 non-null object\n",
      "学位                   483 non-null object\n",
      "岗位代码                 483 non-null object\n",
      "招考单位                 483 non-null object\n",
      "招考人数                 483 non-null object\n",
      "笔试        成绩         483 non-null object\n",
      "面试       成绩          483 non-null object\n",
      "综合     成绩            483 non-null object\n",
      "岗位         排名        483 non-null object\n",
      "是否进入体检（体测）           483 non-null object\n",
      "是否体检（体测）合格           483 non-null object\n",
      "是否进入考察               483 non-null object\n",
      "是否考察合格               483 non-null object\n",
      "是否录用                 483 non-null object\n",
      "面试     考场            483 non-null object\n",
      "面试     轮次            483 non-null object\n",
      "抽签         顺序号       483 non-null object\n",
      "考生具体         面试时间    483 non-null object\n",
      "dtypes: object(23)\n",
      "memory usage: 86.9+ KB\n",
      "None\n"
     ]
    }
   ],
   "source": [
    "for key in p.keys():\n",
    "    print(key + ': ')\n",
    "    print(p[key].info())"
   ]
  },
  {
   "cell_type": "code",
   "execution_count": 41,
   "metadata": {
    "collapsed": true
   },
   "outputs": [],
   "source": [
    "for key in p.keys():\n",
    "    for col in ['准考证号','岗位代码']:\n",
    "        p[key].loc[:,col] = p[key][col].astype(str)"
   ]
  },
  {
   "cell_type": "code",
   "execution_count": 42,
   "metadata": {},
   "outputs": [
    {
     "name": "stdout",
     "output_type": "stream",
     "text": [
      "2014:\n",
      "<class 'pandas.core.frame.DataFrame'>\n",
      "RangeIndex: 7928 entries, 0 to 7927\n",
      "Data columns (total 35 columns):\n",
      "属地信息第一列          7928 non-null object\n",
      "属地信息第二列          7928 non-null object\n",
      "招录计划申报单位         7928 non-null object\n",
      "岗位代码             7928 non-null int64\n",
      "招录单位全称           7928 non-null object\n",
      "单位类别             7928 non-null object\n",
      "招录主管部门           7928 non-null object\n",
      "单位级别             7928 non-null object\n",
      "招录岗位名称           7928 non-null object\n",
      "岗位工作简介           7918 non-null object\n",
      "招录人数             7928 non-null int64\n",
      "报考人员身份要求         7928 non-null object\n",
      "性别要求             7928 non-null object\n",
      "民族要求             7928 non-null object\n",
      "岗位具体需要的少数民族名称    7928 non-null object\n",
      "学历性质要求           7928 non-null object\n",
      "学历要求             7928 non-null object\n",
      "学位要求             7928 non-null object\n",
      "年龄要求             7928 non-null object\n",
      "第一组专业要求一级目录      7928 non-null object\n",
      "第一组专业要求二级目录      7928 non-null object\n",
      "第一组专业要求具体专业      7928 non-null object\n",
      "第二组专业要求一级目录      7928 non-null object\n",
      "第二组专业要求二级目录      7928 non-null object\n",
      "第三组专业要求一级目录      7928 non-null object\n",
      "第三组专业要求二级目录      7928 non-null object\n",
      "生源地或户籍要求         7928 non-null object\n",
      "服务地要求            7928 non-null object\n",
      "政治面貌要求           7928 non-null object\n",
      "国家司法考试证书要求       7928 non-null object\n",
      "是否为法检系统司法岗位      7928 non-null object\n",
      "是否为人民警察岗位        7928 non-null object\n",
      "是否需测试少数民族语言      7928 non-null object\n",
      "其他招录条件           359 non-null object\n",
      "有关说明             2534 non-null object\n",
      "dtypes: int64(2), object(33)\n",
      "memory usage: 2.1+ MB\n",
      "None\n",
      "2016:\n",
      "<class 'pandas.core.frame.DataFrame'>\n",
      "RangeIndex: 4020 entries, 0 to 4019\n",
      "Data columns (total 37 columns):\n",
      "岗位代码                          4020 non-null int64\n",
      "招录单位全称                        4020 non-null object\n",
      "单位类别                          4020 non-null object\n",
      "单位级别                          4020 non-null object\n",
      "招录主管部门                        4020 non-null object\n",
      "招录岗位名称                        4020 non-null object\n",
      "岗位工作简介                        4020 non-null object\n",
      "招录人数                          4020 non-null int64\n",
      "报考人员身份要求                      4020 non-null object\n",
      "性别要求                          4020 non-null object\n",
      "民族要求                          4020 non-null object\n",
      "岗位具体需要的少数民族名称                 4020 non-null object\n",
      "是否测试少数民族语言                    4020 non-null object\n",
      "学历性质要求                        4020 non-null object\n",
      "学历要求                          4020 non-null object\n",
      "学位要求                          4020 non-null object\n",
      "年龄要求                          4020 non-null object\n",
      "第一组专业要求：一级目录                  4020 non-null object\n",
      "第一组专业要求：二级目录                  4020 non-null object\n",
      "第一组专业要求：具体专业                  4020 non-null object\n",
      "第二组专业要求：一级目录                  4020 non-null object\n",
      "第二组专业要求：二级目录                  4020 non-null object\n",
      "第三组专业要求：一级目录                  4020 non-null object\n",
      "第三组专业要求：二级目录                  4020 non-null object\n",
      "生源或户籍要求                       4020 non-null object\n",
      "服务地要求（定向服务基层“四个项目”人员岗位填写）     4020 non-null object\n",
      "政治面貌要求                        4020 non-null object\n",
      "国家司法考试证书要求                    4020 non-null object\n",
      "其他招录条件                        4020 non-null object\n",
      "是否为法检系统司法岗位（审判机关和检察机关岗位填写）    4020 non-null object\n",
      "岗位类型                          4020 non-null object\n",
      "公安机关人民警察岗位类别（公安机关人民警察岗位填写）    4020 non-null object\n",
      "是否为公安机关派出机构                   4020 non-null object\n",
      "有关说明                          4020 non-null object\n",
      "属地信息一级                        4020 non-null object\n",
      "属地信息二级                        4020 non-null object\n",
      "是否受开考比例限制                     4020 non-null object\n",
      "dtypes: int64(2), object(35)\n",
      "memory usage: 1.1+ MB\n",
      "None\n",
      "2015:\n",
      "<class 'pandas.core.frame.DataFrame'>\n",
      "RangeIndex: 5005 entries, 0 to 5004\n",
      "Data columns (total 35 columns):\n",
      "属地信息第一列             5005 non-null object\n",
      "属地信息第二列             5005 non-null object\n",
      "岗位代码                5005 non-null int64\n",
      "招录单位全称              5005 non-null object\n",
      "单位类别                5005 non-null object\n",
      "招录主管部门              5005 non-null object\n",
      "单位级别                5005 non-null object\n",
      "招录岗位名称              5005 non-null object\n",
      "岗位工作简介              4995 non-null object\n",
      "招录人数                5005 non-null int64\n",
      "报考人员身份要求            5005 non-null object\n",
      "性别要求                5005 non-null object\n",
      "民族要求                5005 non-null object\n",
      "岗位具体需要的少数民族名称       5005 non-null object\n",
      "学历性质要求              5005 non-null object\n",
      "学历要求                5005 non-null object\n",
      "学位要求                5005 non-null object\n",
      "年龄要求                5005 non-null object\n",
      "第一组专业要求一级目录         5005 non-null object\n",
      "第一组专业要求二级目录         5005 non-null object\n",
      "第一组专业要求具体专业         5005 non-null object\n",
      "第二组专业要求一级目录         5005 non-null object\n",
      "第二组专业要求二级目录         5005 non-null object\n",
      "第三组专业要求一级目录         5005 non-null object\n",
      "第三组专业要求二级目录         5005 non-null object\n",
      "生源地或户籍要求            5005 non-null object\n",
      "服务地要求               5005 non-null object\n",
      "政治面貌要求              4999 non-null object\n",
      "国家司法考试证书要求          3056 non-null object\n",
      "是否为法检系统司法岗位         5005 non-null object\n",
      "是否为人民警察岗位           5005 non-null object\n",
      "是否需测试少数民族语言         5005 non-null object\n",
      "其他招录条件              314 non-null object\n",
      "有关说明                1637 non-null object\n",
      "是否为不受开考比例限制的特殊岗位    5005 non-null object\n",
      "dtypes: int64(2), object(33)\n",
      "memory usage: 1.3+ MB\n",
      "None\n",
      "2013:\n",
      "<class 'pandas.core.frame.DataFrame'>\n",
      "RangeIndex: 8249 entries, 0 to 8248\n",
      "Data columns (total 32 columns):\n",
      "招录单位属地           8248 non-null object\n",
      "Unnamed: 1       8248 non-null object\n",
      "岗位代码             8248 non-null float64\n",
      "招录单位全称           8248 non-null object\n",
      "单位类别             8248 non-null object\n",
      "招录主管部门           8248 non-null object\n",
      "单位级别             8248 non-null object\n",
      "招录岗位名称           8248 non-null object\n",
      "岗位工作简介           8231 non-null object\n",
      "招录人数             8248 non-null float64\n",
      "报考人员身份要求         8248 non-null object\n",
      "性别要求             8248 non-null object\n",
      "民族要求             8248 non-null object\n",
      "岗位具体需要的少数民族名称    8248 non-null object\n",
      "学历性质要求           8248 non-null object\n",
      "学历要求             8248 non-null object\n",
      "学位要求             8248 non-null object\n",
      "年龄要求             8248 non-null object\n",
      "第一组专业要求          8249 non-null object\n",
      "Unnamed: 19      8249 non-null object\n",
      "Unnamed: 20      8249 non-null object\n",
      "第二组专业要求          8249 non-null object\n",
      "Unnamed: 22      8249 non-null object\n",
      "第三组专业要求          8249 non-null object\n",
      "Unnamed: 24      8249 non-null object\n",
      "生源地或户籍要求         8248 non-null object\n",
      "服务地要求            8248 non-null object\n",
      "政治面貌要求           8248 non-null object\n",
      "是否为法检系统司法岗位      8248 non-null object\n",
      "是否为人民警察岗位        8248 non-null object\n",
      "其他招录条件           1106 non-null object\n",
      "有关说明             2378 non-null object\n",
      "dtypes: float64(2), object(30)\n",
      "memory usage: 2.0+ MB\n",
      "None\n"
     ]
    }
   ],
   "source": [
    "for key in j.keys():\n",
    "    print(key+':')\n",
    "    print(j[key].info())"
   ]
  },
  {
   "cell_type": "code",
   "execution_count": 43,
   "metadata": {
    "collapsed": true
   },
   "outputs": [],
   "source": [
    "j['2013'] = j['2013'].loc[1:,:]"
   ]
  },
  {
   "cell_type": "markdown",
   "metadata": {},
   "source": [
    "## 读取普洱市‘拟录用公示’和省级‘职位表公告’完成"
   ]
  },
  {
   "cell_type": "markdown",
   "metadata": {},
   "source": [
    "因为‘拟录用公示’中只有考生信息和录取结果，‘职位表’中只有单位信息和岗位信息，  \n",
    "我们需要把两个表合为一个才能看到全貌。  \n",
    "以下：观察‘拟录用公示’和‘职位表’的数据结构后，统一两种表中‘岗位代码’的格式，合并。"
   ]
  },
  {
   "cell_type": "code",
   "execution_count": 44,
   "metadata": {
    "collapsed": true
   },
   "outputs": [],
   "source": [
    "for key in j.keys():\n",
    "    j[key].loc[:,'岗位代码'] = j[key]['岗位代码'].astype(int)\n",
    "    j[key].loc[:,'岗位代码'] = j[key]['岗位代码'].astype(str)"
   ]
  },
  {
   "cell_type": "code",
   "execution_count": 45,
   "metadata": {},
   "outputs": [
    {
     "name": "stdout",
     "output_type": "stream",
     "text": [
      "2014:\n",
      "10    921\n",
      "Name: 岗位代码, dtype: int64\n",
      "2016:\n",
      "11    230\n",
      "12     29\n",
      "Name: 岗位代码, dtype: int64\n",
      "2015:\n",
      "10    642\n",
      "Name: 岗位代码, dtype: int64\n",
      "2013:\n",
      "10    483\n",
      "Name: 岗位代码, dtype: int64\n"
     ]
    }
   ],
   "source": [
    "for key in p.keys():\n",
    "    print(key + ':')\n",
    "    print(p[key]['岗位代码'].apply(len).value_counts())"
   ]
  },
  {
   "cell_type": "code",
   "execution_count": 46,
   "metadata": {},
   "outputs": [
    {
     "name": "stdout",
     "output_type": "stream",
     "text": [
      "2014:\n",
      "10    3735\n",
      "9     3577\n",
      "6      435\n",
      "5      112\n",
      "4       69\n",
      "Name: 岗位代码, dtype: int64\n",
      "2016:\n",
      "11    4020\n",
      "Name: 岗位代码, dtype: int64\n",
      "2015:\n",
      "9     2441\n",
      "10    2102\n",
      "6      359\n",
      "5       56\n",
      "4       47\n",
      "Name: 岗位代码, dtype: int64\n",
      "2013:\n",
      "9     3876\n",
      "10    3593\n",
      "6      591\n",
      "5      124\n",
      "4       64\n",
      "Name: 岗位代码, dtype: int64\n"
     ]
    }
   ],
   "source": [
    "for key in j.keys():\n",
    "    print(key + ':')\n",
    "    print(j[key]['岗位代码'].apply(len).value_counts())  # need to add padding zeros"
   ]
  },
  {
   "cell_type": "code",
   "execution_count": 47,
   "metadata": {
    "collapsed": true
   },
   "outputs": [],
   "source": [
    "for key in ['2013','2014','2015']:\n",
    "    j[key].loc[:, '岗位代码'] = j[key]['岗位代码'].apply('{0:0>10}'.format)"
   ]
  },
  {
   "cell_type": "code",
   "execution_count": 48,
   "metadata": {
    "collapsed": true
   },
   "outputs": [],
   "source": [
    "puer = {}\n",
    "\n",
    "for key in p.keys():\n",
    "    puer[key] = pd.merge(p[key], j[key],\n",
    "                         on='岗位代码', how='left')"
   ]
  },
  {
   "cell_type": "code",
   "execution_count": 49,
   "metadata": {},
   "outputs": [
    {
     "name": "stdout",
     "output_type": "stream",
     "text": [
      "2014:\n",
      "<class 'pandas.core.frame.DataFrame'>\n",
      "Int64Index: 921 entries, 0 to 920\n",
      "Data columns (total 55 columns):\n",
      "准考证号                 921 non-null object\n",
      "姓名                   921 non-null object\n",
      "性别                   921 non-null object\n",
      "民族                   921 non-null object\n",
      "毕业院校                 876 non-null object\n",
      "学历                   921 non-null object\n",
      "学位                   876 non-null object\n",
      "岗位代码                 921 non-null object\n",
      "招录单位全称_x             921 non-null object\n",
      "招考人数                 377 non-null object\n",
      "笔试\n",
      "成绩                921 non-null object\n",
      "面试       成绩          921 non-null object\n",
      "综合     成绩            921 non-null object\n",
      "岗位         排名        921 non-null object\n",
      "是否进体测体检考察            921 non-null object\n",
      "是否考察合格               921 non-null object\n",
      "是否录用                 921 non-null object\n",
      "面试考场                 921 non-null object\n",
      "面试轮次                 921 non-null object\n",
      "抽签         顺序号       921 non-null object\n",
      "考生具体         面试时间    921 non-null object\n",
      "属地信息第一列              876 non-null object\n",
      "属地信息第二列              876 non-null object\n",
      "招录计划申报单位             876 non-null object\n",
      "招录单位全称_y             876 non-null object\n",
      "单位类别                 876 non-null object\n",
      "招录主管部门               876 non-null object\n",
      "单位级别                 876 non-null object\n",
      "招录岗位名称               876 non-null object\n",
      "岗位工作简介               876 non-null object\n",
      "招录人数                 876 non-null float64\n",
      "报考人员身份要求             876 non-null object\n",
      "性别要求                 876 non-null object\n",
      "民族要求                 876 non-null object\n",
      "岗位具体需要的少数民族名称        876 non-null object\n",
      "学历性质要求               876 non-null object\n",
      "学历要求                 876 non-null object\n",
      "学位要求                 876 non-null object\n",
      "年龄要求                 876 non-null object\n",
      "第一组专业要求一级目录          876 non-null object\n",
      "第一组专业要求二级目录          876 non-null object\n",
      "第一组专业要求具体专业          876 non-null object\n",
      "第二组专业要求一级目录          876 non-null object\n",
      "第二组专业要求二级目录          876 non-null object\n",
      "第三组专业要求一级目录          876 non-null object\n",
      "第三组专业要求二级目录          876 non-null object\n",
      "生源地或户籍要求             876 non-null object\n",
      "服务地要求                876 non-null object\n",
      "政治面貌要求               876 non-null object\n",
      "国家司法考试证书要求           876 non-null object\n",
      "是否为法检系统司法岗位          876 non-null object\n",
      "是否为人民警察岗位            876 non-null object\n",
      "是否需测试少数民族语言          876 non-null object\n",
      "其他招录条件               0 non-null object\n",
      "有关说明                 660 non-null object\n",
      "dtypes: float64(1), object(54)\n",
      "memory usage: 402.9+ KB\n",
      "None\n",
      "2016:\n",
      "<class 'pandas.core.frame.DataFrame'>\n",
      "Int64Index: 259 entries, 0 to 258\n",
      "Data columns (total 60 columns):\n",
      "分组                            259 non-null object\n",
      "组合                            259 non-null object\n",
      "准考证号                          259 non-null object\n",
      "姓名                            259 non-null object\n",
      "性别                            243 non-null object\n",
      "民族                            243 non-null object\n",
      "毕业院校                          243 non-null object\n",
      "学历                            243 non-null object\n",
      "学位                            243 non-null object\n",
      "岗位代码                          259 non-null object\n",
      "招录单位全称_x                      259 non-null object\n",
      "招考人数                          259 non-null object\n",
      "笔试\n",
      "总成绩                        259 non-null object\n",
      "面试       成绩                   259 non-null object\n",
      "经历业绩评价                        9 non-null object\n",
      "综合     成绩                     259 non-null object\n",
      "岗位         排名                 259 non-null object\n",
      "是否进入体检考察                      259 non-null object\n",
      "体检考察是否合格                      259 non-null object\n",
      "最终是否录用                        259 non-null object\n",
      "抽签考场号码                        259 non-null object\n",
      "抽签轮次号码                        259 non-null object\n",
      "抽签  胸牌  号码                    259 non-null object\n",
      "考生具体         面试时间             259 non-null object\n",
      "招录单位全称_y                      230 non-null object\n",
      "单位类别                          230 non-null object\n",
      "单位级别                          230 non-null object\n",
      "招录主管部门                        230 non-null object\n",
      "招录岗位名称                        230 non-null object\n",
      "岗位工作简介                        230 non-null object\n",
      "招录人数                          230 non-null float64\n",
      "报考人员身份要求                      230 non-null object\n",
      "性别要求                          230 non-null object\n",
      "民族要求                          230 non-null object\n",
      "岗位具体需要的少数民族名称                 230 non-null object\n",
      "是否测试少数民族语言                    230 non-null object\n",
      "学历性质要求                        230 non-null object\n",
      "学历要求                          230 non-null object\n",
      "学位要求                          230 non-null object\n",
      "年龄要求                          230 non-null object\n",
      "第一组专业要求：一级目录                  230 non-null object\n",
      "第一组专业要求：二级目录                  230 non-null object\n",
      "第一组专业要求：具体专业                  230 non-null object\n",
      "第二组专业要求：一级目录                  230 non-null object\n",
      "第二组专业要求：二级目录                  230 non-null object\n",
      "第三组专业要求：一级目录                  230 non-null object\n",
      "第三组专业要求：二级目录                  230 non-null object\n",
      "生源或户籍要求                       230 non-null object\n",
      "服务地要求（定向服务基层“四个项目”人员岗位填写）     230 non-null object\n",
      "政治面貌要求                        230 non-null object\n",
      "国家司法考试证书要求                    230 non-null object\n",
      "其他招录条件                        230 non-null object\n",
      "是否为法检系统司法岗位（审判机关和检察机关岗位填写）    230 non-null object\n",
      "岗位类型                          230 non-null object\n",
      "公安机关人民警察岗位类别（公安机关人民警察岗位填写）    230 non-null object\n",
      "是否为公安机关派出机构                   230 non-null object\n",
      "有关说明                          230 non-null object\n",
      "属地信息一级                        230 non-null object\n",
      "属地信息二级                        230 non-null object\n",
      "是否受开考比例限制                     230 non-null object\n",
      "dtypes: float64(1), object(59)\n",
      "memory usage: 123.4+ KB\n",
      "None\n",
      "2015:\n",
      "<class 'pandas.core.frame.DataFrame'>\n",
      "Int64Index: 642 entries, 0 to 641\n",
      "Data columns (total 58 columns):\n",
      "分组                    642 non-null object\n",
      "组合                    642 non-null object\n",
      "准考证号                  642 non-null object\n",
      "姓名                    642 non-null object\n",
      "性别                    642 non-null object\n",
      "民族                    642 non-null object\n",
      "毕业院校                  581 non-null object\n",
      "学历                    581 non-null object\n",
      "学位                    581 non-null object\n",
      "岗位代码                  642 non-null object\n",
      "招录单位全称_x              642 non-null object\n",
      "招考人数                  642 non-null object\n",
      "笔试\n",
      "成绩                 642 non-null object\n",
      "面试       成绩           642 non-null object\n",
      "其他         测试         22 non-null object\n",
      "综合     成绩             642 non-null object\n",
      "招考   岗位         排名    642 non-null object\n",
      "是否进入体检体测              642 non-null object\n",
      "是否进入考察                642 non-null object\n",
      "最终是否录用                642 non-null object\n",
      "抽签考场号码                642 non-null object\n",
      "抽签轮次号码                642 non-null object\n",
      "抽签  胸牌  号码            642 non-null object\n",
      "考生具体         面试时间     642 non-null object\n",
      "属地信息第一列               581 non-null object\n",
      "属地信息第二列               581 non-null object\n",
      "招录单位全称_y              581 non-null object\n",
      "单位类别                  581 non-null object\n",
      "招录主管部门                581 non-null object\n",
      "单位级别                  581 non-null object\n",
      "招录岗位名称                581 non-null object\n",
      "岗位工作简介                581 non-null object\n",
      "招录人数                  581 non-null float64\n",
      "报考人员身份要求              581 non-null object\n",
      "性别要求                  581 non-null object\n",
      "民族要求                  581 non-null object\n",
      "岗位具体需要的少数民族名称         581 non-null object\n",
      "学历性质要求                581 non-null object\n",
      "学历要求                  581 non-null object\n",
      "学位要求                  581 non-null object\n",
      "年龄要求                  581 non-null object\n",
      "第一组专业要求一级目录           581 non-null object\n",
      "第一组专业要求二级目录           581 non-null object\n",
      "第一组专业要求具体专业           581 non-null object\n",
      "第二组专业要求一级目录           581 non-null object\n",
      "第二组专业要求二级目录           581 non-null object\n",
      "第三组专业要求一级目录           581 non-null object\n",
      "第三组专业要求二级目录           581 non-null object\n",
      "生源地或户籍要求              581 non-null object\n",
      "服务地要求                 581 non-null object\n",
      "政治面貌要求                581 non-null object\n",
      "国家司法考试证书要求            522 non-null object\n",
      "是否为法检系统司法岗位           581 non-null object\n",
      "是否为人民警察岗位             581 non-null object\n",
      "是否需测试少数民族语言           581 non-null object\n",
      "其他招录条件                2 non-null object\n",
      "有关说明                  428 non-null object\n",
      "是否为不受开考比例限制的特殊岗位      581 non-null object\n",
      "dtypes: float64(1), object(57)\n",
      "memory usage: 295.9+ KB\n",
      "None\n",
      "2013:\n",
      "<class 'pandas.core.frame.DataFrame'>\n",
      "Int64Index: 483 entries, 0 to 482\n",
      "Data columns (total 54 columns):\n",
      "准考证号                 483 non-null object\n",
      "姓名                   483 non-null object\n",
      "性别                   483 non-null object\n",
      "民族                   483 non-null object\n",
      "毕业院校                 483 non-null object\n",
      "学历                   483 non-null object\n",
      "学位                   483 non-null object\n",
      "岗位代码                 483 non-null object\n",
      "招考单位                 483 non-null object\n",
      "招考人数                 483 non-null object\n",
      "笔试        成绩         483 non-null object\n",
      "面试       成绩          483 non-null object\n",
      "综合     成绩            483 non-null object\n",
      "岗位         排名        483 non-null object\n",
      "是否进入体检（体测）           483 non-null object\n",
      "是否体检（体测）合格           483 non-null object\n",
      "是否进入考察               483 non-null object\n",
      "是否考察合格               483 non-null object\n",
      "是否录用                 483 non-null object\n",
      "面试     考场            483 non-null object\n",
      "面试     轮次            483 non-null object\n",
      "抽签         顺序号       483 non-null object\n",
      "考生具体         面试时间    483 non-null object\n",
      "招录单位属地               483 non-null object\n",
      "Unnamed: 1           483 non-null object\n",
      "招录单位全称               483 non-null object\n",
      "单位类别                 483 non-null object\n",
      "招录主管部门               483 non-null object\n",
      "单位级别                 483 non-null object\n",
      "招录岗位名称               483 non-null object\n",
      "岗位工作简介               483 non-null object\n",
      "招录人数                 483 non-null float64\n",
      "报考人员身份要求             483 non-null object\n",
      "性别要求                 483 non-null object\n",
      "民族要求                 483 non-null object\n",
      "岗位具体需要的少数民族名称        483 non-null object\n",
      "学历性质要求               483 non-null object\n",
      "学历要求                 483 non-null object\n",
      "学位要求                 483 non-null object\n",
      "年龄要求                 483 non-null object\n",
      "第一组专业要求              483 non-null object\n",
      "Unnamed: 19          483 non-null object\n",
      "Unnamed: 20          483 non-null object\n",
      "第二组专业要求              483 non-null object\n",
      "Unnamed: 22          483 non-null object\n",
      "第三组专业要求              483 non-null object\n",
      "Unnamed: 24          483 non-null object\n",
      "生源地或户籍要求             483 non-null object\n",
      "服务地要求                483 non-null object\n",
      "政治面貌要求               483 non-null object\n",
      "是否为法检系统司法岗位          483 non-null object\n",
      "是否为人民警察岗位            483 non-null object\n",
      "其他招录条件               346 non-null object\n",
      "有关说明                 72 non-null object\n",
      "dtypes: float64(1), object(53)\n",
      "memory usage: 207.5+ KB\n",
      "None\n"
     ]
    }
   ],
   "source": [
    "for key in puer.keys():\n",
    "    print(key + ':')\n",
    "    print(puer[key].info())"
   ]
  },
  {
   "cell_type": "markdown",
   "metadata": {},
   "source": [
    "## merge普洱市‘拟录用公示’和省级‘职位表公告’完成"
   ]
  },
  {
   "cell_type": "markdown",
   "metadata": {},
   "source": [
    "从上面的步骤观察到，除了2013年外，其它三年都存在疑似普洱市自行增加的岗位。  \n",
    "以下:  \n",
    "把这些可疑岗位移出来放到一个sus dictionary里；  \n",
    "只保留 既在职位表，也在拟录用公示中的岗位 用于分析。"
   ]
  },
  {
   "cell_type": "code",
   "execution_count": 50,
   "metadata": {},
   "outputs": [
    {
     "name": "stdout",
     "output_type": "stream",
     "text": [
      "2014: \n",
      "45\n",
      "2016: \n",
      "29\n",
      "2015: \n",
      "61\n",
      "2013: \n",
      "0\n"
     ]
    }
   ],
   "source": [
    "for key in puer.keys():\n",
    "    print(key+': ')\n",
    "    print(sum(pd.isnull(puer[key]['单位类别'])))"
   ]
  },
  {
   "cell_type": "code",
   "execution_count": 51,
   "metadata": {
    "collapsed": true
   },
   "outputs": [],
   "source": [
    "sus = {}\n",
    "\n",
    "for key in puer.keys():\n",
    "    sus[key] = puer[key][pd.isnull(puer[key]['单位类别'])].copy()"
   ]
  },
  {
   "cell_type": "code",
   "execution_count": 52,
   "metadata": {},
   "outputs": [
    {
     "name": "stdout",
     "output_type": "stream",
     "text": [
      "(45, 55)\n",
      "(29, 60)\n",
      "(61, 58)\n",
      "(0, 54)\n"
     ]
    }
   ],
   "source": [
    "for key in sus.keys():\n",
    "    print(sus[key].shape)"
   ]
  },
  {
   "cell_type": "code",
   "execution_count": 53,
   "metadata": {},
   "outputs": [
    {
     "name": "stdout",
     "output_type": "stream",
     "text": [
      "2014: \n",
      "(876, 55)\n",
      "Index(['准考证号', '姓名', '性别', '民族', '毕业院校', '学历', '学位', '岗位代码', '招录单位全称_x',\n",
      "       '招考人数', '笔试\\n成绩', '面试       成绩', '综合     成绩', '岗位         排名',\n",
      "       '是否进体测体检考察', '是否考察合格', '是否录用', '面试考场', '面试轮次', '抽签         顺序号',\n",
      "       '考生具体         面试时间', '属地信息第一列', '属地信息第二列', '招录计划申报单位', '招录单位全称_y',\n",
      "       '单位类别', '招录主管部门', '单位级别', '招录岗位名称', '岗位工作简介', '招录人数', '报考人员身份要求',\n",
      "       '性别要求', '民族要求', '岗位具体需要的少数民族名称', '学历性质要求', '学历要求', '学位要求', '年龄要求',\n",
      "       '第一组专业要求一级目录', '第一组专业要求二级目录', '第一组专业要求具体专业', '第二组专业要求一级目录',\n",
      "       '第二组专业要求二级目录', '第三组专业要求一级目录', '第三组专业要求二级目录', '生源地或户籍要求', '服务地要求',\n",
      "       '政治面貌要求', '国家司法考试证书要求', '是否为法检系统司法岗位', '是否为人民警察岗位', '是否需测试少数民族语言',\n",
      "       '其他招录条件', '有关说明'],\n",
      "      dtype='object', name=2)\n",
      "2016: \n",
      "(230, 60)\n",
      "Index(['分组', '组合 ', '准考证号', '姓名', '性别', '民族', '毕业院校', '学历', '学位', '岗位代码',\n",
      "       '招录单位全称_x', '招考人数', '笔试\\n总成绩', '面试       成绩', '经历业绩评价', '综合     成绩',\n",
      "       '岗位         排名', '是否进入体检考察', '体检考察是否合格', '最终是否录用', '抽签考场号码', '抽签轮次号码',\n",
      "       '抽签  胸牌  号码', '考生具体         面试时间', '招录单位全称_y', '单位类别', '单位级别', '招录主管部门',\n",
      "       '招录岗位名称', '岗位工作简介', '招录人数', '报考人员身份要求', '性别要求', '民族要求', '岗位具体需要的少数民族名称',\n",
      "       '是否测试少数民族语言', '学历性质要求', '学历要求', '学位要求', '年龄要求', '第一组专业要求：一级目录',\n",
      "       '第一组专业要求：二级目录', '第一组专业要求：具体专业', '第二组专业要求：一级目录', '第二组专业要求：二级目录',\n",
      "       '第三组专业要求：一级目录', '第三组专业要求：二级目录', '生源或户籍要求', '服务地要求（定向服务基层“四个项目”人员岗位填写）',\n",
      "       '政治面貌要求', '国家司法考试证书要求', '其他招录条件', '是否为法检系统司法岗位（审判机关和检察机关岗位填写）', '岗位类型',\n",
      "       '公安机关人民警察岗位类别（公安机关人民警察岗位填写）', '是否为公安机关派出机构', '有关说明', '属地信息一级', '属地信息二级',\n",
      "       '是否受开考比例限制'],\n",
      "      dtype='object', name=1)\n",
      "2015: \n",
      "(581, 58)\n",
      "Index(['分组', '组合 ', '准考证号', '姓名', '性别', '民族', '毕业院校', '学历', '学位', '岗位代码',\n",
      "       '招录单位全称_x', '招考人数', '笔试\\n成绩', '面试       成绩', '其他         测试',\n",
      "       '综合     成绩', '招考   岗位         排名', '是否进入体检体测', '是否进入考察', '最终是否录用',\n",
      "       '抽签考场号码', '抽签轮次号码', '抽签  胸牌  号码', '考生具体         面试时间', '属地信息第一列',\n",
      "       '属地信息第二列', '招录单位全称_y', '单位类别', '招录主管部门', '单位级别', '招录岗位名称', '岗位工作简介',\n",
      "       '招录人数', '报考人员身份要求', '性别要求', '民族要求', '岗位具体需要的少数民族名称', '学历性质要求', '学历要求',\n",
      "       '学位要求', '年龄要求', '第一组专业要求一级目录', '第一组专业要求二级目录', '第一组专业要求具体专业',\n",
      "       '第二组专业要求一级目录', '第二组专业要求二级目录', '第三组专业要求一级目录', '第三组专业要求二级目录', '生源地或户籍要求',\n",
      "       '服务地要求', '政治面貌要求', '国家司法考试证书要求', '是否为法检系统司法岗位', '是否为人民警察岗位',\n",
      "       '是否需测试少数民族语言', '其他招录条件', '有关说明', '是否为不受开考比例限制的特殊岗位'],\n",
      "      dtype='object', name=1)\n",
      "2013: \n",
      "(483, 54)\n",
      "Index(['准考证号', '姓名', '性别', '民族', '毕业院校', '学历', '学位', '岗位代码', '招考单位', '招考人数',\n",
      "       '笔试        成绩', '面试       成绩', '综合     成绩', '岗位         排名',\n",
      "       '是否进入体检（体测）', '是否体检（体测）合格', '是否进入考察', '是否考察合格', '是否录用', '面试     考场',\n",
      "       '面试     轮次', '抽签         顺序号', '考生具体         面试时间', '招录单位属地',\n",
      "       'Unnamed: 1', '招录单位全称', '单位类别', '招录主管部门', '单位级别', '招录岗位名称', '岗位工作简介',\n",
      "       '招录人数', '报考人员身份要求', '性别要求', '民族要求', '岗位具体需要的少数民族名称', '学历性质要求', '学历要求',\n",
      "       '学位要求', '年龄要求', '第一组专业要求', 'Unnamed: 19', 'Unnamed: 20', '第二组专业要求',\n",
      "       'Unnamed: 22', '第三组专业要求', 'Unnamed: 24', '生源地或户籍要求', '服务地要求', '政治面貌要求',\n",
      "       '是否为法检系统司法岗位', '是否为人民警察岗位', '其他招录条件', '有关说明'],\n",
      "      dtype='object', name=2)\n"
     ]
    }
   ],
   "source": [
    "for key in puer.keys():\n",
    "    puer[key] = puer[key][pd.notnull(puer[key]['单位类别'])].copy()\n",
    "    print(key+': ')\n",
    "    print(puer[key].shape)\n",
    "    print(puer[key].columns)"
   ]
  },
  {
   "cell_type": "markdown",
   "metadata": {},
   "source": [
    "## 将以往数据分割成’在省级职位表‘ 和 ’不在省级职位表‘ 两类 done"
   ]
  },
  {
   "cell_type": "markdown",
   "metadata": {},
   "source": [
    "# concat往年数据"
   ]
  },
  {
   "cell_type": "markdown",
   "metadata": {},
   "source": [
    "现在2013-2016各年的数据是分别储存在一个dict里，  \n",
    "这样就有4个dataframe。  \n",
    "为方便分析需要将这4个合并为1个。  \n",
    "我要在合并之前确保4个df有同样的column."
   ]
  },
  {
   "cell_type": "code",
   "execution_count": 54,
   "metadata": {},
   "outputs": [
    {
     "data": {
      "text/html": [
       "<div>\n",
       "<table border=\"1\" class=\"dataframe\">\n",
       "  <thead>\n",
       "    <tr style=\"text-align: right;\">\n",
       "      <th>2</th>\n",
       "      <th>招考单位</th>\n",
       "      <th>招录单位全称</th>\n",
       "    </tr>\n",
       "  </thead>\n",
       "  <tbody>\n",
       "    <tr>\n",
       "      <th>136</th>\n",
       "      <td>景东彝族自治县国土局文龙乡国土资源所</td>\n",
       "      <td>景东彝族自治县国土局乡镇国土所</td>\n",
       "    </tr>\n",
       "    <tr>\n",
       "      <th>137</th>\n",
       "      <td>景东彝族自治县国土局安定乡国土资源所</td>\n",
       "      <td>景东彝族自治县国土局乡镇国土所</td>\n",
       "    </tr>\n",
       "    <tr>\n",
       "      <th>...</th>\n",
       "      <td>...</td>\n",
       "      <td>...</td>\n",
       "    </tr>\n",
       "    <tr>\n",
       "      <th>470</th>\n",
       "      <td>中共思茅区纪律检查委员会派出第二纪工委</td>\n",
       "      <td>中共普洱市思茅区纪律检查委员会派出第二纪工委</td>\n",
       "    </tr>\n",
       "    <tr>\n",
       "      <th>471</th>\n",
       "      <td>中共思茅区纪律检查委员会派出第二纪工委</td>\n",
       "      <td>中共普洱市思茅区纪律检查委员会派出第二纪工委</td>\n",
       "    </tr>\n",
       "  </tbody>\n",
       "</table>\n",
       "<p>20 rows × 2 columns</p>\n",
       "</div>"
      ],
      "text/plain": [
       "2                   招考单位                  招录单位全称\n",
       "136   景东彝族自治县国土局文龙乡国土资源所         景东彝族自治县国土局乡镇国土所\n",
       "137   景东彝族自治县国土局安定乡国土资源所         景东彝族自治县国土局乡镇国土所\n",
       "..                   ...                     ...\n",
       "470  中共思茅区纪律检查委员会派出第二纪工委  中共普洱市思茅区纪律检查委员会派出第二纪工委\n",
       "471  中共思茅区纪律检查委员会派出第二纪工委  中共普洱市思茅区纪律检查委员会派出第二纪工委\n",
       "\n",
       "[20 rows x 2 columns]"
      ]
     },
     "execution_count": 54,
     "metadata": {},
     "output_type": "execute_result"
    }
   ],
   "source": [
    "puer['2013'].loc[puer['2013']['招考单位'] != puer['2013']['招录单位全称'], ['招考单位', '招录单位全称', ]]"
   ]
  },
  {
   "cell_type": "code",
   "execution_count": 55,
   "metadata": {},
   "outputs": [
    {
     "data": {
      "text/html": [
       "<div>\n",
       "<table border=\"1\" class=\"dataframe\">\n",
       "  <thead>\n",
       "    <tr style=\"text-align: right;\">\n",
       "      <th>2</th>\n",
       "      <th>招录单位全称_x</th>\n",
       "      <th>招录单位全称_y</th>\n",
       "    </tr>\n",
       "  </thead>\n",
       "  <tbody>\n",
       "    <tr>\n",
       "      <th>23</th>\n",
       "      <td>墨江县景星镇人民政府</td>\n",
       "      <td>墨江县乡镇人民政府机关</td>\n",
       "    </tr>\n",
       "    <tr>\n",
       "      <th>24</th>\n",
       "      <td>墨江县文武国土资源管理所</td>\n",
       "      <td>墨江县国土资源局乡镇国土所</td>\n",
       "    </tr>\n",
       "    <tr>\n",
       "      <th>...</th>\n",
       "      <td>...</td>\n",
       "      <td>...</td>\n",
       "    </tr>\n",
       "    <tr>\n",
       "      <th>380</th>\n",
       "      <td>墨江县坝溜镇人民政府</td>\n",
       "      <td>墨江县乡镇人民政府机关</td>\n",
       "    </tr>\n",
       "    <tr>\n",
       "      <th>382</th>\n",
       "      <td>墨江县那哈乡人民政府</td>\n",
       "      <td>墨江县乡镇人民政府机关</td>\n",
       "    </tr>\n",
       "  </tbody>\n",
       "</table>\n",
       "<p>45 rows × 2 columns</p>\n",
       "</div>"
      ],
      "text/plain": [
       "2        招录单位全称_x       招录单位全称_y\n",
       "23     墨江县景星镇人民政府    墨江县乡镇人民政府机关\n",
       "24   墨江县文武国土资源管理所  墨江县国土资源局乡镇国土所\n",
       "..            ...            ...\n",
       "380    墨江县坝溜镇人民政府    墨江县乡镇人民政府机关\n",
       "382    墨江县那哈乡人民政府    墨江县乡镇人民政府机关\n",
       "\n",
       "[45 rows x 2 columns]"
      ]
     },
     "execution_count": 55,
     "metadata": {},
     "output_type": "execute_result"
    }
   ],
   "source": [
    "puer['2014'].loc[puer['2014']['招录单位全称_x'] != puer['2014']['招录单位全称_y'], ['招录单位全称_x', '招录单位全称_y', ]]"
   ]
  },
  {
   "cell_type": "code",
   "execution_count": 56,
   "metadata": {},
   "outputs": [
    {
     "data": {
      "text/html": [
       "<div>\n",
       "<table border=\"1\" class=\"dataframe\">\n",
       "  <thead>\n",
       "    <tr style=\"text-align: right;\">\n",
       "      <th>1</th>\n",
       "      <th>招录单位全称_x</th>\n",
       "      <th>招录单位全称_y</th>\n",
       "    </tr>\n",
       "  </thead>\n",
       "  <tbody>\n",
       "    <tr>\n",
       "      <th>2</th>\n",
       "      <td>墨江县通关镇党政办公室</td>\n",
       "      <td>墨江县乡镇党政办公室</td>\n",
       "    </tr>\n",
       "    <tr>\n",
       "      <th>4</th>\n",
       "      <td>墨江县通关镇党政办公室</td>\n",
       "      <td>墨江县乡镇党政办公室</td>\n",
       "    </tr>\n",
       "    <tr>\n",
       "      <th>...</th>\n",
       "      <td>...</td>\n",
       "      <td>...</td>\n",
       "    </tr>\n",
       "    <tr>\n",
       "      <th>509</th>\n",
       "      <td>墨江县龙潭乡社会事务办公室</td>\n",
       "      <td>墨江县乡镇社会事务办公室</td>\n",
       "    </tr>\n",
       "    <tr>\n",
       "      <th>514</th>\n",
       "      <td>澜沧县糯福乡人民政府</td>\n",
       "      <td>澜沧县乡镇人民政府</td>\n",
       "    </tr>\n",
       "  </tbody>\n",
       "</table>\n",
       "<p>70 rows × 2 columns</p>\n",
       "</div>"
      ],
      "text/plain": [
       "1         招录单位全称_x      招录单位全称_y\n",
       "2      墨江县通关镇党政办公室    墨江县乡镇党政办公室\n",
       "4      墨江县通关镇党政办公室    墨江县乡镇党政办公室\n",
       "..             ...           ...\n",
       "509  墨江县龙潭乡社会事务办公室  墨江县乡镇社会事务办公室\n",
       "514     澜沧县糯福乡人民政府     澜沧县乡镇人民政府\n",
       "\n",
       "[70 rows x 2 columns]"
      ]
     },
     "execution_count": 56,
     "metadata": {},
     "output_type": "execute_result"
    }
   ],
   "source": [
    "puer['2015'].loc[puer['2015']['招录单位全称_x'] != puer['2015']['招录单位全称_y'], ['招录单位全称_x', '招录单位全称_y', ]]"
   ]
  },
  {
   "cell_type": "code",
   "execution_count": 57,
   "metadata": {},
   "outputs": [
    {
     "data": {
      "text/html": [
       "<div>\n",
       "<table border=\"1\" class=\"dataframe\">\n",
       "  <thead>\n",
       "    <tr style=\"text-align: right;\">\n",
       "      <th>1</th>\n",
       "      <th>招录单位全称_x</th>\n",
       "      <th>招录单位全称_y</th>\n",
       "    </tr>\n",
       "  </thead>\n",
       "  <tbody>\n",
       "    <tr>\n",
       "      <th>45</th>\n",
       "      <td>墨江县泗南江镇人民政府</td>\n",
       "      <td>墨江县乡镇人民政府</td>\n",
       "    </tr>\n",
       "    <tr>\n",
       "      <th>46</th>\n",
       "      <td>墨江县文武镇人民政府</td>\n",
       "      <td>墨江县乡镇人民政府</td>\n",
       "    </tr>\n",
       "    <tr>\n",
       "      <th>...</th>\n",
       "      <td>...</td>\n",
       "      <td>...</td>\n",
       "    </tr>\n",
       "    <tr>\n",
       "      <th>217</th>\n",
       "      <td>澜沧县东河乡财政所</td>\n",
       "      <td>澜沧县乡镇财政所</td>\n",
       "    </tr>\n",
       "    <tr>\n",
       "      <th>218</th>\n",
       "      <td>澜沧县雪林乡财政所</td>\n",
       "      <td>澜沧县乡镇财政所</td>\n",
       "    </tr>\n",
       "  </tbody>\n",
       "</table>\n",
       "<p>39 rows × 2 columns</p>\n",
       "</div>"
      ],
      "text/plain": [
       "1       招录单位全称_x   招录单位全称_y\n",
       "45   墨江县泗南江镇人民政府  墨江县乡镇人民政府\n",
       "46    墨江县文武镇人民政府  墨江县乡镇人民政府\n",
       "..           ...        ...\n",
       "217    澜沧县东河乡财政所   澜沧县乡镇财政所\n",
       "218    澜沧县雪林乡财政所   澜沧县乡镇财政所\n",
       "\n",
       "[39 rows x 2 columns]"
      ]
     },
     "execution_count": 57,
     "metadata": {},
     "output_type": "execute_result"
    }
   ],
   "source": [
    "puer['2016'].loc[puer['2016']['招录单位全称_x'] != puer['2016']['招录单位全称_y'], ['招录单位全称_x', '招录单位全称_y', ]]"
   ]
  },
  {
   "cell_type": "code",
   "execution_count": 58,
   "metadata": {},
   "outputs": [
    {
     "name": "stdout",
     "output_type": "stream",
     "text": [
      "联珠\n",
      "1\n",
      "锦屏\n",
      "1\n",
      "威远\n",
      "3\n",
      "恩乐\n",
      "2\n",
      "勐烈\n",
      "6\n",
      "娜允\n",
      "1\n",
      "勐朗\n",
      "1\n",
      "勐梭\n",
      "2\n"
     ]
    }
   ],
   "source": [
    "# 发现省级职位表，把县城所在乡镇一律先列出来，其它乡镇一律统称“乡镇”\n",
    "# 保留省级职位表中的全称\n",
    "for town in ['联珠', '锦屏', '威远', \n",
    "               '恩乐', '勐烈', '娜允', '勐朗', '勐梭',]:\n",
    "    print(town)\n",
    "    print(sum(puer['2013']['招录单位全称'].apply(lambda x: town in x)))\n",
    "\n"
   ]
  },
  {
   "cell_type": "code",
   "execution_count": 59,
   "metadata": {
    "collapsed": true
   },
   "outputs": [],
   "source": [
    "pcon = {} # con for condense\n",
    "\n",
    "pcon['13'] = puer['2013'][['准考证号', '姓名', '性别', '民族', '毕业院校', '学历', '学位', \n",
    "                            '笔试        成绩', '面试       成绩', '综合     成绩', '岗位         排名',\n",
    "                            '招录单位全称','单位类别', '单位级别', '招录单位属地', \n",
    "                            '岗位代码', '招录岗位名称','是否为人民警察岗位', '招考人数',  \n",
    "                            '报考人员身份要求', '性别要求', '民族要求', '学历性质要求', '学历要求','学位要求', \n",
    "                            '年龄要求',  '生源地或户籍要求', '服务地要求', '政治面貌要求',\n",
    "                            '其他招录条件', '有关说明',\n",
    "                            '是否录用', ]].copy()   # (缺属地信息第二级)"
   ]
  },
  {
   "cell_type": "code",
   "execution_count": 60,
   "metadata": {
    "collapsed": true
   },
   "outputs": [],
   "source": [
    "pcon['14'] = puer['2014'][['准考证号', '姓名', '性别', '民族', '毕业院校', '学历', '学位',                           # 考生信息\n",
    "                            '笔试\\n成绩', '面试       成绩', '综合     成绩', '岗位         排名',                  # 考生信息2\n",
    "                            '招录单位全称_y', '单位类别',  '单位级别','属地信息第一列', '属地信息第二列',               # 单位信息\n",
    "                            '岗位代码', '招录岗位名称',  '是否为人民警察岗位', '招录人数',                     # 岗位信息\n",
    "                            '报考人员身份要求', '性别要求', '民族要求', '学历性质要求', '学历要求', '学位要求',      # 报考要求1\n",
    "                            '年龄要求', '生源地或户籍要求', '服务地要求','政治面貌要求',                           # 报考要求2\n",
    "                            '其他招录条件', '有关说明',                                                           # 其它招录条件\n",
    "                            '是否录用',   ]].copy()"
   ]
  },
  {
   "cell_type": "code",
   "execution_count": 61,
   "metadata": {
    "collapsed": true
   },
   "outputs": [],
   "source": [
    "pcon['15'] = puer['2015'][['准考证号', '姓名', '性别', '民族', '毕业院校', '学历', '学位', \n",
    "                            '笔试\\n成绩', '面试       成绩',  '综合     成绩', '招考   岗位         排名', \n",
    "                            '招录单位全称_y','单位类别', '单位级别', '属地信息第一列','属地信息第二列', \n",
    "                            '岗位代码','招录岗位名称','是否为人民警察岗位', '招考人数', \n",
    "                            '报考人员身份要求', '性别要求', '民族要求', '学历性质要求', '学历要求', '学位要求', \n",
    "                            '年龄要求', '生源地或户籍要求', '服务地要求', '政治面貌要求', \n",
    "                            '其他招录条件', '有关说明', \n",
    "                            '最终是否录用',]].copy()"
   ]
  },
  {
   "cell_type": "code",
   "execution_count": 62,
   "metadata": {
    "collapsed": true
   },
   "outputs": [],
   "source": [
    "pcon['16'] = puer['2016'][['准考证号', '姓名', '性别', '民族', '毕业院校', '学历', '学位', \n",
    "                             '笔试\\n总成绩', '面试       成绩',  '综合     成绩','岗位         排名',\n",
    "                            '招录单位全称_y', '单位类别', '单位级别', '属地信息一级', '属地信息二级',\n",
    "                            '岗位代码', '招录岗位名称', '岗位类型',  '招考人数', \n",
    "                            '报考人员身份要求', '性别要求', '民族要求', '学历性质要求', '学历要求', '学位要求', \n",
    "                            '年龄要求', '生源或户籍要求', '服务地要求（定向服务基层“四个项目”人员岗位填写）','政治面貌要求', \n",
    "                            '其他招录条件', '有关说明', \n",
    "                            '最终是否录用', ]].copy()"
   ]
  },
  {
   "cell_type": "markdown",
   "metadata": {},
   "source": [
    "    发现2013年属地信息第二列缺失，需要给它加上。所幸现有信息足够脑补出这一栏了。  \n",
    "    下面：观察其他年份这一栏的规律，给2013年加上这一栏。  "
   ]
  },
  {
   "cell_type": "code",
   "execution_count": 63,
   "metadata": {},
   "outputs": [
    {
     "data": {
      "text/plain": [
       "墨江县    120\n",
       "宁洱县    103\n",
       "      ... \n",
       "思茅区     56\n",
       "市级      29\n",
       "Name: 属地信息第二列, dtype: int64"
      ]
     },
     "execution_count": 63,
     "metadata": {},
     "output_type": "execute_result"
    }
   ],
   "source": [
    "pcon['14']['属地信息第二列'].value_counts()"
   ]
  },
  {
   "cell_type": "code",
   "execution_count": 64,
   "metadata": {},
   "outputs": [
    {
     "data": {
      "text/plain": [
       "墨江县    110\n",
       "澜沧县     69\n",
       "      ... \n",
       "景东县     26\n",
       "市级      21\n",
       "Name: 属地信息第二列, dtype: int64"
      ]
     },
     "execution_count": 64,
     "metadata": {},
     "output_type": "execute_result"
    }
   ],
   "source": [
    "pcon['15']['属地信息第二列'].value_counts()"
   ]
  },
  {
   "cell_type": "code",
   "execution_count": 65,
   "metadata": {},
   "outputs": [
    {
     "data": {
      "text/plain": [
       "澜沧县    37\n",
       "景东县    37\n",
       "       ..\n",
       "思茅区    12\n",
       "市级     10\n",
       "Name: 属地信息二级, dtype: int64"
      ]
     },
     "execution_count": 65,
     "metadata": {},
     "output_type": "execute_result"
    }
   ],
   "source": [
    "pcon['16']['属地信息二级'].value_counts()"
   ]
  },
  {
   "cell_type": "code",
   "execution_count": 66,
   "metadata": {},
   "outputs": [
    {
     "data": {
      "text/plain": [
       "乡镇级单位        340\n",
       "县区级单位        105\n",
       "省级直管县区级机关     27\n",
       "州市级单位         11\n",
       "Name: 单位级别, dtype: int64"
      ]
     },
     "execution_count": 66,
     "metadata": {},
     "output_type": "execute_result"
    }
   ],
   "source": [
    "pcon['13']['单位级别'].value_counts()"
   ]
  },
  {
   "cell_type": "code",
   "execution_count": 67,
   "metadata": {},
   "outputs": [
    {
     "data": {
      "text/html": [
       "<div>\n",
       "<table border=\"1\" class=\"dataframe\">\n",
       "  <thead>\n",
       "    <tr style=\"text-align: right;\">\n",
       "      <th>2</th>\n",
       "      <th>招录单位全称</th>\n",
       "      <th>单位类别</th>\n",
       "      <th>单位级别</th>\n",
       "      <th>招录单位属地</th>\n",
       "    </tr>\n",
       "  </thead>\n",
       "  <tbody>\n",
       "    <tr>\n",
       "      <th>0</th>\n",
       "      <td>普洱市公安局</td>\n",
       "      <td>行政机关</td>\n",
       "      <td>州市级单位</td>\n",
       "      <td>普洱市</td>\n",
       "    </tr>\n",
       "    <tr>\n",
       "      <th>1</th>\n",
       "      <td>普洱市劳动就业局</td>\n",
       "      <td>参照管理事业单位</td>\n",
       "      <td>州市级单位</td>\n",
       "      <td>普洱市</td>\n",
       "    </tr>\n",
       "    <tr>\n",
       "      <th>...</th>\n",
       "      <td>...</td>\n",
       "      <td>...</td>\n",
       "      <td>...</td>\n",
       "      <td>...</td>\n",
       "    </tr>\n",
       "    <tr>\n",
       "      <th>481</th>\n",
       "      <td>中共西盟县委机构编制办公室</td>\n",
       "      <td>党的机关</td>\n",
       "      <td>县区级单位</td>\n",
       "      <td>普洱市</td>\n",
       "    </tr>\n",
       "    <tr>\n",
       "      <th>482</th>\n",
       "      <td>中共西盟自治县委组织部</td>\n",
       "      <td>党的机关</td>\n",
       "      <td>县区级单位</td>\n",
       "      <td>普洱市</td>\n",
       "    </tr>\n",
       "  </tbody>\n",
       "</table>\n",
       "<p>483 rows × 4 columns</p>\n",
       "</div>"
      ],
      "text/plain": [
       "2           招录单位全称      单位类别   单位级别 招录单位属地\n",
       "0           普洱市公安局      行政机关  州市级单位    普洱市\n",
       "1         普洱市劳动就业局  参照管理事业单位  州市级单位    普洱市\n",
       "..             ...       ...    ...    ...\n",
       "481  中共西盟县委机构编制办公室      党的机关  县区级单位    普洱市\n",
       "482    中共西盟自治县委组织部      党的机关  县区级单位    普洱市\n",
       "\n",
       "[483 rows x 4 columns]"
      ]
     },
     "execution_count": 67,
     "metadata": {},
     "output_type": "execute_result"
    }
   ],
   "source": [
    "pcon['13'][['招录单位全称','单位类别', '单位级别', '招录单位属地', ]]"
   ]
  },
  {
   "cell_type": "code",
   "execution_count": 68,
   "metadata": {
    "collapsed": true
   },
   "outputs": [],
   "source": [
    "def recode_county(name):\n",
    "    return name.replace('宁洱哈尼族彝族自治县',\n",
    "                        '宁洱县').replace('墨江哈尼族自治县', \n",
    "                        '墨江县').replace('景东彝族自治县',\n",
    "                        '景东县').replace('景谷傣族彝族自治县',\n",
    "                        '景谷县').replace('镇沅彝族哈尼族拉祜族自治县', \n",
    "                        '镇沅县').replace('江城哈尼族彝族自治县',\n",
    "                        '江城县').replace('孟连傣族拉祜族佤族自治县',\n",
    "                        '孟连县').replace('澜沧拉祜族自治县',\n",
    "                        '澜沧县').replace('西盟佤族自治县',  \n",
    "                        '西盟县')"
   ]
  },
  {
   "cell_type": "code",
   "execution_count": 69,
   "metadata": {
    "collapsed": true
   },
   "outputs": [],
   "source": [
    "pcon['13'].loc[:,'招录单位全称'] = pcon['13']['招录单位全称'].apply(recode_county)"
   ]
  },
  {
   "cell_type": "code",
   "execution_count": 70,
   "metadata": {
    "collapsed": true
   },
   "outputs": [],
   "source": [
    "def secondary_loc(string):\n",
    "    if '县' in string:\n",
    "        county = re.search('..县', string).group(0)\n",
    "    elif '区' in string:\n",
    "        county = re.search('..区', string).group(0)\n",
    "    else: return np.nan\n",
    "    return county"
   ]
  },
  {
   "cell_type": "code",
   "execution_count": 71,
   "metadata": {
    "collapsed": true
   },
   "outputs": [],
   "source": [
    "pcon['13']['属地信息第二列'] = pcon['13']['招录单位全称'].apply(secondary_loc)"
   ]
  },
  {
   "cell_type": "code",
   "execution_count": 72,
   "metadata": {
    "collapsed": true
   },
   "outputs": [],
   "source": [
    "pcon['13'].loc[pcon['13']['单位级别'] == '州市级单位','属地信息第二列'] = '市级'"
   ]
  },
  {
   "cell_type": "code",
   "execution_count": 73,
   "metadata": {},
   "outputs": [
    {
     "data": {
      "text/plain": [
       "景东县    67\n",
       "景谷县    64\n",
       "       ..\n",
       "市级     11\n",
       "自治县     1\n",
       "Name: 属地信息第二列, dtype: int64"
      ]
     },
     "execution_count": 73,
     "metadata": {},
     "output_type": "execute_result"
    }
   ],
   "source": [
    "pcon['13']['属地信息第二列'].value_counts()"
   ]
  },
  {
   "cell_type": "code",
   "execution_count": 74,
   "metadata": {},
   "outputs": [
    {
     "data": {
      "text/html": [
       "<div>\n",
       "<table border=\"1\" class=\"dataframe\">\n",
       "  <thead>\n",
       "    <tr style=\"text-align: right;\">\n",
       "      <th>2</th>\n",
       "      <th>招录单位全称</th>\n",
       "      <th>单位类别</th>\n",
       "      <th>单位级别</th>\n",
       "      <th>招录单位属地</th>\n",
       "      <th>属地信息第二列</th>\n",
       "    </tr>\n",
       "  </thead>\n",
       "  <tbody>\n",
       "    <tr>\n",
       "      <th>482</th>\n",
       "      <td>中共西盟自治县委组织部</td>\n",
       "      <td>党的机关</td>\n",
       "      <td>县区级单位</td>\n",
       "      <td>普洱市</td>\n",
       "      <td>自治县</td>\n",
       "    </tr>\n",
       "  </tbody>\n",
       "</table>\n",
       "</div>"
      ],
      "text/plain": [
       "2         招录单位全称  单位类别   单位级别 招录单位属地 属地信息第二列\n",
       "482  中共西盟自治县委组织部  党的机关  县区级单位    普洱市     自治县"
      ]
     },
     "execution_count": 74,
     "metadata": {},
     "output_type": "execute_result"
    }
   ],
   "source": [
    "pcon['13'].loc[pcon['13']['属地信息第二列'] == '自治县', ['招录单位全称','单位类别', '单位级别', '招录单位属地','属地信息第二列' ]]"
   ]
  },
  {
   "cell_type": "code",
   "execution_count": 75,
   "metadata": {
    "collapsed": true
   },
   "outputs": [],
   "source": [
    "pcon['13'].loc[pcon['13']['属地信息第二列'] == '自治县', ['招录单位全称','属地信息第二列' ]] = ['中共西盟县委组织部','西盟县']"
   ]
  },
  {
   "cell_type": "code",
   "execution_count": 76,
   "metadata": {
    "collapsed": true
   },
   "outputs": [],
   "source": [
    "pcon['13'] = pcon['13'][['准考证号', '姓名', '性别', '民族', '毕业院校', '学历', '学位', \n",
    "                            '笔试        成绩', '面试       成绩', '综合     成绩', '岗位         排名',\n",
    "                            '招录单位全称','单位类别', '单位级别', '招录单位属地','属地信息第二列', \n",
    "                            '岗位代码', '招录岗位名称','是否为人民警察岗位', '招考人数',  \n",
    "                            '报考人员身份要求', '性别要求', '民族要求', '学历性质要求', '学历要求','学位要求', \n",
    "                            '年龄要求',  '生源地或户籍要求', '服务地要求', '政治面貌要求',\n",
    "                            '其他招录条件', '有关说明',\n",
    "                            '是否录用']]"
   ]
  },
  {
   "cell_type": "code",
   "execution_count": 77,
   "metadata": {},
   "outputs": [
    {
     "name": "stdout",
     "output_type": "stream",
     "text": [
      "15\n",
      "(581, 33)\n",
      "13\n",
      "(483, 33)\n",
      "16\n",
      "(230, 33)\n",
      "14\n",
      "(876, 33)\n"
     ]
    }
   ],
   "source": [
    "for key in pcon.keys():\n",
    "    print(key)\n",
    "    print(pcon[key].shape)"
   ]
  },
  {
   "cell_type": "markdown",
   "metadata": {},
   "source": [
    "现在，2013-2016各年的df都有相同含义的column，只是名字稍有不同，可以合并了。"
   ]
  },
  {
   "cell_type": "markdown",
   "metadata": {},
   "source": [
    "## 使以往每年数据有同样含义的column， done"
   ]
  },
  {
   "cell_type": "markdown",
   "metadata": {},
   "source": [
    "以下：  \n",
    "为方便打字把栏的名称改成英文。  \n",
    "写一个codebook以防自己忘了，也方便别人（如果有的话？）看时看的懂。 "
   ]
  },
  {
   "cell_type": "code",
   "execution_count": 78,
   "metadata": {},
   "outputs": [
    {
     "data": {
      "text/plain": [
       "33"
      ]
     },
     "execution_count": 78,
     "metadata": {},
     "output_type": "execute_result"
    }
   ],
   "source": [
    "cols = ['tkt', 'name','gend','ethnic','school','edu','dgr',\n",
    "        'exam','intv','scr','rk',\n",
    "        'og','og_cls','og_rk','loc_prm','loc_sec',\n",
    "        'jc','jn','pl','seat',\n",
    "        'rq_id','rq_gd','rq_eth','rq_edcls','rq_edu','rq_dgr',\n",
    "        'rq_ag','rq_sc','rq_sv','rq_pol',\n",
    "        'rq_other','stmt','accp']\n",
    "len(cols)"
   ]
  },
  {
   "cell_type": "markdown",
   "metadata": {},
   "source": [
    "## codebook\n",
    "\n",
    "* 考生信息\n",
    "    * 'tkt':  准考证号\n",
    "    * 'name': 姓名\n",
    "    * 'gend': 性别\n",
    "    * 'ethnic': 民族\n",
    "    * 'school': 毕业院校\n",
    "    * 'edu':  学历\n",
    "    * 'dgr':  学位\n",
    "    * 'exam': 笔试\n",
    "    * 'intv': 面试\n",
    "    * 'scr':  总分\n",
    "    * 'rk':   岗位排名  \n",
    "    .  \n",
    "\n",
    "* 单位信息\n",
    "    * 'og':   招录单位名称\n",
    "    * 'og_cls':  单位性质\n",
    "    * 'og_rk':   单位级别\n",
    "    * 'loc_prm': 一级属地信息\n",
    "    * 'loc_sec': 二级属地信息  \n",
    "    .  \n",
    "* 岗位信息\n",
    "    * 'jc':  岗位代码\n",
    "    * 'jn':  岗位名称\n",
    "    * 'pl':  是否警察\n",
    "    * 'seat':招考人数   \n",
    "    .  \n",
    "* 报考要求\n",
    "    * 'rq_id':   要求-身份\n",
    "    * 'rq_gd':   要求-性别\n",
    "    * 'rq_eth':  要求-民族\n",
    "    * 'rq_edcls':要求-学历性质\n",
    "    * 'rq_edu':  要求-学历\n",
    "    * 'rq_dgr':  要求-学位\n",
    "    * 'rq_ag':   要求-年龄\n",
    "    * 'rq_sc':   要求-生源/户籍地\n",
    "    * 'rq_sv':   要求-服务地\n",
    "    * 'rq_pol':  要求-政治面貌\n",
    "    * 'rq_other':要求-其它\n",
    "    * 'stmt':  说明\n",
    "    \n",
    "* 'accp'"
   ]
  },
  {
   "cell_type": "code",
   "execution_count": 79,
   "metadata": {
    "collapsed": true
   },
   "outputs": [],
   "source": [
    "for key in pcon.keys():\n",
    "    pcon[key].columns = cols"
   ]
  },
  {
   "cell_type": "code",
   "execution_count": 80,
   "metadata": {},
   "outputs": [
    {
     "name": "stdout",
     "output_type": "stream",
     "text": [
      "15\n",
      "<class 'pandas.core.frame.DataFrame'>\n",
      "Int64Index: 581 entries, 0 to 641\n",
      "Data columns (total 33 columns):\n",
      "tkt         581 non-null object\n",
      "name        581 non-null object\n",
      "gend        581 non-null object\n",
      "ethnic      581 non-null object\n",
      "school      581 non-null object\n",
      "edu         581 non-null object\n",
      "dgr         581 non-null object\n",
      "exam        581 non-null object\n",
      "intv        581 non-null object\n",
      "scr         581 non-null object\n",
      "rk          581 non-null object\n",
      "og          581 non-null object\n",
      "og_cls      581 non-null object\n",
      "og_rk       581 non-null object\n",
      "loc_prm     581 non-null object\n",
      "loc_sec     581 non-null object\n",
      "jc          581 non-null object\n",
      "jn          581 non-null object\n",
      "pl          581 non-null object\n",
      "seat        581 non-null object\n",
      "rq_id       581 non-null object\n",
      "rq_gd       581 non-null object\n",
      "rq_eth      581 non-null object\n",
      "rq_edcls    581 non-null object\n",
      "rq_edu      581 non-null object\n",
      "rq_dgr      581 non-null object\n",
      "rq_ag       581 non-null object\n",
      "rq_sc       581 non-null object\n",
      "rq_sv       581 non-null object\n",
      "rq_pol      581 non-null object\n",
      "rq_other    2 non-null object\n",
      "stmt        428 non-null object\n",
      "accp        581 non-null object\n",
      "dtypes: object(33)\n",
      "memory usage: 154.3+ KB\n",
      "None\n",
      "13\n",
      "<class 'pandas.core.frame.DataFrame'>\n",
      "Int64Index: 483 entries, 0 to 482\n",
      "Data columns (total 33 columns):\n",
      "tkt         483 non-null object\n",
      "name        483 non-null object\n",
      "gend        483 non-null object\n",
      "ethnic      483 non-null object\n",
      "school      483 non-null object\n",
      "edu         483 non-null object\n",
      "dgr         483 non-null object\n",
      "exam        483 non-null object\n",
      "intv        483 non-null object\n",
      "scr         483 non-null object\n",
      "rk          483 non-null object\n",
      "og          483 non-null object\n",
      "og_cls      483 non-null object\n",
      "og_rk       483 non-null object\n",
      "loc_prm     483 non-null object\n",
      "loc_sec     482 non-null object\n",
      "jc          483 non-null object\n",
      "jn          483 non-null object\n",
      "pl          483 non-null object\n",
      "seat        483 non-null object\n",
      "rq_id       483 non-null object\n",
      "rq_gd       483 non-null object\n",
      "rq_eth      483 non-null object\n",
      "rq_edcls    483 non-null object\n",
      "rq_edu      483 non-null object\n",
      "rq_dgr      483 non-null object\n",
      "rq_ag       483 non-null object\n",
      "rq_sc       483 non-null object\n",
      "rq_sv       483 non-null object\n",
      "rq_pol      483 non-null object\n",
      "rq_other    346 non-null object\n",
      "stmt        72 non-null object\n",
      "accp        483 non-null object\n",
      "dtypes: object(33)\n",
      "memory usage: 128.3+ KB\n",
      "None\n",
      "16\n",
      "<class 'pandas.core.frame.DataFrame'>\n",
      "Int64Index: 230 entries, 0 to 245\n",
      "Data columns (total 33 columns):\n",
      "tkt         230 non-null object\n",
      "name        230 non-null object\n",
      "gend        230 non-null object\n",
      "ethnic      230 non-null object\n",
      "school      230 non-null object\n",
      "edu         230 non-null object\n",
      "dgr         230 non-null object\n",
      "exam        230 non-null object\n",
      "intv        230 non-null object\n",
      "scr         230 non-null object\n",
      "rk          230 non-null object\n",
      "og          230 non-null object\n",
      "og_cls      230 non-null object\n",
      "og_rk       230 non-null object\n",
      "loc_prm     230 non-null object\n",
      "loc_sec     230 non-null object\n",
      "jc          230 non-null object\n",
      "jn          230 non-null object\n",
      "pl          230 non-null object\n",
      "seat        230 non-null object\n",
      "rq_id       230 non-null object\n",
      "rq_gd       230 non-null object\n",
      "rq_eth      230 non-null object\n",
      "rq_edcls    230 non-null object\n",
      "rq_edu      230 non-null object\n",
      "rq_dgr      230 non-null object\n",
      "rq_ag       230 non-null object\n",
      "rq_sc       230 non-null object\n",
      "rq_sv       230 non-null object\n",
      "rq_pol      230 non-null object\n",
      "rq_other    230 non-null object\n",
      "stmt        230 non-null object\n",
      "accp        230 non-null object\n",
      "dtypes: object(33)\n",
      "memory usage: 61.1+ KB\n",
      "None\n",
      "14\n",
      "<class 'pandas.core.frame.DataFrame'>\n",
      "Int64Index: 876 entries, 0 to 920\n",
      "Data columns (total 33 columns):\n",
      "tkt         876 non-null object\n",
      "name        876 non-null object\n",
      "gend        876 non-null object\n",
      "ethnic      876 non-null object\n",
      "school      876 non-null object\n",
      "edu         876 non-null object\n",
      "dgr         876 non-null object\n",
      "exam        876 non-null object\n",
      "intv        876 non-null object\n",
      "scr         876 non-null object\n",
      "rk          876 non-null object\n",
      "og          876 non-null object\n",
      "og_cls      876 non-null object\n",
      "og_rk       876 non-null object\n",
      "loc_prm     876 non-null object\n",
      "loc_sec     876 non-null object\n",
      "jc          876 non-null object\n",
      "jn          876 non-null object\n",
      "pl          876 non-null object\n",
      "seat        876 non-null float64\n",
      "rq_id       876 non-null object\n",
      "rq_gd       876 non-null object\n",
      "rq_eth      876 non-null object\n",
      "rq_edcls    876 non-null object\n",
      "rq_edu      876 non-null object\n",
      "rq_dgr      876 non-null object\n",
      "rq_ag       876 non-null object\n",
      "rq_sc       876 non-null object\n",
      "rq_sv       876 non-null object\n",
      "rq_pol      876 non-null object\n",
      "rq_other    0 non-null object\n",
      "stmt        660 non-null object\n",
      "accp        876 non-null object\n",
      "dtypes: float64(1), object(32)\n",
      "memory usage: 232.7+ KB\n",
      "None\n"
     ]
    }
   ],
   "source": [
    "for key in pcon.keys():\n",
    "    print(key)\n",
    "    print(pcon[key].info())"
   ]
  },
  {
   "cell_type": "code",
   "execution_count": 81,
   "metadata": {},
   "outputs": [
    {
     "data": {
      "text/html": [
       "<div>\n",
       "<table border=\"1\" class=\"dataframe\">\n",
       "  <thead>\n",
       "    <tr style=\"text-align: right;\">\n",
       "      <th></th>\n",
       "      <th>og</th>\n",
       "      <th>og_cls</th>\n",
       "      <th>og_rk</th>\n",
       "      <th>loc_prm</th>\n",
       "      <th>loc_sec</th>\n",
       "    </tr>\n",
       "  </thead>\n",
       "  <tbody>\n",
       "    <tr>\n",
       "      <th>338</th>\n",
       "      <td>孟连富岩乡人民政府</td>\n",
       "      <td>行政机关</td>\n",
       "      <td>乡镇级单位</td>\n",
       "      <td>普洱市</td>\n",
       "      <td>NaN</td>\n",
       "    </tr>\n",
       "  </tbody>\n",
       "</table>\n",
       "</div>"
      ],
      "text/plain": [
       "            og og_cls  og_rk loc_prm loc_sec\n",
       "338  孟连富岩乡人民政府   行政机关  乡镇级单位     普洱市     NaN"
      ]
     },
     "execution_count": 81,
     "metadata": {},
     "output_type": "execute_result"
    }
   ],
   "source": [
    "pcon['13'].loc[pd.isnull(pcon['13']['loc_sec']),['og','og_cls','og_rk','loc_prm','loc_sec',] ]"
   ]
  },
  {
   "cell_type": "code",
   "execution_count": 82,
   "metadata": {
    "collapsed": true
   },
   "outputs": [],
   "source": [
    "pcon['13'].loc[pd.isnull(pcon['13']['loc_sec']),['og','loc_sec',]] = ['孟连县富岩乡人民政府',\n",
    "                                                                      '孟连县']"
   ]
  },
  {
   "cell_type": "markdown",
   "metadata": {},
   "source": [
    "现在，pcon中的各个df，有missing value的都在'rq_other', 'stmt'两列。  \n",
    "其它地方都有内容了。"
   ]
  },
  {
   "cell_type": "markdown",
   "metadata": {},
   "source": [
    "## codebook 增加 'yr'"
   ]
  },
  {
   "cell_type": "markdown",
   "metadata": {},
   "source": [
    "以下：在各个表中都增加一栏表示年份，这样做的原因：\n",
    "* 万一每年报名情况，有些年份很好考上，有些年份很难考上。这时候年份就成了预测是否录取额一个变量。\n",
    "* 可能岗位代码不是每个单位对应唯一的代码，不同两个单位在不同两年可能有同一个岗位代码。加上年份栏以区分。"
   ]
  },
  {
   "cell_type": "code",
   "execution_count": 83,
   "metadata": {
    "collapsed": true
   },
   "outputs": [],
   "source": [
    "pcon['13']['yr'] = '2013'\n",
    "pcon['14']['yr'] = '2014'\n",
    "pcon['15']['yr'] = '2015'\n",
    "pcon['16']['yr'] = '2016'"
   ]
  },
  {
   "cell_type": "code",
   "execution_count": 84,
   "metadata": {},
   "outputs": [
    {
     "name": "stdout",
     "output_type": "stream",
     "text": [
      "(483, 34)\n",
      "(876, 34)\n",
      "(581, 34)\n",
      "(230, 34)\n"
     ]
    }
   ],
   "source": [
    "print(pcon['13'].shape)\n",
    "print(pcon['14'].shape)\n",
    "print(pcon['15'].shape)\n",
    "print(pcon['16'].shape)"
   ]
  },
  {
   "cell_type": "markdown",
   "metadata": {},
   "source": [
    "col名称统一，可以concat了"
   ]
  },
  {
   "cell_type": "code",
   "execution_count": 85,
   "metadata": {},
   "outputs": [
    {
     "name": "stdout",
     "output_type": "stream",
     "text": [
      "<class 'pandas.core.frame.DataFrame'>\n",
      "RangeIndex: 2170 entries, 0 to 2169\n",
      "Data columns (total 34 columns):\n",
      "tkt         2170 non-null object\n",
      "name        2170 non-null object\n",
      "gend        2170 non-null object\n",
      "ethnic      2170 non-null object\n",
      "school      2170 non-null object\n",
      "edu         2170 non-null object\n",
      "dgr         2170 non-null object\n",
      "exam        2170 non-null object\n",
      "intv        2170 non-null object\n",
      "scr         2170 non-null object\n",
      "rk          2170 non-null object\n",
      "og          2170 non-null object\n",
      "og_cls      2170 non-null object\n",
      "og_rk       2170 non-null object\n",
      "loc_prm     2170 non-null object\n",
      "loc_sec     2170 non-null object\n",
      "jc          2170 non-null object\n",
      "jn          2170 non-null object\n",
      "pl          2170 non-null object\n",
      "seat        2170 non-null object\n",
      "rq_id       2170 non-null object\n",
      "rq_gd       2170 non-null object\n",
      "rq_eth      2170 non-null object\n",
      "rq_edcls    2170 non-null object\n",
      "rq_edu      2170 non-null object\n",
      "rq_dgr      2170 non-null object\n",
      "rq_ag       2170 non-null object\n",
      "rq_sc       2170 non-null object\n",
      "rq_sv       2170 non-null object\n",
      "rq_pol      2170 non-null object\n",
      "rq_other    578 non-null object\n",
      "stmt        1390 non-null object\n",
      "accp        2170 non-null object\n",
      "yr          2170 non-null object\n",
      "dtypes: object(34)\n",
      "memory usage: 576.5+ KB\n"
     ]
    }
   ],
   "source": [
    "df = pd.concat([ pcon['13'],pcon['14'],pcon['15'],pcon['16'] ], ignore_index=True)\n",
    "df.info()"
   ]
  },
  {
   "cell_type": "markdown",
   "metadata": {},
   "source": [
    "## concat往年数据 done"
   ]
  },
  {
   "cell_type": "markdown",
   "metadata": {},
   "source": [
    "# clean columns"
   ]
  },
  {
   "cell_type": "markdown",
   "metadata": {},
   "source": [
    "## clean考生信息"
   ]
  },
  {
   "cell_type": "markdown",
   "metadata": {},
   "source": [
    "按照codebook的划分，先清洗考生信息  \n",
    "\n",
    "* 考生信息\n",
    "    * 'tkt':  准考证号\n",
    "    * 'name': 姓名\n",
    "    * 'gend': 性别\n",
    "    * 'ethnic': 民族\n",
    "    * 'school': 毕业院校\n",
    "    * 'edu':  学历\n",
    "    * 'dgr':  学位\n",
    "    * 'exam': 笔试\n",
    "    * 'intv': 面试\n",
    "    * 'scr':  总分\n",
    "    * 'rk':   岗位排名  "
   ]
  },
  {
   "cell_type": "markdown",
   "metadata": {},
   "source": [
    "    以下：  \n",
    "    因为发现不同年份不同考生可能有同一个准考证号，  \n",
    "    在每个准考证号后面都加上'_年份'"
   ]
  },
  {
   "cell_type": "code",
   "execution_count": 86,
   "metadata": {},
   "outputs": [
    {
     "data": {
      "text/plain": [
       "2107"
      ]
     },
     "execution_count": 86,
     "metadata": {},
     "output_type": "execute_result"
    }
   ],
   "source": [
    "df.tkt.nunique()"
   ]
  },
  {
   "cell_type": "code",
   "execution_count": 87,
   "metadata": {},
   "outputs": [
    {
     "data": {
      "text/plain": [
       "Index(['11275100619', '11270700408', '11270104605', '11270903609',\n",
       "       '11271900920', '11275100118', '11270201417', '11270102518',\n",
       "       '11270201425', '11270500703', '11270202307', '11274103709',\n",
       "       '11270901220', '11270101112', '11270102811', '11270900401',\n",
       "       '11270901814', '11270204118', '11275101418', '11270203121',\n",
       "       '11270201117', '11270103707', '11270101401', '11270501819',\n",
       "       '11270102816', '11271900204', '11270501511', '11270501412',\n",
       "       '11270501710', '11271900901', '11270100313', '11270902412',\n",
       "       '11270903001', '11270104813', '11270900402', '11271900922',\n",
       "       '11270101822', '11270201106', '11270103402', '11270200115',\n",
       "       '11270500806', '11362610708', '11272101811', '11270301222',\n",
       "       '11270102604', '11274100512', '11270901824', '11270201119',\n",
       "       '11270102218', '11270204020', '11272101816', '11270902611',\n",
       "       '11270302607', '11270202508', '11270100521', '11270301817',\n",
       "       '11270100104', '11275101812', '11270102720', '11270902910',\n",
       "       '11274100803', '11270201416', '11270501901'],\n",
       "      dtype='object')"
      ]
     },
     "execution_count": 87,
     "metadata": {},
     "output_type": "execute_result"
    }
   ],
   "source": [
    "df.tkt.value_counts()[df.tkt.value_counts() != 1].index"
   ]
  },
  {
   "cell_type": "code",
   "execution_count": 88,
   "metadata": {},
   "outputs": [
    {
     "data": {
      "text/plain": [
       "63"
      ]
     },
     "execution_count": 88,
     "metadata": {},
     "output_type": "execute_result"
    }
   ],
   "source": [
    "tkt_dup = ['11270903609', '11271900920', '11270201106', '11275101418',\n",
    "       '11271900922', '11270103402', '11270204020', '11270201425',\n",
    "       '11270902412', '11270302607', '11270101112', '11270100521',\n",
    "       '11362610708', '11270101401', '11270901220', '11270501511',\n",
    "       '11270104605', '11274100512', '11270203121', '11274103709',\n",
    "       '11270204118', '11270501710', '11270501412', '11270501901',\n",
    "       '11270201117', '11270700408', '11275101812', '11270102218',\n",
    "       '11270902910', '11270103707', '11270901824', '11270900402',\n",
    "       '11271900204', '11270301817', '11270104813', '11272101811',\n",
    "       '11275100619', '11270501819', '11270102720', '11270200115',\n",
    "       '11275100118', '11270102604', '11270101822', '11270201119',\n",
    "       '11271900901', '11270500806', '11274100803', '11270201417',\n",
    "       '11270102811', '11270901814', '11270100104', '11270201416',\n",
    "       '11270102816', '11270900401', '11270902611', '11270500703',\n",
    "       '11270903001', '11270202307', '11270100313', '11272101816',\n",
    "       '11270202508', '11270102518', '11270301222']\n",
    "len(tkt_dup)"
   ]
  },
  {
   "cell_type": "code",
   "execution_count": 89,
   "metadata": {},
   "outputs": [
    {
     "name": "stderr",
     "output_type": "stream",
     "text": [
      "/Users/EzraYang/anaconda/lib/python3.5/site-packages/ipykernel/__main__.py:1: FutureWarning: sort(columns=....) is deprecated, use sort_values(by=.....)\n",
      "  if __name__ == '__main__':\n"
     ]
    },
    {
     "data": {
      "text/html": [
       "<div>\n",
       "<table border=\"1\" class=\"dataframe\">\n",
       "  <thead>\n",
       "    <tr style=\"text-align: right;\">\n",
       "      <th></th>\n",
       "      <th>tkt</th>\n",
       "      <th>name</th>\n",
       "      <th>yr</th>\n",
       "    </tr>\n",
       "  </thead>\n",
       "  <tbody>\n",
       "    <tr>\n",
       "      <th>1400</th>\n",
       "      <td>11270100104</td>\n",
       "      <td>刘帅</td>\n",
       "      <td>2015</td>\n",
       "    </tr>\n",
       "    <tr>\n",
       "      <th>709</th>\n",
       "      <td>11270100104</td>\n",
       "      <td>张怡</td>\n",
       "      <td>2014</td>\n",
       "    </tr>\n",
       "    <tr>\n",
       "      <th>...</th>\n",
       "      <td>...</td>\n",
       "      <td>...</td>\n",
       "      <td>...</td>\n",
       "    </tr>\n",
       "    <tr>\n",
       "      <th>515</th>\n",
       "      <td>11362610708</td>\n",
       "      <td>白美英</td>\n",
       "      <td>2014</td>\n",
       "    </tr>\n",
       "    <tr>\n",
       "      <th>1777</th>\n",
       "      <td>11362610708</td>\n",
       "      <td>胡建英</td>\n",
       "      <td>2015</td>\n",
       "    </tr>\n",
       "  </tbody>\n",
       "</table>\n",
       "<p>126 rows × 3 columns</p>\n",
       "</div>"
      ],
      "text/plain": [
       "              tkt name    yr\n",
       "1400  11270100104   刘帅  2015\n",
       "709   11270100104   张怡  2014\n",
       "...           ...  ...   ...\n",
       "515   11362610708  白美英  2014\n",
       "1777  11362610708  胡建英  2015\n",
       "\n",
       "[126 rows x 3 columns]"
      ]
     },
     "execution_count": 89,
     "metadata": {},
     "output_type": "execute_result"
    }
   ],
   "source": [
    "df.loc[df['tkt'].isin(tkt_dup), ['tkt', 'name','yr']].sort('tkt')\n"
   ]
  },
  {
   "cell_type": "code",
   "execution_count": 90,
   "metadata": {
    "scrolled": true
   },
   "outputs": [
    {
     "data": {
      "text/plain": [
       "2170"
      ]
     },
     "execution_count": 90,
     "metadata": {},
     "output_type": "execute_result"
    }
   ],
   "source": [
    "df.loc[:,'tkt'] =  df.tkt.astype(str) + '_' + df.yr.astype(str)\n",
    "df.tkt.nunique()"
   ]
  },
  {
   "cell_type": "markdown",
   "metadata": {},
   "source": [
    "    以下：  \n",
    "    把性别用数字表示。"
   ]
  },
  {
   "cell_type": "code",
   "execution_count": 91,
   "metadata": {},
   "outputs": [
    {
     "data": {
      "text/plain": [
       "女    1170\n",
       "男    1000\n",
       "Name: gend, dtype: int64"
      ]
     },
     "execution_count": 91,
     "metadata": {},
     "output_type": "execute_result"
    }
   ],
   "source": [
    "df.gend.value_counts()"
   ]
  },
  {
   "cell_type": "code",
   "execution_count": 92,
   "metadata": {
    "collapsed": true
   },
   "outputs": [],
   "source": [
    "def recode_gend(string):\n",
    "    if string == '男':\n",
    "        return 1\n",
    "    elif string == '女':\n",
    "        return 0"
   ]
  },
  {
   "cell_type": "code",
   "execution_count": 93,
   "metadata": {
    "collapsed": true
   },
   "outputs": [],
   "source": [
    "df.loc[:,'gend'] = df['gend'].apply(recode_gend)"
   ]
  },
  {
   "cell_type": "code",
   "execution_count": 94,
   "metadata": {
    "scrolled": true
   },
   "outputs": [
    {
     "data": {
      "text/plain": [
       "0    1170\n",
       "1    1000\n",
       "Name: gend, dtype: int64"
      ]
     },
     "execution_count": 94,
     "metadata": {},
     "output_type": "execute_result"
    }
   ],
   "source": [
    "df.gend.value_counts()"
   ]
  },
  {
   "cell_type": "markdown",
   "metadata": {},
   "source": [
    "    以下：  \n",
    "    recode民族。（后来发现这一步是不必要的，只要各个民族名称不一样能够区分就行了)"
   ]
  },
  {
   "cell_type": "code",
   "execution_count": 95,
   "metadata": {},
   "outputs": [
    {
     "data": {
      "text/plain": [
       "23"
      ]
     },
     "execution_count": 95,
     "metadata": {},
     "output_type": "execute_result"
    }
   ],
   "source": [
    "df.ethnic.nunique()"
   ]
  },
  {
   "cell_type": "code",
   "execution_count": 96,
   "metadata": {},
   "outputs": [
    {
     "data": {
      "text/plain": [
       "23"
      ]
     },
     "execution_count": 96,
     "metadata": {},
     "output_type": "execute_result"
    }
   ],
   "source": [
    "eth_map = {'仡佬族': 'GeLao',\n",
    "             '佤族': 'Wa',\n",
    "             '侗族': 'Dong',\n",
    "             '傈僳族': 'LiSu',\n",
    "             '傣族': 'Dai',\n",
    "             '其他': 'Unknow',\n",
    "             '哈尼族': 'HaNi',\n",
    "             '回族': 'Hui',\n",
    "             '壮族': 'Zhuang',\n",
    "             '布依族': 'BuYi',\n",
    "             '布朗族': 'BuLang',\n",
    "             '彝族': 'Yi',\n",
    "             '拉祜族': 'LaHu',\n",
    "             '水族': 'Shui',\n",
    "             '汉族': 'Han',\n",
    "             '满族': 'Man',\n",
    "             '瑶族': 'Yao',\n",
    "             '畲族': 'She',\n",
    "             '白族': 'Bai',\n",
    "             '纳西族': 'NaXi',\n",
    "             '苗族': 'Miao',\n",
    "             '藏族': 'Zang',\n",
    "             '阿昌族': 'AChang'}\n",
    "len(eth_map)"
   ]
  },
  {
   "cell_type": "code",
   "execution_count": 97,
   "metadata": {},
   "outputs": [
    {
     "data": {
      "text/plain": [
       "Han       730\n",
       "Yi        432\n",
       "         ... \n",
       "GeLao       1\n",
       "AChang      1\n",
       "Name: ethnic, dtype: int64"
      ]
     },
     "execution_count": 97,
     "metadata": {},
     "output_type": "execute_result"
    }
   ],
   "source": [
    "df.loc[:,'ethnic'] = df.ethnic.map(eth_map)\n",
    "df.ethnic.value_counts()"
   ]
  },
  {
   "cell_type": "markdown",
   "metadata": {},
   "source": [
    "    以下：  \n",
    "    暂时不管school；  \n",
    "    统一学历、学位信息中对同一个意思的不同表达。"
   ]
  },
  {
   "cell_type": "code",
   "execution_count": 98,
   "metadata": {
    "collapsed": true
   },
   "outputs": [],
   "source": [
    "# df.school暂时不管"
   ]
  },
  {
   "cell_type": "code",
   "execution_count": 99,
   "metadata": {},
   "outputs": [
    {
     "data": {
      "text/plain": [
       "大学本科     1452\n",
       "大学专科      701\n",
       "硕士研究生      17\n",
       "Name: edu, dtype: int64"
      ]
     },
     "execution_count": 99,
     "metadata": {},
     "output_type": "execute_result"
    }
   ],
   "source": [
    "df.edu.value_counts()"
   ]
  },
  {
   "cell_type": "code",
   "execution_count": 100,
   "metadata": {},
   "outputs": [
    {
     "data": {
      "text/plain": [
       "学士     1335\n",
       "无学位     801\n",
       "硕士       17\n",
       "双学士      17\n",
       "Name: dgr, dtype: int64"
      ]
     },
     "execution_count": 100,
     "metadata": {},
     "output_type": "execute_result"
    }
   ],
   "source": [
    "df.dgr.value_counts()"
   ]
  },
  {
   "cell_type": "code",
   "execution_count": 101,
   "metadata": {
    "collapsed": true
   },
   "outputs": [],
   "source": [
    "edu_mp = {'大学本科':'Undergrad', '大学专科':'College','硕士研究生':'Grad'}\n",
    "dgr_mp = {'学士':'Bach', '无学位':'Unknow' , '双学士':'Bach_Dub', '硕士':'Master'}"
   ]
  },
  {
   "cell_type": "code",
   "execution_count": 102,
   "metadata": {
    "collapsed": true
   },
   "outputs": [],
   "source": [
    "df.loc[:,'edu'] = df.edu.map(edu_mp)\n",
    "df.loc[:,'dgr'] = df.dgr.map(dgr_mp)"
   ]
  },
  {
   "cell_type": "code",
   "execution_count": 103,
   "metadata": {},
   "outputs": [
    {
     "name": "stdout",
     "output_type": "stream",
     "text": [
      "Undergrad    1452\n",
      "College       701\n",
      "Grad           17\n",
      "Name: edu, dtype: int64\n",
      "Bach        1335\n",
      "Unknow       801\n",
      "Bach_Dub      17\n",
      "Master        17\n",
      "Name: dgr, dtype: int64\n"
     ]
    }
   ],
   "source": [
    "print(df.edu.value_counts())\n",
    "print(df.dgr.value_counts())"
   ]
  },
  {
   "cell_type": "markdown",
   "metadata": {},
   "source": [
    "    以下：  \n",
    "    删掉4个没有参加面试的考生；  \n",
    "    将各年的笔试成绩、面试成绩、综合成绩各自用一个Gausian distribution模拟；  \n",
    "    将各年的笔试、面试、综合成绩替换为z-score."
   ]
  },
  {
   "cell_type": "code",
   "execution_count": 104,
   "metadata": {
    "collapsed": true
   },
   "outputs": [],
   "source": [
    "for col in ['exam','intv','scr',]:\n",
    "    df.loc[:,col] = df[col].astype(float)"
   ]
  },
  {
   "cell_type": "code",
   "execution_count": 105,
   "metadata": {},
   "outputs": [
    {
     "data": {
      "text/plain": [
       "<matplotlib.axes._subplots.AxesSubplot at 0x11aa6dfd0>"
      ]
     },
     "execution_count": 105,
     "metadata": {},
     "output_type": "execute_result"
    },
    {
     "data": {
      "image/png": "[encoded data removed]",
      "text/plain": [
       "<matplotlib.figure.Figure at 0x11558bd30>"
      ]
     },
     "metadata": {},
     "output_type": "display_data"
    }
   ],
   "source": [
    "plt.subplot(3,4,1)\n",
    "df.loc[df['yr']=='2013','exam'].plot(kind='hist')\n",
    "plt.subplot(3,4,2)\n",
    "df.loc[df['yr']=='2014','exam'].plot(kind='hist')\n",
    "plt.subplot(3,4,3)\n",
    "df.loc[df['yr']=='2015','exam'].plot(kind='hist')\n",
    "plt.subplot(3,4,4)\n",
    "df.loc[df['yr']=='2016','exam'].plot(kind='hist')\n",
    "    # 2nd row \n",
    "plt.subplot(3,4,5)\n",
    "df.loc[df['yr']=='2013','intv'].plot(kind='hist')\n",
    "plt.subplot(3,4,6)\n",
    "df.loc[df['yr']=='2014','intv'].plot(kind='hist')\n",
    "plt.subplot(3,4,7)\n",
    "df.loc[df['yr']=='2015','intv'].plot(kind='hist')\n",
    "plt.subplot(3,4,8)\n",
    "df.loc[df['yr']=='2016','intv'].plot(kind='hist')\n",
    "    # 3rd row \n",
    "plt.subplot(3,4,9)\n",
    "df.loc[df['yr']=='2013','scr'].plot(kind='hist')\n",
    "plt.subplot(3,4,10)\n",
    "df.loc[df['yr']=='2014','scr'].plot(kind='hist')\n",
    "plt.subplot(3,4,11)\n",
    "df.loc[df['yr']=='2015','scr'].plot(kind='hist')\n",
    "plt.subplot(3,4,12)\n",
    "df.loc[df['yr']=='2016','scr'].plot(kind='hist')"
   ]
  },
  {
   "cell_type": "code",
   "execution_count": 106,
   "metadata": {},
   "outputs": [
    {
     "data": {
      "text/plain": [
       "1102     0.00\n",
       "818      0.00\n",
       "        ...  \n",
       "679     77.13\n",
       "845     77.51\n",
       "Name: intv, dtype: float64"
      ]
     },
     "execution_count": 106,
     "metadata": {},
     "output_type": "execute_result"
    }
   ],
   "source": [
    "df.loc[df['yr']=='2014','intv'].sort_values().head(10)"
   ]
  },
  {
   "cell_type": "code",
   "execution_count": 107,
   "metadata": {},
   "outputs": [
    {
     "data": {
      "text/plain": [
       "1939     0.00\n",
       "1938    72.46\n",
       "        ...  \n",
       "1937    76.47\n",
       "1909    76.60\n",
       "Name: intv, dtype: float64"
      ]
     },
     "execution_count": 107,
     "metadata": {},
     "output_type": "execute_result"
    }
   ],
   "source": [
    "df.loc[df['yr']=='2015','intv'].sort_values().head(10)"
   ]
  },
  {
   "cell_type": "code",
   "execution_count": 108,
   "metadata": {},
   "outputs": [
    {
     "data": {
      "text/plain": [
       "1046    20.33\n",
       "818     21.33\n",
       "        ...  \n",
       "793     56.82\n",
       "880     57.39\n",
       "Name: scr, dtype: float64"
      ]
     },
     "execution_count": 108,
     "metadata": {},
     "output_type": "execute_result"
    }
   ],
   "source": [
    "df.loc[df['yr']=='2014','scr'].sort_values().head(10)"
   ]
  },
  {
   "cell_type": "code",
   "execution_count": 109,
   "metadata": {},
   "outputs": [
    {
     "data": {
      "text/plain": [
       "1939    23.50\n",
       "1938    56.40\n",
       "        ...  \n",
       "1931    60.39\n",
       "1930    60.41\n",
       "Name: scr, dtype: float64"
      ]
     },
     "execution_count": 109,
     "metadata": {},
     "output_type": "execute_result"
    }
   ],
   "source": [
    "df.loc[df['yr']=='2015','scr'].sort_values().head(10)"
   ]
  },
  {
   "cell_type": "markdown",
   "metadata": {},
   "source": [
    "2014年3人缺考面试，2015年1人缺考面试；  \n",
    "这四个人是图中低分的outiler;  \n",
    "drop这几行"
   ]
  },
  {
   "cell_type": "code",
   "execution_count": 110,
   "metadata": {},
   "outputs": [
    {
     "data": {
      "text/html": [
       "<div>\n",
       "<table border=\"1\" class=\"dataframe\">\n",
       "  <thead>\n",
       "    <tr style=\"text-align: right;\">\n",
       "      <th></th>\n",
       "      <th>exam</th>\n",
       "      <th>intv</th>\n",
       "      <th>scr</th>\n",
       "    </tr>\n",
       "  </thead>\n",
       "  <tbody>\n",
       "    <tr>\n",
       "      <th>1102</th>\n",
       "      <td>171.5</td>\n",
       "      <td>0.0</td>\n",
       "      <td>28.58</td>\n",
       "    </tr>\n",
       "    <tr>\n",
       "      <th>818</th>\n",
       "      <td>128.0</td>\n",
       "      <td>0.0</td>\n",
       "      <td>21.33</td>\n",
       "    </tr>\n",
       "    <tr>\n",
       "      <th>1046</th>\n",
       "      <td>122.0</td>\n",
       "      <td>0.0</td>\n",
       "      <td>20.33</td>\n",
       "    </tr>\n",
       "    <tr>\n",
       "      <th>1939</th>\n",
       "      <td>141.0</td>\n",
       "      <td>0.0</td>\n",
       "      <td>23.50</td>\n",
       "    </tr>\n",
       "  </tbody>\n",
       "</table>\n",
       "</div>"
      ],
      "text/plain": [
       "       exam  intv    scr\n",
       "1102  171.5   0.0  28.58\n",
       "818   128.0   0.0  21.33\n",
       "1046  122.0   0.0  20.33\n",
       "1939  141.0   0.0  23.50"
      ]
     },
     "execution_count": 110,
     "metadata": {},
     "output_type": "execute_result"
    }
   ],
   "source": [
    "df.iloc[[1102,818,1046,1939],7:10]"
   ]
  },
  {
   "cell_type": "code",
   "execution_count": 111,
   "metadata": {},
   "outputs": [
    {
     "data": {
      "text/plain": [
       "(2166, 34)"
      ]
     },
     "execution_count": 111,
     "metadata": {},
     "output_type": "execute_result"
    }
   ],
   "source": [
    "df = df.drop([1102,818,1046,1939])\n",
    "df.shape"
   ]
  },
  {
   "cell_type": "code",
   "execution_count": 112,
   "metadata": {},
   "outputs": [
    {
     "data": {
      "text/plain": [
       "<matplotlib.axes._subplots.AxesSubplot at 0x11b578fd0>"
      ]
     },
     "execution_count": 112,
     "metadata": {},
     "output_type": "execute_result"
    },
    {
     "data": {
      "image/png": "[encoded data removed]",
      "text/plain": [
       "<matplotlib.figure.Figure at 0x115589240>"
      ]
     },
     "metadata": {},
     "output_type": "display_data"
    }
   ],
   "source": [
    "plt.subplot(3,4,1)\n",
    "df.loc[df['yr']=='2013','exam'].plot(kind='hist')\n",
    "plt.subplot(3,4,2)\n",
    "df.loc[df['yr']=='2014','exam'].plot(kind='hist')\n",
    "plt.subplot(3,4,3)\n",
    "df.loc[df['yr']=='2015','exam'].plot(kind='hist')\n",
    "plt.subplot(3,4,4)\n",
    "df.loc[df['yr']=='2016','exam'].plot(kind='hist')\n",
    "    # 2nd row \n",
    "plt.subplot(3,4,5)\n",
    "df.loc[df['yr']=='2013','intv'].plot(kind='hist')\n",
    "plt.subplot(3,4,6)\n",
    "df.loc[df['yr']=='2014','intv'].plot(kind='hist')\n",
    "plt.subplot(3,4,7)\n",
    "df.loc[df['yr']=='2015','intv'].plot(kind='hist')\n",
    "plt.subplot(3,4,8)\n",
    "df.loc[df['yr']=='2016','intv'].plot(kind='hist')\n",
    "    # 3rd row \n",
    "plt.subplot(3,4,9)\n",
    "df.loc[df['yr']=='2013','scr'].plot(kind='hist')\n",
    "plt.subplot(3,4,10)\n",
    "df.loc[df['yr']=='2014','scr'].plot(kind='hist')\n",
    "plt.subplot(3,4,11)\n",
    "df.loc[df['yr']=='2015','scr'].plot(kind='hist')\n",
    "plt.subplot(3,4,12)\n",
    "df.loc[df['yr']=='2016','scr'].plot(kind='hist')"
   ]
  },
  {
   "cell_type": "markdown",
   "metadata": {},
   "source": [
    "Scores are ready to be normalized."
   ]
  },
  {
   "cell_type": "code",
   "execution_count": 113,
   "metadata": {
    "collapsed": true
   },
   "outputs": [],
   "source": [
    "def normalize_series(series):\n",
    "    return (series-series.mean()) / (series.std())"
   ]
  },
  {
   "cell_type": "code",
   "execution_count": 114,
   "metadata": {
    "collapsed": true
   },
   "outputs": [],
   "source": [
    "df.loc[:,'exam'] = df.groupby('yr')['exam'].transform(normalize_series)\n",
    "df.loc[:,'intv'] = df.groupby('yr')['intv'].transform(normalize_series)\n",
    "df.loc[:,'scr'] = df.groupby('yr')['scr'].transform(normalize_series)"
   ]
  },
  {
   "cell_type": "code",
   "execution_count": 115,
   "metadata": {
    "collapsed": true
   },
   "outputs": [],
   "source": [
    "df.loc[:,'exam'] = df['exam'].round(2)\n",
    "df.loc[:,'intv'] = df['intv'].round(2)\n",
    "df.loc[:,'scr'] = df['scr'].round(2)"
   ]
  },
  {
   "cell_type": "code",
   "execution_count": 116,
   "metadata": {},
   "outputs": [
    {
     "data": {
      "text/html": [
       "<div>\n",
       "<table border=\"1\" class=\"dataframe\">\n",
       "  <thead>\n",
       "    <tr style=\"text-align: right;\">\n",
       "      <th></th>\n",
       "      <th>exam</th>\n",
       "      <th>intv</th>\n",
       "      <th>scr</th>\n",
       "    </tr>\n",
       "    <tr>\n",
       "      <th>yr</th>\n",
       "      <th></th>\n",
       "      <th></th>\n",
       "      <th></th>\n",
       "    </tr>\n",
       "  </thead>\n",
       "  <tbody>\n",
       "    <tr>\n",
       "      <th>2013</th>\n",
       "      <td>-2.919220e-17</td>\n",
       "      <td>2.070393e-05</td>\n",
       "      <td>-0.000041</td>\n",
       "    </tr>\n",
       "    <tr>\n",
       "      <th>2014</th>\n",
       "      <td>-1.374570e-04</td>\n",
       "      <td>-1.260023e-04</td>\n",
       "      <td>0.000023</td>\n",
       "    </tr>\n",
       "    <tr>\n",
       "      <th>2015</th>\n",
       "      <td>1.896552e-04</td>\n",
       "      <td>6.896552e-05</td>\n",
       "      <td>0.000138</td>\n",
       "    </tr>\n",
       "    <tr>\n",
       "      <th>2016</th>\n",
       "      <td>-2.220446e-17</td>\n",
       "      <td>-9.654113e-19</td>\n",
       "      <td>-0.000130</td>\n",
       "    </tr>\n",
       "  </tbody>\n",
       "</table>\n",
       "</div>"
      ],
      "text/plain": [
       "              exam          intv       scr\n",
       "yr                                        \n",
       "2013 -2.919220e-17  2.070393e-05 -0.000041\n",
       "2014 -1.374570e-04 -1.260023e-04  0.000023\n",
       "2015  1.896552e-04  6.896552e-05  0.000138\n",
       "2016 -2.220446e-17 -9.654113e-19 -0.000130"
      ]
     },
     "execution_count": 116,
     "metadata": {},
     "output_type": "execute_result"
    }
   ],
   "source": [
    "df.groupby('yr')[['exam','intv','scr']].mean() # expect close to 0"
   ]
  },
  {
   "cell_type": "markdown",
   "metadata": {},
   "source": [
    "    以下：  \n",
    "    观察下‘排名’的分布。"
   ]
  },
  {
   "cell_type": "code",
   "execution_count": 117,
   "metadata": {},
   "outputs": [
    {
     "data": {
      "text/plain": [
       "1     1138\n",
       "2      595\n",
       "      ... \n",
       "16       2\n",
       "15       2\n",
       "Name: rk, dtype: int64"
      ]
     },
     "execution_count": 117,
     "metadata": {},
     "output_type": "execute_result"
    }
   ],
   "source": [
    "df['rk'].value_counts()"
   ]
  },
  {
   "cell_type": "markdown",
   "metadata": {},
   "source": [
    "至此，考生信息清理好了。"
   ]
  },
  {
   "cell_type": "markdown",
   "metadata": {},
   "source": [
    "## clean 单位信息\n",
    "\n",
    "* 单位信息\n",
    "    * 'og':   招录单位名称\n",
    "    * 'og_cls':  单位性质\n",
    "    * 'og_rk':   单位级别\n",
    "    * 'loc_prm': 一级属地信息\n",
    "    * 'loc_sec': 二级属地信息 "
   ]
  },
  {
   "cell_type": "code",
   "execution_count": 118,
   "metadata": {},
   "outputs": [
    {
     "data": {
      "text/html": [
       "<div>\n",
       "<table border=\"1\" class=\"dataframe\">\n",
       "  <thead>\n",
       "    <tr style=\"text-align: right;\">\n",
       "      <th></th>\n",
       "      <th>og</th>\n",
       "      <th>og_cls</th>\n",
       "      <th>og_rk</th>\n",
       "      <th>loc_prm</th>\n",
       "      <th>loc_sec</th>\n",
       "    </tr>\n",
       "  </thead>\n",
       "  <tbody>\n",
       "    <tr>\n",
       "      <th>0</th>\n",
       "      <td>普洱市公安局</td>\n",
       "      <td>行政机关</td>\n",
       "      <td>州市级单位</td>\n",
       "      <td>普洱市</td>\n",
       "      <td>市级</td>\n",
       "    </tr>\n",
       "    <tr>\n",
       "      <th>1</th>\n",
       "      <td>普洱市劳动就业局</td>\n",
       "      <td>参照管理事业单位</td>\n",
       "      <td>州市级单位</td>\n",
       "      <td>普洱市</td>\n",
       "      <td>市级</td>\n",
       "    </tr>\n",
       "    <tr>\n",
       "      <th>...</th>\n",
       "      <td>...</td>\n",
       "      <td>...</td>\n",
       "      <td>...</td>\n",
       "      <td>...</td>\n",
       "      <td>...</td>\n",
       "    </tr>\n",
       "    <tr>\n",
       "      <th>2168</th>\n",
       "      <td>景谷傣族彝族自治县正兴镇财政所</td>\n",
       "      <td>参照公务员法管理的事业单位</td>\n",
       "      <td>乡（镇）级单位</td>\n",
       "      <td>普洱市</td>\n",
       "      <td>景谷县</td>\n",
       "    </tr>\n",
       "    <tr>\n",
       "      <th>2169</th>\n",
       "      <td>景东彝族自治县环境监察大队</td>\n",
       "      <td>参照公务员法管理的事业单位</td>\n",
       "      <td>县（区）级单位</td>\n",
       "      <td>普洱市</td>\n",
       "      <td>景东县</td>\n",
       "    </tr>\n",
       "  </tbody>\n",
       "</table>\n",
       "<p>2166 rows × 5 columns</p>\n",
       "</div>"
      ],
      "text/plain": [
       "                   og         og_cls    og_rk loc_prm loc_sec\n",
       "0              普洱市公安局           行政机关    州市级单位     普洱市      市级\n",
       "1            普洱市劳动就业局       参照管理事业单位    州市级单位     普洱市      市级\n",
       "...               ...            ...      ...     ...     ...\n",
       "2168  景谷傣族彝族自治县正兴镇财政所  参照公务员法管理的事业单位  乡（镇）级单位     普洱市     景谷县\n",
       "2169    景东彝族自治县环境监察大队  参照公务员法管理的事业单位  县（区）级单位     普洱市     景东县\n",
       "\n",
       "[2166 rows x 5 columns]"
      ]
     },
     "execution_count": 118,
     "metadata": {},
     "output_type": "execute_result"
    }
   ],
   "source": [
    "df[['og','og_cls','og_rk','loc_prm','loc_sec',]]"
   ]
  },
  {
   "cell_type": "code",
   "execution_count": 119,
   "metadata": {},
   "outputs": [
    {
     "name": "stdout",
     "output_type": "stream",
     "text": [
      "og\n",
      "墨江县乡镇党政办公室      59\n",
      "墨江县乡镇人民政府机关     57\n",
      "                ..\n",
      "墨江县孟弄乡孟弄财政所      1\n",
      "澜沧县公安局惠民镇派出所     1\n",
      "Name: og, dtype: int64\n",
      "og_cls\n",
      "行政机关                  1587\n",
      "参照管理事业单位               405\n",
      "                      ... \n",
      "参照管理的人民团体和群众团体           4\n",
      "参照公务员法管理的人民团体和群众团体       3\n",
      "Name: og_cls, dtype: int64\n",
      "og_rk\n",
      "乡（镇）级单位      1107\n",
      "县（区）级单位       399\n",
      "             ... \n",
      "省级直管县区级机关      27\n",
      "州市级单位          11\n",
      "Name: og_rk, dtype: int64\n",
      "loc_prm\n",
      "普洱市    2166\n",
      "Name: loc_prm, dtype: int64\n",
      "loc_sec\n",
      "墨江县    302\n",
      "景谷县    243\n",
      "      ... \n",
      "思茅区    131\n",
      "市级      71\n",
      "Name: loc_sec, dtype: int64\n"
     ]
    }
   ],
   "source": [
    "for col in ['og','og_cls','og_rk','loc_prm','loc_sec',]:\n",
    "    print(col)\n",
    "    print(df[col].value_counts())"
   ]
  },
  {
   "cell_type": "markdown",
   "metadata": {},
   "source": [
    "    以下：  \n",
    "    统一og_cls, og_rk中对同一内容的不同表达；  \n",
    "    删掉loc_prm一级，因为对于所有考生这个var都是同样的内容；  \n",
    "    og和loc_sec两栏不需操作。"
   ]
  },
  {
   "cell_type": "code",
   "execution_count": 120,
   "metadata": {
    "collapsed": true
   },
   "outputs": [],
   "source": [
    "df.loc[(df['og_cls']=='参照管理事业单位')|(df['og_cls']=='参照公务员法管理的事业单位'),\n",
    "       'og_cls'] = '参照管理事业单位'"
   ]
  },
  {
   "cell_type": "code",
   "execution_count": 121,
   "metadata": {
    "collapsed": true
   },
   "outputs": [],
   "source": [
    "df.loc[(df['og_cls']=='参照管理的人民团体和群众团体')|(df['og_cls']=='参照公务员法管理的人民团体和群众团体'),\n",
    "       'og_cls'] = '参照管理的人民团体和群众团体'"
   ]
  },
  {
   "cell_type": "code",
   "execution_count": 122,
   "metadata": {
    "collapsed": true
   },
   "outputs": [],
   "source": [
    "df.loc[(df['og_rk']=='乡（镇）级单位')|(df['og_rk']=='乡镇级单位'), \n",
    "       'og_rk'] = '乡镇级单位'"
   ]
  },
  {
   "cell_type": "code",
   "execution_count": 123,
   "metadata": {
    "collapsed": true
   },
   "outputs": [],
   "source": [
    "df.loc[(df['og_rk']=='县（区）级单位')|(df['og_rk']=='县区级单位'),\n",
    "       'og_rk'] = '县区级单位'"
   ]
  },
  {
   "cell_type": "code",
   "execution_count": 124,
   "metadata": {
    "collapsed": true
   },
   "outputs": [],
   "source": [
    "df.loc[(df.og_rk=='省级直管县（区）级单位')|(df.og_rk=='省级直管县区级机关'), \n",
    "      'og_rk'] = '省级直管县区级机关'"
   ]
  },
  {
   "cell_type": "code",
   "execution_count": 125,
   "metadata": {
    "collapsed": true
   },
   "outputs": [],
   "source": [
    "df.loc[(df.og_rk=='州（市）级单位')|(df.og_rk=='州市级单位'), \n",
    "      'og_rk'] = '州市级单位'"
   ]
  },
  {
   "cell_type": "code",
   "execution_count": 126,
   "metadata": {
    "collapsed": true
   },
   "outputs": [],
   "source": [
    "# drop uselesscol\n",
    "df = df.drop('loc_prm',1)"
   ]
  },
  {
   "cell_type": "code",
   "execution_count": 127,
   "metadata": {},
   "outputs": [
    {
     "data": {
      "text/plain": [
       "行政机关              1587\n",
       "参照管理事业单位           502\n",
       "党的机关                70\n",
       "参照管理的人民团体和群众团体       7\n",
       "Name: og_cls, dtype: int64"
      ]
     },
     "execution_count": 127,
     "metadata": {},
     "output_type": "execute_result"
    }
   ],
   "source": [
    "df.og_cls.value_counts()"
   ]
  },
  {
   "cell_type": "code",
   "execution_count": 128,
   "metadata": {},
   "outputs": [
    {
     "data": {
      "text/plain": [
       "乡镇级单位        1447\n",
       "县区级单位         504\n",
       "省级直管县区级机关     144\n",
       "州市级单位          71\n",
       "Name: og_rk, dtype: int64"
      ]
     },
     "execution_count": 128,
     "metadata": {},
     "output_type": "execute_result"
    }
   ],
   "source": [
    "df.og_rk.value_counts()"
   ]
  },
  {
   "cell_type": "markdown",
   "metadata": {},
   "source": [
    "至此，单位信息cleared"
   ]
  },
  {
   "cell_type": "markdown",
   "metadata": {},
   "source": [
    "## clean岗位信息\n",
    "\n",
    "* 岗位信息\n",
    "    * 'jc':  岗位代码\n",
    "    * 'jn':  岗位名称\n",
    "    * 'pl':  是否警察\n",
    "    * 'seat':招考人数  "
   ]
  },
  {
   "cell_type": "code",
   "execution_count": 129,
   "metadata": {},
   "outputs": [
    {
     "name": "stdout",
     "output_type": "stream",
     "text": [
      "jc\n",
      "0822001004    29\n",
      "0828001012    29\n",
      "              ..\n",
      "0823001034     1\n",
      "0825004003     1\n",
      "Name: jc, dtype: int64\n",
      "jn\n",
      "工作人员       744\n",
      "办公室工作人员    128\n",
      "          ... \n",
      "审核管理         1\n",
      "办公室文秘        1\n",
      "Name: jn, dtype: int64\n",
      "pl\n",
      "否             1698\n",
      "是              238\n",
      "非人民警察岗位        211\n",
      "公安机关人民警察岗位      19\n",
      "Name: pl, dtype: int64\n",
      "seat\n",
      "1    1407\n",
      "2     323\n",
      "     ... \n",
      "4      24\n",
      "8      16\n",
      "Name: seat, dtype: int64\n"
     ]
    }
   ],
   "source": [
    "for col in ['jc','jn','pl','seat',]:\n",
    "    print(col)\n",
    "    print(df[col].value_counts())"
   ]
  },
  {
   "cell_type": "markdown",
   "metadata": {},
   "source": [
    "    观察到：  \n",
    "    * jc(jobcode)有诸多重合，应该需要加上_year\n",
    "    * jn一栏很杂，暂不清理\n",
    "    * pl一栏统一成0 1\n",
    "    * seat似乎不用管"
   ]
  },
  {
   "cell_type": "code",
   "execution_count": 130,
   "metadata": {},
   "outputs": [
    {
     "data": {
      "text/html": [
       "<div>\n",
       "<table border=\"1\" class=\"dataframe\">\n",
       "  <thead>\n",
       "    <tr style=\"text-align: right;\">\n",
       "      <th></th>\n",
       "      <th>jc</th>\n",
       "      <th>og</th>\n",
       "      <th>yr</th>\n",
       "    </tr>\n",
       "  </thead>\n",
       "  <tbody>\n",
       "    <tr>\n",
       "      <th>85</th>\n",
       "      <td>0822001004</td>\n",
       "      <td>墨江县公安局泗南江派出所</td>\n",
       "      <td>2013</td>\n",
       "    </tr>\n",
       "    <tr>\n",
       "      <th>764</th>\n",
       "      <td>0822001004</td>\n",
       "      <td>墨江县乡镇财政所</td>\n",
       "      <td>2014</td>\n",
       "    </tr>\n",
       "    <tr>\n",
       "      <th>...</th>\n",
       "      <td>...</td>\n",
       "      <td>...</td>\n",
       "      <td>...</td>\n",
       "    </tr>\n",
       "    <tr>\n",
       "      <th>1611</th>\n",
       "      <td>0822001004</td>\n",
       "      <td>墨江县乡镇党政办公室</td>\n",
       "      <td>2015</td>\n",
       "    </tr>\n",
       "    <tr>\n",
       "      <th>1766</th>\n",
       "      <td>0822001004</td>\n",
       "      <td>墨江县乡镇党政办公室</td>\n",
       "      <td>2015</td>\n",
       "    </tr>\n",
       "  </tbody>\n",
       "</table>\n",
       "<p>29 rows × 3 columns</p>\n",
       "</div>"
      ],
      "text/plain": [
       "              jc            og    yr\n",
       "85    0822001004  墨江县公安局泗南江派出所  2013\n",
       "764   0822001004      墨江县乡镇财政所  2014\n",
       "...          ...           ...   ...\n",
       "1611  0822001004    墨江县乡镇党政办公室  2015\n",
       "1766  0822001004    墨江县乡镇党政办公室  2015\n",
       "\n",
       "[29 rows x 3 columns]"
      ]
     },
     "execution_count": 130,
     "metadata": {},
     "output_type": "execute_result"
    }
   ],
   "source": [
    "df.loc[df.jc=='0822001004',['jc', 'og','yr']]"
   ]
  },
  {
   "cell_type": "code",
   "execution_count": 131,
   "metadata": {
    "collapsed": true
   },
   "outputs": [],
   "source": [
    "df.loc[:,'jc'] = df.jc+'_'+df.yr"
   ]
  },
  {
   "cell_type": "code",
   "execution_count": 132,
   "metadata": {},
   "outputs": [
    {
     "data": {
      "text/plain": [
       "array(['是', '否', '非人民警察岗位', '公安机关人民警察岗位'], dtype=object)"
      ]
     },
     "execution_count": 132,
     "metadata": {},
     "output_type": "execute_result"
    }
   ],
   "source": [
    "df.pl.unique()"
   ]
  },
  {
   "cell_type": "code",
   "execution_count": 133,
   "metadata": {
    "collapsed": true
   },
   "outputs": [],
   "source": [
    "pl_mp = {'是':1, '否':0, '非人民警察岗位':0, '公安机关人民警察岗位':1}"
   ]
  },
  {
   "cell_type": "code",
   "execution_count": 134,
   "metadata": {
    "collapsed": true
   },
   "outputs": [],
   "source": [
    "df.loc[:,'pl'] = df.pl.map(pl_mp)  # series.map()真心好用"
   ]
  },
  {
   "cell_type": "code",
   "execution_count": 135,
   "metadata": {},
   "outputs": [
    {
     "data": {
      "text/plain": [
       "0    1909\n",
       "1     257\n",
       "Name: pl, dtype: int64"
      ]
     },
     "execution_count": 135,
     "metadata": {},
     "output_type": "execute_result"
    }
   ],
   "source": [
    "df.pl.value_counts()"
   ]
  },
  {
   "cell_type": "markdown",
   "metadata": {},
   "source": [
    "至此，岗位信息cleared"
   ]
  },
  {
   "cell_type": "markdown",
   "metadata": {},
   "source": [
    "## clean报考要求\n",
    "\n",
    "* 报考要求\n",
    "    * 'rq_id':   要求-身份\n",
    "    * 'rq_gd':   要求-性别\n",
    "    * 'rq_eth':  要求-民族\n",
    "    * 'rq_edcls':要求-学历性质\n",
    "    * 'rq_edu':  要求-学历\n",
    "    * 'rq_dgr':  要求-学位\n",
    "    * 'rq_ag':   要求-年龄\n",
    "    * 'rq_sc':   要求-生源/户籍地\n",
    "    * 'rq_sv':   要求-服务地\n",
    "    * 'rq_pol':  要求-政治面貌\n",
    "    * 'rq_other':要求-其它\n",
    "    * 'stmt':  说明"
   ]
  },
  {
   "cell_type": "code",
   "execution_count": 136,
   "metadata": {},
   "outputs": [
    {
     "name": "stdout",
     "output_type": "stream",
     "text": [
      "rq_id\n",
      "非公务员及非参照公务员法管理单位工作人员      1415\n",
      "非公务员及非参照公务员法管理事业单位工作人员     164\n",
      "                          ... \n",
      "2016年毕业生                     2\n",
      "两年以上基层工作经历人员                 1\n",
      "Name: rq_id, dtype: int64\n",
      "rq_gd\n",
      "不限    1407\n",
      "男      479\n",
      "女      280\n",
      "Name: rq_gd, dtype: int64\n",
      "rq_eth\n",
      "不限      2058\n",
      "少数民族     108\n",
      "Name: rq_eth, dtype: int64\n",
      "rq_edcls\n",
      "普通招生计划    1039\n",
      "国民教育       897\n",
      "不限         230\n",
      "Name: rq_edcls, dtype: int64\n",
      "rq_edu\n",
      "大专及以上       1629\n",
      "本科及以上        531\n",
      "硕士及以上          4\n",
      "硕士研究生及以上       2\n",
      "Name: rq_edu, dtype: int64\n",
      "rq_dgr\n",
      "不限         1994\n",
      "学士及以上学位     166\n",
      "硕士及以上学位       6\n",
      "Name: rq_dgr, dtype: int64\n",
      "rq_ag\n",
      "2014年毕业的非在职硕士及以上学历人员18至40岁，其他人员18至35岁       744\n",
      "2015年毕业的非在职硕士研究生及以上学历人员18至40岁，其他人员18至35岁    500\n",
      "                                           ... \n",
      "18至28岁                                        8\n",
      "18至35岁                                        7\n",
      "Name: rq_ag, dtype: int64\n",
      "rq_sc\n",
      "招考单位所在州（市）    1202\n",
      "不限             592\n",
      "招考单位所在州(市)     372\n",
      "Name: rq_sc, dtype: int64\n",
      "rq_sv\n",
      "--     1725\n",
      "云南省     441\n",
      "Name: rq_sv, dtype: int64\n",
      "rq_pol\n",
      "不限      2142\n",
      "中共党员      24\n",
      "Name: rq_pol, dtype: int64\n",
      "rq_other\n",
      "非本市生源地或户籍具有硕士学位及以上人员，不受本岗位生源地或户籍限制，网络报名时，生源地或户籍一栏请填普洱市，不视为填报虚假信息    288\n",
      "--                                                                  230\n",
      "                                                                   ... \n",
      "具有会计从业资格证                                                             2\n",
      "持有会计从业资格证                                                             2\n",
      "Name: rq_other, dtype: int64\n",
      "stmt\n",
      "具有硕士学位及以上非本市生源地或户籍人员，不受本岗位生源地或户籍限制，报名时生源地或户籍一栏选择普洱市，资格复审时视为生源地或户籍填写合格。                                                                                                            357\n",
      "具有硕士学位及以上非本市生源地或户籍人员，不受本岗位生源地或户籍限制，报名时生源地或户籍一栏选择普洱市，视为生源地或户籍填写合格。                                                                                                                 194\n",
      "                                                                                                                                                                                 ... \n",
      "单侧矫正视力低于5.0，不合格；色盲，不合格。                                                                                                                                                             1\n",
      "单侧裸眼视力低于4.8，不合格；色盲不合格。二级目录-外国语言文学下的英缅教育；英缅双语教育；英语缅语；英语缅语双语教育；应用缅甸语业也可报考，报名时选择缅甸语专业可通过自动审核，资格复审时视为专业填写合格。具有硕士学位及以上非本市生源地或户籍人员，不受本岗位生源地或户籍限制，报名时生源地或户籍一栏选择普洱市，资格复审时视为生源地或户籍填写合格。      1\n",
      "Name: stmt, dtype: int64\n"
     ]
    }
   ],
   "source": [
    "for col in ['rq_id','rq_gd','rq_eth','rq_edcls','rq_edu','rq_dgr',\n",
    "        'rq_ag','rq_sc','rq_sv','rq_pol',\n",
    "        'rq_other','stmt']:\n",
    "    print(col)\n",
    "    print(df[col].value_counts())"
   ]
  },
  {
   "cell_type": "markdown",
   "metadata": {},
   "source": [
    "    观察到：  \n",
    "    * 这几个已经level分明了，do nothing:   \n",
    "    'rq_gd',   \n",
    "    'rq_eth',  \n",
    "    'rq_edcls'  \n",
    "    'rq_dgr'  \n",
    "    'rq_pol'  \n",
    "    'rq_sv'\n",
    "    * easy:   \n",
    "    'rq_edu'   \n",
    "    'rq_ag',  \n",
    "    'rq_sc'  \n",
    "    * complex:   \n",
    "    'rq_id' \n",
    "    * inter-mixed  \n",
    "    'rq_other',   暂不清理  \n",
    "    'stmt'  暂不清理"
   ]
  },
  {
   "cell_type": "markdown",
   "metadata": {},
   "source": [
    "    以下：  \n",
    "    清理rq_edu, rq_ag, rq_sc, rq_id四栏，  \n",
    "    统一同一含义的不同表达，或是精简文字即可。"
   ]
  },
  {
   "cell_type": "code",
   "execution_count": 137,
   "metadata": {},
   "outputs": [
    {
     "name": "stdout",
     "output_type": "stream",
     "text": [
      "rq_edu\n",
      "['本科及以上' '硕士及以上' '大专及以上' '硕士研究生及以上']\n",
      "rq_ag\n",
      "['2013年毕业的非在职硕士及以上学历人员18至35岁，其他人员18至30岁'\n",
      " '2013年毕业的非在职硕士及以上学历人员18至40岁，其他人员18至35岁' '18至35岁'\n",
      " '2014年毕业的非在职硕士及以上学历人员18至40岁，其他人员18至35岁'\n",
      " '2014年毕业的非在职硕士及以上学历人员18至35岁，其他人员18至30岁' '18至28岁'\n",
      " '2015年毕业的非在职硕士研究生及以上学历人员18至40岁，其他人员18至35岁'\n",
      " '2015年毕业的非在职硕士研究生及以上学历人员18至35岁，其他人员18至30岁'\n",
      " '2016年毕业的非在职硕士及以上学历人员18至40岁，其他人员18至35岁'\n",
      " '2016年毕业的非在职硕士及以上学历人员18至35岁，其他人员18至30岁']\n",
      "rq_sc\n",
      "['不限' '招考单位所在州(市)' '招考单位所在州（市）']\n"
     ]
    }
   ],
   "source": [
    "for col in ['rq_edu','rq_ag','rq_sc']:\n",
    "    print(col)\n",
    "    print(df[col].unique())"
   ]
  },
  {
   "cell_type": "code",
   "execution_count": 138,
   "metadata": {
    "collapsed": true
   },
   "outputs": [],
   "source": [
    "df.loc[:,'rq_edu'] = df.rq_edu.replace('硕士研究生及以上','硕士及以上')"
   ]
  },
  {
   "cell_type": "code",
   "execution_count": 139,
   "metadata": {},
   "outputs": [
    {
     "data": {
      "text/plain": [
       "大专及以上    1629\n",
       "本科及以上     531\n",
       "硕士及以上       6\n",
       "Name: rq_edu, dtype: int64"
      ]
     },
     "execution_count": 139,
     "metadata": {},
     "output_type": "execute_result"
    }
   ],
   "source": [
    "df.rq_edu.value_counts()"
   ]
  },
  {
   "cell_type": "code",
   "execution_count": 140,
   "metadata": {
    "collapsed": true
   },
   "outputs": [],
   "source": [
    "rq_ag_mp = {\n",
    "        '2013年毕业的非在职硕士及以上学历人员18至35岁，其他人员18至30岁':'35;30',\n",
    "        '2013年毕业的非在职硕士及以上学历人员18至40岁，其他人员18至35岁':'40;35', \n",
    "        '2014年毕业的非在职硕士及以上学历人员18至40岁，其他人员18至35岁':'40;35',\n",
    "        '2014年毕业的非在职硕士及以上学历人员18至35岁，其他人员18至30岁':'35;30', \n",
    "        '2015年毕业的非在职硕士研究生及以上学历人员18至40岁，其他人员18至35岁':'40;35',\n",
    "        '2015年毕业的非在职硕士研究生及以上学历人员18至35岁，其他人员18至30岁':'35;30',\n",
    "        '2016年毕业的非在职硕士及以上学历人员18至40岁，其他人员18至35岁':'40;35',\n",
    "        '2016年毕业的非在职硕士及以上学历人员18至35岁，其他人员18至30岁':'35;30',\n",
    "        '18至35岁':'35',\n",
    "        '18至28岁':'28',\n",
    "}"
   ]
  },
  {
   "cell_type": "code",
   "execution_count": 141,
   "metadata": {
    "scrolled": true
   },
   "outputs": [
    {
     "data": {
      "text/plain": [
       "40;35    1901\n",
       "35;30     250\n",
       "28          8\n",
       "35          7\n",
       "Name: rq_ag, dtype: int64"
      ]
     },
     "execution_count": 141,
     "metadata": {},
     "output_type": "execute_result"
    }
   ],
   "source": [
    "df.rq_ag.map(rq_ag_mp).value_counts()"
   ]
  },
  {
   "cell_type": "code",
   "execution_count": 142,
   "metadata": {
    "collapsed": true
   },
   "outputs": [],
   "source": [
    "df.loc[:,'rq_ag'] = df.rq_ag.map(rq_ag_mp)"
   ]
  },
  {
   "cell_type": "code",
   "execution_count": 143,
   "metadata": {},
   "outputs": [
    {
     "data": {
      "text/plain": [
       "招考单位所在州(市)    1574\n",
       "不限             592\n",
       "Name: rq_sc, dtype: int64"
      ]
     },
     "execution_count": 143,
     "metadata": {},
     "output_type": "execute_result"
    }
   ],
   "source": [
    "df.rq_sc.replace('招考单位所在州（市）', '招考单位所在州(市)').value_counts()"
   ]
  },
  {
   "cell_type": "code",
   "execution_count": 144,
   "metadata": {
    "collapsed": true
   },
   "outputs": [],
   "source": [
    "df.loc[:,'rq_sc'] = df.rq_sc.replace('招考单位所在州（市）', '招考单位所在州(市)')"
   ]
  },
  {
   "cell_type": "code",
   "execution_count": 145,
   "metadata": {},
   "outputs": [
    {
     "data": {
      "text/plain": [
       "array(['2013年毕业生', '非公务员及非参照公务员法管理单位工作人员',\n",
       "       '近3年内服务期满且考核合格的服务基层“四个项目”（选聘高校毕业生到村任职、农村义务教育阶段学校教师特设岗位计划、三支一扶、大学生志愿服务西部计划）人员',\n",
       "       '两年以上基层工作经历人员（不含在云南省县级及县级以下机关工作5年以上的已登记的公务员或参照公务员法管理单位工作人员）',\n",
       "       '单项服务基层项目的服务期（含未发生身份变化的续聘期）于2012年1月至2014年3月之间届满，且历年考核均合格的服务基层“四个项目”（选聘高校毕业生到村任职、农村义务教育阶段学校教师特设岗位计划、三支一扶、大学生志愿服务西部计划）人员',\n",
       "       '2014年毕业生', '2015年毕业生',\n",
       "       '单项服务基层项目的服务期（含未发生身份变化的续聘期）于2013年1月至2015年3月之间届满，且考核合格的服务基层“四个项目”（选聘高校毕业生到村任职、农村义务教育阶段学校教师特设岗位计划、三支一扶、大学生志愿服务西部计划）人员',\n",
       "       '非公务员及非参照公务员法管理事业单位工作人员',\n",
       "       '单项服务基层项目的服务期（含未发生身份变化的续聘期）于2014年1月至2016年3月之间届满，且历年考核均合格的服务基层“四个项目”（选聘高校毕业生到村任职、农村义务教育阶段学校教师特设岗位计划、三支一扶、大学生志愿服务西部计划）人员',\n",
       "       '两年以上基层工作经历人员', '2016年毕业生'], dtype=object)"
      ]
     },
     "execution_count": 145,
     "metadata": {},
     "output_type": "execute_result"
    }
   ],
   "source": [
    "df.rq_id.unique()"
   ]
  },
  {
   "cell_type": "code",
   "execution_count": 146,
   "metadata": {},
   "outputs": [
    {
     "data": {
      "text/plain": [
       "12"
      ]
     },
     "execution_count": 146,
     "metadata": {},
     "output_type": "execute_result"
    }
   ],
   "source": [
    "df.rq_id.nunique()"
   ]
  },
  {
   "cell_type": "code",
   "execution_count": 147,
   "metadata": {
    "collapsed": true
   },
   "outputs": [],
   "source": [
    "rq_id_mp = {\n",
    "'2013年毕业生':'freshGrad', \n",
    "'2014年毕业生':'freshGrad', \n",
    "'2015年毕业生':'freshGrad', \n",
    "'2016年毕业生':'freshGrad', \n",
    "'非公务员及非参照公务员法管理单位工作人员':'nonClerk', \n",
    "'非公务员及非参照公务员法管理事业单位工作人员':'nonClerk', \n",
    "'近3年内服务期满且考核合格的服务基层“四个项目”（选聘高校毕业生到村任职、农村义务教育阶段学校教师特设岗位计划、三支一扶、大学生志愿服务西部计划）人员':'proj4', \n",
    "'单项服务基层项目的服务期（含未发生身份变化的续聘期）于2012年1月至2014年3月之间届满，且历年考核均合格的服务基层“四个项目”（选聘高校毕业生到村任职、农村义务教育阶段学校教师特设岗位计划、三支一扶、大学生志愿服务西部计划）人员':'proj4', \n",
    "'单项服务基层项目的服务期（含未发生身份变化的续聘期）于2013年1月至2015年3月之间届满，且考核合格的服务基层“四个项目”（选聘高校毕业生到村任职、农村义务教育阶段学校教师特设岗位计划、三支一扶、大学生志愿服务西部计划）人员':'proj4', \n",
    "'单项服务基层项目的服务期（含未发生身份变化的续聘期）于2014年1月至2016年3月之间届满，且历年考核均合格的服务基层“四个项目”（选聘高校毕业生到村任职、农村义务教育阶段学校教师特设岗位计划、三支一扶、大学生志愿服务西部计划）人员':'proj4', \n",
    "'两年以上基层工作经历人员（不含在云南省县级及县级以下机关工作5年以上的已登记的公务员或参照公务员法管理单位工作人员）':'gr2yr', \n",
    "'两年以上基层工作经历人员':'gr2yr', \n",
    "}"
   ]
  },
  {
   "cell_type": "markdown",
   "metadata": {
    "collapsed": true
   },
   "source": [
    "* 'freshGrad' 当年新鲜毕业的\n",
    "* 'nonClerk'  非公非参公\n",
    "* 'proj4'  四个项目\n",
    "* 'gr2yr'  两年基层经验"
   ]
  },
  {
   "cell_type": "code",
   "execution_count": 148,
   "metadata": {
    "collapsed": true
   },
   "outputs": [],
   "source": [
    "df.loc[:,'rq_id'] = df.rq_id.map(rq_id_mp)"
   ]
  },
  {
   "cell_type": "markdown",
   "metadata": {},
   "source": [
    "至此，报考要求cleared."
   ]
  },
  {
   "cell_type": "markdown",
   "metadata": {},
   "source": [
    "## clean录取情况"
   ]
  },
  {
   "cell_type": "code",
   "execution_count": 149,
   "metadata": {},
   "outputs": [
    {
     "data": {
      "text/plain": [
       "是     956\n",
       "否     727\n",
       "录用    483\n",
       "Name: accp, dtype: int64"
      ]
     },
     "execution_count": 149,
     "metadata": {},
     "output_type": "execute_result"
    }
   ],
   "source": [
    "df.accp.value_counts()"
   ]
  },
  {
   "cell_type": "code",
   "execution_count": 150,
   "metadata": {},
   "outputs": [
    {
     "data": {
      "text/plain": [
       "yr    accp\n",
       "2013  录用      483\n",
       "2014  否       430\n",
       "             ... \n",
       "2016  否         3\n",
       "      是       227\n",
       "Name: tkt, dtype: int64"
      ]
     },
     "execution_count": 150,
     "metadata": {},
     "output_type": "execute_result"
    }
   ],
   "source": [
    "df.groupby(['yr', 'accp'])['tkt'].count()"
   ]
  },
  {
   "cell_type": "code",
   "execution_count": 151,
   "metadata": {},
   "outputs": [
    {
     "data": {
      "text/html": [
       "<div>\n",
       "<table border=\"1\" class=\"dataframe\">\n",
       "  <thead>\n",
       "    <tr style=\"text-align: right;\">\n",
       "      <th></th>\n",
       "      <th>tkt</th>\n",
       "      <th>name</th>\n",
       "      <th>gend</th>\n",
       "      <th>ethnic</th>\n",
       "      <th>school</th>\n",
       "      <th>edu</th>\n",
       "      <th>dgr</th>\n",
       "      <th>exam</th>\n",
       "      <th>intv</th>\n",
       "      <th>scr</th>\n",
       "      <th>...</th>\n",
       "      <th>rq_edu</th>\n",
       "      <th>rq_dgr</th>\n",
       "      <th>rq_ag</th>\n",
       "      <th>rq_sc</th>\n",
       "      <th>rq_sv</th>\n",
       "      <th>rq_pol</th>\n",
       "      <th>rq_other</th>\n",
       "      <th>stmt</th>\n",
       "      <th>accp</th>\n",
       "      <th>yr</th>\n",
       "    </tr>\n",
       "  </thead>\n",
       "  <tbody>\n",
       "    <tr>\n",
       "      <th>1957</th>\n",
       "      <td>101290605008_2016</td>\n",
       "      <td>苏晓波</td>\n",
       "      <td>0</td>\n",
       "      <td>Han</td>\n",
       "      <td>大理大学</td>\n",
       "      <td>Undergrad</td>\n",
       "      <td>Bach</td>\n",
       "      <td>0.02</td>\n",
       "      <td>0.87</td>\n",
       "      <td>0.27</td>\n",
       "      <td>...</td>\n",
       "      <td>大专及以上</td>\n",
       "      <td>不限</td>\n",
       "      <td>40;35</td>\n",
       "      <td>不限</td>\n",
       "      <td>云南省</td>\n",
       "      <td>不限</td>\n",
       "      <td>--</td>\n",
       "      <td>根据考生综合成绩高低，依次分配到龙街、安定、林街人民政府各1人。</td>\n",
       "      <td>否</td>\n",
       "      <td>2016</td>\n",
       "    </tr>\n",
       "    <tr>\n",
       "      <th>1966</th>\n",
       "      <td>101354901221_2016</td>\n",
       "      <td>白钰</td>\n",
       "      <td>0</td>\n",
       "      <td>Wa</td>\n",
       "      <td>昆明艺术职业学院</td>\n",
       "      <td>College</td>\n",
       "      <td>Unknow</td>\n",
       "      <td>-2.97</td>\n",
       "      <td>-0.88</td>\n",
       "      <td>-2.91</td>\n",
       "      <td>...</td>\n",
       "      <td>大专及以上</td>\n",
       "      <td>不限</td>\n",
       "      <td>40;35</td>\n",
       "      <td>不限</td>\n",
       "      <td>云南省</td>\n",
       "      <td>不限</td>\n",
       "      <td>--</td>\n",
       "      <td>--</td>\n",
       "      <td>否</td>\n",
       "      <td>2016</td>\n",
       "    </tr>\n",
       "    <tr>\n",
       "      <th>2093</th>\n",
       "      <td>101270304017_2016</td>\n",
       "      <td>李春</td>\n",
       "      <td>0</td>\n",
       "      <td>Wa</td>\n",
       "      <td>云南省玉溪农业职业技术学院</td>\n",
       "      <td>College</td>\n",
       "      <td>Unknow</td>\n",
       "      <td>-1.26</td>\n",
       "      <td>-0.09</td>\n",
       "      <td>-1.15</td>\n",
       "      <td>...</td>\n",
       "      <td>大专及以上</td>\n",
       "      <td>不限</td>\n",
       "      <td>40;35</td>\n",
       "      <td>招考单位所在州(市)</td>\n",
       "      <td>--</td>\n",
       "      <td>不限</td>\n",
       "      <td>--</td>\n",
       "      <td>--</td>\n",
       "      <td>否</td>\n",
       "      <td>2016</td>\n",
       "    </tr>\n",
       "  </tbody>\n",
       "</table>\n",
       "<p>3 rows × 33 columns</p>\n",
       "</div>"
      ],
      "text/plain": [
       "                    tkt name  gend ethnic         school        edu     dgr  \\\n",
       "1957  101290605008_2016  苏晓波     0    Han           大理大学  Undergrad    Bach   \n",
       "1966  101354901221_2016   白钰     0     Wa       昆明艺术职业学院    College  Unknow   \n",
       "2093  101270304017_2016   李春     0     Wa  云南省玉溪农业职业技术学院    College  Unknow   \n",
       "\n",
       "      exam  intv   scr  ...  rq_edu rq_dgr  rq_ag       rq_sc rq_sv rq_pol  \\\n",
       "1957  0.02  0.87  0.27  ...   大专及以上     不限  40;35          不限   云南省     不限   \n",
       "1966 -2.97 -0.88 -2.91  ...   大专及以上     不限  40;35          不限   云南省     不限   \n",
       "2093 -1.26 -0.09 -1.15  ...   大专及以上     不限  40;35  招考单位所在州(市)    --     不限   \n",
       "\n",
       "     rq_other                              stmt accp    yr  \n",
       "1957       --  根据考生综合成绩高低，依次分配到龙街、安定、林街人民政府各1人。    否  2016  \n",
       "1966       --                                --    否  2016  \n",
       "2093       --                                --    否  2016  \n",
       "\n",
       "[3 rows x 33 columns]"
      ]
     },
     "execution_count": 151,
     "metadata": {},
     "output_type": "execute_result"
    }
   ],
   "source": [
    "# 为什么2016年很突兀地有三个不录取？\n",
    "df.loc[ (df['yr']=='2016')&(df['accp']=='否'),: ]"
   ]
  },
  {
   "cell_type": "code",
   "execution_count": 152,
   "metadata": {
    "collapsed": true
   },
   "outputs": [],
   "source": [
    "df.loc[:, 'accp'] = df.accp.map({'是':1, '否':0, '录用':1})"
   ]
  },
  {
   "cell_type": "markdown",
   "metadata": {},
   "source": [
    "录取情况cleared."
   ]
  },
  {
   "cell_type": "markdown",
   "metadata": {},
   "source": [
    "现在，在independent var中：  \n",
    "* 考生信息除`school`, all cleared\n",
    "* 单位信息all cleared\n",
    "* 岗位信息除`jn`, all cleared\n",
    "* 报考要求除`rq_other`, `stmt`, all cleared  \n",
    "\n",
    "这几个variable之所以不清理，因为它们看起来很花时间，  \n",
    "而我不能确定花了时间清理干净之后它们对模型有多大用处。  \n",
    "所以先放着，用易清理的variable预测看看，  \n",
    "如果有证据显示这几个没清理的很有用，那再来清理。"
   ]
  },
  {
   "cell_type": "markdown",
   "metadata": {},
   "source": [
    "# 确认'rk'栏的意思"
   ]
  },
  {
   "cell_type": "markdown",
   "metadata": {},
   "source": [
    "* 有一栏不确定是留是删：  \n",
    "'rk': 不知道这个排名指的是笔试排名还是综合成绩排名，  \n",
    "                如果指笔试排名，应该保留（并且应该是重要var）；\n",
    "                如果指综合成绩排名，应该删除。"
   ]
  },
  {
   "cell_type": "markdown",
   "metadata": {},
   "source": [
    "#判断rk是笔试排名还是总分排名。  \n",
    "只有2014，2015两年有完整的录取/不录取情况，其他两年数据skewed。  \n",
    "如果rk指的是总分排名，那么rk > seat一定不录取；rk <= seat一定录取。"
   ]
  },
  {
   "cell_type": "code",
   "execution_count": 153,
   "metadata": {
    "scrolled": true
   },
   "outputs": [
    {
     "data": {
      "text/plain": [
       "0    409\n",
       "1      9\n",
       "Name: accp, dtype: int64"
      ]
     },
     "execution_count": 153,
     "metadata": {},
     "output_type": "execute_result"
    }
   ],
   "source": [
    "df.loc[(df['yr']=='2014')&(df.rk.astype(int) > df.seat.astype(int)), ['jc', 'exam','rk','seat','accp']].accp.value_counts()"
   ]
  },
  {
   "cell_type": "code",
   "execution_count": 154,
   "metadata": {},
   "outputs": [
    {
     "data": {
      "text/plain": [
       "1    434\n",
       "0     21\n",
       "Name: accp, dtype: int64"
      ]
     },
     "execution_count": 154,
     "metadata": {},
     "output_type": "execute_result"
    }
   ],
   "source": [
    "df.loc[(df['yr']=='2014')&(df.rk.astype(int) <= df.seat.astype(int)), ['jc', 'exam','rk','seat','accp']].accp.value_counts()"
   ]
  },
  {
   "cell_type": "markdown",
   "metadata": {},
   "source": [
    "2014年rk > seat的人中只有9人逆袭成功录取（以下简称’逆袭者‘）；  \n",
    "rk <= seat的人中有21人掉队（以下简称’掉队者‘）。  \n",
    "整体上rk>seat更偏向不录取，rk <=seat更偏向录取。"
   ]
  },
  {
   "cell_type": "code",
   "execution_count": 155,
   "metadata": {},
   "outputs": [
    {
     "data": {
      "text/plain": [
       "0    281\n",
       "1      7\n",
       "Name: accp, dtype: int64"
      ]
     },
     "execution_count": 155,
     "metadata": {},
     "output_type": "execute_result"
    }
   ],
   "source": [
    "df.loc[(df['yr']=='2015')&(df.rk.astype(int) > df.seat.astype(int)), ['jc', 'exam','rk','seat','accp']].accp.value_counts()"
   ]
  },
  {
   "cell_type": "code",
   "execution_count": 156,
   "metadata": {},
   "outputs": [
    {
     "data": {
      "text/plain": [
       "1    279\n",
       "0     13\n",
       "Name: accp, dtype: int64"
      ]
     },
     "execution_count": 156,
     "metadata": {},
     "output_type": "execute_result"
    }
   ],
   "source": [
    "df.loc[(df['yr']=='2015')&(df.rk.astype(int) <= df.seat.astype(int)), ['jc', 'exam','rk','seat','accp']].accp.value_counts()"
   ]
  },
  {
   "cell_type": "markdown",
   "metadata": {},
   "source": [
    "2015年同样，整体上rk>seat更偏向不录取，rk <=seat更偏向录取。"
   ]
  },
  {
   "cell_type": "code",
   "execution_count": 157,
   "metadata": {},
   "outputs": [
    {
     "data": {
      "text/html": [
       "<div>\n",
       "<table border=\"1\" class=\"dataframe\">\n",
       "  <thead>\n",
       "    <tr style=\"text-align: right;\">\n",
       "      <th></th>\n",
       "      <th>jc</th>\n",
       "      <th>exam</th>\n",
       "      <th>intv</th>\n",
       "      <th>scr</th>\n",
       "      <th>rk</th>\n",
       "      <th>seat</th>\n",
       "      <th>accp</th>\n",
       "    </tr>\n",
       "  </thead>\n",
       "  <tbody>\n",
       "    <tr>\n",
       "      <th>1207</th>\n",
       "      <td>0802001001_2014</td>\n",
       "      <td>0.84</td>\n",
       "      <td>0.55</td>\n",
       "      <td>0.91</td>\n",
       "      <td>1</td>\n",
       "      <td>1</td>\n",
       "      <td>0</td>\n",
       "    </tr>\n",
       "    <tr>\n",
       "      <th>1206</th>\n",
       "      <td>0802001001_2014</td>\n",
       "      <td>0.95</td>\n",
       "      <td>0.10</td>\n",
       "      <td>0.85</td>\n",
       "      <td>2</td>\n",
       "      <td>1</td>\n",
       "      <td>1</td>\n",
       "    </tr>\n",
       "    <tr>\n",
       "      <th>...</th>\n",
       "      <td>...</td>\n",
       "      <td>...</td>\n",
       "      <td>...</td>\n",
       "      <td>...</td>\n",
       "      <td>...</td>\n",
       "      <td>...</td>\n",
       "      <td>...</td>\n",
       "    </tr>\n",
       "    <tr>\n",
       "      <th>896</th>\n",
       "      <td>0829003017_2014</td>\n",
       "      <td>-1.00</td>\n",
       "      <td>0.42</td>\n",
       "      <td>-0.72</td>\n",
       "      <td>1</td>\n",
       "      <td>1</td>\n",
       "      <td>0</td>\n",
       "    </tr>\n",
       "    <tr>\n",
       "      <th>895</th>\n",
       "      <td>0829003017_2014</td>\n",
       "      <td>-0.74</td>\n",
       "      <td>-1.17</td>\n",
       "      <td>-1.04</td>\n",
       "      <td>2</td>\n",
       "      <td>1</td>\n",
       "      <td>1</td>\n",
       "    </tr>\n",
       "  </tbody>\n",
       "</table>\n",
       "<p>28 rows × 7 columns</p>\n",
       "</div>"
      ],
      "text/plain": [
       "                   jc  exam  intv   scr rk seat  accp\n",
       "1207  0802001001_2014  0.84  0.55  0.91  1    1     0\n",
       "1206  0802001001_2014  0.95  0.10  0.85  2    1     1\n",
       "...               ...   ...   ...   ... ..  ...   ...\n",
       "896   0829003017_2014 -1.00  0.42 -0.72  1    1     0\n",
       "895   0829003017_2014 -0.74 -1.17 -1.04  2    1     1\n",
       "\n",
       "[28 rows x 7 columns]"
      ]
     },
     "execution_count": 157,
     "metadata": {},
     "output_type": "execute_result"
    }
   ],
   "source": [
    "# 2014逆袭者以及他们所超过的人\n",
    "df.loc[df.jc.isin(df.loc[(df['yr']=='2014')&(df.rk.astype(int) > df.seat.astype(int))&(df.accp==1), \n",
    "       'jc'].values),\n",
    "       ['jc', 'exam','intv','scr', 'rk','seat','accp']].sort_values(by='jc')"
   ]
  },
  {
   "cell_type": "code",
   "execution_count": 158,
   "metadata": {},
   "outputs": [
    {
     "data": {
      "text/html": [
       "<div>\n",
       "<table border=\"1\" class=\"dataframe\">\n",
       "  <thead>\n",
       "    <tr style=\"text-align: right;\">\n",
       "      <th></th>\n",
       "      <th>jc</th>\n",
       "      <th>exam</th>\n",
       "      <th>intv</th>\n",
       "      <th>scr</th>\n",
       "      <th>rk</th>\n",
       "      <th>seat</th>\n",
       "      <th>accp</th>\n",
       "    </tr>\n",
       "  </thead>\n",
       "  <tbody>\n",
       "    <tr>\n",
       "      <th>1701</th>\n",
       "      <td>0822001007_2015</td>\n",
       "      <td>-0.33</td>\n",
       "      <td>0.26</td>\n",
       "      <td>-0.11</td>\n",
       "      <td>4</td>\n",
       "      <td>5</td>\n",
       "      <td>1</td>\n",
       "    </tr>\n",
       "    <tr>\n",
       "      <th>1881</th>\n",
       "      <td>0822001007_2015</td>\n",
       "      <td>-1.00</td>\n",
       "      <td>-1.47</td>\n",
       "      <td>-1.39</td>\n",
       "      <td>10</td>\n",
       "      <td>5</td>\n",
       "      <td>0</td>\n",
       "    </tr>\n",
       "    <tr>\n",
       "      <th>...</th>\n",
       "      <td>...</td>\n",
       "      <td>...</td>\n",
       "      <td>...</td>\n",
       "      <td>...</td>\n",
       "      <td>...</td>\n",
       "      <td>...</td>\n",
       "      <td>...</td>\n",
       "    </tr>\n",
       "    <tr>\n",
       "      <th>1755</th>\n",
       "      <td>0828001006_2015</td>\n",
       "      <td>-0.57</td>\n",
       "      <td>0.03</td>\n",
       "      <td>-0.39</td>\n",
       "      <td>2</td>\n",
       "      <td>1</td>\n",
       "      <td>1</td>\n",
       "    </tr>\n",
       "    <tr>\n",
       "      <th>1679</th>\n",
       "      <td>0828001006_2015</td>\n",
       "      <td>0.45</td>\n",
       "      <td>-0.83</td>\n",
       "      <td>-0.02</td>\n",
       "      <td>1</td>\n",
       "      <td>1</td>\n",
       "      <td>0</td>\n",
       "    </tr>\n",
       "  </tbody>\n",
       "</table>\n",
       "<p>28 rows × 7 columns</p>\n",
       "</div>"
      ],
      "text/plain": [
       "                   jc  exam  intv   scr  rk seat  accp\n",
       "1701  0822001007_2015 -0.33  0.26 -0.11   4    5     1\n",
       "1881  0822001007_2015 -1.00 -1.47 -1.39  10    5     0\n",
       "...               ...   ...   ...   ...  ..  ...   ...\n",
       "1755  0828001006_2015 -0.57  0.03 -0.39   2    1     1\n",
       "1679  0828001006_2015  0.45 -0.83 -0.02   1    1     0\n",
       "\n",
       "[28 rows x 7 columns]"
      ]
     },
     "execution_count": 158,
     "metadata": {},
     "output_type": "execute_result"
    }
   ],
   "source": [
    "# 2015逆袭者以及他们超过的人\n",
    "df.loc[df.jc.isin(df.loc[(df['yr']=='2015')&(df.rk.astype(int) > df.seat.astype(int))&(df.accp==1), \n",
    "       'jc'].values),\n",
    "       ['jc', 'exam','intv','scr', 'rk','seat','accp']].sort_values(by='jc')"
   ]
  },
  {
   "cell_type": "markdown",
   "metadata": {},
   "source": [
    "观察对比发现：  \n",
    "1. rk指的是总分排名而非笔试排名  \n",
    "2. 就算rk<=seat，也有人会谜之不录取（掉队者）；反之就算rk>seat，也有人会谜之录取。  \n",
    "以下“谜之录取”/“谜之不录取”指的是除了“总分排名”因素之外的因素导致录取/不录取。  \n",
    "2014年（谜之录取+谜之不录取）占面试总人数的比例是3.436426116838488%；  \n",
    "2015年（谜之录取+谜之不录取）占面试总人数的比例是3.4482758620689655%。  \n",
    "\n",
    "不管怎么着，只要确定了rk是总分排名，就需要删掉；  \n",
    "*另一方面可以手动加一个笔试成绩在报考同一岗位的人中的排名exam_rk。*  \n",
    "\n",
    "如果exam_rk显著：（的确显著，已通过branch验证）\n",
    "\n",
    "* (easy)可以加一个人的seat和exam_rk之差，粗略表示这个人的优势大小。(calculate from rank **with tie**\n",
    "\n",
    "* (complex)如果exam_rk显著，甚至可以加一个var，用来表示逆袭难度。(calculate from rank **with no tie**)  \n",
    "    * from z-score cal prob, each student's prob minus the prob of the student whoose `exam_rk` is the same as `seat`. If this value >> 0, that student is very likely to get accepted. On the contrary, if this value << 0, that student is very unlikely to get accepted.  \n",
    "    \n"
   ]
  },
  {
   "cell_type": "markdown",
   "metadata": {},
   "source": [
    "# 增加五个feature\n",
    "* exrk_t\n",
    "* exrk_nt\n",
    "* exrk_ad\n",
    "* pval\n",
    "* pval_rel  \n",
    "\n",
    "为什么要增加？  \n",
    "因为在上一问的模型中（见RMD文件的'modeling on md1'部分）发现exam_rk和录取与否非常相关。  \n",
    "这里想进一步细化对”考生笔试成绩在同岗位排名中所占优势大小“的衡量。"
   ]
  },
  {
   "cell_type": "markdown",
   "metadata": {},
   "source": [
    "   * 以下：  \n",
    "       * 增加exrk_t:   \n",
    "       笔试排名with平手；  \n",
    "       例如招5个人的岗位，有10人进入面试，  \n",
    "       有两人并列第五名，则视这两人排名都为5.5  \n",
    "       * 增加exrk_ad:    \n",
    "       招录人数 - exrk_t的值；  \n",
    "       例如上面的两个并列第五名，这两人的这个值都为-0.5 。  \n",
    "       正数表示笔试成绩占优势，数值越大则优势越大；  \n",
    "       反之，负数表示笔试成绩占劣势，数值绝对值越大劣势越大。  "
   ]
  },
  {
   "cell_type": "code",
   "execution_count": 159,
   "metadata": {
    "collapsed": true
   },
   "outputs": [],
   "source": [
    "# 笔试成绩排序with tie\n",
    "# 用于计算一个考生的seat - exrk_t的值，正表示优势；负表示劣势\n",
    "def get_exrk_t(series):\n",
    "    return series.rank(ascending=False, \n",
    "                       method='average')"
   ]
  },
  {
   "cell_type": "code",
   "execution_count": 160,
   "metadata": {
    "collapsed": true
   },
   "outputs": [],
   "source": [
    "df['exrk_t'] = df.groupby('jc')['exam'].transform(get_exrk_t)"
   ]
  },
  {
   "cell_type": "code",
   "execution_count": 161,
   "metadata": {},
   "outputs": [
    {
     "data": {
      "text/html": [
       "<div>\n",
       "<table border=\"1\" class=\"dataframe\">\n",
       "  <thead>\n",
       "    <tr style=\"text-align: right;\">\n",
       "      <th></th>\n",
       "      <th>jc</th>\n",
       "      <th>exam</th>\n",
       "      <th>exrk_nt</th>\n",
       "      <th>exrk_t</th>\n",
       "      <th>seat</th>\n",
       "    </tr>\n",
       "  </thead>\n",
       "  <tbody>\n",
       "    <tr>\n",
       "      <th>1207</th>\n",
       "      <td>0802001001_2014</td>\n",
       "      <td>0.84</td>\n",
       "      <td>NaN</td>\n",
       "      <td>2.0</td>\n",
       "      <td>1</td>\n",
       "    </tr>\n",
       "    <tr>\n",
       "      <th>1206</th>\n",
       "      <td>0802001001_2014</td>\n",
       "      <td>0.95</td>\n",
       "      <td>NaN</td>\n",
       "      <td>1.0</td>\n",
       "      <td>1</td>\n",
       "    </tr>\n",
       "    <tr>\n",
       "      <th>...</th>\n",
       "      <td>...</td>\n",
       "      <td>...</td>\n",
       "      <td>...</td>\n",
       "      <td>...</td>\n",
       "      <td>...</td>\n",
       "    </tr>\n",
       "    <tr>\n",
       "      <th>896</th>\n",
       "      <td>0829003017_2014</td>\n",
       "      <td>-1.00</td>\n",
       "      <td>NaN</td>\n",
       "      <td>2.0</td>\n",
       "      <td>1</td>\n",
       "    </tr>\n",
       "    <tr>\n",
       "      <th>895</th>\n",
       "      <td>0829003017_2014</td>\n",
       "      <td>-0.74</td>\n",
       "      <td>NaN</td>\n",
       "      <td>1.0</td>\n",
       "      <td>1</td>\n",
       "    </tr>\n",
       "  </tbody>\n",
       "</table>\n",
       "<p>28 rows × 5 columns</p>\n",
       "</div>"
      ],
      "text/plain": [
       "                   jc  exam  exrk_nt  exrk_t seat\n",
       "1207  0802001001_2014  0.84      NaN     2.0    1\n",
       "1206  0802001001_2014  0.95      NaN     1.0    1\n",
       "...               ...   ...      ...     ...  ...\n",
       "896   0829003017_2014 -1.00      NaN     2.0    1\n",
       "895   0829003017_2014 -0.74      NaN     1.0    1\n",
       "\n",
       "[28 rows x 5 columns]"
      ]
     },
     "execution_count": 161,
     "metadata": {},
     "output_type": "execute_result"
    }
   ],
   "source": [
    "df.loc[df.jc.isin(df.loc[(df['yr']=='2014')&(df.rk.astype(int) > df.seat.astype(int))&(df.accp==1), \n",
    "       'jc'].values),\n",
    "       ['jc', 'exam','exrk_nt', 'exrk_t','seat']].sort_values(by='jc')"
   ]
  },
  {
   "cell_type": "code",
   "execution_count": 162,
   "metadata": {
    "collapsed": true
   },
   "outputs": [],
   "source": [
    "df.loc[:,'exrk_ad'] = df.seat - df.exrk_t"
   ]
  },
  {
   "cell_type": "markdown",
   "metadata": {},
   "source": [
    "    * 以下：  \n",
    "        * 增加exrk_nt:  \n",
    "        笔试排名without平手；  \n",
    "        例如招5个人的岗位，有10人进入面试，  \n",
    "        有两人并列第五名，则一个人排名为5，另一个人排名为6.  \n",
    "        这样做是为了确保每个岗位都有一个考生的排名等于招录人数。  \n",
    "        * 增加pval  \n",
    "        这是考生笔试成绩对应z-score的pvalue.  \n",
    "        * 增加pval_rel  \n",
    "        每个考生的pval减去临界考生（exrk_nt=招考人数的考生）的pval的值。  \n",
    "        如果这个值>>0,考生很可能被录取；  \n",
    "        反之这个值<<0,考生很可能不被录取。"
   ]
  },
  {
   "cell_type": "code",
   "execution_count": 163,
   "metadata": {
    "collapsed": true
   },
   "outputs": [],
   "source": [
    "# 笔试成绩排序 with no tie\n",
    "# 用于计算prob时锁定df.exrk==df.seat那个人，\n",
    "# 选定这个人的exam作为reference\n",
    "def get_exrk_nt(series):\n",
    "    return series.rank(ascending=False, \n",
    "                       method='first') # method 'first' 确保exam_rk中有一个值==seat"
   ]
  },
  {
   "cell_type": "code",
   "execution_count": 164,
   "metadata": {
    "collapsed": true
   },
   "outputs": [],
   "source": [
    "df['exrk_nt'] = df.groupby('jc')['exam'].transform(get_exrk_nt)"
   ]
  },
  {
   "cell_type": "code",
   "execution_count": 165,
   "metadata": {},
   "outputs": [
    {
     "data": {
      "text/html": [
       "<div>\n",
       "<table border=\"1\" class=\"dataframe\">\n",
       "  <thead>\n",
       "    <tr style=\"text-align: right;\">\n",
       "      <th></th>\n",
       "      <th>jc</th>\n",
       "      <th>exam</th>\n",
       "      <th>exrk_nt</th>\n",
       "      <th>seat</th>\n",
       "    </tr>\n",
       "  </thead>\n",
       "  <tbody>\n",
       "    <tr>\n",
       "      <th>1207</th>\n",
       "      <td>0802001001_2014</td>\n",
       "      <td>0.84</td>\n",
       "      <td>2.0</td>\n",
       "      <td>1</td>\n",
       "    </tr>\n",
       "    <tr>\n",
       "      <th>1206</th>\n",
       "      <td>0802001001_2014</td>\n",
       "      <td>0.95</td>\n",
       "      <td>1.0</td>\n",
       "      <td>1</td>\n",
       "    </tr>\n",
       "    <tr>\n",
       "      <th>...</th>\n",
       "      <td>...</td>\n",
       "      <td>...</td>\n",
       "      <td>...</td>\n",
       "      <td>...</td>\n",
       "    </tr>\n",
       "    <tr>\n",
       "      <th>896</th>\n",
       "      <td>0829003017_2014</td>\n",
       "      <td>-1.00</td>\n",
       "      <td>2.0</td>\n",
       "      <td>1</td>\n",
       "    </tr>\n",
       "    <tr>\n",
       "      <th>895</th>\n",
       "      <td>0829003017_2014</td>\n",
       "      <td>-0.74</td>\n",
       "      <td>1.0</td>\n",
       "      <td>1</td>\n",
       "    </tr>\n",
       "  </tbody>\n",
       "</table>\n",
       "<p>28 rows × 4 columns</p>\n",
       "</div>"
      ],
      "text/plain": [
       "                   jc  exam  exrk_nt seat\n",
       "1207  0802001001_2014  0.84      2.0    1\n",
       "1206  0802001001_2014  0.95      1.0    1\n",
       "...               ...   ...      ...  ...\n",
       "896   0829003017_2014 -1.00      2.0    1\n",
       "895   0829003017_2014 -0.74      1.0    1\n",
       "\n",
       "[28 rows x 4 columns]"
      ]
     },
     "execution_count": 165,
     "metadata": {},
     "output_type": "execute_result"
    }
   ],
   "source": [
    "df.loc[df.jc.isin(df.loc[(df['yr']=='2014')&(df.rk.astype(int) > df.seat.astype(int))&(df.accp==1), \n",
    "       'jc'].values),\n",
    "       ['jc', 'exam','exrk_nt','seat']].sort_values(by='jc')"
   ]
  },
  {
   "cell_type": "code",
   "execution_count": 166,
   "metadata": {},
   "outputs": [
    {
     "data": {
      "text/plain": [
       "1    2166\n",
       "Name: accp, dtype: int64"
      ]
     },
     "execution_count": 166,
     "metadata": {},
     "output_type": "execute_result"
    }
   ],
   "source": [
    "df.groupby(['tkt','jc'])['accp'].count().value_counts()"
   ]
  },
  {
   "cell_type": "code",
   "execution_count": 167,
   "metadata": {
    "collapsed": true
   },
   "outputs": [],
   "source": [
    "temp1 = df[['jc', 'tkt','exam','exrk_nt','seat']].copy()"
   ]
  },
  {
   "cell_type": "code",
   "execution_count": 168,
   "metadata": {
    "collapsed": true
   },
   "outputs": [],
   "source": [
    "temp1['prob'] = temp1.exam.apply(st.norm.cdf)"
   ]
  },
  {
   "cell_type": "code",
   "execution_count": 169,
   "metadata": {},
   "outputs": [
    {
     "data": {
      "text/html": [
       "<div>\n",
       "<table border=\"1\" class=\"dataframe\">\n",
       "  <thead>\n",
       "    <tr style=\"text-align: right;\">\n",
       "      <th></th>\n",
       "      <th>jc</th>\n",
       "      <th>tkt</th>\n",
       "      <th>exam</th>\n",
       "      <th>exrk_nt</th>\n",
       "      <th>seat</th>\n",
       "      <th>prob</th>\n",
       "    </tr>\n",
       "  </thead>\n",
       "  <tbody>\n",
       "    <tr>\n",
       "      <th>0</th>\n",
       "      <td>0800001001_2013</td>\n",
       "      <td>11220800808_2013</td>\n",
       "      <td>-0.77</td>\n",
       "      <td>1.0</td>\n",
       "      <td>1</td>\n",
       "      <td>0.220650</td>\n",
       "    </tr>\n",
       "    <tr>\n",
       "      <th>1</th>\n",
       "      <td>0800003001_2013</td>\n",
       "      <td>11274102915_2013</td>\n",
       "      <td>1.63</td>\n",
       "      <td>1.0</td>\n",
       "      <td>1</td>\n",
       "      <td>0.948449</td>\n",
       "    </tr>\n",
       "    <tr>\n",
       "      <th>2</th>\n",
       "      <td>0800003002_2013</td>\n",
       "      <td>11010200326_2013</td>\n",
       "      <td>1.83</td>\n",
       "      <td>1.0</td>\n",
       "      <td>1</td>\n",
       "      <td>0.966375</td>\n",
       "    </tr>\n",
       "    <tr>\n",
       "      <th>3</th>\n",
       "      <td>0800004001_2013</td>\n",
       "      <td>11275101004_2013</td>\n",
       "      <td>2.68</td>\n",
       "      <td>1.0</td>\n",
       "      <td>2</td>\n",
       "      <td>0.996319</td>\n",
       "    </tr>\n",
       "    <tr>\n",
       "      <th>4</th>\n",
       "      <td>0800004001_2013</td>\n",
       "      <td>11011500226_2013</td>\n",
       "      <td>0.94</td>\n",
       "      <td>2.0</td>\n",
       "      <td>2</td>\n",
       "      <td>0.826391</td>\n",
       "    </tr>\n",
       "  </tbody>\n",
       "</table>\n",
       "</div>"
      ],
      "text/plain": [
       "                jc               tkt  exam  exrk_nt seat      prob\n",
       "0  0800001001_2013  11220800808_2013 -0.77      1.0    1  0.220650\n",
       "1  0800003001_2013  11274102915_2013  1.63      1.0    1  0.948449\n",
       "2  0800003002_2013  11010200326_2013  1.83      1.0    1  0.966375\n",
       "3  0800004001_2013  11275101004_2013  2.68      1.0    2  0.996319\n",
       "4  0800004001_2013  11011500226_2013  0.94      2.0    2  0.826391"
      ]
     },
     "execution_count": 169,
     "metadata": {},
     "output_type": "execute_result"
    }
   ],
   "source": [
    "temp1.head()  "
   ]
  },
  {
   "cell_type": "code",
   "execution_count": 170,
   "metadata": {},
   "outputs": [
    {
     "data": {
      "text/html": [
       "<div>\n",
       "<table border=\"1\" class=\"dataframe\">\n",
       "  <thead>\n",
       "    <tr style=\"text-align: right;\">\n",
       "      <th></th>\n",
       "      <th>jc</th>\n",
       "      <th>tkt</th>\n",
       "      <th>exam</th>\n",
       "      <th>exrk_nt</th>\n",
       "      <th>seat</th>\n",
       "      <th>prob</th>\n",
       "    </tr>\n",
       "  </thead>\n",
       "  <tbody>\n",
       "    <tr>\n",
       "      <th>0</th>\n",
       "      <td>0800001001_2013</td>\n",
       "      <td>11220800808_2013</td>\n",
       "      <td>-0.77</td>\n",
       "      <td>1.0</td>\n",
       "      <td>1</td>\n",
       "      <td>0.220650</td>\n",
       "    </tr>\n",
       "    <tr>\n",
       "      <th>1</th>\n",
       "      <td>0800003001_2013</td>\n",
       "      <td>11274102915_2013</td>\n",
       "      <td>1.63</td>\n",
       "      <td>1.0</td>\n",
       "      <td>1</td>\n",
       "      <td>0.948449</td>\n",
       "    </tr>\n",
       "    <tr>\n",
       "      <th>2</th>\n",
       "      <td>0800003002_2013</td>\n",
       "      <td>11010200326_2013</td>\n",
       "      <td>1.83</td>\n",
       "      <td>1.0</td>\n",
       "      <td>1</td>\n",
       "      <td>0.966375</td>\n",
       "    </tr>\n",
       "    <tr>\n",
       "      <th>4</th>\n",
       "      <td>0800004001_2013</td>\n",
       "      <td>11011500226_2013</td>\n",
       "      <td>0.94</td>\n",
       "      <td>2.0</td>\n",
       "      <td>2</td>\n",
       "      <td>0.826391</td>\n",
       "    </tr>\n",
       "    <tr>\n",
       "      <th>6</th>\n",
       "      <td>0800005001_2013</td>\n",
       "      <td>11240701717_2013</td>\n",
       "      <td>0.87</td>\n",
       "      <td>2.0</td>\n",
       "      <td>2</td>\n",
       "      <td>0.807850</td>\n",
       "    </tr>\n",
       "  </tbody>\n",
       "</table>\n",
       "</div>"
      ],
      "text/plain": [
       "                jc               tkt  exam  exrk_nt seat      prob\n",
       "0  0800001001_2013  11220800808_2013 -0.77      1.0    1  0.220650\n",
       "1  0800003001_2013  11274102915_2013  1.63      1.0    1  0.948449\n",
       "2  0800003002_2013  11010200326_2013  1.83      1.0    1  0.966375\n",
       "4  0800004001_2013  11011500226_2013  0.94      2.0    2  0.826391\n",
       "6  0800005001_2013  11240701717_2013  0.87      2.0    2  0.807850"
      ]
     },
     "execution_count": 170,
     "metadata": {},
     "output_type": "execute_result"
    }
   ],
   "source": [
    "temp2 = temp1.loc[df.exrk_nt==df.seat,  ['jc','tkt','exam','exrk_nt','seat','prob']].copy()\n",
    "temp2.head()"
   ]
  },
  {
   "cell_type": "code",
   "execution_count": 171,
   "metadata": {
    "scrolled": false
   },
   "outputs": [
    {
     "data": {
      "text/plain": [
       "(1139, 6)"
      ]
     },
     "execution_count": 171,
     "metadata": {},
     "output_type": "execute_result"
    }
   ],
   "source": [
    "temp2.shape"
   ]
  },
  {
   "cell_type": "code",
   "execution_count": 172,
   "metadata": {},
   "outputs": [
    {
     "data": {
      "text/plain": [
       "1143"
      ]
     },
     "execution_count": 172,
     "metadata": {},
     "output_type": "execute_result"
    }
   ],
   "source": [
    "temp1.jc.nunique()"
   ]
  },
  {
   "cell_type": "markdown",
   "metadata": {},
   "source": [
    "按理说每个岗位有一个人满足exrk_nt == seat, 所以temp2应该和temp1.jc.nunique()同样长度。  \n",
    "调查一下出现差错的4行。"
   ]
  },
  {
   "cell_type": "code",
   "execution_count": 173,
   "metadata": {},
   "outputs": [
    {
     "data": {
      "text/html": [
       "<div>\n",
       "<table border=\"1\" class=\"dataframe\">\n",
       "  <thead>\n",
       "    <tr style=\"text-align: right;\">\n",
       "      <th></th>\n",
       "      <th>jc</th>\n",
       "      <th>tkt</th>\n",
       "      <th>exam</th>\n",
       "      <th>exrk_nt</th>\n",
       "      <th>seat</th>\n",
       "      <th>prob</th>\n",
       "    </tr>\n",
       "  </thead>\n",
       "  <tbody>\n",
       "    <tr>\n",
       "      <th>506</th>\n",
       "      <td>0822001010_2014</td>\n",
       "      <td>11270301804_2014</td>\n",
       "      <td>0.24</td>\n",
       "      <td>1.0</td>\n",
       "      <td>2</td>\n",
       "      <td>0.594835</td>\n",
       "    </tr>\n",
       "    <tr>\n",
       "      <th>548</th>\n",
       "      <td>0822003002_2014</td>\n",
       "      <td>11362609420_2014</td>\n",
       "      <td>-0.37</td>\n",
       "      <td>1.0</td>\n",
       "      <td>2</td>\n",
       "      <td>0.355691</td>\n",
       "    </tr>\n",
       "    <tr>\n",
       "      <th>653</th>\n",
       "      <td>0821001033_2014</td>\n",
       "      <td>11270101010_2014</td>\n",
       "      <td>-0.66</td>\n",
       "      <td>1.0</td>\n",
       "      <td>3</td>\n",
       "      <td>0.254627</td>\n",
       "    </tr>\n",
       "    <tr>\n",
       "      <th>654</th>\n",
       "      <td>0821001033_2014</td>\n",
       "      <td>11270501523_2014</td>\n",
       "      <td>-1.09</td>\n",
       "      <td>2.0</td>\n",
       "      <td>3</td>\n",
       "      <td>0.137857</td>\n",
       "    </tr>\n",
       "    <tr>\n",
       "      <th>1178</th>\n",
       "      <td>0828996001_2014</td>\n",
       "      <td>11270101402_2014</td>\n",
       "      <td>0.03</td>\n",
       "      <td>1.0</td>\n",
       "      <td>2</td>\n",
       "      <td>0.511966</td>\n",
       "    </tr>\n",
       "  </tbody>\n",
       "</table>\n",
       "</div>"
      ],
      "text/plain": [
       "                   jc               tkt  exam  exrk_nt seat      prob\n",
       "506   0822001010_2014  11270301804_2014  0.24      1.0    2  0.594835\n",
       "548   0822003002_2014  11362609420_2014 -0.37      1.0    2  0.355691\n",
       "653   0821001033_2014  11270101010_2014 -0.66      1.0    3  0.254627\n",
       "654   0821001033_2014  11270501523_2014 -1.09      2.0    3  0.137857\n",
       "1178  0828996001_2014  11270101402_2014  0.03      1.0    2  0.511966"
      ]
     },
     "execution_count": 173,
     "metadata": {},
     "output_type": "execute_result"
    }
   ],
   "source": [
    "temp1.loc[ temp1.jc.isin([jc for jc in temp1.jc.unique() if jc not in temp2.jc.values]),:]"
   ]
  },
  {
   "cell_type": "markdown",
   "metadata": {},
   "source": [
    "明白了，这几个岗位没有ref_prob，是因为报考人数直接小于招考人数；  \n",
    "所以一旦报考，就会被录取；  \n",
    "所以不存在exrk_nt==seat的考生。  \n",
    "\n",
    "回顾步骤：   \n",
    "* 对于每个考生，算出其exam z-score对应的prob,作为col1\n",
    "* 对于每个岗位，挑出报考这个岗位的临界考生（exrk_nt==seat）的exam z-score对应的prob,作为col2\n",
    "* merge 1 and 2，作为col3\n",
    "* col1 - col3,作为col4\n",
    "\n",
    "step3 的问题：\n",
    "* 有的岗位并没有step2中的值，这些岗位是报考人数 不超过 招考人数的\n"
   ]
  },
  {
   "cell_type": "code",
   "execution_count": 174,
   "metadata": {},
   "outputs": [
    {
     "data": {
      "text/html": [
       "<div>\n",
       "<table border=\"1\" class=\"dataframe\">\n",
       "  <thead>\n",
       "    <tr style=\"text-align: right;\">\n",
       "      <th></th>\n",
       "      <th>jc</th>\n",
       "      <th>tkt</th>\n",
       "      <th>exam</th>\n",
       "      <th>exrk_nt</th>\n",
       "      <th>seat</th>\n",
       "      <th>prob</th>\n",
       "    </tr>\n",
       "  </thead>\n",
       "  <tbody>\n",
       "    <tr>\n",
       "      <th>0</th>\n",
       "      <td>0800001001_2013</td>\n",
       "      <td>11220800808_2013</td>\n",
       "      <td>-0.77</td>\n",
       "      <td>1.0</td>\n",
       "      <td>1</td>\n",
       "      <td>0.220650</td>\n",
       "    </tr>\n",
       "    <tr>\n",
       "      <th>1</th>\n",
       "      <td>0800003001_2013</td>\n",
       "      <td>11274102915_2013</td>\n",
       "      <td>1.63</td>\n",
       "      <td>1.0</td>\n",
       "      <td>1</td>\n",
       "      <td>0.948449</td>\n",
       "    </tr>\n",
       "    <tr>\n",
       "      <th>2</th>\n",
       "      <td>0800003002_2013</td>\n",
       "      <td>11010200326_2013</td>\n",
       "      <td>1.83</td>\n",
       "      <td>1.0</td>\n",
       "      <td>1</td>\n",
       "      <td>0.966375</td>\n",
       "    </tr>\n",
       "    <tr>\n",
       "      <th>3</th>\n",
       "      <td>0800004001_2013</td>\n",
       "      <td>11275101004_2013</td>\n",
       "      <td>2.68</td>\n",
       "      <td>1.0</td>\n",
       "      <td>2</td>\n",
       "      <td>0.996319</td>\n",
       "    </tr>\n",
       "    <tr>\n",
       "      <th>4</th>\n",
       "      <td>0800004001_2013</td>\n",
       "      <td>11011500226_2013</td>\n",
       "      <td>0.94</td>\n",
       "      <td>2.0</td>\n",
       "      <td>2</td>\n",
       "      <td>0.826391</td>\n",
       "    </tr>\n",
       "  </tbody>\n",
       "</table>\n",
       "</div>"
      ],
      "text/plain": [
       "                jc               tkt  exam  exrk_nt seat      prob\n",
       "0  0800001001_2013  11220800808_2013 -0.77      1.0    1  0.220650\n",
       "1  0800003001_2013  11274102915_2013  1.63      1.0    1  0.948449\n",
       "2  0800003002_2013  11010200326_2013  1.83      1.0    1  0.966375\n",
       "3  0800004001_2013  11275101004_2013  2.68      1.0    2  0.996319\n",
       "4  0800004001_2013  11011500226_2013  0.94      2.0    2  0.826391"
      ]
     },
     "execution_count": 174,
     "metadata": {},
     "output_type": "execute_result"
    }
   ],
   "source": [
    "temp1.head()"
   ]
  },
  {
   "cell_type": "code",
   "execution_count": 175,
   "metadata": {},
   "outputs": [
    {
     "data": {
      "text/html": [
       "<div>\n",
       "<table border=\"1\" class=\"dataframe\">\n",
       "  <thead>\n",
       "    <tr style=\"text-align: right;\">\n",
       "      <th></th>\n",
       "      <th>jc</th>\n",
       "      <th>tkt</th>\n",
       "      <th>exam</th>\n",
       "      <th>exrk_nt</th>\n",
       "      <th>seat</th>\n",
       "      <th>prob</th>\n",
       "    </tr>\n",
       "  </thead>\n",
       "  <tbody>\n",
       "    <tr>\n",
       "      <th>0</th>\n",
       "      <td>0800001001_2013</td>\n",
       "      <td>11220800808_2013</td>\n",
       "      <td>-0.77</td>\n",
       "      <td>1.0</td>\n",
       "      <td>1</td>\n",
       "      <td>0.220650</td>\n",
       "    </tr>\n",
       "    <tr>\n",
       "      <th>1</th>\n",
       "      <td>0800003001_2013</td>\n",
       "      <td>11274102915_2013</td>\n",
       "      <td>1.63</td>\n",
       "      <td>1.0</td>\n",
       "      <td>1</td>\n",
       "      <td>0.948449</td>\n",
       "    </tr>\n",
       "    <tr>\n",
       "      <th>2</th>\n",
       "      <td>0800003002_2013</td>\n",
       "      <td>11010200326_2013</td>\n",
       "      <td>1.83</td>\n",
       "      <td>1.0</td>\n",
       "      <td>1</td>\n",
       "      <td>0.966375</td>\n",
       "    </tr>\n",
       "    <tr>\n",
       "      <th>4</th>\n",
       "      <td>0800004001_2013</td>\n",
       "      <td>11011500226_2013</td>\n",
       "      <td>0.94</td>\n",
       "      <td>2.0</td>\n",
       "      <td>2</td>\n",
       "      <td>0.826391</td>\n",
       "    </tr>\n",
       "    <tr>\n",
       "      <th>6</th>\n",
       "      <td>0800005001_2013</td>\n",
       "      <td>11240701717_2013</td>\n",
       "      <td>0.87</td>\n",
       "      <td>2.0</td>\n",
       "      <td>2</td>\n",
       "      <td>0.807850</td>\n",
       "    </tr>\n",
       "  </tbody>\n",
       "</table>\n",
       "</div>"
      ],
      "text/plain": [
       "                jc               tkt  exam  exrk_nt seat      prob\n",
       "0  0800001001_2013  11220800808_2013 -0.77      1.0    1  0.220650\n",
       "1  0800003001_2013  11274102915_2013  1.63      1.0    1  0.948449\n",
       "2  0800003002_2013  11010200326_2013  1.83      1.0    1  0.966375\n",
       "4  0800004001_2013  11011500226_2013  0.94      2.0    2  0.826391\n",
       "6  0800005001_2013  11240701717_2013  0.87      2.0    2  0.807850"
      ]
     },
     "execution_count": 175,
     "metadata": {},
     "output_type": "execute_result"
    }
   ],
   "source": [
    "temp2.head()"
   ]
  },
  {
   "cell_type": "code",
   "execution_count": 176,
   "metadata": {},
   "outputs": [
    {
     "data": {
      "text/html": [
       "<div>\n",
       "<table border=\"1\" class=\"dataframe\">\n",
       "  <thead>\n",
       "    <tr style=\"text-align: right;\">\n",
       "      <th></th>\n",
       "      <th>jc</th>\n",
       "      <th>tkt_1</th>\n",
       "      <th>exam_1</th>\n",
       "      <th>exrk_nt_1</th>\n",
       "      <th>seat_1</th>\n",
       "      <th>prob_1</th>\n",
       "      <th>tkt_2</th>\n",
       "      <th>exam_2</th>\n",
       "      <th>exrk_nt_2</th>\n",
       "      <th>seat_2</th>\n",
       "      <th>prob_2</th>\n",
       "    </tr>\n",
       "  </thead>\n",
       "  <tbody>\n",
       "    <tr>\n",
       "      <th>0</th>\n",
       "      <td>0800001001_2013</td>\n",
       "      <td>11220800808_2013</td>\n",
       "      <td>-0.77</td>\n",
       "      <td>1.0</td>\n",
       "      <td>1</td>\n",
       "      <td>0.220650</td>\n",
       "      <td>11220800808_2013</td>\n",
       "      <td>-0.77</td>\n",
       "      <td>1.0</td>\n",
       "      <td>1</td>\n",
       "      <td>0.220650</td>\n",
       "    </tr>\n",
       "    <tr>\n",
       "      <th>839</th>\n",
       "      <td>0800001001_2014</td>\n",
       "      <td>11360301703_2014</td>\n",
       "      <td>1.85</td>\n",
       "      <td>1.0</td>\n",
       "      <td>1</td>\n",
       "      <td>0.967843</td>\n",
       "      <td>11360301703_2014</td>\n",
       "      <td>1.85</td>\n",
       "      <td>1.0</td>\n",
       "      <td>1</td>\n",
       "      <td>0.967843</td>\n",
       "    </tr>\n",
       "    <tr>\n",
       "      <th>...</th>\n",
       "      <td>...</td>\n",
       "      <td>...</td>\n",
       "      <td>...</td>\n",
       "      <td>...</td>\n",
       "      <td>...</td>\n",
       "      <td>...</td>\n",
       "      <td>...</td>\n",
       "      <td>...</td>\n",
       "      <td>...</td>\n",
       "      <td>...</td>\n",
       "      <td>...</td>\n",
       "    </tr>\n",
       "    <tr>\n",
       "      <th>2022</th>\n",
       "      <td>40829016001_2016</td>\n",
       "      <td>401270105222_2016</td>\n",
       "      <td>-1.99</td>\n",
       "      <td>1.0</td>\n",
       "      <td>1</td>\n",
       "      <td>0.023295</td>\n",
       "      <td>401270105222_2016</td>\n",
       "      <td>-1.99</td>\n",
       "      <td>1.0</td>\n",
       "      <td>1</td>\n",
       "      <td>0.023295</td>\n",
       "    </tr>\n",
       "    <tr>\n",
       "      <th>2040</th>\n",
       "      <td>40829016002_2016</td>\n",
       "      <td>401361900801_2016</td>\n",
       "      <td>-0.40</td>\n",
       "      <td>1.0</td>\n",
       "      <td>1</td>\n",
       "      <td>0.344578</td>\n",
       "      <td>401361900801_2016</td>\n",
       "      <td>-0.40</td>\n",
       "      <td>1.0</td>\n",
       "      <td>1</td>\n",
       "      <td>0.344578</td>\n",
       "    </tr>\n",
       "  </tbody>\n",
       "</table>\n",
       "<p>2166 rows × 11 columns</p>\n",
       "</div>"
      ],
      "text/plain": [
       "                    jc              tkt_1  exam_1  exrk_nt_1 seat_1    prob_1  \\\n",
       "0      0800001001_2013   11220800808_2013   -0.77        1.0      1  0.220650   \n",
       "839    0800001001_2014   11360301703_2014    1.85        1.0      1  0.967843   \n",
       "...                ...                ...     ...        ...    ...       ...   \n",
       "2022  40829016001_2016  401270105222_2016   -1.99        1.0      1  0.023295   \n",
       "2040  40829016002_2016  401361900801_2016   -0.40        1.0      1  0.344578   \n",
       "\n",
       "                  tkt_2  exam_2  exrk_nt_2 seat_2    prob_2  \n",
       "0      11220800808_2013   -0.77        1.0      1  0.220650  \n",
       "839    11360301703_2014    1.85        1.0      1  0.967843  \n",
       "...                 ...     ...        ...    ...       ...  \n",
       "2022  401270105222_2016   -1.99        1.0      1  0.023295  \n",
       "2040  401361900801_2016   -0.40        1.0      1  0.344578  \n",
       "\n",
       "[2166 rows x 11 columns]"
      ]
     },
     "execution_count": 176,
     "metadata": {},
     "output_type": "execute_result"
    }
   ],
   "source": [
    "pd.merge(temp1, temp2, \n",
    "         on = 'jc', how='outer',\n",
    "         suffixes = ['_1','_2']).sort_values(by='jc')"
   ]
  },
  {
   "cell_type": "code",
   "execution_count": 177,
   "metadata": {},
   "outputs": [
    {
     "data": {
      "text/plain": [
       "(2166, 6)"
      ]
     },
     "execution_count": 177,
     "metadata": {},
     "output_type": "execute_result"
    }
   ],
   "source": [
    "temp1.shape"
   ]
  },
  {
   "cell_type": "code",
   "execution_count": 178,
   "metadata": {},
   "outputs": [
    {
     "data": {
      "text/html": [
       "<div>\n",
       "<table border=\"1\" class=\"dataframe\">\n",
       "  <thead>\n",
       "    <tr style=\"text-align: right;\">\n",
       "      <th></th>\n",
       "      <th>jc</th>\n",
       "      <th>tkt_1</th>\n",
       "      <th>prob_1</th>\n",
       "      <th>prob_2</th>\n",
       "    </tr>\n",
       "  </thead>\n",
       "  <tbody>\n",
       "    <tr>\n",
       "      <th>0</th>\n",
       "      <td>0800001001_2013</td>\n",
       "      <td>11220800808_2013</td>\n",
       "      <td>0.220650</td>\n",
       "      <td>0.220650</td>\n",
       "    </tr>\n",
       "    <tr>\n",
       "      <th>1</th>\n",
       "      <td>0800003001_2013</td>\n",
       "      <td>11274102915_2013</td>\n",
       "      <td>0.948449</td>\n",
       "      <td>0.948449</td>\n",
       "    </tr>\n",
       "    <tr>\n",
       "      <th>2</th>\n",
       "      <td>0800003002_2013</td>\n",
       "      <td>11010200326_2013</td>\n",
       "      <td>0.966375</td>\n",
       "      <td>0.966375</td>\n",
       "    </tr>\n",
       "    <tr>\n",
       "      <th>3</th>\n",
       "      <td>0800004001_2013</td>\n",
       "      <td>11275101004_2013</td>\n",
       "      <td>0.996319</td>\n",
       "      <td>0.826391</td>\n",
       "    </tr>\n",
       "    <tr>\n",
       "      <th>4</th>\n",
       "      <td>0800004001_2013</td>\n",
       "      <td>11011500226_2013</td>\n",
       "      <td>0.826391</td>\n",
       "      <td>0.826391</td>\n",
       "    </tr>\n",
       "  </tbody>\n",
       "</table>\n",
       "</div>"
      ],
      "text/plain": [
       "                jc             tkt_1    prob_1    prob_2\n",
       "0  0800001001_2013  11220800808_2013  0.220650  0.220650\n",
       "1  0800003001_2013  11274102915_2013  0.948449  0.948449\n",
       "2  0800003002_2013  11010200326_2013  0.966375  0.966375\n",
       "3  0800004001_2013  11275101004_2013  0.996319  0.826391\n",
       "4  0800004001_2013  11011500226_2013  0.826391  0.826391"
      ]
     },
     "execution_count": 178,
     "metadata": {},
     "output_type": "execute_result"
    }
   ],
   "source": [
    "temp3 = pd.merge(temp1, temp2, \n",
    "         on = 'jc', how='outer',\n",
    "         suffixes = ['_1','_2'])[['jc','tkt_1','prob_1','prob_2']].copy()\n",
    "temp3.head()"
   ]
  },
  {
   "cell_type": "code",
   "execution_count": 179,
   "metadata": {},
   "outputs": [
    {
     "data": {
      "text/html": [
       "<div>\n",
       "<table border=\"1\" class=\"dataframe\">\n",
       "  <thead>\n",
       "    <tr style=\"text-align: right;\">\n",
       "      <th></th>\n",
       "      <th>jc</th>\n",
       "      <th>tkt_1</th>\n",
       "      <th>prob_1</th>\n",
       "      <th>prob_2</th>\n",
       "    </tr>\n",
       "  </thead>\n",
       "  <tbody>\n",
       "    <tr>\n",
       "      <th>506</th>\n",
       "      <td>0822001010_2014</td>\n",
       "      <td>11270301804_2014</td>\n",
       "      <td>0.594835</td>\n",
       "      <td>NaN</td>\n",
       "    </tr>\n",
       "    <tr>\n",
       "      <th>548</th>\n",
       "      <td>0822003002_2014</td>\n",
       "      <td>11362609420_2014</td>\n",
       "      <td>0.355691</td>\n",
       "      <td>NaN</td>\n",
       "    </tr>\n",
       "    <tr>\n",
       "      <th>653</th>\n",
       "      <td>0821001033_2014</td>\n",
       "      <td>11270101010_2014</td>\n",
       "      <td>0.254627</td>\n",
       "      <td>NaN</td>\n",
       "    </tr>\n",
       "    <tr>\n",
       "      <th>654</th>\n",
       "      <td>0821001033_2014</td>\n",
       "      <td>11270501523_2014</td>\n",
       "      <td>0.137857</td>\n",
       "      <td>NaN</td>\n",
       "    </tr>\n",
       "    <tr>\n",
       "      <th>1175</th>\n",
       "      <td>0828996001_2014</td>\n",
       "      <td>11270101402_2014</td>\n",
       "      <td>0.511966</td>\n",
       "      <td>NaN</td>\n",
       "    </tr>\n",
       "  </tbody>\n",
       "</table>\n",
       "</div>"
      ],
      "text/plain": [
       "                   jc             tkt_1    prob_1  prob_2\n",
       "506   0822001010_2014  11270301804_2014  0.594835     NaN\n",
       "548   0822003002_2014  11362609420_2014  0.355691     NaN\n",
       "653   0821001033_2014  11270101010_2014  0.254627     NaN\n",
       "654   0821001033_2014  11270501523_2014  0.137857     NaN\n",
       "1175  0828996001_2014  11270101402_2014  0.511966     NaN"
      ]
     },
     "execution_count": 179,
     "metadata": {},
     "output_type": "execute_result"
    }
   ],
   "source": [
    "temp3.loc[pd.isnull(temp3.prob_2),:]"
   ]
  },
  {
   "cell_type": "code",
   "execution_count": 180,
   "metadata": {
    "collapsed": true
   },
   "outputs": [],
   "source": [
    "temp3.prob_2 = temp3.prob_2.fillna(0)"
   ]
  },
  {
   "cell_type": "code",
   "execution_count": 181,
   "metadata": {
    "collapsed": true
   },
   "outputs": [],
   "source": [
    "temp3['prob_3'] = temp3.prob_1 - temp3.prob_2"
   ]
  },
  {
   "cell_type": "markdown",
   "metadata": {},
   "source": [
    "* temp3 codebook:\n",
    "    * prob_1: each student's pvalue \n",
    "    * prob_2: each job's reference-level pvalue\n",
    "    * prob_3: if >> 0, the stu is highly likely to get accepted; if << 0, the stu is highly unlikely to get accepted."
   ]
  },
  {
   "cell_type": "code",
   "execution_count": 182,
   "metadata": {},
   "outputs": [
    {
     "data": {
      "text/plain": [
       "<matplotlib.axes._subplots.AxesSubplot at 0x11b2f6ac8>"
      ]
     },
     "execution_count": 182,
     "metadata": {},
     "output_type": "execute_result"
    },
    {
     "data": {
      "image/png": "[encoded data removed]",
      "text/plain": [
       "<matplotlib.figure.Figure at 0x11b366a58>"
      ]
     },
     "metadata": {},
     "output_type": "display_data"
    }
   ],
   "source": [
    "temp3.prob_3.plot(kind='hist')"
   ]
  },
  {
   "cell_type": "code",
   "execution_count": 183,
   "metadata": {},
   "outputs": [
    {
     "data": {
      "text/html": [
       "<div>\n",
       "<table border=\"1\" class=\"dataframe\">\n",
       "  <thead>\n",
       "    <tr style=\"text-align: right;\">\n",
       "      <th></th>\n",
       "      <th>jc</th>\n",
       "      <th>tkt_1</th>\n",
       "      <th>prob_1</th>\n",
       "      <th>prob_2</th>\n",
       "      <th>prob_3</th>\n",
       "    </tr>\n",
       "  </thead>\n",
       "  <tbody>\n",
       "    <tr>\n",
       "      <th>0</th>\n",
       "      <td>0800001001_2013</td>\n",
       "      <td>11220800808_2013</td>\n",
       "      <td>0.220650</td>\n",
       "      <td>0.220650</td>\n",
       "      <td>0.000000</td>\n",
       "    </tr>\n",
       "    <tr>\n",
       "      <th>1</th>\n",
       "      <td>0800003001_2013</td>\n",
       "      <td>11274102915_2013</td>\n",
       "      <td>0.948449</td>\n",
       "      <td>0.948449</td>\n",
       "      <td>0.000000</td>\n",
       "    </tr>\n",
       "    <tr>\n",
       "      <th>2</th>\n",
       "      <td>0800003002_2013</td>\n",
       "      <td>11010200326_2013</td>\n",
       "      <td>0.966375</td>\n",
       "      <td>0.966375</td>\n",
       "      <td>0.000000</td>\n",
       "    </tr>\n",
       "    <tr>\n",
       "      <th>3</th>\n",
       "      <td>0800004001_2013</td>\n",
       "      <td>11275101004_2013</td>\n",
       "      <td>0.996319</td>\n",
       "      <td>0.826391</td>\n",
       "      <td>0.169928</td>\n",
       "    </tr>\n",
       "    <tr>\n",
       "      <th>4</th>\n",
       "      <td>0800004001_2013</td>\n",
       "      <td>11011500226_2013</td>\n",
       "      <td>0.826391</td>\n",
       "      <td>0.826391</td>\n",
       "      <td>0.000000</td>\n",
       "    </tr>\n",
       "  </tbody>\n",
       "</table>\n",
       "</div>"
      ],
      "text/plain": [
       "                jc             tkt_1    prob_1    prob_2    prob_3\n",
       "0  0800001001_2013  11220800808_2013  0.220650  0.220650  0.000000\n",
       "1  0800003001_2013  11274102915_2013  0.948449  0.948449  0.000000\n",
       "2  0800003002_2013  11010200326_2013  0.966375  0.966375  0.000000\n",
       "3  0800004001_2013  11275101004_2013  0.996319  0.826391  0.169928\n",
       "4  0800004001_2013  11011500226_2013  0.826391  0.826391  0.000000"
      ]
     },
     "execution_count": 183,
     "metadata": {},
     "output_type": "execute_result"
    }
   ],
   "source": [
    "temp3.head()"
   ]
  },
  {
   "cell_type": "code",
   "execution_count": 184,
   "metadata": {
    "collapsed": true
   },
   "outputs": [],
   "source": [
    "temp3.columns = ['jc', 'tkt', 'pval', 'pval_ref', 'pval_rel']"
   ]
  },
  {
   "cell_type": "code",
   "execution_count": 185,
   "metadata": {
    "collapsed": true
   },
   "outputs": [],
   "source": [
    "df = pd.merge(df, temp3, \n",
    "         on = ['jc','tkt'], how='outer'\n",
    "         )"
   ]
  },
  {
   "cell_type": "code",
   "execution_count": 186,
   "metadata": {},
   "outputs": [
    {
     "data": {
      "text/plain": [
       "Index(['tkt', 'name', 'gend', 'ethnic', 'school', 'edu', 'dgr', 'exam', 'intv',\n",
       "       'scr', 'rk', 'og', 'og_cls', 'og_rk', 'loc_sec', 'jc', 'jn', 'pl',\n",
       "       'seat', 'rq_id', 'rq_gd', 'rq_eth', 'rq_edcls', 'rq_edu', 'rq_dgr',\n",
       "       'rq_ag', 'rq_sc', 'rq_sv', 'rq_pol', 'rq_other', 'stmt', 'accp', 'yr',\n",
       "       'exrk_t', 'exrk_ad', 'exrk_nt', 'pval', 'pval_ref', 'pval_rel'],\n",
       "      dtype='object')"
      ]
     },
     "execution_count": 186,
     "metadata": {},
     "output_type": "execute_result"
    }
   ],
   "source": [
    "df.columns"
   ]
  },
  {
   "cell_type": "code",
   "execution_count": 187,
   "metadata": {
    "collapsed": true
   },
   "outputs": [],
   "source": [
    "df = df[['yr',  'gend', 'ethnic','edu', 'dgr', 'exam', \n",
    "    'exrk_t','exrk_nt','exrk_ad','pval','pval_rel',\n",
    "    'og_cls', 'og_rk', 'loc_sec',\n",
    "     'pl','seat',\n",
    "    'rq_id', 'rq_gd', 'rq_eth', 'rq_edcls', 'rq_edu', 'rq_dgr',\n",
    "    'rq_ag','rq_sc', 'rq_sv', 'rq_pol',\n",
    "    'accp', \n",
    "    'tkt', 'name', 'school','og', 'jn','jc','rq_other', 'stmt', # 八栏level太多没有清理的\n",
    "    'intv','scr', 'rk',   # 三栏应该装作不知道的\n",
    "   ]]"
   ]
  },
  {
   "cell_type": "code",
   "execution_count": 188,
   "metadata": {},
   "outputs": [
    {
     "data": {
      "text/plain": [
       "(2166, 38)"
      ]
     },
     "execution_count": 188,
     "metadata": {},
     "output_type": "execute_result"
    }
   ],
   "source": [
    "df.shape"
   ]
  },
  {
   "cell_type": "markdown",
   "metadata": {},
   "source": [
    "至此，五个feature已加好。"
   ]
  },
  {
   "cell_type": "markdown",
   "metadata": {},
   "source": [
    "## codebook更新： add 5 col\n",
    "* add:   \n",
    "    * 'exrk_t': 报考同岗位的考生笔试排名（平手计算方法 - average）\n",
    "    * 'exrk_nt': 报考同岗位考生笔试排名（平手计算方法 - first）\n",
    "    * 'exrk_ad': 报考同岗位考生笔试排名相对优势\n",
    "    * 'pval': 每位考生笔试成绩对应的p-value\n",
    "    * 'pval_rel': 每位考生的p-val减去 临界考生(exrk_nt==seat的考生）的p-val"
   ]
  },
  {
   "cell_type": "code",
   "execution_count": 189,
   "metadata": {
    "collapsed": true
   },
   "outputs": [],
   "source": [
    "df.to_csv('md2.csv')"
   ]
  },
  {
   "cell_type": "markdown",
   "metadata": {
    "collapsed": true
   },
   "source": [
    "# modeling (see [this](https://github.com/EzraYang/analysis_projects/blob/master/govenment_clerk/clerk-v2-modeling.Rmd) RMD file)"
   ]
  },
  {
   "cell_type": "markdown",
   "metadata": {},
   "source": [
    "# predict on 2017 data\n",
    "\n",
    "use md2TR1 model  \n",
    "规则出乎意料地简单，  \n",
    "只要 pval_rel >= - 0.0049就判断为录取，反之是不录取。  \n",
    "就这么简单的规则，在training set 准确率有83.55%，  \n",
    "在test set的准确率有99.58%（这个数据有高估，因为test set里绝大多数accp=1),  \n",
    "预期2017年真实的准确率应为80%左右。"
   ]
  },
  {
   "cell_type": "code",
   "execution_count": 190,
   "metadata": {},
   "outputs": [
    {
     "data": {
      "text/plain": [
       "Index([                     '准考证号',                      '岗位代码',\n",
       "                            '面试时间',                    '抽签开始时间',\n",
       "                          '面试开始时间',                      '面试地点',\n",
       "                              '备注',                         nan,\n",
       "                          '招录单位全称',                      '单位类别',\n",
       "                          '属地信息一级',                    '属地信息二级',\n",
       "                          '招录岗位名称',                      '岗位类型',\n",
       "                    '是否为法官检察官助理岗位',              '公安机关人民警察岗位类别',\n",
       "                          '岗位工作简介',                      '招录人数',\n",
       "                        '报考人员身份要求',                      '性别要求',\n",
       "                            '民族要求',             '岗位具体需要的少数民族名称',\n",
       "                          '学历性质要求',                      '学历要求',\n",
       "                            '学位要求',                      '年龄要求',\n",
       "                    '第一组专业要求：一级目录',              '第一组专业要求：二级目录',\n",
       "                    '第一组专业要求：具体专业',              '第二组专业要求：一级目录',\n",
       "                    '第二组专业要求：二级目录',              '第三组专业要求：一级目录',\n",
       "                    '第三组专业要求：二级目录',                   '生源或户籍要求',\n",
       "       '服务地要求（定向服务基层“四个项目”人员岗位填写）',                    '政治面貌要求',\n",
       "                      '国家司法考试证书要求',                  '是否进行专业测试',\n",
       "                          '其他招录条件',                      '有关说明',\n",
       "                       '是否受开考比例限制',                     '笔试总成绩',\n",
       "                       '笔试总成绩岗位排名',           '所报岗位招录计划裁减后招录人数',\n",
       "                   '所报岗位笔试最低合格分数线',                   '进入体能测评否',\n",
       "                     '是否为首批资格复审人员'],\n",
       "      dtype='object', name=1)"
      ]
     },
     "execution_count": 190,
     "metadata": {},
     "output_type": "execute_result"
    }
   ],
   "source": [
    "p17.columns"
   ]
  },
  {
   "cell_type": "code",
   "execution_count": 191,
   "metadata": {
    "collapsed": true,
    "scrolled": true
   },
   "outputs": [],
   "source": [
    "p17 = p17[[\n",
    "    '准考证号','笔试总成绩','笔试总成绩岗位排名', \n",
    "'招录单位全称','单位类别','属地信息二级',\n",
    "'岗位代码','招录岗位名称','公安机关人民警察岗位类别','招录人数',\n",
    "'报考人员身份要求','性别要求','民族要求', '学历性质要求','学历要求','学位要求','年龄要求',\n",
    "'生源或户籍要求','服务地要求（定向服务基层“四个项目”人员岗位填写）','政治面貌要求','其他招录条件','有关说明',\n",
    "]]"
   ]
  },
  {
   "cell_type": "code",
   "execution_count": 192,
   "metadata": {},
   "outputs": [
    {
     "data": {
      "text/plain": [
       "(334, 22)"
      ]
     },
     "execution_count": 192,
     "metadata": {},
     "output_type": "execute_result"
    }
   ],
   "source": [
    "p17.shape"
   ]
  },
  {
   "cell_type": "code",
   "execution_count": 193,
   "metadata": {
    "collapsed": true
   },
   "outputs": [],
   "source": [
    "p17.columns = ['tkt','exam','exam_rk',\n",
    "               'og','og_cls','loc_sec',\n",
    "               'jc','jn','pl','seat',\n",
    "               'rq_id','rq_gd','rq_eth','rq_edcls','rq_edu','rq_dgr',\n",
    "               'rq_ag','rq_sc','rq_sv','rq_pol','rq_other','stmt']"
   ]
  },
  {
   "cell_type": "code",
   "execution_count": 194,
   "metadata": {
    "collapsed": true
   },
   "outputs": [],
   "source": [
    "p17['yr']='2017'"
   ]
  },
  {
   "cell_type": "code",
   "execution_count": 195,
   "metadata": {
    "collapsed": true
   },
   "outputs": [],
   "source": [
    "p17.loc[:,'exam'] = p17.groupby('yr')['exam'].transform(normalize_series)"
   ]
  },
  {
   "cell_type": "code",
   "execution_count": 196,
   "metadata": {},
   "outputs": [
    {
     "data": {
      "text/plain": [
       "<matplotlib.axes._subplots.AxesSubplot at 0x11bc32198>"
      ]
     },
     "execution_count": 196,
     "metadata": {},
     "output_type": "execute_result"
    },
    {
     "data": {
      "image/png": "[encoded data removed]",
      "text/plain": [
       "<matplotlib.figure.Figure at 0x11bb45a90>"
      ]
     },
     "metadata": {},
     "output_type": "display_data"
    }
   ],
   "source": [
    "p17.exam.plot( kind='hist')"
   ]
  },
  {
   "cell_type": "markdown",
   "metadata": {},
   "source": [
    "    How scary. 居然有非常偏的高分。"
   ]
  },
  {
   "cell_type": "code",
   "execution_count": 197,
   "metadata": {
    "collapsed": true
   },
   "outputs": [],
   "source": [
    "p17['exrk_t'] = df.groupby('jc')['exam'].transform(get_exrk_t)"
   ]
  },
  {
   "cell_type": "code",
   "execution_count": 198,
   "metadata": {
    "collapsed": true
   },
   "outputs": [],
   "source": [
    "p17.loc[:,'exrk_ad'] = p17.seat - p17.exrk_t"
   ]
  },
  {
   "cell_type": "code",
   "execution_count": 199,
   "metadata": {
    "collapsed": true
   },
   "outputs": [],
   "source": [
    "p17['exrk_nt'] = p17.groupby('jc')['exam'].transform(get_exrk_nt)"
   ]
  },
  {
   "cell_type": "code",
   "execution_count": 200,
   "metadata": {
    "collapsed": true
   },
   "outputs": [],
   "source": [
    "p17['pval'] = p17.exam.apply(st.norm.cdf)"
   ]
  },
  {
   "cell_type": "code",
   "execution_count": 201,
   "metadata": {},
   "outputs": [
    {
     "data": {
      "text/plain": [
       "(153, 2)"
      ]
     },
     "execution_count": 201,
     "metadata": {},
     "output_type": "execute_result"
    }
   ],
   "source": [
    "temp = p17.loc[p17.exrk_nt==p17.seat,  ['jc','pval']].copy()\n",
    "temp.head()\n",
    "temp.shape"
   ]
  },
  {
   "cell_type": "code",
   "execution_count": 202,
   "metadata": {},
   "outputs": [
    {
     "data": {
      "text/plain": [
       "pandas.core.frame.DataFrame"
      ]
     },
     "execution_count": 202,
     "metadata": {},
     "output_type": "execute_result"
    }
   ],
   "source": [
    "type(temp)"
   ]
  },
  {
   "cell_type": "code",
   "execution_count": 203,
   "metadata": {
    "collapsed": true
   },
   "outputs": [],
   "source": [
    "p17 = pd.merge(p17, temp, \n",
    "         on = 'jc', how='outer',\n",
    "         suffixes = ['_1','_2']).sort_values(by='jc')"
   ]
  },
  {
   "cell_type": "code",
   "execution_count": 204,
   "metadata": {
    "collapsed": true
   },
   "outputs": [],
   "source": [
    "p17.pval_3 = p17.pval_1 - p17.pval_2"
   ]
  },
  {
   "cell_type": "code",
   "execution_count": 205,
   "metadata": {
    "scrolled": true
   },
   "outputs": [
    {
     "data": {
      "text/plain": [
       "<matplotlib.axes._subplots.AxesSubplot at 0x11c0c0240>"
      ]
     },
     "execution_count": 205,
     "metadata": {},
     "output_type": "execute_result"
    },
    {
     "data": {
      "image/png": "[encoded data removed]",
      "text/plain": [
       "<matplotlib.figure.Figure at 0x11b29c278>"
      ]
     },
     "metadata": {},
     "output_type": "display_data"
    }
   ],
   "source": [
    "p17.pval_3.plot(kind='hist')"
   ]
  },
  {
   "cell_type": "code",
   "execution_count": 206,
   "metadata": {
    "collapsed": true
   },
   "outputs": [],
   "source": [
    "p17.accp = p17.pval_3 >= -0.0049"
   ]
  },
  {
   "cell_type": "code",
   "execution_count": 207,
   "metadata": {},
   "outputs": [
    {
     "data": {
      "text/plain": [
       "True     177\n",
       "False    157\n",
       "dtype: int64"
      ]
     },
     "execution_count": 207,
     "metadata": {},
     "output_type": "execute_result"
    }
   ],
   "source": [
    "p17.accp.value_counts()"
   ]
  },
  {
   "cell_type": "code",
   "execution_count": 208,
   "metadata": {
    "collapsed": true
   },
   "outputs": [],
   "source": [
    "p17_expt_accp = pd.DataFrame(p17.groupby('jc')['seat'].value_counts())"
   ]
  },
  {
   "cell_type": "code",
   "execution_count": 209,
   "metadata": {
    "collapsed": true
   },
   "outputs": [],
   "source": [
    "p17_expt_accp.columns = ['count']"
   ]
  },
  {
   "cell_type": "code",
   "execution_count": 210,
   "metadata": {
    "collapsed": true,
    "scrolled": true
   },
   "outputs": [],
   "source": [
    "p17_expt_accp.reset_index(inplace=True)"
   ]
  },
  {
   "cell_type": "code",
   "execution_count": 211,
   "metadata": {},
   "outputs": [
    {
     "data": {
      "text/plain": [
       "171.0"
      ]
     },
     "execution_count": 211,
     "metadata": {},
     "output_type": "execute_result"
    }
   ],
   "source": [
    "sum(p17_expt_accp.seat)"
   ]
  },
  {
   "cell_type": "markdown",
   "metadata": {},
   "source": [
    "录取总人数不超过171人（可能有些人被录取后自动放弃资格），  \n",
    "我的模型预测177人被录取。  \n",
    "Hopefully they two overlap a lot.  "
   ]
  },
  {
   "cell_type": "markdown",
   "metadata": {},
   "source": [
    "# more idea\n",
    "* 因为accp只有2014，2015两年有，是否需要用这两年来做trainning set, 用2013，2016来做test set?(希望都预测为1)\n",
    "* 是否需要先cluster 再modeling?\n",
    "* 可以根据2014，2015两年数据，手动生成10x training set"
   ]
  },
  {
   "cell_type": "markdown",
   "metadata": {},
   "source": [
    "# end"
   ]
  }
 ],
 "metadata": {
  "anaconda-cloud": {},
  "kernelspec": {
   "display_name": "Python [conda root]",
   "language": "python",
   "name": "conda-root-py"
  },
  "language_info": {
   "codemirror_mode": {
    "name": "ipython",
    "version": 3
   },
   "file_extension": ".py",
   "mimetype": "text/x-python",
   "name": "python",
   "nbconvert_exporter": "python",
   "pygments_lexer": "ipython3",
   "version": "3.5.2"
  },
  "toc": {
   "colors": {
    "hover_highlight": "#DAA520",
    "navigate_num": "#000000",
    "navigate_text": "#333333",
    "running_highlight": "#FF0000",
    "selected_highlight": "#FFD700",
    "sidebar_border": "#EEEEEE",
    "wrapper_background": "#FFFFFF"
   },
   "moveMenuLeft": true,
   "nav_menu": {
    "height": "423px",
    "width": "252px"
   },
   "navigate_menu": true,
   "number_sections": true,
   "sideBar": false,
   "threshold": 4,
   "toc_cell": true,
   "toc_position": {
    "height": "345px",
    "left": "666px",
    "right": "829px",
    "top": "23px",
    "width": "204px"
   },
   "toc_section_display": "block",
   "toc_window_display": true,
   "widenNotebook": false
  }
 },
 "nbformat": 4,
 "nbformat_minor": 1
}
